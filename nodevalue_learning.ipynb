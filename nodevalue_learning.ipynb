{
 "cells": [
  {
   "cell_type": "code",
   "execution_count": 1,
   "id": "b276a13d",
   "metadata": {},
   "outputs": [],
   "source": [
    "# %matplotlib ipympl\n",
    "\n",
    "import os\n",
    "import glob\n",
    "import torch\n",
    "import tqdm\n",
    "import time\n",
    "import csv\n",
    "from torch import nn\n",
    "from torch.utils.data import DataLoader, ConcatDataset, random_split\n",
    "# from learning.model.nodevalue import DWNodeValueModel\n",
    "from learning.data.process_utils import move_to_device\n",
    "from learning.data.nv_utils import (\n",
    "    extract_input, extract_output_target, collate_nv_data\n",
    ")\n",
    "from learning.data.nv_dataset import NodeValueDataset\n",
    "from learning.model.nodevalue import NodeValueModel"
   ]
  },
  {
   "cell_type": "code",
   "execution_count": null,
   "id": "2955fd39",
   "metadata": {},
   "outputs": [],
   "source": []
  },
  {
   "cell_type": "code",
   "execution_count": 2,
   "id": "8cb39e0a",
   "metadata": {},
   "outputs": [],
   "source": [
    "history_folder = \"server/history/\"\n",
    "history_files = sorted(glob.glob(os.path.join(history_folder, \"history_*.json\")))\n",
    "\n",
    "datasets = [NodeValueDataset(f) for f in history_files]\n",
    "concatenated_dataset = ConcatDataset(datasets)\n",
    "\n",
    "train_ds, val_ds, test_ds = random_split(\n",
    "    concatenated_dataset,\n",
    "    [0.8, 0.1, 0.1],\n",
    ")"
   ]
  },
  {
   "cell_type": "code",
   "execution_count": 3,
   "id": "43efe07e",
   "metadata": {},
   "outputs": [
    {
     "name": "stdout",
     "output_type": "stream",
     "text": [
      "train_ds 578341\n",
      "val_ds 72292\n",
      "test_ds 72292\n"
     ]
    }
   ],
   "source": [
    "# Set a fixed seed for reproducibility\n",
    "seed = 42\n",
    "torch.manual_seed(seed)\n",
    "generator = torch.Generator().manual_seed(seed)\n",
    "\n",
    "train_loader = DataLoader(train_ds, 10000, pin_memory=True, shuffle=True, \n",
    "                         collate_fn=collate_nv_data, generator=generator)\n",
    "val_loader = DataLoader(val_ds, 20000, pin_memory=True, shuffle=True, \n",
    "                       collate_fn=collate_nv_data, generator=generator)\n",
    "\n",
    "print(\"train_ds\", len(train_ds))\n",
    "print(\"val_ds\", len(val_ds))\n",
    "print(\"test_ds\", len(test_ds))"
   ]
  },
  {
   "cell_type": "code",
   "execution_count": 4,
   "id": "da9e03af",
   "metadata": {},
   "outputs": [],
   "source": [
    "batch = next(iter(train_loader))"
   ]
  },
  {
   "cell_type": "code",
   "execution_count": 5,
   "id": "5d352960",
   "metadata": {},
   "outputs": [
    {
     "data": {
      "text/plain": [
       "tensor([1311, 1260, 1218, 1247, 1259, 1198, 1248, 1259])"
      ]
     },
     "execution_count": 5,
     "metadata": {},
     "output_type": "execute_result"
    }
   ],
   "source": [
    "torch.bincount(batch[\"winners\"])"
   ]
  },
  {
   "cell_type": "code",
   "execution_count": 6,
   "id": "bc34f1b9",
   "metadata": {},
   "outputs": [
    {
     "data": {
      "text/plain": [
       "tensor([7, 7, 6, 6, 5, 5, 4, 4, 3, 3, 2, 2, 1, 1, 0, 0])"
      ]
     },
     "execution_count": 6,
     "metadata": {},
     "output_type": "execute_result"
    }
   ],
   "source": [
    "perm = torch.tensor([7,6,5,4,3,2,1,0])\n",
    "perm[[0,0,1,1,2,2,3,3,4,4,5,5,6,6,7,7]]"
   ]
  },
  {
   "cell_type": "code",
   "execution_count": null,
   "id": "41e1a9fa",
   "metadata": {},
   "outputs": [],
   "source": []
  },
  {
   "cell_type": "code",
   "execution_count": 7,
   "id": "5739174f",
   "metadata": {},
   "outputs": [],
   "source": [
    "def calculate_mean(train_loader):\n",
    "    # Calculate statistics properly with variable-sized batches\n",
    "    sum_of_values = 0.0\n",
    "    count_of_values = 0\n",
    "    feature_sums = None\n",
    "    batch_count = 0\n",
    "\n",
    "    for batch in tqdm.tqdm(train_loader, desc=\"Calculating average node states\"):\n",
    "        current_states = batch[\"nodes_states\"]\n",
    "        \n",
    "        # Add to running statistics\n",
    "        sum_of_values += current_states.sum().item()\n",
    "        count_of_values += current_states.shape[0]\n",
    "        \n",
    "        # For per-feature statistics\n",
    "        if feature_sums is None:\n",
    "            # Initialize with zeros matching the feature dimension\n",
    "            feature_sums = torch.zeros(current_states.shape[1], dtype=torch.float32)\n",
    "        \n",
    "        # Sum across batch dimension for feature-wise statistics\n",
    "        feature_sums += current_states.sum(dim=0)\n",
    "        \n",
    "        batch_count += 1\n",
    "\n",
    "    # Calculate the averages\n",
    "    feature_averages = feature_sums / count_of_values \n",
    "\n",
    "    print(f\"Statistics calculated over {batch_count} batches\")\n",
    "    print(f\"Shape of feature dimension: {feature_sums.shape}\")\n",
    "    print(f\"Feature-wise averages:\")\n",
    "    for i, avg in enumerate(feature_averages):\n",
    "        print(f\"  Feature {i}: {avg.item():.6f}\")\n",
    "    return feature_averages\n",
    "\n",
    "def calculate_std(train_loader, feature_averages):\n",
    "    # Calculate statistics for standard deviation with variable-sized batches\n",
    "    sum_squared_diff = 0.0\n",
    "    count_of_values = 0\n",
    "    feature_sum_squared_diff = None\n",
    "    batch_count = 0\n",
    "\n",
    "    for batch in tqdm.tqdm(train_loader, desc=\"Calculating std dev of node states\"):\n",
    "        current_states = batch[\"nodes_states\"]\n",
    "        \n",
    "        # Add to running statistics\n",
    "        sum_squared_diff += ((current_states - feature_averages) ** 2).sum().item()\n",
    "        count_of_values += current_states.shape[0]\n",
    "        \n",
    "        # For per-feature statistics\n",
    "        if feature_sum_squared_diff is None:\n",
    "            # Initialize with zeros matching the feature dimension\n",
    "            feature_sum_squared_diff = torch.zeros(current_states.shape[1], dtype=torch.float32)\n",
    "        \n",
    "        # Sum squared differences across batch dimension for feature-wise statistics\n",
    "        feature_sum_squared_diff += ((current_states - feature_averages) ** 2).sum(dim=0)\n",
    "        \n",
    "        batch_count += 1\n",
    "\n",
    "    # Calculate the standard deviations\n",
    "    overall_std = torch.sqrt(torch.tensor(sum_squared_diff / count_of_values))\n",
    "    feature_stds = torch.sqrt(feature_sum_squared_diff / count_of_values)\n",
    "\n",
    "    print(f\"Standard deviation statistics calculated over {batch_count} batches\")\n",
    "    print(f\"Overall standard deviation: {overall_std.item():.6f}\")\n",
    "    print(f\"Feature-wise standard deviations:\")\n",
    "    for i, std in enumerate(feature_stds):\n",
    "        print(f\"  Feature {i}: {std.item():.6f}\")\n",
    "    return feature_stds"
   ]
  },
  {
   "cell_type": "code",
   "execution_count": null,
   "id": "987460e6",
   "metadata": {},
   "outputs": [],
   "source": []
  },
  {
   "cell_type": "code",
   "execution_count": 8,
   "id": "6a966078",
   "metadata": {},
   "outputs": [
    {
     "name": "stdout",
     "output_type": "stream",
     "text": [
      "Loading latest checkpoint: learning/nodevalue_checkpoints/nodevalue_000699.pt (epoch 699)\n"
     ]
    }
   ],
   "source": [
    "model_state = None\n",
    "optim_state = None\n",
    "latest_epoch = -1\n",
    "\n",
    "with_dice_scatter = True\n",
    "\n",
    "model_name = \"nodevalue\" + (\"_no_dice\" if not with_dice_scatter else \"\")\n",
    "models_dir = f\"learning/{model_name}_checkpoints\" \n",
    "\n",
    "os.makedirs(models_dir, exist_ok=True)\n",
    "\n",
    "# Find the latest checkpoint file (with highest epoch number)\n",
    "checkpoint_files = glob.glob(os.path.join(models_dir, f\"{model_name}_*.pt\"))\n",
    "if checkpoint_files:\n",
    "    # Extract epoch numbers from filenames\n",
    "    epoch_nums = [int(f.split(\"_\")[-1].split(\".\")[0]) for f in checkpoint_files]\n",
    "    latest_epoch = max(epoch_nums)\n",
    "    latest_checkpoint = os.path.join(models_dir, f\"{model_name}_{latest_epoch:06}.pt\")\n",
    "    print(f\"Loading latest checkpoint: {latest_checkpoint} (epoch {latest_epoch})\")\n",
    "    checkpoint = torch.load(latest_checkpoint, map_location=torch.device('cpu'))\n",
    "    model_state = checkpoint[\"model_state\"]\n",
    "    optim_state = checkpoint[\"optim_state\"]\n",
    "else:\n",
    "    print(\"No valid checkpoint files found\")\n",
    "    \n",
    "start_epoch = latest_epoch + 1"
   ]
  },
  {
   "cell_type": "code",
   "execution_count": 9,
   "id": "de5de2cb",
   "metadata": {},
   "outputs": [
    {
     "name": "stdout",
     "output_type": "stream",
     "text": [
      "Model created. Total trainable parameters: 4,244\n"
     ]
    }
   ],
   "source": [
    "node_value_model = NodeValueModel(with_dice_scatter=with_dice_scatter)\n",
    "num_params = sum(p.numel() for p in node_value_model.parameters() if p.requires_grad)\n",
    "print(f\"Model created. Total trainable parameters: {num_params:,}\")"
   ]
  },
  {
   "cell_type": "code",
   "execution_count": null,
   "id": "6d5403d4",
   "metadata": {},
   "outputs": [
    {
     "name": "stdout",
     "output_type": "stream",
     "text": [
      "Model state loaded.\n"
     ]
    },
    {
     "data": {
      "text/plain": [
       "Parameter containing:\n",
       "tensor(-2., requires_grad=True)"
      ]
     },
     "execution_count": 10,
     "metadata": {},
     "output_type": "execute_result"
    }
   ],
   "source": [
    "# Load the model before everything else so that I can freeze some layers\n",
    "if model_state is not None:\n",
    "    node_value_model.load_state_dict(model_state)\n",
    "    print(f\"Model state loaded.\")\n",
    "\n",
    "# node_value_model.gat_layers[0].requires_grad_(False)\n",
    "# node_value_model.gat_layers[1].passthrough_coef.requires_grad_(False)\n",
    "# node_value_model.gat_layers[2].requires_grad_(False)\n",
    "\n",
    "# node_value_model.gat_layers[1].reset_parameters() \n",
    "# nn.init.constant_(node_value_model.gat_layers[1].passthrough_coef, -2)\n",
    "\n",
    "# node_value_model.gat_layers[2].reset_parameters() \n",
    "# nn.init.constant_(node_value_model.gat_layers[2].passthrough_coef, -1)"
   ]
  },
  {
   "cell_type": "code",
   "execution_count": null,
   "id": "77b8afa8",
   "metadata": {},
   "outputs": [],
   "source": [
    "# ── CSV set‑up: log one row per epoch ───────────────────────────────────────\n",
    "csv_path = f\"{model_name}_epoch_metrics.csv\"\n",
    "epoch_log_file_exists = os.path.isfile(csv_path)\n",
    "if epoch_log_file_exists and os.path.getsize(csv_path) == 0:\n",
    "    os.remove(csv_path)\n",
    "    epoch_log_file_exists = False\n",
    "\n",
    "csv_file = open(csv_path, \"a\", newline=\"\")  # Open in append mode\n",
    "csv_writer = csv.writer(csv_file)\n",
    "\n",
    "# Only write header if file doesn't exist yet\n",
    "if not epoch_log_file_exists:\n",
    "    csv_writer.writerow([\n",
    "        \"epoch\",           # 0‑based epoch index\n",
    "        \"train_loss\",      # average training loss for the epoch\n",
    "        \"val_loss\",        # average validation loss for the epoch\n",
    "        \"train_time_sec\",  # seconds spent in training phase\n",
    "        \"val_time_sec\",    # seconds spent in validation phase\n",
    "        \"total_time_sec\"   # train + val\n",
    "    ])\n",
    "\n",
    "# ── model / optimizer prep ─────────────────────────────────────────────────\n",
    "\n",
    "n_epochs   = 10000\n",
    "device     = torch.device(\"cuda\", 0)\n",
    "train_time_limit = 10 * 60\n",
    "val_time_limit = train_time_limit / 5\n",
    "criterion  = nn.CrossEntropyLoss()\n",
    "\n",
    "node_value_model = node_value_model.to(device)\n",
    "\n",
    "optimizer  = torch.optim.Adam(\n",
    "    [p for p in node_value_model.parameters() if p.requires_grad],\n",
    "    lr=1e-2\n",
    ")\n",
    "reset_optimizer = True\n",
    "if not reset_optimizer and optim_state is not None:\n",
    "    optimizer.load_state_dict(optim_state)\n",
    "\n",
    "scheduler  = torch.optim.lr_scheduler.ReduceLROnPlateau(\n",
    "    optimizer, mode=\"min\",\n",
    "    factor=0.25,\n",
    "    patience=10,\n",
    "    threshold=0.0001,\n",
    "    min_lr=1e-8\n",
    ")\n"
   ]
  },
  {
   "cell_type": "code",
   "execution_count": 12,
   "id": "ea054f68",
   "metadata": {},
   "outputs": [],
   "source": [
    "# ── INITIAL (untrained) LOSS EVALUATION ───────────────────────────────────────\n",
    "if not epoch_log_file_exists:\n",
    "    node_value_model.eval()\n",
    "    with torch.no_grad():\n",
    "        t_start = time.time()\n",
    "\n",
    "        # avg loss on training set *without* gradient tracking\n",
    "        init_train_sum, init_train_batches = 0.0, 0\n",
    "        for b in tqdm.tqdm(train_loader, desc=\"init‑train\"):\n",
    "            b = move_to_device(b, device)\n",
    "            out = node_value_model(*extract_input(b, with_dice_scatter=with_dice_scatter))\n",
    "            o, t = extract_output_target(b, out)\n",
    "            init_train_sum += criterion(o, t).item()\n",
    "            init_train_batches += 1\n",
    "            if (time.time() - t_start) > train_time_limit: \n",
    "                print(f\"Stopping training after >{train_time_limit} seconds.\")\n",
    "                break\n",
    "        init_train_loss = init_train_sum / init_train_batches\n",
    "        t_train_done = time.time()\n",
    "\n",
    "        # avg loss on validation set\n",
    "        init_val_sum, init_val_batches = 0.0, 0\n",
    "        for vb in tqdm.tqdm(val_loader, desc=\"init‑val\"):\n",
    "            vb = move_to_device(vb, device)\n",
    "            vout = node_value_model(*extract_input(vb, with_dice_scatter=with_dice_scatter))\n",
    "            vo, vt = extract_output_target(\n",
    "                vb, vout\n",
    "            )\n",
    "            init_val_sum += criterion(vo, vt).item()\n",
    "            init_val_batches += 1\n",
    "            if (time.time() - t_train_done) > val_time_limit:\n",
    "                print(f\"Stopping validation after >{val_time_limit} seconds.\")\n",
    "                break\n",
    "        init_val_loss = init_val_sum / init_val_batches\n",
    "        t_val_done = time.time()\n",
    "\n",
    "    # times\n",
    "    init_train_time = t_train_done - t_start\n",
    "    init_val_time   = t_val_done - t_train_done\n",
    "    init_total_time = t_val_done - t_start\n",
    "\n",
    "    # write initial row (epoch = None)\n",
    "    csv_writer.writerow([\n",
    "        -1,\n",
    "        init_train_loss,\n",
    "        init_val_loss,\n",
    "        init_train_time,\n",
    "        init_val_time,\n",
    "        init_total_time\n",
    "    ])\n",
    "    csv_file.flush()\n",
    "    print(\n",
    "        f\"Initial (-1) | \"\n",
    "        f\"Train {init_train_loss:.4f} | \"\n",
    "        f\"Val {init_val_loss:.4f} | \"\n",
    "        f\"Time {init_total_time:.1f}s (T {init_train_time:.1f}s | \"\n",
    "        f\"V {init_val_time:.1f}s)\"\n",
    "    )"
   ]
  },
  {
   "cell_type": "code",
   "execution_count": 13,
   "id": "b88b91e9",
   "metadata": {},
   "outputs": [
    {
     "data": {
      "text/plain": [
       "[0.01]"
      ]
     },
     "execution_count": 13,
     "metadata": {},
     "output_type": "execute_result"
    }
   ],
   "source": [
    "scheduler.get_last_lr()"
   ]
  },
  {
   "cell_type": "code",
   "execution_count": 14,
   "id": "c1f88112",
   "metadata": {},
   "outputs": [
    {
     "name": "stderr",
     "output_type": "stream",
     "text": [
      "train 700:   0%|          | 0/58 [00:00<?, ?it/s]"
     ]
    },
    {
     "name": "stderr",
     "output_type": "stream",
     "text": [
      "/home/maxim/Programming/dicewar_learning/learning/model/utils.py:53: UserWarning: index_reduce() is in beta and the API may change at any time. (Triggered internally at /pytorch/aten/src/ATen/native/cuda/Indexing.cu:1432.)\n",
      "  max_per_index.index_reduce_(\n",
      "train 700: 100%|██████████| 58/58 [00:59<00:00,  1.02s/it, av_loss=1.04]\n",
      "val 700: 100%|██████████| 4/4 [00:06<00:00,  1.71s/it, av_loss=0.871]\n"
     ]
    },
    {
     "name": "stdout",
     "output_type": "stream",
     "text": [
      "Epoch 700 | Train 1.0426 | Val 0.8709 | LR 0.010000\n"
     ]
    },
    {
     "name": "stderr",
     "output_type": "stream",
     "text": [
      "train 701: 100%|██████████| 58/58 [01:00<00:00,  1.04s/it, av_loss=0.851]\n",
      "val 701: 100%|██████████| 4/4 [00:06<00:00,  1.66s/it, av_loss=0.752]\n"
     ]
    },
    {
     "name": "stdout",
     "output_type": "stream",
     "text": [
      "Epoch 701 | Train 0.8508 | Val 0.7518 | LR 0.010000\n"
     ]
    },
    {
     "name": "stderr",
     "output_type": "stream",
     "text": [
      "train 702: 100%|██████████| 58/58 [01:00<00:00,  1.05s/it, av_loss=0.778]\n",
      "val 702: 100%|██████████| 4/4 [00:06<00:00,  1.70s/it, av_loss=0.675]\n"
     ]
    },
    {
     "name": "stdout",
     "output_type": "stream",
     "text": [
      "Epoch 702 | Train 0.7780 | Val 0.6754 | LR 0.010000\n"
     ]
    },
    {
     "name": "stderr",
     "output_type": "stream",
     "text": [
      "train 703: 100%|██████████| 58/58 [01:01<00:00,  1.06s/it, av_loss=0.743]\n",
      "val 703: 100%|██████████| 4/4 [00:06<00:00,  1.71s/it, av_loss=0.644]\n"
     ]
    },
    {
     "name": "stdout",
     "output_type": "stream",
     "text": [
      "Epoch 703 | Train 0.7430 | Val 0.6443 | LR 0.010000\n"
     ]
    },
    {
     "name": "stderr",
     "output_type": "stream",
     "text": [
      "train 704: 100%|██████████| 58/58 [01:02<00:00,  1.08s/it, av_loss=0.729]\n",
      "val 704: 100%|██████████| 4/4 [00:06<00:00,  1.73s/it, av_loss=0.632]\n"
     ]
    },
    {
     "name": "stdout",
     "output_type": "stream",
     "text": [
      "Epoch 704 | Train 0.7294 | Val 0.6317 | LR 0.010000\n"
     ]
    },
    {
     "name": "stderr",
     "output_type": "stream",
     "text": [
      "train 705: 100%|██████████| 58/58 [01:02<00:00,  1.08s/it, av_loss=0.722]\n",
      "val 705: 100%|██████████| 4/4 [00:06<00:00,  1.70s/it, av_loss=0.623]\n"
     ]
    },
    {
     "name": "stdout",
     "output_type": "stream",
     "text": [
      "Epoch 705 | Train 0.7221 | Val 0.6232 | LR 0.010000\n"
     ]
    },
    {
     "name": "stderr",
     "output_type": "stream",
     "text": [
      "train 706: 100%|██████████| 58/58 [01:01<00:00,  1.07s/it, av_loss=0.716]\n",
      "val 706: 100%|██████████| 4/4 [00:06<00:00,  1.75s/it, av_loss=0.62] \n"
     ]
    },
    {
     "name": "stdout",
     "output_type": "stream",
     "text": [
      "Epoch 706 | Train 0.7160 | Val 0.6196 | LR 0.010000\n"
     ]
    },
    {
     "name": "stderr",
     "output_type": "stream",
     "text": [
      "train 707: 100%|██████████| 58/58 [01:02<00:00,  1.08s/it, av_loss=0.714]\n",
      "val 707: 100%|██████████| 4/4 [00:06<00:00,  1.69s/it, av_loss=0.613]\n"
     ]
    },
    {
     "name": "stdout",
     "output_type": "stream",
     "text": [
      "Epoch 707 | Train 0.7136 | Val 0.6125 | LR 0.010000\n"
     ]
    },
    {
     "name": "stderr",
     "output_type": "stream",
     "text": [
      "train 708: 100%|██████████| 58/58 [01:02<00:00,  1.08s/it, av_loss=0.709]\n",
      "val 708: 100%|██████████| 4/4 [00:07<00:00,  1.79s/it, av_loss=0.607]\n"
     ]
    },
    {
     "name": "stdout",
     "output_type": "stream",
     "text": [
      "Epoch 708 | Train 0.7091 | Val 0.6071 | LR 0.010000\n"
     ]
    },
    {
     "name": "stderr",
     "output_type": "stream",
     "text": [
      "train 709: 100%|██████████| 58/58 [01:03<00:00,  1.09s/it, av_loss=0.706]\n",
      "val 709: 100%|██████████| 4/4 [00:06<00:00,  1.74s/it, av_loss=0.61] \n"
     ]
    },
    {
     "name": "stdout",
     "output_type": "stream",
     "text": [
      "Epoch 709 | Train 0.7059 | Val 0.6097 | LR 0.010000\n"
     ]
    },
    {
     "name": "stderr",
     "output_type": "stream",
     "text": [
      "train 710: 100%|██████████| 58/58 [01:03<00:00,  1.10s/it, av_loss=0.704]\n",
      "val 710: 100%|██████████| 4/4 [00:07<00:00,  1.77s/it, av_loss=0.608]\n"
     ]
    },
    {
     "name": "stdout",
     "output_type": "stream",
     "text": [
      "Epoch 710 | Train 0.7036 | Val 0.6085 | LR 0.010000\n"
     ]
    },
    {
     "name": "stderr",
     "output_type": "stream",
     "text": [
      "train 711: 100%|██████████| 58/58 [01:04<00:00,  1.10s/it, av_loss=0.703]\n",
      "val 711: 100%|██████████| 4/4 [00:07<00:00,  1.76s/it, av_loss=0.612]\n"
     ]
    },
    {
     "name": "stdout",
     "output_type": "stream",
     "text": [
      "Epoch 711 | Train 0.7027 | Val 0.6116 | LR 0.010000\n"
     ]
    },
    {
     "name": "stderr",
     "output_type": "stream",
     "text": [
      "train 712: 100%|██████████| 58/58 [01:02<00:00,  1.08s/it, av_loss=0.7]  \n",
      "val 712: 100%|██████████| 4/4 [00:06<00:00,  1.70s/it, av_loss=0.6]  \n"
     ]
    },
    {
     "name": "stdout",
     "output_type": "stream",
     "text": [
      "Epoch 712 | Train 0.7004 | Val 0.5999 | LR 0.010000\n"
     ]
    },
    {
     "name": "stderr",
     "output_type": "stream",
     "text": [
      "train 713: 100%|██████████| 58/58 [01:02<00:00,  1.08s/it, av_loss=0.701]\n",
      "val 713: 100%|██████████| 4/4 [00:07<00:00,  1.76s/it, av_loss=0.603]\n"
     ]
    },
    {
     "name": "stdout",
     "output_type": "stream",
     "text": [
      "Epoch 713 | Train 0.7014 | Val 0.6029 | LR 0.010000\n"
     ]
    },
    {
     "name": "stderr",
     "output_type": "stream",
     "text": [
      "train 714: 100%|██████████| 58/58 [01:02<00:00,  1.08s/it, av_loss=0.699]\n",
      "val 714: 100%|██████████| 4/4 [00:06<00:00,  1.69s/it, av_loss=0.6]  \n"
     ]
    },
    {
     "name": "stdout",
     "output_type": "stream",
     "text": [
      "Epoch 714 | Train 0.6993 | Val 0.5996 | LR 0.010000\n"
     ]
    },
    {
     "name": "stderr",
     "output_type": "stream",
     "text": [
      "train 715: 100%|██████████| 58/58 [01:03<00:00,  1.10s/it, av_loss=0.697]\n",
      "val 715: 100%|██████████| 4/4 [00:06<00:00,  1.70s/it, av_loss=0.601]\n"
     ]
    },
    {
     "name": "stdout",
     "output_type": "stream",
     "text": [
      "Epoch 715 | Train 0.6971 | Val 0.6012 | LR 0.010000\n"
     ]
    },
    {
     "name": "stderr",
     "output_type": "stream",
     "text": [
      "train 716: 100%|██████████| 58/58 [01:02<00:00,  1.07s/it, av_loss=0.695]\n",
      "val 716: 100%|██████████| 4/4 [00:06<00:00,  1.70s/it, av_loss=0.597]\n"
     ]
    },
    {
     "name": "stdout",
     "output_type": "stream",
     "text": [
      "Epoch 716 | Train 0.6953 | Val 0.5969 | LR 0.010000\n"
     ]
    },
    {
     "name": "stderr",
     "output_type": "stream",
     "text": [
      "train 717: 100%|██████████| 58/58 [01:04<00:00,  1.10s/it, av_loss=0.696]\n",
      "val 717: 100%|██████████| 4/4 [00:06<00:00,  1.70s/it, av_loss=0.607]\n"
     ]
    },
    {
     "name": "stdout",
     "output_type": "stream",
     "text": [
      "Epoch 717 | Train 0.6960 | Val 0.6066 | LR 0.010000\n"
     ]
    },
    {
     "name": "stderr",
     "output_type": "stream",
     "text": [
      "train 718: 100%|██████████| 58/58 [01:02<00:00,  1.08s/it, av_loss=0.696]\n",
      "val 718: 100%|██████████| 4/4 [00:07<00:00,  1.76s/it, av_loss=0.597]\n"
     ]
    },
    {
     "name": "stdout",
     "output_type": "stream",
     "text": [
      "Epoch 718 | Train 0.6960 | Val 0.5971 | LR 0.010000\n"
     ]
    },
    {
     "name": "stderr",
     "output_type": "stream",
     "text": [
      "train 719: 100%|██████████| 58/58 [01:04<00:00,  1.11s/it, av_loss=0.695]\n",
      "val 719: 100%|██████████| 4/4 [00:07<00:00,  1.82s/it, av_loss=0.598]\n"
     ]
    },
    {
     "name": "stdout",
     "output_type": "stream",
     "text": [
      "Epoch 719 | Train 0.6950 | Val 0.5978 | LR 0.010000\n"
     ]
    },
    {
     "name": "stderr",
     "output_type": "stream",
     "text": [
      "train 720: 100%|██████████| 58/58 [01:04<00:00,  1.12s/it, av_loss=0.692]\n",
      "val 720: 100%|██████████| 4/4 [00:07<00:00,  1.83s/it, av_loss=0.592]\n"
     ]
    },
    {
     "name": "stdout",
     "output_type": "stream",
     "text": [
      "Epoch 720 | Train 0.6923 | Val 0.5915 | LR 0.010000\n"
     ]
    },
    {
     "name": "stderr",
     "output_type": "stream",
     "text": [
      "train 721: 100%|██████████| 58/58 [01:05<00:00,  1.13s/it, av_loss=0.694]\n",
      "val 721: 100%|██████████| 4/4 [00:07<00:00,  1.77s/it, av_loss=0.593]\n"
     ]
    },
    {
     "name": "stdout",
     "output_type": "stream",
     "text": [
      "Epoch 721 | Train 0.6943 | Val 0.5934 | LR 0.010000\n"
     ]
    },
    {
     "name": "stderr",
     "output_type": "stream",
     "text": [
      "train 722: 100%|██████████| 58/58 [01:01<00:00,  1.06s/it, av_loss=0.692]\n",
      "val 722: 100%|██████████| 4/4 [00:06<00:00,  1.67s/it, av_loss=0.593]\n"
     ]
    },
    {
     "name": "stdout",
     "output_type": "stream",
     "text": [
      "Epoch 722 | Train 0.6915 | Val 0.5933 | LR 0.010000\n"
     ]
    },
    {
     "name": "stderr",
     "output_type": "stream",
     "text": [
      "train 723: 100%|██████████| 58/58 [01:01<00:00,  1.06s/it, av_loss=0.691]\n",
      "val 723: 100%|██████████| 4/4 [00:06<00:00,  1.64s/it, av_loss=0.594]\n"
     ]
    },
    {
     "name": "stdout",
     "output_type": "stream",
     "text": [
      "Epoch 723 | Train 0.6913 | Val 0.5937 | LR 0.010000\n"
     ]
    },
    {
     "name": "stderr",
     "output_type": "stream",
     "text": [
      "train 724: 100%|██████████| 58/58 [01:00<00:00,  1.04s/it, av_loss=0.691]\n",
      "val 724: 100%|██████████| 4/4 [00:06<00:00,  1.68s/it, av_loss=0.595]\n"
     ]
    },
    {
     "name": "stdout",
     "output_type": "stream",
     "text": [
      "Epoch 724 | Train 0.6907 | Val 0.5946 | LR 0.010000\n"
     ]
    },
    {
     "name": "stderr",
     "output_type": "stream",
     "text": [
      "train 725: 100%|██████████| 58/58 [01:00<00:00,  1.04s/it, av_loss=0.691]\n",
      "val 725: 100%|██████████| 4/4 [00:06<00:00,  1.67s/it, av_loss=0.587]\n"
     ]
    },
    {
     "name": "stdout",
     "output_type": "stream",
     "text": [
      "Epoch 725 | Train 0.6912 | Val 0.5870 | LR 0.010000\n"
     ]
    },
    {
     "name": "stderr",
     "output_type": "stream",
     "text": [
      "train 726: 100%|██████████| 58/58 [01:00<00:00,  1.04s/it, av_loss=0.69] \n",
      "val 726: 100%|██████████| 4/4 [00:06<00:00,  1.67s/it, av_loss=0.591]\n"
     ]
    },
    {
     "name": "stdout",
     "output_type": "stream",
     "text": [
      "Epoch 726 | Train 0.6904 | Val 0.5911 | LR 0.010000\n"
     ]
    },
    {
     "name": "stderr",
     "output_type": "stream",
     "text": [
      "train 727: 100%|██████████| 58/58 [00:59<00:00,  1.02s/it, av_loss=0.69] \n",
      "val 727: 100%|██████████| 4/4 [00:06<00:00,  1.64s/it, av_loss=0.59] \n"
     ]
    },
    {
     "name": "stdout",
     "output_type": "stream",
     "text": [
      "Epoch 727 | Train 0.6902 | Val 0.5898 | LR 0.010000\n"
     ]
    },
    {
     "name": "stderr",
     "output_type": "stream",
     "text": [
      "train 728: 100%|██████████| 58/58 [01:00<00:00,  1.03s/it, av_loss=0.688]\n",
      "val 728: 100%|██████████| 4/4 [00:06<00:00,  1.67s/it, av_loss=0.589]\n"
     ]
    },
    {
     "name": "stdout",
     "output_type": "stream",
     "text": [
      "Epoch 728 | Train 0.6884 | Val 0.5890 | LR 0.010000\n"
     ]
    },
    {
     "name": "stderr",
     "output_type": "stream",
     "text": [
      "train 729: 100%|██████████| 58/58 [00:59<00:00,  1.03s/it, av_loss=0.687]\n",
      "val 729: 100%|██████████| 4/4 [00:06<00:00,  1.65s/it, av_loss=0.591]\n"
     ]
    },
    {
     "name": "stdout",
     "output_type": "stream",
     "text": [
      "Epoch 729 | Train 0.6871 | Val 0.5907 | LR 0.010000\n"
     ]
    },
    {
     "name": "stderr",
     "output_type": "stream",
     "text": [
      "train 730: 100%|██████████| 58/58 [00:59<00:00,  1.03s/it, av_loss=0.689]\n",
      "val 730: 100%|██████████| 4/4 [00:06<00:00,  1.65s/it, av_loss=0.594]\n"
     ]
    },
    {
     "name": "stdout",
     "output_type": "stream",
     "text": [
      "Epoch 730 | Train 0.6887 | Val 0.5938 | LR 0.010000\n"
     ]
    },
    {
     "name": "stderr",
     "output_type": "stream",
     "text": [
      "train 731: 100%|██████████| 58/58 [01:00<00:00,  1.04s/it, av_loss=0.688]\n",
      "val 731: 100%|██████████| 4/4 [00:07<00:00,  1.82s/it, av_loss=0.595]\n"
     ]
    },
    {
     "name": "stdout",
     "output_type": "stream",
     "text": [
      "Epoch 731 | Train 0.6885 | Val 0.5953 | LR 0.010000\n"
     ]
    },
    {
     "name": "stderr",
     "output_type": "stream",
     "text": [
      "train 732: 100%|██████████| 58/58 [01:04<00:00,  1.11s/it, av_loss=0.687]\n",
      "val 732: 100%|██████████| 4/4 [00:07<00:00,  1.76s/it, av_loss=0.589]\n"
     ]
    },
    {
     "name": "stdout",
     "output_type": "stream",
     "text": [
      "Epoch 732 | Train 0.6874 | Val 0.5888 | LR 0.010000\n"
     ]
    },
    {
     "name": "stderr",
     "output_type": "stream",
     "text": [
      "train 733: 100%|██████████| 58/58 [01:06<00:00,  1.14s/it, av_loss=0.687]\n",
      "val 733: 100%|██████████| 4/4 [00:07<00:00,  1.79s/it, av_loss=0.592]\n"
     ]
    },
    {
     "name": "stdout",
     "output_type": "stream",
     "text": [
      "Epoch 733 | Train 0.6867 | Val 0.5920 | LR 0.010000\n"
     ]
    },
    {
     "name": "stderr",
     "output_type": "stream",
     "text": [
      "train 734: 100%|██████████| 58/58 [01:04<00:00,  1.12s/it, av_loss=0.689]\n",
      "val 734: 100%|██████████| 4/4 [00:07<00:00,  1.75s/it, av_loss=0.588]\n"
     ]
    },
    {
     "name": "stdout",
     "output_type": "stream",
     "text": [
      "Epoch 734 | Train 0.6886 | Val 0.5878 | LR 0.010000\n"
     ]
    },
    {
     "name": "stderr",
     "output_type": "stream",
     "text": [
      "train 735: 100%|██████████| 58/58 [01:05<00:00,  1.13s/it, av_loss=0.687]\n",
      "val 735: 100%|██████████| 4/4 [00:07<00:00,  1.86s/it, av_loss=0.585]\n"
     ]
    },
    {
     "name": "stdout",
     "output_type": "stream",
     "text": [
      "Epoch 735 | Train 0.6871 | Val 0.5849 | LR 0.010000\n"
     ]
    },
    {
     "name": "stderr",
     "output_type": "stream",
     "text": [
      "train 736: 100%|██████████| 58/58 [01:04<00:00,  1.11s/it, av_loss=0.689]\n",
      "val 736: 100%|██████████| 4/4 [00:07<00:00,  1.84s/it, av_loss=0.588]\n"
     ]
    },
    {
     "name": "stdout",
     "output_type": "stream",
     "text": [
      "Epoch 736 | Train 0.6895 | Val 0.5881 | LR 0.010000\n"
     ]
    },
    {
     "name": "stderr",
     "output_type": "stream",
     "text": [
      "train 737: 100%|██████████| 58/58 [01:05<00:00,  1.13s/it, av_loss=0.691]\n",
      "val 737: 100%|██████████| 4/4 [00:07<00:00,  1.86s/it, av_loss=0.589]\n"
     ]
    },
    {
     "name": "stdout",
     "output_type": "stream",
     "text": [
      "Epoch 737 | Train 0.6910 | Val 0.5891 | LR 0.010000\n"
     ]
    },
    {
     "name": "stderr",
     "output_type": "stream",
     "text": [
      "train 738: 100%|██████████| 58/58 [01:05<00:00,  1.13s/it, av_loss=0.688]\n",
      "val 738: 100%|██████████| 4/4 [00:07<00:00,  1.84s/it, av_loss=0.593]\n"
     ]
    },
    {
     "name": "stdout",
     "output_type": "stream",
     "text": [
      "Epoch 738 | Train 0.6878 | Val 0.5931 | LR 0.010000\n"
     ]
    },
    {
     "name": "stderr",
     "output_type": "stream",
     "text": [
      "train 739: 100%|██████████| 58/58 [01:07<00:00,  1.16s/it, av_loss=0.685]\n",
      "val 739: 100%|██████████| 4/4 [00:07<00:00,  1.83s/it, av_loss=0.585]\n"
     ]
    },
    {
     "name": "stdout",
     "output_type": "stream",
     "text": [
      "Epoch 739 | Train 0.6849 | Val 0.5846 | LR 0.010000\n"
     ]
    },
    {
     "name": "stderr",
     "output_type": "stream",
     "text": [
      "train 740: 100%|██████████| 58/58 [01:06<00:00,  1.14s/it, av_loss=0.687]\n",
      "val 740: 100%|██████████| 4/4 [00:07<00:00,  1.81s/it, av_loss=0.583]\n"
     ]
    },
    {
     "name": "stdout",
     "output_type": "stream",
     "text": [
      "Epoch 740 | Train 0.6867 | Val 0.5834 | LR 0.010000\n"
     ]
    },
    {
     "name": "stderr",
     "output_type": "stream",
     "text": [
      "train 741: 100%|██████████| 58/58 [01:06<00:00,  1.15s/it, av_loss=0.685]\n",
      "val 741: 100%|██████████| 4/4 [00:07<00:00,  1.86s/it, av_loss=0.584]\n"
     ]
    },
    {
     "name": "stdout",
     "output_type": "stream",
     "text": [
      "Epoch 741 | Train 0.6852 | Val 0.5840 | LR 0.010000\n"
     ]
    },
    {
     "name": "stderr",
     "output_type": "stream",
     "text": [
      "train 742: 100%|██████████| 58/58 [01:05<00:00,  1.12s/it, av_loss=0.685]\n",
      "val 742: 100%|██████████| 4/4 [00:07<00:00,  1.87s/it, av_loss=0.584]\n"
     ]
    },
    {
     "name": "stdout",
     "output_type": "stream",
     "text": [
      "Epoch 742 | Train 0.6848 | Val 0.5844 | LR 0.010000\n"
     ]
    },
    {
     "name": "stderr",
     "output_type": "stream",
     "text": [
      "train 743: 100%|██████████| 58/58 [01:06<00:00,  1.15s/it, av_loss=0.686]\n",
      "val 743: 100%|██████████| 4/4 [00:07<00:00,  1.89s/it, av_loss=0.591]\n"
     ]
    },
    {
     "name": "stdout",
     "output_type": "stream",
     "text": [
      "Epoch 743 | Train 0.6861 | Val 0.5908 | LR 0.010000\n"
     ]
    },
    {
     "name": "stderr",
     "output_type": "stream",
     "text": [
      "train 744: 100%|██████████| 58/58 [01:07<00:00,  1.17s/it, av_loss=0.684]\n",
      "val 744: 100%|██████████| 4/4 [00:07<00:00,  1.88s/it, av_loss=0.582]\n"
     ]
    },
    {
     "name": "stdout",
     "output_type": "stream",
     "text": [
      "Epoch 744 | Train 0.6840 | Val 0.5819 | LR 0.010000\n"
     ]
    },
    {
     "name": "stderr",
     "output_type": "stream",
     "text": [
      "train 745: 100%|██████████| 58/58 [01:06<00:00,  1.14s/it, av_loss=0.683]\n",
      "val 745: 100%|██████████| 4/4 [00:07<00:00,  1.90s/it, av_loss=0.588]\n"
     ]
    },
    {
     "name": "stdout",
     "output_type": "stream",
     "text": [
      "Epoch 745 | Train 0.6834 | Val 0.5883 | LR 0.010000\n"
     ]
    },
    {
     "name": "stderr",
     "output_type": "stream",
     "text": [
      "train 746: 100%|██████████| 58/58 [01:06<00:00,  1.15s/it, av_loss=0.684]\n",
      "val 746: 100%|██████████| 4/4 [00:07<00:00,  1.84s/it, av_loss=0.585]\n"
     ]
    },
    {
     "name": "stdout",
     "output_type": "stream",
     "text": [
      "Epoch 746 | Train 0.6844 | Val 0.5847 | LR 0.010000\n"
     ]
    },
    {
     "name": "stderr",
     "output_type": "stream",
     "text": [
      "train 747: 100%|██████████| 58/58 [01:07<00:00,  1.16s/it, av_loss=0.684]\n",
      "val 747: 100%|██████████| 4/4 [00:07<00:00,  1.80s/it, av_loss=0.582]\n"
     ]
    },
    {
     "name": "stdout",
     "output_type": "stream",
     "text": [
      "Epoch 747 | Train 0.6845 | Val 0.5824 | LR 0.010000\n"
     ]
    },
    {
     "name": "stderr",
     "output_type": "stream",
     "text": [
      "train 748: 100%|██████████| 58/58 [01:05<00:00,  1.13s/it, av_loss=0.692]\n",
      "val 748: 100%|██████████| 4/4 [00:07<00:00,  1.78s/it, av_loss=0.583]\n"
     ]
    },
    {
     "name": "stdout",
     "output_type": "stream",
     "text": [
      "Epoch 748 | Train 0.6917 | Val 0.5828 | LR 0.010000\n"
     ]
    },
    {
     "name": "stderr",
     "output_type": "stream",
     "text": [
      "train 749: 100%|██████████| 58/58 [01:06<00:00,  1.15s/it, av_loss=0.687]\n",
      "val 749: 100%|██████████| 4/4 [00:07<00:00,  1.86s/it, av_loss=0.584]\n"
     ]
    },
    {
     "name": "stdout",
     "output_type": "stream",
     "text": [
      "Epoch 749 | Train 0.6873 | Val 0.5837 | LR 0.010000\n"
     ]
    },
    {
     "name": "stderr",
     "output_type": "stream",
     "text": [
      "train 750: 100%|██████████| 58/58 [01:06<00:00,  1.15s/it, av_loss=0.685]\n",
      "val 750: 100%|██████████| 4/4 [00:07<00:00,  1.77s/it, av_loss=0.584]\n"
     ]
    },
    {
     "name": "stdout",
     "output_type": "stream",
     "text": [
      "Epoch 750 | Train 0.6855 | Val 0.5835 | LR 0.010000\n"
     ]
    },
    {
     "name": "stderr",
     "output_type": "stream",
     "text": [
      "train 751: 100%|██████████| 58/58 [01:07<00:00,  1.17s/it, av_loss=0.686]\n",
      "val 751: 100%|██████████| 4/4 [00:07<00:00,  1.92s/it, av_loss=0.585]\n"
     ]
    },
    {
     "name": "stdout",
     "output_type": "stream",
     "text": [
      "Epoch 751 | Train 0.6863 | Val 0.5852 | LR 0.010000\n"
     ]
    },
    {
     "name": "stderr",
     "output_type": "stream",
     "text": [
      "train 752: 100%|██████████| 58/58 [01:05<00:00,  1.13s/it, av_loss=0.684]\n",
      "val 752: 100%|██████████| 4/4 [00:07<00:00,  1.81s/it, av_loss=0.583]\n"
     ]
    },
    {
     "name": "stdout",
     "output_type": "stream",
     "text": [
      "Epoch 752 | Train 0.6838 | Val 0.5834 | LR 0.010000\n"
     ]
    },
    {
     "name": "stderr",
     "output_type": "stream",
     "text": [
      "train 753: 100%|██████████| 58/58 [01:06<00:00,  1.14s/it, av_loss=0.684]\n",
      "val 753: 100%|██████████| 4/4 [00:07<00:00,  1.89s/it, av_loss=0.58] \n"
     ]
    },
    {
     "name": "stdout",
     "output_type": "stream",
     "text": [
      "Epoch 753 | Train 0.6840 | Val 0.5803 | LR 0.010000\n"
     ]
    },
    {
     "name": "stderr",
     "output_type": "stream",
     "text": [
      "train 754: 100%|██████████| 58/58 [01:08<00:00,  1.18s/it, av_loss=0.683]\n",
      "val 754: 100%|██████████| 4/4 [00:07<00:00,  1.92s/it, av_loss=0.583]\n"
     ]
    },
    {
     "name": "stdout",
     "output_type": "stream",
     "text": [
      "Epoch 754 | Train 0.6830 | Val 0.5830 | LR 0.010000\n"
     ]
    },
    {
     "name": "stderr",
     "output_type": "stream",
     "text": [
      "train 755: 100%|██████████| 58/58 [01:06<00:00,  1.14s/it, av_loss=0.685]\n",
      "val 755: 100%|██████████| 4/4 [00:07<00:00,  1.77s/it, av_loss=0.581]\n"
     ]
    },
    {
     "name": "stdout",
     "output_type": "stream",
     "text": [
      "Epoch 755 | Train 0.6848 | Val 0.5810 | LR 0.010000\n"
     ]
    },
    {
     "name": "stderr",
     "output_type": "stream",
     "text": [
      "train 756: 100%|██████████| 58/58 [01:07<00:00,  1.16s/it, av_loss=0.683]\n",
      "val 756: 100%|██████████| 4/4 [00:07<00:00,  1.87s/it, av_loss=0.584]\n"
     ]
    },
    {
     "name": "stdout",
     "output_type": "stream",
     "text": [
      "Epoch 756 | Train 0.6828 | Val 0.5844 | LR 0.010000\n"
     ]
    },
    {
     "name": "stderr",
     "output_type": "stream",
     "text": [
      "train 757: 100%|██████████| 58/58 [01:06<00:00,  1.15s/it, av_loss=0.685]\n",
      "val 757: 100%|██████████| 4/4 [00:07<00:00,  1.88s/it, av_loss=0.583]\n"
     ]
    },
    {
     "name": "stdout",
     "output_type": "stream",
     "text": [
      "Epoch 757 | Train 0.6849 | Val 0.5831 | LR 0.010000\n"
     ]
    },
    {
     "name": "stderr",
     "output_type": "stream",
     "text": [
      "train 758: 100%|██████████| 58/58 [01:07<00:00,  1.16s/it, av_loss=0.684]\n",
      "val 758: 100%|██████████| 4/4 [00:07<00:00,  1.76s/it, av_loss=0.583]\n"
     ]
    },
    {
     "name": "stdout",
     "output_type": "stream",
     "text": [
      "Epoch 758 | Train 0.6836 | Val 0.5825 | LR 0.010000\n"
     ]
    },
    {
     "name": "stderr",
     "output_type": "stream",
     "text": [
      "train 759: 100%|██████████| 58/58 [01:06<00:00,  1.15s/it, av_loss=0.684]\n",
      "val 759: 100%|██████████| 4/4 [00:07<00:00,  1.88s/it, av_loss=0.58] \n"
     ]
    },
    {
     "name": "stdout",
     "output_type": "stream",
     "text": [
      "Epoch 759 | Train 0.6842 | Val 0.5805 | LR 0.010000\n"
     ]
    },
    {
     "name": "stderr",
     "output_type": "stream",
     "text": [
      "train 760: 100%|██████████| 58/58 [01:07<00:00,  1.16s/it, av_loss=0.684]\n",
      "val 760: 100%|██████████| 4/4 [00:07<00:00,  1.82s/it, av_loss=0.582]\n"
     ]
    },
    {
     "name": "stdout",
     "output_type": "stream",
     "text": [
      "Epoch 760 | Train 0.6836 | Val 0.5824 | LR 0.010000\n"
     ]
    },
    {
     "name": "stderr",
     "output_type": "stream",
     "text": [
      "train 761: 100%|██████████| 58/58 [01:06<00:00,  1.15s/it, av_loss=0.684]\n",
      "val 761: 100%|██████████| 4/4 [00:07<00:00,  1.87s/it, av_loss=0.58] \n"
     ]
    },
    {
     "name": "stdout",
     "output_type": "stream",
     "text": [
      "Epoch 761 | Train 0.6841 | Val 0.5804 | LR 0.010000\n"
     ]
    },
    {
     "name": "stderr",
     "output_type": "stream",
     "text": [
      "train 762: 100%|██████████| 58/58 [01:06<00:00,  1.15s/it, av_loss=0.683]\n",
      "val 762: 100%|██████████| 4/4 [00:07<00:00,  1.83s/it, av_loss=0.582]\n"
     ]
    },
    {
     "name": "stdout",
     "output_type": "stream",
     "text": [
      "Epoch 762 | Train 0.6833 | Val 0.5822 | LR 0.010000\n"
     ]
    },
    {
     "name": "stderr",
     "output_type": "stream",
     "text": [
      "train 763: 100%|██████████| 58/58 [01:05<00:00,  1.13s/it, av_loss=0.682]\n",
      "val 763: 100%|██████████| 4/4 [00:07<00:00,  1.81s/it, av_loss=0.585]\n"
     ]
    },
    {
     "name": "stdout",
     "output_type": "stream",
     "text": [
      "Epoch 763 | Train 0.6824 | Val 0.5847 | LR 0.010000\n"
     ]
    },
    {
     "name": "stderr",
     "output_type": "stream",
     "text": [
      "train 764: 100%|██████████| 58/58 [01:04<00:00,  1.12s/it, av_loss=0.684]\n",
      "val 764: 100%|██████████| 4/4 [00:07<00:00,  1.81s/it, av_loss=0.583]\n"
     ]
    },
    {
     "name": "stdout",
     "output_type": "stream",
     "text": [
      "Epoch 764 | Train 0.6843 | Val 0.5825 | LR 0.002500\n"
     ]
    },
    {
     "name": "stderr",
     "output_type": "stream",
     "text": [
      "train 765: 100%|██████████| 58/58 [01:06<00:00,  1.15s/it, av_loss=0.676]\n",
      "val 765: 100%|██████████| 4/4 [00:07<00:00,  1.88s/it, av_loss=0.573]\n"
     ]
    },
    {
     "name": "stdout",
     "output_type": "stream",
     "text": [
      "Epoch 765 | Train 0.6757 | Val 0.5730 | LR 0.002500\n"
     ]
    },
    {
     "name": "stderr",
     "output_type": "stream",
     "text": [
      "train 766: 100%|██████████| 58/58 [01:07<00:00,  1.16s/it, av_loss=0.67] \n",
      "val 766: 100%|██████████| 4/4 [00:07<00:00,  1.87s/it, av_loss=0.573]\n"
     ]
    },
    {
     "name": "stdout",
     "output_type": "stream",
     "text": [
      "Epoch 766 | Train 0.6700 | Val 0.5732 | LR 0.002500\n"
     ]
    },
    {
     "name": "stderr",
     "output_type": "stream",
     "text": [
      "train 767: 100%|██████████| 58/58 [01:06<00:00,  1.15s/it, av_loss=0.671]\n",
      "val 767: 100%|██████████| 4/4 [00:07<00:00,  1.85s/it, av_loss=0.571]\n"
     ]
    },
    {
     "name": "stdout",
     "output_type": "stream",
     "text": [
      "Epoch 767 | Train 0.6710 | Val 0.5710 | LR 0.002500\n"
     ]
    },
    {
     "name": "stderr",
     "output_type": "stream",
     "text": [
      "train 768: 100%|██████████| 58/58 [01:07<00:00,  1.17s/it, av_loss=0.67] \n",
      "val 768: 100%|██████████| 4/4 [00:07<00:00,  1.90s/it, av_loss=0.571]\n"
     ]
    },
    {
     "name": "stdout",
     "output_type": "stream",
     "text": [
      "Epoch 768 | Train 0.6697 | Val 0.5710 | LR 0.002500\n"
     ]
    },
    {
     "name": "stderr",
     "output_type": "stream",
     "text": [
      "train 769: 100%|██████████| 58/58 [01:06<00:00,  1.15s/it, av_loss=0.669]\n",
      "val 769: 100%|██████████| 4/4 [00:07<00:00,  1.81s/it, av_loss=0.573]\n"
     ]
    },
    {
     "name": "stdout",
     "output_type": "stream",
     "text": [
      "Epoch 769 | Train 0.6687 | Val 0.5734 | LR 0.002500\n"
     ]
    },
    {
     "name": "stderr",
     "output_type": "stream",
     "text": [
      "train 770: 100%|██████████| 58/58 [01:07<00:00,  1.16s/it, av_loss=0.669]\n",
      "val 770: 100%|██████████| 4/4 [00:07<00:00,  1.77s/it, av_loss=0.572]\n"
     ]
    },
    {
     "name": "stdout",
     "output_type": "stream",
     "text": [
      "Epoch 770 | Train 0.6691 | Val 0.5720 | LR 0.002500\n"
     ]
    },
    {
     "name": "stderr",
     "output_type": "stream",
     "text": [
      "train 771: 100%|██████████| 58/58 [01:06<00:00,  1.15s/it, av_loss=0.67] \n",
      "val 771: 100%|██████████| 4/4 [00:07<00:00,  1.88s/it, av_loss=0.572]\n"
     ]
    },
    {
     "name": "stdout",
     "output_type": "stream",
     "text": [
      "Epoch 771 | Train 0.6705 | Val 0.5715 | LR 0.002500\n"
     ]
    },
    {
     "name": "stderr",
     "output_type": "stream",
     "text": [
      "train 772: 100%|██████████| 58/58 [01:07<00:00,  1.16s/it, av_loss=0.668]\n",
      "val 772: 100%|██████████| 4/4 [00:07<00:00,  1.86s/it, av_loss=0.569]\n"
     ]
    },
    {
     "name": "stdout",
     "output_type": "stream",
     "text": [
      "Epoch 772 | Train 0.6681 | Val 0.5693 | LR 0.002500\n"
     ]
    },
    {
     "name": "stderr",
     "output_type": "stream",
     "text": [
      "train 773: 100%|██████████| 58/58 [01:05<00:00,  1.12s/it, av_loss=0.67] \n",
      "val 773: 100%|██████████| 4/4 [00:07<00:00,  1.87s/it, av_loss=0.574]\n"
     ]
    },
    {
     "name": "stdout",
     "output_type": "stream",
     "text": [
      "Epoch 773 | Train 0.6700 | Val 0.5741 | LR 0.002500\n"
     ]
    },
    {
     "name": "stderr",
     "output_type": "stream",
     "text": [
      "train 774: 100%|██████████| 58/58 [01:05<00:00,  1.13s/it, av_loss=0.669]\n",
      "val 774: 100%|██████████| 4/4 [00:07<00:00,  1.84s/it, av_loss=0.571]\n"
     ]
    },
    {
     "name": "stdout",
     "output_type": "stream",
     "text": [
      "Epoch 774 | Train 0.6689 | Val 0.5713 | LR 0.002500\n"
     ]
    },
    {
     "name": "stderr",
     "output_type": "stream",
     "text": [
      "train 775: 100%|██████████| 58/58 [01:07<00:00,  1.16s/it, av_loss=0.67] \n",
      "val 775: 100%|██████████| 4/4 [00:07<00:00,  1.89s/it, av_loss=0.572]\n"
     ]
    },
    {
     "name": "stdout",
     "output_type": "stream",
     "text": [
      "Epoch 775 | Train 0.6697 | Val 0.5724 | LR 0.002500\n"
     ]
    },
    {
     "name": "stderr",
     "output_type": "stream",
     "text": [
      "train 776: 100%|██████████| 58/58 [01:05<00:00,  1.13s/it, av_loss=0.669]\n",
      "val 776: 100%|██████████| 4/4 [00:07<00:00,  1.81s/it, av_loss=0.572]\n"
     ]
    },
    {
     "name": "stdout",
     "output_type": "stream",
     "text": [
      "Epoch 776 | Train 0.6687 | Val 0.5724 | LR 0.002500\n"
     ]
    },
    {
     "name": "stderr",
     "output_type": "stream",
     "text": [
      "train 777: 100%|██████████| 58/58 [01:05<00:00,  1.13s/it, av_loss=0.669]\n",
      "val 777: 100%|██████████| 4/4 [00:07<00:00,  1.77s/it, av_loss=0.57] \n"
     ]
    },
    {
     "name": "stdout",
     "output_type": "stream",
     "text": [
      "Epoch 777 | Train 0.6687 | Val 0.5704 | LR 0.002500\n"
     ]
    },
    {
     "name": "stderr",
     "output_type": "stream",
     "text": [
      "train 778: 100%|██████████| 58/58 [01:06<00:00,  1.15s/it, av_loss=0.67] \n",
      "val 778: 100%|██████████| 4/4 [00:07<00:00,  1.93s/it, av_loss=0.571]\n"
     ]
    },
    {
     "name": "stdout",
     "output_type": "stream",
     "text": [
      "Epoch 778 | Train 0.6700 | Val 0.5710 | LR 0.002500\n"
     ]
    },
    {
     "name": "stderr",
     "output_type": "stream",
     "text": [
      "train 779: 100%|██████████| 58/58 [01:05<00:00,  1.14s/it, av_loss=0.669]\n",
      "val 779: 100%|██████████| 4/4 [00:07<00:00,  1.82s/it, av_loss=0.57] \n"
     ]
    },
    {
     "name": "stdout",
     "output_type": "stream",
     "text": [
      "Epoch 779 | Train 0.6689 | Val 0.5696 | LR 0.002500\n"
     ]
    },
    {
     "name": "stderr",
     "output_type": "stream",
     "text": [
      "train 780: 100%|██████████| 58/58 [01:05<00:00,  1.14s/it, av_loss=0.67] \n",
      "val 780: 100%|██████████| 4/4 [00:07<00:00,  1.79s/it, av_loss=0.571]\n"
     ]
    },
    {
     "name": "stdout",
     "output_type": "stream",
     "text": [
      "Epoch 780 | Train 0.6697 | Val 0.5710 | LR 0.002500\n"
     ]
    },
    {
     "name": "stderr",
     "output_type": "stream",
     "text": [
      "train 781: 100%|██████████| 58/58 [01:05<00:00,  1.13s/it, av_loss=0.668]\n",
      "val 781: 100%|██████████| 4/4 [00:07<00:00,  1.82s/it, av_loss=0.574]\n"
     ]
    },
    {
     "name": "stdout",
     "output_type": "stream",
     "text": [
      "Epoch 781 | Train 0.6680 | Val 0.5745 | LR 0.002500\n"
     ]
    },
    {
     "name": "stderr",
     "output_type": "stream",
     "text": [
      "train 782: 100%|██████████| 58/58 [01:06<00:00,  1.14s/it, av_loss=0.669]\n",
      "val 782: 100%|██████████| 4/4 [00:07<00:00,  1.89s/it, av_loss=0.57] \n"
     ]
    },
    {
     "name": "stdout",
     "output_type": "stream",
     "text": [
      "Epoch 782 | Train 0.6688 | Val 0.5703 | LR 0.002500\n"
     ]
    },
    {
     "name": "stderr",
     "output_type": "stream",
     "text": [
      "train 783: 100%|██████████| 58/58 [01:06<00:00,  1.15s/it, av_loss=0.667]\n",
      "val 783: 100%|██████████| 4/4 [00:07<00:00,  1.87s/it, av_loss=0.571]\n"
     ]
    },
    {
     "name": "stdout",
     "output_type": "stream",
     "text": [
      "Epoch 783 | Train 0.6673 | Val 0.5714 | LR 0.000625\n"
     ]
    },
    {
     "name": "stderr",
     "output_type": "stream",
     "text": [
      "train 784: 100%|██████████| 58/58 [01:07<00:00,  1.16s/it, av_loss=0.666]\n",
      "val 784: 100%|██████████| 4/4 [00:07<00:00,  1.85s/it, av_loss=0.568]\n"
     ]
    },
    {
     "name": "stdout",
     "output_type": "stream",
     "text": [
      "Epoch 784 | Train 0.6663 | Val 0.5679 | LR 0.000625\n"
     ]
    },
    {
     "name": "stderr",
     "output_type": "stream",
     "text": [
      "train 785: 100%|██████████| 58/58 [01:05<00:00,  1.14s/it, av_loss=0.665]\n",
      "val 785: 100%|██████████| 4/4 [00:07<00:00,  1.82s/it, av_loss=0.568]\n"
     ]
    },
    {
     "name": "stdout",
     "output_type": "stream",
     "text": [
      "Epoch 785 | Train 0.6650 | Val 0.5685 | LR 0.000625\n"
     ]
    },
    {
     "name": "stderr",
     "output_type": "stream",
     "text": [
      "train 786: 100%|██████████| 58/58 [01:05<00:00,  1.13s/it, av_loss=0.665]\n",
      "val 786: 100%|██████████| 4/4 [00:07<00:00,  1.82s/it, av_loss=0.567]\n"
     ]
    },
    {
     "name": "stdout",
     "output_type": "stream",
     "text": [
      "Epoch 786 | Train 0.6647 | Val 0.5672 | LR 0.000625\n"
     ]
    },
    {
     "name": "stderr",
     "output_type": "stream",
     "text": [
      "train 787: 100%|██████████| 58/58 [01:06<00:00,  1.15s/it, av_loss=0.665]\n",
      "val 787: 100%|██████████| 4/4 [00:07<00:00,  1.90s/it, av_loss=0.568]\n"
     ]
    },
    {
     "name": "stdout",
     "output_type": "stream",
     "text": [
      "Epoch 787 | Train 0.6647 | Val 0.5675 | LR 0.000625\n"
     ]
    },
    {
     "name": "stderr",
     "output_type": "stream",
     "text": [
      "train 788: 100%|██████████| 58/58 [01:06<00:00,  1.14s/it, av_loss=0.665]\n",
      "val 788: 100%|██████████| 4/4 [00:07<00:00,  1.81s/it, av_loss=0.569]\n"
     ]
    },
    {
     "name": "stdout",
     "output_type": "stream",
     "text": [
      "Epoch 788 | Train 0.6650 | Val 0.5688 | LR 0.000625\n"
     ]
    },
    {
     "name": "stderr",
     "output_type": "stream",
     "text": [
      "train 789: 100%|██████████| 58/58 [01:07<00:00,  1.17s/it, av_loss=0.667]\n",
      "val 789: 100%|██████████| 4/4 [00:07<00:00,  1.84s/it, av_loss=0.571]\n"
     ]
    },
    {
     "name": "stdout",
     "output_type": "stream",
     "text": [
      "Epoch 789 | Train 0.6666 | Val 0.5705 | LR 0.000625\n"
     ]
    },
    {
     "name": "stderr",
     "output_type": "stream",
     "text": [
      "train 790: 100%|██████████| 58/58 [01:05<00:00,  1.13s/it, av_loss=0.665]\n",
      "val 790: 100%|██████████| 4/4 [00:07<00:00,  1.82s/it, av_loss=0.567]\n"
     ]
    },
    {
     "name": "stdout",
     "output_type": "stream",
     "text": [
      "Epoch 790 | Train 0.6648 | Val 0.5668 | LR 0.000625\n"
     ]
    },
    {
     "name": "stderr",
     "output_type": "stream",
     "text": [
      "train 791: 100%|██████████| 58/58 [01:07<00:00,  1.16s/it, av_loss=0.665]\n",
      "val 791: 100%|██████████| 4/4 [00:07<00:00,  1.90s/it, av_loss=0.567]\n"
     ]
    },
    {
     "name": "stdout",
     "output_type": "stream",
     "text": [
      "Epoch 791 | Train 0.6647 | Val 0.5672 | LR 0.000625\n"
     ]
    },
    {
     "name": "stderr",
     "output_type": "stream",
     "text": [
      "train 792: 100%|██████████| 58/58 [01:07<00:00,  1.16s/it, av_loss=0.665]\n",
      "val 792: 100%|██████████| 4/4 [00:07<00:00,  1.87s/it, av_loss=0.569]\n"
     ]
    },
    {
     "name": "stdout",
     "output_type": "stream",
     "text": [
      "Epoch 792 | Train 0.6653 | Val 0.5693 | LR 0.000625\n"
     ]
    },
    {
     "name": "stderr",
     "output_type": "stream",
     "text": [
      "train 793: 100%|██████████| 58/58 [01:07<00:00,  1.16s/it, av_loss=0.664]\n",
      "val 793: 100%|██████████| 4/4 [00:07<00:00,  1.77s/it, av_loss=0.57] \n"
     ]
    },
    {
     "name": "stdout",
     "output_type": "stream",
     "text": [
      "Epoch 793 | Train 0.6643 | Val 0.5697 | LR 0.000625\n"
     ]
    },
    {
     "name": "stderr",
     "output_type": "stream",
     "text": [
      "train 794: 100%|██████████| 58/58 [01:07<00:00,  1.16s/it, av_loss=0.664]\n",
      "val 794: 100%|██████████| 4/4 [00:07<00:00,  1.92s/it, av_loss=0.568]\n"
     ]
    },
    {
     "name": "stdout",
     "output_type": "stream",
     "text": [
      "Epoch 794 | Train 0.6645 | Val 0.5681 | LR 0.000625\n"
     ]
    },
    {
     "name": "stderr",
     "output_type": "stream",
     "text": [
      "train 795: 100%|██████████| 58/58 [01:07<00:00,  1.16s/it, av_loss=0.664]\n",
      "val 795: 100%|██████████| 4/4 [00:07<00:00,  1.81s/it, av_loss=0.567]\n"
     ]
    },
    {
     "name": "stdout",
     "output_type": "stream",
     "text": [
      "Epoch 795 | Train 0.6641 | Val 0.5669 | LR 0.000625\n"
     ]
    },
    {
     "name": "stderr",
     "output_type": "stream",
     "text": [
      "train 796: 100%|██████████| 58/58 [01:06<00:00,  1.14s/it, av_loss=0.664]\n",
      "val 796: 100%|██████████| 4/4 [00:07<00:00,  1.89s/it, av_loss=0.566]\n"
     ]
    },
    {
     "name": "stdout",
     "output_type": "stream",
     "text": [
      "Epoch 796 | Train 0.6644 | Val 0.5657 | LR 0.000625\n"
     ]
    },
    {
     "name": "stderr",
     "output_type": "stream",
     "text": [
      "train 797: 100%|██████████| 58/58 [01:06<00:00,  1.14s/it, av_loss=0.665]\n",
      "val 797: 100%|██████████| 4/4 [00:07<00:00,  1.83s/it, av_loss=0.567]\n"
     ]
    },
    {
     "name": "stdout",
     "output_type": "stream",
     "text": [
      "Epoch 797 | Train 0.6651 | Val 0.5668 | LR 0.000625\n"
     ]
    },
    {
     "name": "stderr",
     "output_type": "stream",
     "text": [
      "train 798: 100%|██████████| 58/58 [01:05<00:00,  1.13s/it, av_loss=0.663]\n",
      "val 798: 100%|██████████| 4/4 [00:07<00:00,  1.77s/it, av_loss=0.566]\n"
     ]
    },
    {
     "name": "stdout",
     "output_type": "stream",
     "text": [
      "Epoch 798 | Train 0.6631 | Val 0.5664 | LR 0.000625\n"
     ]
    },
    {
     "name": "stderr",
     "output_type": "stream",
     "text": [
      "train 799: 100%|██████████| 58/58 [01:05<00:00,  1.13s/it, av_loss=0.664]\n",
      "val 799: 100%|██████████| 4/4 [00:07<00:00,  1.80s/it, av_loss=0.567]\n"
     ]
    },
    {
     "name": "stdout",
     "output_type": "stream",
     "text": [
      "Epoch 799 | Train 0.6637 | Val 0.5667 | LR 0.000625\n"
     ]
    },
    {
     "name": "stderr",
     "output_type": "stream",
     "text": [
      "train 800: 100%|██████████| 58/58 [01:05<00:00,  1.13s/it, av_loss=0.663]\n",
      "val 800: 100%|██████████| 4/4 [00:07<00:00,  1.81s/it, av_loss=0.567]\n"
     ]
    },
    {
     "name": "stdout",
     "output_type": "stream",
     "text": [
      "Epoch 800 | Train 0.6634 | Val 0.5665 | LR 0.000625\n"
     ]
    },
    {
     "name": "stderr",
     "output_type": "stream",
     "text": [
      "train 801: 100%|██████████| 58/58 [01:06<00:00,  1.14s/it, av_loss=0.663]\n",
      "val 801: 100%|██████████| 4/4 [00:07<00:00,  1.78s/it, av_loss=0.566]\n"
     ]
    },
    {
     "name": "stdout",
     "output_type": "stream",
     "text": [
      "Epoch 801 | Train 0.6631 | Val 0.5657 | LR 0.000625\n"
     ]
    },
    {
     "name": "stderr",
     "output_type": "stream",
     "text": [
      "train 802: 100%|██████████| 58/58 [01:07<00:00,  1.16s/it, av_loss=0.665]\n",
      "val 802: 100%|██████████| 4/4 [00:07<00:00,  1.88s/it, av_loss=0.567]\n"
     ]
    },
    {
     "name": "stdout",
     "output_type": "stream",
     "text": [
      "Epoch 802 | Train 0.6645 | Val 0.5667 | LR 0.000625\n"
     ]
    },
    {
     "name": "stderr",
     "output_type": "stream",
     "text": [
      "train 803: 100%|██████████| 58/58 [01:07<00:00,  1.16s/it, av_loss=0.664]\n",
      "val 803: 100%|██████████| 4/4 [00:07<00:00,  1.87s/it, av_loss=0.566]\n"
     ]
    },
    {
     "name": "stdout",
     "output_type": "stream",
     "text": [
      "Epoch 803 | Train 0.6635 | Val 0.5663 | LR 0.000625\n"
     ]
    },
    {
     "name": "stderr",
     "output_type": "stream",
     "text": [
      "train 804: 100%|██████████| 58/58 [01:05<00:00,  1.13s/it, av_loss=0.663]\n",
      "val 804: 100%|██████████| 4/4 [00:07<00:00,  1.79s/it, av_loss=0.567]\n"
     ]
    },
    {
     "name": "stdout",
     "output_type": "stream",
     "text": [
      "Epoch 804 | Train 0.6630 | Val 0.5675 | LR 0.000625\n"
     ]
    },
    {
     "name": "stderr",
     "output_type": "stream",
     "text": [
      "train 805: 100%|██████████| 58/58 [01:06<00:00,  1.15s/it, av_loss=0.665]\n",
      "val 805: 100%|██████████| 4/4 [00:07<00:00,  1.81s/it, av_loss=0.567]\n"
     ]
    },
    {
     "name": "stdout",
     "output_type": "stream",
     "text": [
      "Epoch 805 | Train 0.6647 | Val 0.5675 | LR 0.000625\n"
     ]
    },
    {
     "name": "stderr",
     "output_type": "stream",
     "text": [
      "train 806: 100%|██████████| 58/58 [01:07<00:00,  1.16s/it, av_loss=0.664]\n",
      "val 806: 100%|██████████| 4/4 [00:07<00:00,  1.92s/it, av_loss=0.567]\n"
     ]
    },
    {
     "name": "stdout",
     "output_type": "stream",
     "text": [
      "Epoch 806 | Train 0.6638 | Val 0.5671 | LR 0.000625\n"
     ]
    },
    {
     "name": "stderr",
     "output_type": "stream",
     "text": [
      "train 807: 100%|██████████| 58/58 [01:05<00:00,  1.13s/it, av_loss=0.664]\n",
      "val 807: 100%|██████████| 4/4 [00:07<00:00,  1.85s/it, av_loss=0.568]\n"
     ]
    },
    {
     "name": "stdout",
     "output_type": "stream",
     "text": [
      "Epoch 807 | Train 0.6637 | Val 0.5683 | LR 0.000156\n"
     ]
    },
    {
     "name": "stderr",
     "output_type": "stream",
     "text": [
      "train 808: 100%|██████████| 58/58 [01:07<00:00,  1.16s/it, av_loss=0.663]\n",
      "val 808: 100%|██████████| 4/4 [00:07<00:00,  1.86s/it, av_loss=0.566]\n"
     ]
    },
    {
     "name": "stdout",
     "output_type": "stream",
     "text": [
      "Epoch 808 | Train 0.6627 | Val 0.5660 | LR 0.000156\n"
     ]
    },
    {
     "name": "stderr",
     "output_type": "stream",
     "text": [
      "train 809: 100%|██████████| 58/58 [01:06<00:00,  1.15s/it, av_loss=0.663]\n",
      "val 809: 100%|██████████| 4/4 [00:07<00:00,  1.87s/it, av_loss=0.567]\n"
     ]
    },
    {
     "name": "stdout",
     "output_type": "stream",
     "text": [
      "Epoch 809 | Train 0.6627 | Val 0.5673 | LR 0.000156\n"
     ]
    },
    {
     "name": "stderr",
     "output_type": "stream",
     "text": [
      "train 810: 100%|██████████| 58/58 [01:07<00:00,  1.17s/it, av_loss=0.662]\n",
      "val 810: 100%|██████████| 4/4 [00:07<00:00,  1.88s/it, av_loss=0.568]\n"
     ]
    },
    {
     "name": "stdout",
     "output_type": "stream",
     "text": [
      "Epoch 810 | Train 0.6625 | Val 0.5680 | LR 0.000156\n"
     ]
    },
    {
     "name": "stderr",
     "output_type": "stream",
     "text": [
      "train 811: 100%|██████████| 58/58 [01:06<00:00,  1.15s/it, av_loss=0.662]\n",
      "val 811: 100%|██████████| 4/4 [00:07<00:00,  1.84s/it, av_loss=0.567]\n"
     ]
    },
    {
     "name": "stdout",
     "output_type": "stream",
     "text": [
      "Epoch 811 | Train 0.6620 | Val 0.5665 | LR 0.000156\n"
     ]
    },
    {
     "name": "stderr",
     "output_type": "stream",
     "text": [
      "train 812: 100%|██████████| 58/58 [01:06<00:00,  1.14s/it, av_loss=0.662]\n",
      "val 812: 100%|██████████| 4/4 [00:07<00:00,  1.78s/it, av_loss=0.567]\n"
     ]
    },
    {
     "name": "stdout",
     "output_type": "stream",
     "text": [
      "Epoch 812 | Train 0.6621 | Val 0.5673 | LR 0.000156\n"
     ]
    },
    {
     "name": "stderr",
     "output_type": "stream",
     "text": [
      "train 813: 100%|██████████| 58/58 [01:05<00:00,  1.13s/it, av_loss=0.663]\n",
      "val 813: 100%|██████████| 4/4 [00:07<00:00,  1.85s/it, av_loss=0.566]\n"
     ]
    },
    {
     "name": "stdout",
     "output_type": "stream",
     "text": [
      "Epoch 813 | Train 0.6629 | Val 0.5660 | LR 0.000156\n"
     ]
    },
    {
     "name": "stderr",
     "output_type": "stream",
     "text": [
      "train 814: 100%|██████████| 58/58 [01:06<00:00,  1.15s/it, av_loss=0.663]\n",
      "val 814: 100%|██████████| 4/4 [00:07<00:00,  1.88s/it, av_loss=0.566]\n"
     ]
    },
    {
     "name": "stdout",
     "output_type": "stream",
     "text": [
      "Epoch 814 | Train 0.6630 | Val 0.5659 | LR 0.000156\n"
     ]
    },
    {
     "name": "stderr",
     "output_type": "stream",
     "text": [
      "train 815: 100%|██████████| 58/58 [01:08<00:00,  1.17s/it, av_loss=0.663]\n",
      "val 815: 100%|██████████| 4/4 [00:07<00:00,  1.89s/it, av_loss=0.566]\n"
     ]
    },
    {
     "name": "stdout",
     "output_type": "stream",
     "text": [
      "Epoch 815 | Train 0.6627 | Val 0.5661 | LR 0.000156\n"
     ]
    },
    {
     "name": "stderr",
     "output_type": "stream",
     "text": [
      "train 816: 100%|██████████| 58/58 [01:07<00:00,  1.16s/it, av_loss=0.663]\n",
      "val 816: 100%|██████████| 4/4 [00:07<00:00,  1.86s/it, av_loss=0.566]\n"
     ]
    },
    {
     "name": "stdout",
     "output_type": "stream",
     "text": [
      "Epoch 816 | Train 0.6631 | Val 0.5662 | LR 0.000156\n"
     ]
    },
    {
     "name": "stderr",
     "output_type": "stream",
     "text": [
      "train 817: 100%|██████████| 58/58 [01:07<00:00,  1.16s/it, av_loss=0.662]\n",
      "val 817: 100%|██████████| 4/4 [00:07<00:00,  1.85s/it, av_loss=0.565]\n"
     ]
    },
    {
     "name": "stdout",
     "output_type": "stream",
     "text": [
      "Epoch 817 | Train 0.6619 | Val 0.5651 | LR 0.000156\n"
     ]
    },
    {
     "name": "stderr",
     "output_type": "stream",
     "text": [
      "train 818: 100%|██████████| 58/58 [01:06<00:00,  1.15s/it, av_loss=0.664]\n",
      "val 818: 100%|██████████| 4/4 [00:07<00:00,  1.85s/it, av_loss=0.567]\n"
     ]
    },
    {
     "name": "stdout",
     "output_type": "stream",
     "text": [
      "Epoch 818 | Train 0.6636 | Val 0.5669 | LR 0.000156\n"
     ]
    },
    {
     "name": "stderr",
     "output_type": "stream",
     "text": [
      "train 819: 100%|██████████| 58/58 [01:07<00:00,  1.16s/it, av_loss=0.662]\n",
      "val 819: 100%|██████████| 4/4 [00:07<00:00,  1.90s/it, av_loss=0.566]\n"
     ]
    },
    {
     "name": "stdout",
     "output_type": "stream",
     "text": [
      "Epoch 819 | Train 0.6624 | Val 0.5659 | LR 0.000156\n"
     ]
    },
    {
     "name": "stderr",
     "output_type": "stream",
     "text": [
      "train 820: 100%|██████████| 58/58 [01:04<00:00,  1.12s/it, av_loss=0.662]\n",
      "val 820: 100%|██████████| 4/4 [00:07<00:00,  1.87s/it, av_loss=0.566]\n"
     ]
    },
    {
     "name": "stdout",
     "output_type": "stream",
     "text": [
      "Epoch 820 | Train 0.6625 | Val 0.5662 | LR 0.000156\n"
     ]
    },
    {
     "name": "stderr",
     "output_type": "stream",
     "text": [
      "train 821: 100%|██████████| 58/58 [01:08<00:00,  1.18s/it, av_loss=0.662]\n",
      "val 821: 100%|██████████| 4/4 [00:07<00:00,  1.86s/it, av_loss=0.568]\n"
     ]
    },
    {
     "name": "stdout",
     "output_type": "stream",
     "text": [
      "Epoch 821 | Train 0.6624 | Val 0.5677 | LR 0.000156\n"
     ]
    },
    {
     "name": "stderr",
     "output_type": "stream",
     "text": [
      "train 822: 100%|██████████| 58/58 [01:06<00:00,  1.15s/it, av_loss=0.664]\n",
      "val 822: 100%|██████████| 4/4 [00:07<00:00,  1.80s/it, av_loss=0.566]\n"
     ]
    },
    {
     "name": "stdout",
     "output_type": "stream",
     "text": [
      "Epoch 822 | Train 0.6636 | Val 0.5665 | LR 0.000156\n"
     ]
    },
    {
     "name": "stderr",
     "output_type": "stream",
     "text": [
      "train 823: 100%|██████████| 58/58 [01:05<00:00,  1.13s/it, av_loss=0.664]\n",
      "val 823: 100%|██████████| 4/4 [00:07<00:00,  1.93s/it, av_loss=0.567]\n"
     ]
    },
    {
     "name": "stdout",
     "output_type": "stream",
     "text": [
      "Epoch 823 | Train 0.6637 | Val 0.5669 | LR 0.000156\n"
     ]
    },
    {
     "name": "stderr",
     "output_type": "stream",
     "text": [
      "train 824: 100%|██████████| 58/58 [01:05<00:00,  1.13s/it, av_loss=0.664]\n",
      "val 824: 100%|██████████| 4/4 [00:07<00:00,  1.82s/it, av_loss=0.569]\n"
     ]
    },
    {
     "name": "stdout",
     "output_type": "stream",
     "text": [
      "Epoch 824 | Train 0.6638 | Val 0.5686 | LR 0.000156\n"
     ]
    },
    {
     "name": "stderr",
     "output_type": "stream",
     "text": [
      "train 825: 100%|██████████| 58/58 [01:07<00:00,  1.17s/it, av_loss=0.663]\n",
      "val 825: 100%|██████████| 4/4 [00:07<00:00,  1.88s/it, av_loss=0.566]\n"
     ]
    },
    {
     "name": "stdout",
     "output_type": "stream",
     "text": [
      "Epoch 825 | Train 0.6627 | Val 0.5662 | LR 0.000156\n"
     ]
    },
    {
     "name": "stderr",
     "output_type": "stream",
     "text": [
      "train 826: 100%|██████████| 58/58 [01:07<00:00,  1.16s/it, av_loss=0.662]\n",
      "val 826: 100%|██████████| 4/4 [00:07<00:00,  1.88s/it, av_loss=0.565]\n"
     ]
    },
    {
     "name": "stdout",
     "output_type": "stream",
     "text": [
      "Epoch 826 | Train 0.6623 | Val 0.5653 | LR 0.000156\n"
     ]
    },
    {
     "name": "stderr",
     "output_type": "stream",
     "text": [
      "train 827: 100%|██████████| 58/58 [01:06<00:00,  1.14s/it, av_loss=0.663]\n",
      "val 827: 100%|██████████| 4/4 [00:07<00:00,  1.89s/it, av_loss=0.568]\n"
     ]
    },
    {
     "name": "stdout",
     "output_type": "stream",
     "text": [
      "Epoch 827 | Train 0.6628 | Val 0.5675 | LR 0.000156\n"
     ]
    },
    {
     "name": "stderr",
     "output_type": "stream",
     "text": [
      "train 828: 100%|██████████| 58/58 [01:07<00:00,  1.16s/it, av_loss=0.662]\n",
      "val 828: 100%|██████████| 4/4 [00:07<00:00,  1.88s/it, av_loss=0.567]\n"
     ]
    },
    {
     "name": "stdout",
     "output_type": "stream",
     "text": [
      "Epoch 828 | Train 0.6623 | Val 0.5670 | LR 0.000039\n"
     ]
    },
    {
     "name": "stderr",
     "output_type": "stream",
     "text": [
      "train 829: 100%|██████████| 58/58 [01:08<00:00,  1.18s/it, av_loss=0.663]\n",
      "val 829: 100%|██████████| 4/4 [00:07<00:00,  1.91s/it, av_loss=0.567]\n"
     ]
    },
    {
     "name": "stdout",
     "output_type": "stream",
     "text": [
      "Epoch 829 | Train 0.6625 | Val 0.5670 | LR 0.000039\n"
     ]
    },
    {
     "name": "stderr",
     "output_type": "stream",
     "text": [
      "train 830: 100%|██████████| 58/58 [01:06<00:00,  1.15s/it, av_loss=0.663]\n",
      "val 830: 100%|██████████| 4/4 [00:07<00:00,  1.84s/it, av_loss=0.566]\n"
     ]
    },
    {
     "name": "stdout",
     "output_type": "stream",
     "text": [
      "Epoch 830 | Train 0.6635 | Val 0.5664 | LR 0.000039\n"
     ]
    },
    {
     "name": "stderr",
     "output_type": "stream",
     "text": [
      "train 831: 100%|██████████| 58/58 [01:08<00:00,  1.18s/it, av_loss=0.663]\n",
      "val 831: 100%|██████████| 4/4 [00:07<00:00,  1.90s/it, av_loss=0.567]\n"
     ]
    },
    {
     "name": "stdout",
     "output_type": "stream",
     "text": [
      "Epoch 831 | Train 0.6627 | Val 0.5675 | LR 0.000039\n"
     ]
    },
    {
     "name": "stderr",
     "output_type": "stream",
     "text": [
      "train 832: 100%|██████████| 58/58 [01:07<00:00,  1.17s/it, av_loss=0.662]\n",
      "val 832: 100%|██████████| 4/4 [00:07<00:00,  1.88s/it, av_loss=0.567]\n"
     ]
    },
    {
     "name": "stdout",
     "output_type": "stream",
     "text": [
      "Epoch 832 | Train 0.6621 | Val 0.5669 | LR 0.000039\n"
     ]
    },
    {
     "name": "stderr",
     "output_type": "stream",
     "text": [
      "train 833: 100%|██████████| 58/58 [01:06<00:00,  1.15s/it, av_loss=0.662]\n",
      "val 833: 100%|██████████| 4/4 [00:07<00:00,  1.90s/it, av_loss=0.566]\n"
     ]
    },
    {
     "name": "stdout",
     "output_type": "stream",
     "text": [
      "Epoch 833 | Train 0.6623 | Val 0.5660 | LR 0.000039\n"
     ]
    },
    {
     "name": "stderr",
     "output_type": "stream",
     "text": [
      "train 834: 100%|██████████| 58/58 [01:06<00:00,  1.14s/it, av_loss=0.663]\n",
      "val 834: 100%|██████████| 4/4 [00:07<00:00,  1.84s/it, av_loss=0.566]\n"
     ]
    },
    {
     "name": "stdout",
     "output_type": "stream",
     "text": [
      "Epoch 834 | Train 0.6633 | Val 0.5665 | LR 0.000039\n"
     ]
    },
    {
     "name": "stderr",
     "output_type": "stream",
     "text": [
      "train 835: 100%|██████████| 58/58 [01:06<00:00,  1.15s/it, av_loss=0.662]\n",
      "val 835: 100%|██████████| 4/4 [00:07<00:00,  1.92s/it, av_loss=0.567]\n"
     ]
    },
    {
     "name": "stdout",
     "output_type": "stream",
     "text": [
      "Epoch 835 | Train 0.6624 | Val 0.5666 | LR 0.000039\n"
     ]
    },
    {
     "name": "stderr",
     "output_type": "stream",
     "text": [
      "train 836: 100%|██████████| 58/58 [01:08<00:00,  1.18s/it, av_loss=0.663]\n",
      "val 836: 100%|██████████| 4/4 [00:07<00:00,  1.84s/it, av_loss=0.567]\n"
     ]
    },
    {
     "name": "stdout",
     "output_type": "stream",
     "text": [
      "Epoch 836 | Train 0.6628 | Val 0.5668 | LR 0.000039\n"
     ]
    },
    {
     "name": "stderr",
     "output_type": "stream",
     "text": [
      "train 837: 100%|██████████| 58/58 [01:08<00:00,  1.18s/it, av_loss=0.662]\n",
      "val 837: 100%|██████████| 4/4 [00:07<00:00,  1.84s/it, av_loss=0.567]\n"
     ]
    },
    {
     "name": "stdout",
     "output_type": "stream",
     "text": [
      "Epoch 837 | Train 0.6617 | Val 0.5673 | LR 0.000039\n"
     ]
    },
    {
     "name": "stderr",
     "output_type": "stream",
     "text": [
      "train 838: 100%|██████████| 58/58 [01:06<00:00,  1.14s/it, av_loss=0.662]\n",
      "val 838: 100%|██████████| 4/4 [00:07<00:00,  1.81s/it, av_loss=0.567]\n"
     ]
    },
    {
     "name": "stdout",
     "output_type": "stream",
     "text": [
      "Epoch 838 | Train 0.6616 | Val 0.5670 | LR 0.000039\n"
     ]
    },
    {
     "name": "stderr",
     "output_type": "stream",
     "text": [
      "train 839: 100%|██████████| 58/58 [01:07<00:00,  1.16s/it, av_loss=0.663]\n",
      "val 839: 100%|██████████| 4/4 [00:07<00:00,  1.86s/it, av_loss=0.567]\n"
     ]
    },
    {
     "name": "stdout",
     "output_type": "stream",
     "text": [
      "Epoch 839 | Train 0.6628 | Val 0.5674 | LR 0.000010\n"
     ]
    },
    {
     "name": "stderr",
     "output_type": "stream",
     "text": [
      "train 840: 100%|██████████| 58/58 [01:06<00:00,  1.15s/it, av_loss=0.661]\n",
      "val 840: 100%|██████████| 4/4 [00:07<00:00,  1.93s/it, av_loss=0.567]\n"
     ]
    },
    {
     "name": "stdout",
     "output_type": "stream",
     "text": [
      "Epoch 840 | Train 0.6611 | Val 0.5666 | LR 0.000010\n"
     ]
    },
    {
     "name": "stderr",
     "output_type": "stream",
     "text": [
      "train 841: 100%|██████████| 58/58 [01:06<00:00,  1.15s/it, av_loss=0.661]\n",
      "val 841: 100%|██████████| 4/4 [00:07<00:00,  1.82s/it, av_loss=0.566]\n"
     ]
    },
    {
     "name": "stdout",
     "output_type": "stream",
     "text": [
      "Epoch 841 | Train 0.6614 | Val 0.5660 | LR 0.000010\n"
     ]
    },
    {
     "name": "stderr",
     "output_type": "stream",
     "text": [
      "train 842: 100%|██████████| 58/58 [01:06<00:00,  1.14s/it, av_loss=0.663]\n",
      "val 842: 100%|██████████| 4/4 [00:07<00:00,  1.83s/it, av_loss=0.566]\n"
     ]
    },
    {
     "name": "stdout",
     "output_type": "stream",
     "text": [
      "Epoch 842 | Train 0.6631 | Val 0.5664 | LR 0.000010\n"
     ]
    },
    {
     "name": "stderr",
     "output_type": "stream",
     "text": [
      "train 843: 100%|██████████| 58/58 [01:07<00:00,  1.17s/it, av_loss=0.663]\n",
      "val 843: 100%|██████████| 4/4 [00:07<00:00,  1.79s/it, av_loss=0.567]\n"
     ]
    },
    {
     "name": "stdout",
     "output_type": "stream",
     "text": [
      "Epoch 843 | Train 0.6629 | Val 0.5666 | LR 0.000010\n"
     ]
    },
    {
     "name": "stderr",
     "output_type": "stream",
     "text": [
      "train 844: 100%|██████████| 58/58 [01:06<00:00,  1.15s/it, av_loss=0.663]\n",
      "val 844: 100%|██████████| 4/4 [00:07<00:00,  1.88s/it, av_loss=0.565]\n"
     ]
    },
    {
     "name": "stdout",
     "output_type": "stream",
     "text": [
      "Epoch 844 | Train 0.6627 | Val 0.5652 | LR 0.000010\n"
     ]
    },
    {
     "name": "stderr",
     "output_type": "stream",
     "text": [
      "train 845: 100%|██████████| 58/58 [01:07<00:00,  1.16s/it, av_loss=0.662]\n",
      "val 845: 100%|██████████| 4/4 [00:07<00:00,  1.91s/it, av_loss=0.566]\n"
     ]
    },
    {
     "name": "stdout",
     "output_type": "stream",
     "text": [
      "Epoch 845 | Train 0.6624 | Val 0.5660 | LR 0.000010\n"
     ]
    },
    {
     "name": "stderr",
     "output_type": "stream",
     "text": [
      "train 846: 100%|██████████| 58/58 [01:07<00:00,  1.17s/it, av_loss=0.662]\n",
      "val 846: 100%|██████████| 4/4 [00:07<00:00,  1.90s/it, av_loss=0.566]\n"
     ]
    },
    {
     "name": "stdout",
     "output_type": "stream",
     "text": [
      "Epoch 846 | Train 0.6624 | Val 0.5664 | LR 0.000010\n"
     ]
    },
    {
     "name": "stderr",
     "output_type": "stream",
     "text": [
      "train 847: 100%|██████████| 58/58 [01:06<00:00,  1.15s/it, av_loss=0.663]\n",
      "val 847: 100%|██████████| 4/4 [00:07<00:00,  1.88s/it, av_loss=0.568]\n"
     ]
    },
    {
     "name": "stdout",
     "output_type": "stream",
     "text": [
      "Epoch 847 | Train 0.6632 | Val 0.5681 | LR 0.000010\n"
     ]
    },
    {
     "name": "stderr",
     "output_type": "stream",
     "text": [
      "train 848: 100%|██████████| 58/58 [01:07<00:00,  1.16s/it, av_loss=0.663]\n",
      "val 848: 100%|██████████| 4/4 [00:07<00:00,  1.80s/it, av_loss=0.567]\n"
     ]
    },
    {
     "name": "stdout",
     "output_type": "stream",
     "text": [
      "Epoch 848 | Train 0.6627 | Val 0.5667 | LR 0.000010\n"
     ]
    },
    {
     "name": "stderr",
     "output_type": "stream",
     "text": [
      "train 849: 100%|██████████| 58/58 [01:06<00:00,  1.15s/it, av_loss=0.662]\n",
      "val 849: 100%|██████████| 4/4 [00:07<00:00,  1.88s/it, av_loss=0.567]\n"
     ]
    },
    {
     "name": "stdout",
     "output_type": "stream",
     "text": [
      "Epoch 849 | Train 0.6624 | Val 0.5666 | LR 0.000010\n"
     ]
    },
    {
     "name": "stderr",
     "output_type": "stream",
     "text": [
      "train 850: 100%|██████████| 58/58 [01:07<00:00,  1.16s/it, av_loss=0.662]\n",
      "val 850: 100%|██████████| 4/4 [00:07<00:00,  1.81s/it, av_loss=0.566]\n"
     ]
    },
    {
     "name": "stdout",
     "output_type": "stream",
     "text": [
      "Epoch 850 | Train 0.6616 | Val 0.5663 | LR 0.000002\n"
     ]
    },
    {
     "name": "stderr",
     "output_type": "stream",
     "text": [
      "train 851: 100%|██████████| 58/58 [01:07<00:00,  1.16s/it, av_loss=0.662]\n",
      "val 851: 100%|██████████| 4/4 [00:07<00:00,  1.93s/it, av_loss=0.567]\n"
     ]
    },
    {
     "name": "stdout",
     "output_type": "stream",
     "text": [
      "Epoch 851 | Train 0.6622 | Val 0.5669 | LR 0.000002\n"
     ]
    },
    {
     "name": "stderr",
     "output_type": "stream",
     "text": [
      "train 852: 100%|██████████| 58/58 [01:06<00:00,  1.14s/it, av_loss=0.662]\n",
      "val 852: 100%|██████████| 4/4 [00:07<00:00,  1.82s/it, av_loss=0.567]\n"
     ]
    },
    {
     "name": "stdout",
     "output_type": "stream",
     "text": [
      "Epoch 852 | Train 0.6616 | Val 0.5667 | LR 0.000002\n"
     ]
    },
    {
     "name": "stderr",
     "output_type": "stream",
     "text": [
      "train 853: 100%|██████████| 58/58 [01:06<00:00,  1.14s/it, av_loss=0.663]\n",
      "val 853: 100%|██████████| 4/4 [00:07<00:00,  1.90s/it, av_loss=0.567]\n"
     ]
    },
    {
     "name": "stdout",
     "output_type": "stream",
     "text": [
      "Epoch 853 | Train 0.6626 | Val 0.5667 | LR 0.000002\n"
     ]
    },
    {
     "name": "stderr",
     "output_type": "stream",
     "text": [
      "train 854: 100%|██████████| 58/58 [01:06<00:00,  1.15s/it, av_loss=0.663]\n",
      "val 854: 100%|██████████| 4/4 [00:07<00:00,  1.80s/it, av_loss=0.566]\n"
     ]
    },
    {
     "name": "stdout",
     "output_type": "stream",
     "text": [
      "Epoch 854 | Train 0.6630 | Val 0.5665 | LR 0.000002\n"
     ]
    },
    {
     "name": "stderr",
     "output_type": "stream",
     "text": [
      "train 855: 100%|██████████| 58/58 [01:05<00:00,  1.13s/it, av_loss=0.662]\n",
      "val 855: 100%|██████████| 4/4 [00:07<00:00,  1.80s/it, av_loss=0.568]\n"
     ]
    },
    {
     "name": "stdout",
     "output_type": "stream",
     "text": [
      "Epoch 855 | Train 0.6619 | Val 0.5675 | LR 0.000002\n"
     ]
    },
    {
     "name": "stderr",
     "output_type": "stream",
     "text": [
      "train 856: 100%|██████████| 58/58 [01:07<00:00,  1.16s/it, av_loss=0.663]\n",
      "val 856: 100%|██████████| 4/4 [00:07<00:00,  1.90s/it, av_loss=0.568]\n"
     ]
    },
    {
     "name": "stdout",
     "output_type": "stream",
     "text": [
      "Epoch 856 | Train 0.6634 | Val 0.5677 | LR 0.000002\n"
     ]
    },
    {
     "name": "stderr",
     "output_type": "stream",
     "text": [
      "train 857: 100%|██████████| 58/58 [01:07<00:00,  1.16s/it, av_loss=0.663]\n",
      "val 857: 100%|██████████| 4/4 [00:07<00:00,  1.85s/it, av_loss=0.566]\n"
     ]
    },
    {
     "name": "stdout",
     "output_type": "stream",
     "text": [
      "Epoch 857 | Train 0.6625 | Val 0.5664 | LR 0.000002\n"
     ]
    },
    {
     "name": "stderr",
     "output_type": "stream",
     "text": [
      "train 858: 100%|██████████| 58/58 [01:07<00:00,  1.16s/it, av_loss=0.662]\n",
      "val 858: 100%|██████████| 4/4 [00:07<00:00,  1.80s/it, av_loss=0.567]\n"
     ]
    },
    {
     "name": "stdout",
     "output_type": "stream",
     "text": [
      "Epoch 858 | Train 0.6619 | Val 0.5669 | LR 0.000002\n"
     ]
    },
    {
     "name": "stderr",
     "output_type": "stream",
     "text": [
      "train 859: 100%|██████████| 58/58 [01:07<00:00,  1.17s/it, av_loss=0.662]\n",
      "val 859: 100%|██████████| 4/4 [00:07<00:00,  1.84s/it, av_loss=0.567]\n"
     ]
    },
    {
     "name": "stdout",
     "output_type": "stream",
     "text": [
      "Epoch 859 | Train 0.6617 | Val 0.5672 | LR 0.000002\n"
     ]
    },
    {
     "name": "stderr",
     "output_type": "stream",
     "text": [
      "train 860: 100%|██████████| 58/58 [01:08<00:00,  1.18s/it, av_loss=0.662]\n",
      "val 860: 100%|██████████| 4/4 [00:07<00:00,  1.88s/it, av_loss=0.566]\n"
     ]
    },
    {
     "name": "stdout",
     "output_type": "stream",
     "text": [
      "Epoch 860 | Train 0.6623 | Val 0.5660 | LR 0.000002\n"
     ]
    },
    {
     "name": "stderr",
     "output_type": "stream",
     "text": [
      "train 861: 100%|██████████| 58/58 [01:07<00:00,  1.16s/it, av_loss=0.662]\n",
      "val 861: 100%|██████████| 4/4 [00:07<00:00,  1.90s/it, av_loss=0.566]\n"
     ]
    },
    {
     "name": "stdout",
     "output_type": "stream",
     "text": [
      "Epoch 861 | Train 0.6623 | Val 0.5659 | LR 0.000001\n"
     ]
    },
    {
     "name": "stderr",
     "output_type": "stream",
     "text": [
      "train 862: 100%|██████████| 58/58 [01:06<00:00,  1.15s/it, av_loss=0.662]\n",
      "val 862: 100%|██████████| 4/4 [00:07<00:00,  1.85s/it, av_loss=0.567]\n"
     ]
    },
    {
     "name": "stdout",
     "output_type": "stream",
     "text": [
      "Epoch 862 | Train 0.6623 | Val 0.5665 | LR 0.000001\n"
     ]
    },
    {
     "name": "stderr",
     "output_type": "stream",
     "text": [
      "train 863: 100%|██████████| 58/58 [01:06<00:00,  1.15s/it, av_loss=0.662]\n",
      "val 863: 100%|██████████| 4/4 [00:07<00:00,  1.87s/it, av_loss=0.567]\n"
     ]
    },
    {
     "name": "stdout",
     "output_type": "stream",
     "text": [
      "Epoch 863 | Train 0.6625 | Val 0.5671 | LR 0.000001\n"
     ]
    },
    {
     "name": "stderr",
     "output_type": "stream",
     "text": [
      "train 864: 100%|██████████| 58/58 [01:07<00:00,  1.17s/it, av_loss=0.663]\n",
      "val 864: 100%|██████████| 4/4 [00:07<00:00,  1.91s/it, av_loss=0.568]\n"
     ]
    },
    {
     "name": "stdout",
     "output_type": "stream",
     "text": [
      "Epoch 864 | Train 0.6628 | Val 0.5676 | LR 0.000001\n"
     ]
    },
    {
     "name": "stderr",
     "output_type": "stream",
     "text": [
      "train 865: 100%|██████████| 58/58 [01:08<00:00,  1.18s/it, av_loss=0.663]\n",
      "val 865: 100%|██████████| 4/4 [00:07<00:00,  1.86s/it, av_loss=0.566]\n"
     ]
    },
    {
     "name": "stdout",
     "output_type": "stream",
     "text": [
      "Epoch 865 | Train 0.6630 | Val 0.5661 | LR 0.000001\n"
     ]
    },
    {
     "name": "stderr",
     "output_type": "stream",
     "text": [
      "train 866: 100%|██████████| 58/58 [01:07<00:00,  1.17s/it, av_loss=0.662]\n",
      "val 866: 100%|██████████| 4/4 [00:07<00:00,  1.89s/it, av_loss=0.567]\n"
     ]
    },
    {
     "name": "stdout",
     "output_type": "stream",
     "text": [
      "Epoch 866 | Train 0.6618 | Val 0.5666 | LR 0.000001\n"
     ]
    },
    {
     "name": "stderr",
     "output_type": "stream",
     "text": [
      "train 867: 100%|██████████| 58/58 [01:06<00:00,  1.15s/it, av_loss=0.663]\n",
      "val 867: 100%|██████████| 4/4 [00:07<00:00,  1.81s/it, av_loss=0.566]\n"
     ]
    },
    {
     "name": "stdout",
     "output_type": "stream",
     "text": [
      "Epoch 867 | Train 0.6629 | Val 0.5663 | LR 0.000001\n"
     ]
    },
    {
     "name": "stderr",
     "output_type": "stream",
     "text": [
      "train 868: 100%|██████████| 58/58 [01:06<00:00,  1.14s/it, av_loss=0.662]\n",
      "val 868: 100%|██████████| 4/4 [00:07<00:00,  1.83s/it, av_loss=0.566]\n"
     ]
    },
    {
     "name": "stdout",
     "output_type": "stream",
     "text": [
      "Epoch 868 | Train 0.6622 | Val 0.5664 | LR 0.000001\n"
     ]
    },
    {
     "name": "stderr",
     "output_type": "stream",
     "text": [
      "train 869: 100%|██████████| 58/58 [01:07<00:00,  1.16s/it, av_loss=0.662]\n",
      "val 869: 100%|██████████| 4/4 [00:07<00:00,  1.87s/it, av_loss=0.566]\n"
     ]
    },
    {
     "name": "stdout",
     "output_type": "stream",
     "text": [
      "Epoch 869 | Train 0.6615 | Val 0.5665 | LR 0.000001\n"
     ]
    },
    {
     "name": "stderr",
     "output_type": "stream",
     "text": [
      "train 870: 100%|██████████| 58/58 [01:07<00:00,  1.16s/it, av_loss=0.662]\n",
      "val 870: 100%|██████████| 4/4 [00:07<00:00,  1.89s/it, av_loss=0.567]\n"
     ]
    },
    {
     "name": "stdout",
     "output_type": "stream",
     "text": [
      "Epoch 870 | Train 0.6618 | Val 0.5668 | LR 0.000001\n"
     ]
    },
    {
     "name": "stderr",
     "output_type": "stream",
     "text": [
      "train 871: 100%|██████████| 58/58 [01:08<00:00,  1.18s/it, av_loss=0.662]\n",
      "val 871: 100%|██████████| 4/4 [00:07<00:00,  1.83s/it, av_loss=0.567]\n"
     ]
    },
    {
     "name": "stdout",
     "output_type": "stream",
     "text": [
      "Epoch 871 | Train 0.6617 | Val 0.5671 | LR 0.000001\n"
     ]
    },
    {
     "name": "stderr",
     "output_type": "stream",
     "text": [
      "train 872: 100%|██████████| 58/58 [01:06<00:00,  1.14s/it, av_loss=0.661]\n",
      "val 872: 100%|██████████| 4/4 [00:07<00:00,  1.78s/it, av_loss=0.567]\n"
     ]
    },
    {
     "name": "stdout",
     "output_type": "stream",
     "text": [
      "Epoch 872 | Train 0.6614 | Val 0.5665 | LR 0.000000\n"
     ]
    },
    {
     "name": "stderr",
     "output_type": "stream",
     "text": [
      "train 873: 100%|██████████| 58/58 [01:05<00:00,  1.12s/it, av_loss=0.66] \n",
      "val 873: 100%|██████████| 4/4 [00:07<00:00,  1.86s/it, av_loss=0.566]\n"
     ]
    },
    {
     "name": "stdout",
     "output_type": "stream",
     "text": [
      "Epoch 873 | Train 0.6600 | Val 0.5664 | LR 0.000000\n"
     ]
    },
    {
     "name": "stderr",
     "output_type": "stream",
     "text": [
      "train 874: 100%|██████████| 58/58 [01:06<00:00,  1.14s/it, av_loss=0.661]\n",
      "val 874: 100%|██████████| 4/4 [00:07<00:00,  1.80s/it, av_loss=0.566]\n"
     ]
    },
    {
     "name": "stdout",
     "output_type": "stream",
     "text": [
      "Epoch 874 | Train 0.6608 | Val 0.5662 | LR 0.000000\n"
     ]
    },
    {
     "name": "stderr",
     "output_type": "stream",
     "text": [
      "train 875: 100%|██████████| 58/58 [01:06<00:00,  1.14s/it, av_loss=0.663]\n",
      "val 875: 100%|██████████| 4/4 [00:07<00:00,  1.86s/it, av_loss=0.567]\n"
     ]
    },
    {
     "name": "stdout",
     "output_type": "stream",
     "text": [
      "Epoch 875 | Train 0.6627 | Val 0.5673 | LR 0.000000\n"
     ]
    },
    {
     "name": "stderr",
     "output_type": "stream",
     "text": [
      "train 876: 100%|██████████| 58/58 [01:07<00:00,  1.16s/it, av_loss=0.663]\n",
      "val 876: 100%|██████████| 4/4 [00:07<00:00,  1.89s/it, av_loss=0.566]\n"
     ]
    },
    {
     "name": "stdout",
     "output_type": "stream",
     "text": [
      "Epoch 876 | Train 0.6627 | Val 0.5659 | LR 0.000000\n"
     ]
    },
    {
     "name": "stderr",
     "output_type": "stream",
     "text": [
      "train 877: 100%|██████████| 58/58 [01:08<00:00,  1.18s/it, av_loss=0.662]\n",
      "val 877: 100%|██████████| 4/4 [00:07<00:00,  1.89s/it, av_loss=0.567]\n"
     ]
    },
    {
     "name": "stdout",
     "output_type": "stream",
     "text": [
      "Epoch 877 | Train 0.6617 | Val 0.5668 | LR 0.000000\n"
     ]
    },
    {
     "name": "stderr",
     "output_type": "stream",
     "text": [
      "train 878: 100%|██████████| 58/58 [01:07<00:00,  1.16s/it, av_loss=0.662]\n",
      "val 878: 100%|██████████| 4/4 [00:07<00:00,  1.85s/it, av_loss=0.566]\n"
     ]
    },
    {
     "name": "stdout",
     "output_type": "stream",
     "text": [
      "Epoch 878 | Train 0.6621 | Val 0.5660 | LR 0.000000\n"
     ]
    },
    {
     "name": "stderr",
     "output_type": "stream",
     "text": [
      "train 879: 100%|██████████| 58/58 [01:07<00:00,  1.16s/it, av_loss=0.662]\n",
      "val 879: 100%|██████████| 4/4 [00:07<00:00,  1.80s/it, av_loss=0.567]\n"
     ]
    },
    {
     "name": "stdout",
     "output_type": "stream",
     "text": [
      "Epoch 879 | Train 0.6624 | Val 0.5667 | LR 0.000000\n"
     ]
    },
    {
     "name": "stderr",
     "output_type": "stream",
     "text": [
      "train 880: 100%|██████████| 58/58 [01:07<00:00,  1.16s/it, av_loss=0.661]\n",
      "val 880: 100%|██████████| 4/4 [00:07<00:00,  1.86s/it, av_loss=0.566]\n"
     ]
    },
    {
     "name": "stdout",
     "output_type": "stream",
     "text": [
      "Epoch 880 | Train 0.6615 | Val 0.5661 | LR 0.000000\n"
     ]
    },
    {
     "name": "stderr",
     "output_type": "stream",
     "text": [
      "train 881: 100%|██████████| 58/58 [01:07<00:00,  1.16s/it, av_loss=0.663]\n",
      "val 881: 100%|██████████| 4/4 [00:07<00:00,  1.83s/it, av_loss=0.566]\n"
     ]
    },
    {
     "name": "stdout",
     "output_type": "stream",
     "text": [
      "Epoch 881 | Train 0.6630 | Val 0.5663 | LR 0.000000\n"
     ]
    },
    {
     "name": "stderr",
     "output_type": "stream",
     "text": [
      "train 882: 100%|██████████| 58/58 [01:07<00:00,  1.16s/it, av_loss=0.663]\n",
      "val 882: 100%|██████████| 4/4 [00:07<00:00,  1.87s/it, av_loss=0.567]\n"
     ]
    },
    {
     "name": "stdout",
     "output_type": "stream",
     "text": [
      "Epoch 882 | Train 0.6632 | Val 0.5672 | LR 0.000000\n"
     ]
    },
    {
     "name": "stderr",
     "output_type": "stream",
     "text": [
      "train 883: 100%|██████████| 58/58 [01:08<00:00,  1.17s/it, av_loss=0.662]\n",
      "val 883: 100%|██████████| 4/4 [00:07<00:00,  1.84s/it, av_loss=0.566]\n"
     ]
    },
    {
     "name": "stdout",
     "output_type": "stream",
     "text": [
      "Epoch 883 | Train 0.6615 | Val 0.5658 | LR 0.000000\n"
     ]
    },
    {
     "name": "stderr",
     "output_type": "stream",
     "text": [
      "train 884: 100%|██████████| 58/58 [01:06<00:00,  1.15s/it, av_loss=0.662]\n",
      "val 884: 100%|██████████| 4/4 [00:07<00:00,  1.81s/it, av_loss=0.567]\n"
     ]
    },
    {
     "name": "stdout",
     "output_type": "stream",
     "text": [
      "Epoch 884 | Train 0.6624 | Val 0.5668 | LR 0.000000\n"
     ]
    },
    {
     "name": "stderr",
     "output_type": "stream",
     "text": [
      "train 885: 100%|██████████| 58/58 [01:05<00:00,  1.14s/it, av_loss=0.663]\n",
      "val 885: 100%|██████████| 4/4 [00:07<00:00,  1.83s/it, av_loss=0.567]\n"
     ]
    },
    {
     "name": "stdout",
     "output_type": "stream",
     "text": [
      "Epoch 885 | Train 0.6630 | Val 0.5673 | LR 0.000000\n"
     ]
    },
    {
     "name": "stderr",
     "output_type": "stream",
     "text": [
      "train 886: 100%|██████████| 58/58 [01:07<00:00,  1.17s/it, av_loss=0.663]\n",
      "val 886: 100%|██████████| 4/4 [00:07<00:00,  1.88s/it, av_loss=0.568]\n"
     ]
    },
    {
     "name": "stdout",
     "output_type": "stream",
     "text": [
      "Epoch 886 | Train 0.6626 | Val 0.5676 | LR 0.000000\n"
     ]
    },
    {
     "name": "stderr",
     "output_type": "stream",
     "text": [
      "train 887: 100%|██████████| 58/58 [01:06<00:00,  1.15s/it, av_loss=0.663]\n",
      "val 887: 100%|██████████| 4/4 [00:07<00:00,  1.85s/it, av_loss=0.566]\n"
     ]
    },
    {
     "name": "stdout",
     "output_type": "stream",
     "text": [
      "Epoch 887 | Train 0.6628 | Val 0.5657 | LR 0.000000\n"
     ]
    },
    {
     "name": "stderr",
     "output_type": "stream",
     "text": [
      "train 888: 100%|██████████| 58/58 [01:06<00:00,  1.15s/it, av_loss=0.662]\n",
      "val 888: 100%|██████████| 4/4 [00:07<00:00,  1.88s/it, av_loss=0.566]\n"
     ]
    },
    {
     "name": "stdout",
     "output_type": "stream",
     "text": [
      "Epoch 888 | Train 0.6622 | Val 0.5656 | LR 0.000000\n"
     ]
    },
    {
     "name": "stderr",
     "output_type": "stream",
     "text": [
      "train 889: 100%|██████████| 58/58 [01:07<00:00,  1.16s/it, av_loss=0.662]\n",
      "val 889: 100%|██████████| 4/4 [00:07<00:00,  1.88s/it, av_loss=0.567]\n"
     ]
    },
    {
     "name": "stdout",
     "output_type": "stream",
     "text": [
      "Epoch 889 | Train 0.6623 | Val 0.5667 | LR 0.000000\n"
     ]
    },
    {
     "name": "stderr",
     "output_type": "stream",
     "text": [
      "train 890: 100%|██████████| 58/58 [01:07<00:00,  1.16s/it, av_loss=0.663]\n",
      "val 890: 100%|██████████| 4/4 [00:07<00:00,  1.84s/it, av_loss=0.567]\n"
     ]
    },
    {
     "name": "stdout",
     "output_type": "stream",
     "text": [
      "Epoch 890 | Train 0.6628 | Val 0.5669 | LR 0.000000\n"
     ]
    },
    {
     "name": "stderr",
     "output_type": "stream",
     "text": [
      "train 891: 100%|██████████| 58/58 [01:07<00:00,  1.17s/it, av_loss=0.661]\n",
      "val 891: 100%|██████████| 4/4 [00:07<00:00,  1.83s/it, av_loss=0.566]\n"
     ]
    },
    {
     "name": "stdout",
     "output_type": "stream",
     "text": [
      "Epoch 891 | Train 0.6615 | Val 0.5662 | LR 0.000000\n"
     ]
    },
    {
     "name": "stderr",
     "output_type": "stream",
     "text": [
      "train 892: 100%|██████████| 58/58 [01:07<00:00,  1.17s/it, av_loss=0.663]\n",
      "val 892: 100%|██████████| 4/4 [00:07<00:00,  1.88s/it, av_loss=0.567]\n"
     ]
    },
    {
     "name": "stdout",
     "output_type": "stream",
     "text": [
      "Epoch 892 | Train 0.6625 | Val 0.5673 | LR 0.000000\n"
     ]
    },
    {
     "name": "stderr",
     "output_type": "stream",
     "text": [
      "train 893: 100%|██████████| 58/58 [01:07<00:00,  1.16s/it, av_loss=0.663]\n",
      "val 893: 100%|██████████| 4/4 [00:07<00:00,  1.90s/it, av_loss=0.566]\n"
     ]
    },
    {
     "name": "stdout",
     "output_type": "stream",
     "text": [
      "Epoch 893 | Train 0.6629 | Val 0.5660 | LR 0.000000\n"
     ]
    },
    {
     "name": "stderr",
     "output_type": "stream",
     "text": [
      "train 894: 100%|██████████| 58/58 [01:06<00:00,  1.15s/it, av_loss=0.662]\n",
      "val 894: 100%|██████████| 4/4 [00:07<00:00,  1.90s/it, av_loss=0.566]\n"
     ]
    },
    {
     "name": "stdout",
     "output_type": "stream",
     "text": [
      "Epoch 894 | Train 0.6618 | Val 0.5658 | LR 0.000000\n"
     ]
    },
    {
     "name": "stderr",
     "output_type": "stream",
     "text": [
      "train 895: 100%|██████████| 58/58 [01:06<00:00,  1.15s/it, av_loss=0.661]\n",
      "val 895: 100%|██████████| 4/4 [00:07<00:00,  1.78s/it, av_loss=0.567]\n"
     ]
    },
    {
     "name": "stdout",
     "output_type": "stream",
     "text": [
      "Epoch 895 | Train 0.6613 | Val 0.5669 | LR 0.000000\n"
     ]
    },
    {
     "name": "stderr",
     "output_type": "stream",
     "text": [
      "train 896: 100%|██████████| 58/58 [01:06<00:00,  1.15s/it, av_loss=0.661]\n",
      "val 896: 100%|██████████| 4/4 [00:07<00:00,  1.85s/it, av_loss=0.567]\n"
     ]
    },
    {
     "name": "stdout",
     "output_type": "stream",
     "text": [
      "Epoch 896 | Train 0.6615 | Val 0.5669 | LR 0.000000\n"
     ]
    },
    {
     "name": "stderr",
     "output_type": "stream",
     "text": [
      "train 897: 100%|██████████| 58/58 [01:07<00:00,  1.16s/it, av_loss=0.662]\n",
      "val 897: 100%|██████████| 4/4 [00:07<00:00,  1.91s/it, av_loss=0.565]\n"
     ]
    },
    {
     "name": "stdout",
     "output_type": "stream",
     "text": [
      "Epoch 897 | Train 0.6624 | Val 0.5650 | LR 0.000000\n"
     ]
    },
    {
     "name": "stderr",
     "output_type": "stream",
     "text": [
      "train 898: 100%|██████████| 58/58 [01:07<00:00,  1.17s/it, av_loss=0.661]\n",
      "val 898: 100%|██████████| 4/4 [00:07<00:00,  1.90s/it, av_loss=0.566]\n"
     ]
    },
    {
     "name": "stdout",
     "output_type": "stream",
     "text": [
      "Epoch 898 | Train 0.6612 | Val 0.5659 | LR 0.000000\n"
     ]
    },
    {
     "name": "stderr",
     "output_type": "stream",
     "text": [
      "train 899: 100%|██████████| 58/58 [01:06<00:00,  1.14s/it, av_loss=0.663]\n",
      "val 899: 100%|██████████| 4/4 [00:07<00:00,  1.87s/it, av_loss=0.567]\n"
     ]
    },
    {
     "name": "stdout",
     "output_type": "stream",
     "text": [
      "Epoch 899 | Train 0.6629 | Val 0.5667 | LR 0.000000\n"
     ]
    },
    {
     "name": "stderr",
     "output_type": "stream",
     "text": [
      "train 900: 100%|██████████| 58/58 [01:06<00:00,  1.15s/it, av_loss=0.662]\n",
      "val 900: 100%|██████████| 4/4 [00:07<00:00,  1.87s/it, av_loss=0.567]\n"
     ]
    },
    {
     "name": "stdout",
     "output_type": "stream",
     "text": [
      "Epoch 900 | Train 0.6624 | Val 0.5673 | LR 0.000000\n"
     ]
    },
    {
     "name": "stderr",
     "output_type": "stream",
     "text": [
      "train 901: 100%|██████████| 58/58 [01:07<00:00,  1.16s/it, av_loss=0.661]\n",
      "val 901: 100%|██████████| 4/4 [00:07<00:00,  1.80s/it, av_loss=0.567]\n"
     ]
    },
    {
     "name": "stdout",
     "output_type": "stream",
     "text": [
      "Epoch 901 | Train 0.6615 | Val 0.5668 | LR 0.000000\n"
     ]
    },
    {
     "name": "stderr",
     "output_type": "stream",
     "text": [
      "train 902: 100%|██████████| 58/58 [01:05<00:00,  1.13s/it, av_loss=0.662]\n",
      "val 902: 100%|██████████| 4/4 [00:07<00:00,  1.87s/it, av_loss=0.567]\n"
     ]
    },
    {
     "name": "stdout",
     "output_type": "stream",
     "text": [
      "Epoch 902 | Train 0.6621 | Val 0.5666 | LR 0.000000\n"
     ]
    },
    {
     "name": "stderr",
     "output_type": "stream",
     "text": [
      "train 903: 100%|██████████| 58/58 [01:08<00:00,  1.18s/it, av_loss=0.663]\n",
      "val 903: 100%|██████████| 4/4 [00:07<00:00,  1.89s/it, av_loss=0.566]\n"
     ]
    },
    {
     "name": "stdout",
     "output_type": "stream",
     "text": [
      "Epoch 903 | Train 0.6630 | Val 0.5662 | LR 0.000000\n"
     ]
    },
    {
     "name": "stderr",
     "output_type": "stream",
     "text": [
      "train 904: 100%|██████████| 58/58 [01:07<00:00,  1.16s/it, av_loss=0.662]\n",
      "val 904: 100%|██████████| 4/4 [00:07<00:00,  1.80s/it, av_loss=0.567]\n"
     ]
    },
    {
     "name": "stdout",
     "output_type": "stream",
     "text": [
      "Epoch 904 | Train 0.6620 | Val 0.5669 | LR 0.000000\n"
     ]
    },
    {
     "name": "stderr",
     "output_type": "stream",
     "text": [
      "train 905: 100%|██████████| 58/58 [01:07<00:00,  1.17s/it, av_loss=0.661]\n",
      "val 905: 100%|██████████| 4/4 [00:07<00:00,  1.88s/it, av_loss=0.568]\n"
     ]
    },
    {
     "name": "stdout",
     "output_type": "stream",
     "text": [
      "Epoch 905 | Train 0.6609 | Val 0.5678 | LR 0.000000\n"
     ]
    },
    {
     "name": "stderr",
     "output_type": "stream",
     "text": [
      "train 906: 100%|██████████| 58/58 [01:06<00:00,  1.15s/it, av_loss=0.661]\n",
      "val 906: 100%|██████████| 4/4 [00:07<00:00,  1.83s/it, av_loss=0.567]\n"
     ]
    },
    {
     "name": "stdout",
     "output_type": "stream",
     "text": [
      "Epoch 906 | Train 0.6615 | Val 0.5670 | LR 0.000000\n"
     ]
    },
    {
     "name": "stderr",
     "output_type": "stream",
     "text": [
      "train 907: 100%|██████████| 58/58 [01:07<00:00,  1.16s/it, av_loss=0.662]\n",
      "val 907: 100%|██████████| 4/4 [00:07<00:00,  1.83s/it, av_loss=0.566]\n"
     ]
    },
    {
     "name": "stdout",
     "output_type": "stream",
     "text": [
      "Epoch 907 | Train 0.6617 | Val 0.5664 | LR 0.000000\n"
     ]
    },
    {
     "name": "stderr",
     "output_type": "stream",
     "text": [
      "train 908: 100%|██████████| 58/58 [01:06<00:00,  1.15s/it, av_loss=0.662]\n",
      "val 908: 100%|██████████| 4/4 [00:07<00:00,  1.90s/it, av_loss=0.568]\n"
     ]
    },
    {
     "name": "stdout",
     "output_type": "stream",
     "text": [
      "Epoch 908 | Train 0.6623 | Val 0.5677 | LR 0.000000\n"
     ]
    },
    {
     "name": "stderr",
     "output_type": "stream",
     "text": [
      "train 909: 100%|██████████| 58/58 [01:06<00:00,  1.14s/it, av_loss=0.664]\n",
      "val 909: 100%|██████████| 4/4 [00:07<00:00,  1.81s/it, av_loss=0.568]\n"
     ]
    },
    {
     "name": "stdout",
     "output_type": "stream",
     "text": [
      "Epoch 909 | Train 0.6637 | Val 0.5678 | LR 0.000000\n"
     ]
    },
    {
     "name": "stderr",
     "output_type": "stream",
     "text": [
      "train 910: 100%|██████████| 58/58 [01:06<00:00,  1.15s/it, av_loss=0.662]\n",
      "val 910: 100%|██████████| 4/4 [00:07<00:00,  1.89s/it, av_loss=0.567]\n"
     ]
    },
    {
     "name": "stdout",
     "output_type": "stream",
     "text": [
      "Epoch 910 | Train 0.6620 | Val 0.5668 | LR 0.000000\n"
     ]
    },
    {
     "name": "stderr",
     "output_type": "stream",
     "text": [
      "train 911: 100%|██████████| 58/58 [01:07<00:00,  1.17s/it, av_loss=0.662]\n",
      "val 911: 100%|██████████| 4/4 [00:07<00:00,  1.93s/it, av_loss=0.567]\n"
     ]
    },
    {
     "name": "stdout",
     "output_type": "stream",
     "text": [
      "Epoch 911 | Train 0.6620 | Val 0.5671 | LR 0.000000\n"
     ]
    },
    {
     "name": "stderr",
     "output_type": "stream",
     "text": [
      "train 912: 100%|██████████| 58/58 [01:08<00:00,  1.18s/it, av_loss=0.663]\n",
      "val 912: 100%|██████████| 4/4 [00:07<00:00,  1.88s/it, av_loss=0.567]\n"
     ]
    },
    {
     "name": "stdout",
     "output_type": "stream",
     "text": [
      "Epoch 912 | Train 0.6627 | Val 0.5666 | LR 0.000000\n"
     ]
    },
    {
     "name": "stderr",
     "output_type": "stream",
     "text": [
      "train 913: 100%|██████████| 58/58 [01:07<00:00,  1.17s/it, av_loss=0.661]\n",
      "val 913: 100%|██████████| 4/4 [00:07<00:00,  1.90s/it, av_loss=0.567]\n"
     ]
    },
    {
     "name": "stdout",
     "output_type": "stream",
     "text": [
      "Epoch 913 | Train 0.6610 | Val 0.5672 | LR 0.000000\n"
     ]
    },
    {
     "name": "stderr",
     "output_type": "stream",
     "text": [
      "train 914: 100%|██████████| 58/58 [01:07<00:00,  1.16s/it, av_loss=0.662]\n",
      "val 914: 100%|██████████| 4/4 [00:07<00:00,  1.82s/it, av_loss=0.566]\n"
     ]
    },
    {
     "name": "stdout",
     "output_type": "stream",
     "text": [
      "Epoch 914 | Train 0.6620 | Val 0.5660 | LR 0.000000\n"
     ]
    },
    {
     "name": "stderr",
     "output_type": "stream",
     "text": [
      "train 915: 100%|██████████| 58/58 [01:06<00:00,  1.15s/it, av_loss=0.661]\n",
      "val 915: 100%|██████████| 4/4 [00:07<00:00,  1.92s/it, av_loss=0.566]\n"
     ]
    },
    {
     "name": "stdout",
     "output_type": "stream",
     "text": [
      "Epoch 915 | Train 0.6613 | Val 0.5662 | LR 0.000000\n"
     ]
    },
    {
     "name": "stderr",
     "output_type": "stream",
     "text": [
      "train 916: 100%|██████████| 58/58 [01:08<00:00,  1.17s/it, av_loss=0.662]\n",
      "val 916: 100%|██████████| 4/4 [00:07<00:00,  1.88s/it, av_loss=0.566]\n"
     ]
    },
    {
     "name": "stdout",
     "output_type": "stream",
     "text": [
      "Epoch 916 | Train 0.6618 | Val 0.5661 | LR 0.000000\n"
     ]
    },
    {
     "name": "stderr",
     "output_type": "stream",
     "text": [
      "train 917: 100%|██████████| 58/58 [01:07<00:00,  1.17s/it, av_loss=0.662]\n",
      "val 917: 100%|██████████| 4/4 [00:07<00:00,  1.89s/it, av_loss=0.567]\n"
     ]
    },
    {
     "name": "stdout",
     "output_type": "stream",
     "text": [
      "Epoch 917 | Train 0.6621 | Val 0.5668 | LR 0.000000\n"
     ]
    },
    {
     "name": "stderr",
     "output_type": "stream",
     "text": [
      "train 918: 100%|██████████| 58/58 [01:07<00:00,  1.17s/it, av_loss=0.663]\n",
      "val 918: 100%|██████████| 4/4 [00:07<00:00,  1.85s/it, av_loss=0.567]\n"
     ]
    },
    {
     "name": "stdout",
     "output_type": "stream",
     "text": [
      "Epoch 918 | Train 0.6626 | Val 0.5668 | LR 0.000000\n"
     ]
    },
    {
     "name": "stderr",
     "output_type": "stream",
     "text": [
      "train 919: 100%|██████████| 58/58 [01:06<00:00,  1.14s/it, av_loss=0.662]\n",
      "val 919: 100%|██████████| 4/4 [00:07<00:00,  1.89s/it, av_loss=0.566]\n"
     ]
    },
    {
     "name": "stdout",
     "output_type": "stream",
     "text": [
      "Epoch 919 | Train 0.6619 | Val 0.5665 | LR 0.000000\n"
     ]
    },
    {
     "name": "stderr",
     "output_type": "stream",
     "text": [
      "train 920: 100%|██████████| 58/58 [01:05<00:00,  1.13s/it, av_loss=0.662]\n",
      "val 920: 100%|██████████| 4/4 [00:07<00:00,  1.78s/it, av_loss=0.567]\n"
     ]
    },
    {
     "name": "stdout",
     "output_type": "stream",
     "text": [
      "Epoch 920 | Train 0.6621 | Val 0.5665 | LR 0.000000\n"
     ]
    },
    {
     "name": "stderr",
     "output_type": "stream",
     "text": [
      "train 921: 100%|██████████| 58/58 [01:06<00:00,  1.15s/it, av_loss=0.662]\n",
      "val 921: 100%|██████████| 4/4 [00:07<00:00,  1.87s/it, av_loss=0.567]\n"
     ]
    },
    {
     "name": "stdout",
     "output_type": "stream",
     "text": [
      "Epoch 921 | Train 0.6622 | Val 0.5671 | LR 0.000000\n"
     ]
    },
    {
     "name": "stderr",
     "output_type": "stream",
     "text": [
      "train 922: 100%|██████████| 58/58 [01:07<00:00,  1.16s/it, av_loss=0.662]\n",
      "val 922: 100%|██████████| 4/4 [00:07<00:00,  1.88s/it, av_loss=0.567]\n"
     ]
    },
    {
     "name": "stdout",
     "output_type": "stream",
     "text": [
      "Epoch 922 | Train 0.6621 | Val 0.5667 | LR 0.000000\n"
     ]
    },
    {
     "name": "stderr",
     "output_type": "stream",
     "text": [
      "train 923: 100%|██████████| 58/58 [01:07<00:00,  1.17s/it, av_loss=0.663]\n",
      "val 923: 100%|██████████| 4/4 [00:07<00:00,  1.85s/it, av_loss=0.566]\n"
     ]
    },
    {
     "name": "stdout",
     "output_type": "stream",
     "text": [
      "Epoch 923 | Train 0.6625 | Val 0.5664 | LR 0.000000\n"
     ]
    },
    {
     "name": "stderr",
     "output_type": "stream",
     "text": [
      "train 924: 100%|██████████| 58/58 [01:06<00:00,  1.15s/it, av_loss=0.662]\n",
      "val 924: 100%|██████████| 4/4 [00:07<00:00,  1.83s/it, av_loss=0.567]\n"
     ]
    },
    {
     "name": "stdout",
     "output_type": "stream",
     "text": [
      "Epoch 924 | Train 0.6620 | Val 0.5671 | LR 0.000000\n"
     ]
    },
    {
     "name": "stderr",
     "output_type": "stream",
     "text": [
      "train 925: 100%|██████████| 58/58 [01:06<00:00,  1.15s/it, av_loss=0.662]\n",
      "val 925: 100%|██████████| 4/4 [00:07<00:00,  1.86s/it, av_loss=0.567]\n"
     ]
    },
    {
     "name": "stdout",
     "output_type": "stream",
     "text": [
      "Epoch 925 | Train 0.6615 | Val 0.5667 | LR 0.000000\n"
     ]
    },
    {
     "name": "stderr",
     "output_type": "stream",
     "text": [
      "train 926: 100%|██████████| 58/58 [01:07<00:00,  1.16s/it, av_loss=0.663]\n",
      "val 926: 100%|██████████| 4/4 [00:07<00:00,  1.88s/it, av_loss=0.567]\n"
     ]
    },
    {
     "name": "stdout",
     "output_type": "stream",
     "text": [
      "Epoch 926 | Train 0.6628 | Val 0.5669 | LR 0.000000\n"
     ]
    },
    {
     "name": "stderr",
     "output_type": "stream",
     "text": [
      "train 927: 100%|██████████| 58/58 [01:08<00:00,  1.17s/it, av_loss=0.664]\n",
      "val 927: 100%|██████████| 4/4 [00:07<00:00,  1.89s/it, av_loss=0.568]\n"
     ]
    },
    {
     "name": "stdout",
     "output_type": "stream",
     "text": [
      "Epoch 927 | Train 0.6636 | Val 0.5679 | LR 0.000000\n"
     ]
    },
    {
     "name": "stderr",
     "output_type": "stream",
     "text": [
      "train 928: 100%|██████████| 58/58 [01:06<00:00,  1.15s/it, av_loss=0.662]\n",
      "val 928: 100%|██████████| 4/4 [00:07<00:00,  1.88s/it, av_loss=0.567]\n"
     ]
    },
    {
     "name": "stdout",
     "output_type": "stream",
     "text": [
      "Epoch 928 | Train 0.6618 | Val 0.5665 | LR 0.000000\n"
     ]
    },
    {
     "name": "stderr",
     "output_type": "stream",
     "text": [
      "train 929: 100%|██████████| 58/58 [01:06<00:00,  1.15s/it, av_loss=0.663]\n",
      "val 929: 100%|██████████| 4/4 [00:07<00:00,  1.84s/it, av_loss=0.567]\n"
     ]
    },
    {
     "name": "stdout",
     "output_type": "stream",
     "text": [
      "Epoch 929 | Train 0.6625 | Val 0.5670 | LR 0.000000\n"
     ]
    },
    {
     "name": "stderr",
     "output_type": "stream",
     "text": [
      "train 930: 100%|██████████| 58/58 [01:06<00:00,  1.15s/it, av_loss=0.661]\n",
      "val 930: 100%|██████████| 4/4 [00:07<00:00,  1.87s/it, av_loss=0.566]\n"
     ]
    },
    {
     "name": "stdout",
     "output_type": "stream",
     "text": [
      "Epoch 930 | Train 0.6610 | Val 0.5658 | LR 0.000000\n"
     ]
    },
    {
     "name": "stderr",
     "output_type": "stream",
     "text": [
      "train 931: 100%|██████████| 58/58 [01:08<00:00,  1.17s/it, av_loss=0.661]\n",
      "val 931: 100%|██████████| 4/4 [00:07<00:00,  1.88s/it, av_loss=0.567]\n"
     ]
    },
    {
     "name": "stdout",
     "output_type": "stream",
     "text": [
      "Epoch 931 | Train 0.6614 | Val 0.5672 | LR 0.000000\n"
     ]
    },
    {
     "name": "stderr",
     "output_type": "stream",
     "text": [
      "train 932: 100%|██████████| 58/58 [01:07<00:00,  1.17s/it, av_loss=0.663]\n",
      "val 932: 100%|██████████| 4/4 [00:07<00:00,  1.84s/it, av_loss=0.567]\n"
     ]
    },
    {
     "name": "stdout",
     "output_type": "stream",
     "text": [
      "Epoch 932 | Train 0.6632 | Val 0.5673 | LR 0.000000\n"
     ]
    },
    {
     "name": "stderr",
     "output_type": "stream",
     "text": [
      "train 933: 100%|██████████| 58/58 [01:06<00:00,  1.15s/it, av_loss=0.663]\n",
      "val 933: 100%|██████████| 4/4 [00:07<00:00,  1.82s/it, av_loss=0.567]\n"
     ]
    },
    {
     "name": "stdout",
     "output_type": "stream",
     "text": [
      "Epoch 933 | Train 0.6628 | Val 0.5666 | LR 0.000000\n"
     ]
    },
    {
     "name": "stderr",
     "output_type": "stream",
     "text": [
      "train 934: 100%|██████████| 58/58 [01:08<00:00,  1.17s/it, av_loss=0.662]\n",
      "val 934: 100%|██████████| 4/4 [00:07<00:00,  1.81s/it, av_loss=0.567]\n"
     ]
    },
    {
     "name": "stdout",
     "output_type": "stream",
     "text": [
      "Epoch 934 | Train 0.6624 | Val 0.5669 | LR 0.000000\n"
     ]
    },
    {
     "name": "stderr",
     "output_type": "stream",
     "text": [
      "train 935: 100%|██████████| 58/58 [01:07<00:00,  1.17s/it, av_loss=0.662]\n",
      "val 935: 100%|██████████| 4/4 [00:07<00:00,  1.87s/it, av_loss=0.567]\n"
     ]
    },
    {
     "name": "stdout",
     "output_type": "stream",
     "text": [
      "Epoch 935 | Train 0.6619 | Val 0.5666 | LR 0.000000\n"
     ]
    },
    {
     "name": "stderr",
     "output_type": "stream",
     "text": [
      "train 936: 100%|██████████| 58/58 [01:07<00:00,  1.16s/it, av_loss=0.662]\n",
      "val 936: 100%|██████████| 4/4 [00:07<00:00,  1.85s/it, av_loss=0.567]\n"
     ]
    },
    {
     "name": "stdout",
     "output_type": "stream",
     "text": [
      "Epoch 936 | Train 0.6621 | Val 0.5674 | LR 0.000000\n"
     ]
    },
    {
     "name": "stderr",
     "output_type": "stream",
     "text": [
      "train 937: 100%|██████████| 58/58 [01:07<00:00,  1.16s/it, av_loss=0.663]\n",
      "val 937: 100%|██████████| 4/4 [00:07<00:00,  1.90s/it, av_loss=0.566]\n"
     ]
    },
    {
     "name": "stdout",
     "output_type": "stream",
     "text": [
      "Epoch 937 | Train 0.6630 | Val 0.5660 | LR 0.000000\n"
     ]
    },
    {
     "name": "stderr",
     "output_type": "stream",
     "text": [
      "train 938: 100%|██████████| 58/58 [01:07<00:00,  1.16s/it, av_loss=0.662]\n",
      "val 938: 100%|██████████| 4/4 [00:07<00:00,  1.86s/it, av_loss=0.566]\n"
     ]
    },
    {
     "name": "stdout",
     "output_type": "stream",
     "text": [
      "Epoch 938 | Train 0.6623 | Val 0.5660 | LR 0.000000\n"
     ]
    },
    {
     "name": "stderr",
     "output_type": "stream",
     "text": [
      "train 939: 100%|██████████| 58/58 [01:07<00:00,  1.16s/it, av_loss=0.663]\n",
      "val 939: 100%|██████████| 4/4 [00:07<00:00,  1.83s/it, av_loss=0.567]\n"
     ]
    },
    {
     "name": "stdout",
     "output_type": "stream",
     "text": [
      "Epoch 939 | Train 0.6626 | Val 0.5671 | LR 0.000000\n"
     ]
    },
    {
     "name": "stderr",
     "output_type": "stream",
     "text": [
      "train 940: 100%|██████████| 58/58 [01:06<00:00,  1.14s/it, av_loss=0.663]\n",
      "val 940: 100%|██████████| 4/4 [00:07<00:00,  1.88s/it, av_loss=0.567]\n"
     ]
    },
    {
     "name": "stdout",
     "output_type": "stream",
     "text": [
      "Epoch 940 | Train 0.6628 | Val 0.5667 | LR 0.000000\n"
     ]
    },
    {
     "name": "stderr",
     "output_type": "stream",
     "text": [
      "train 941: 100%|██████████| 58/58 [01:06<00:00,  1.14s/it, av_loss=0.662]\n",
      "val 941: 100%|██████████| 4/4 [00:07<00:00,  1.81s/it, av_loss=0.567]\n"
     ]
    },
    {
     "name": "stdout",
     "output_type": "stream",
     "text": [
      "Epoch 941 | Train 0.6621 | Val 0.5669 | LR 0.000000\n"
     ]
    },
    {
     "name": "stderr",
     "output_type": "stream",
     "text": [
      "train 942: 100%|██████████| 58/58 [01:06<00:00,  1.15s/it, av_loss=0.663]\n",
      "val 942: 100%|██████████| 4/4 [00:07<00:00,  1.89s/it, av_loss=0.567]\n"
     ]
    },
    {
     "name": "stdout",
     "output_type": "stream",
     "text": [
      "Epoch 942 | Train 0.6626 | Val 0.5669 | LR 0.000000\n"
     ]
    },
    {
     "name": "stderr",
     "output_type": "stream",
     "text": [
      "train 943: 100%|██████████| 58/58 [01:07<00:00,  1.16s/it, av_loss=0.661]\n",
      "val 943: 100%|██████████| 4/4 [00:07<00:00,  1.88s/it, av_loss=0.567]\n"
     ]
    },
    {
     "name": "stdout",
     "output_type": "stream",
     "text": [
      "Epoch 943 | Train 0.6614 | Val 0.5668 | LR 0.000000\n"
     ]
    },
    {
     "name": "stderr",
     "output_type": "stream",
     "text": [
      "train 944: 100%|██████████| 58/58 [01:08<00:00,  1.17s/it, av_loss=0.663]\n",
      "val 944: 100%|██████████| 4/4 [00:07<00:00,  1.87s/it, av_loss=0.566]\n"
     ]
    },
    {
     "name": "stdout",
     "output_type": "stream",
     "text": [
      "Epoch 944 | Train 0.6629 | Val 0.5663 | LR 0.000000\n"
     ]
    },
    {
     "name": "stderr",
     "output_type": "stream",
     "text": [
      "train 945: 100%|██████████| 58/58 [01:07<00:00,  1.17s/it, av_loss=0.663]\n",
      "val 945: 100%|██████████| 4/4 [00:07<00:00,  1.85s/it, av_loss=0.568]\n"
     ]
    },
    {
     "name": "stdout",
     "output_type": "stream",
     "text": [
      "Epoch 945 | Train 0.6626 | Val 0.5677 | LR 0.000000\n"
     ]
    },
    {
     "name": "stderr",
     "output_type": "stream",
     "text": [
      "train 946: 100%|██████████| 58/58 [01:07<00:00,  1.16s/it, av_loss=0.663]\n",
      "val 946: 100%|██████████| 4/4 [00:07<00:00,  1.86s/it, av_loss=0.568]\n"
     ]
    },
    {
     "name": "stdout",
     "output_type": "stream",
     "text": [
      "Epoch 946 | Train 0.6626 | Val 0.5675 | LR 0.000000\n"
     ]
    },
    {
     "name": "stderr",
     "output_type": "stream",
     "text": [
      "train 947: 100%|██████████| 58/58 [01:07<00:00,  1.16s/it, av_loss=0.663]\n",
      "val 947: 100%|██████████| 4/4 [00:07<00:00,  1.82s/it, av_loss=0.567]\n"
     ]
    },
    {
     "name": "stdout",
     "output_type": "stream",
     "text": [
      "Epoch 947 | Train 0.6627 | Val 0.5675 | LR 0.000000\n"
     ]
    },
    {
     "name": "stderr",
     "output_type": "stream",
     "text": [
      "train 948: 100%|██████████| 58/58 [01:06<00:00,  1.15s/it, av_loss=0.662]\n",
      "val 948: 100%|██████████| 4/4 [00:07<00:00,  1.91s/it, av_loss=0.566]\n"
     ]
    },
    {
     "name": "stdout",
     "output_type": "stream",
     "text": [
      "Epoch 948 | Train 0.6623 | Val 0.5657 | LR 0.000000\n"
     ]
    },
    {
     "name": "stderr",
     "output_type": "stream",
     "text": [
      "train 949: 100%|██████████| 58/58 [01:07<00:00,  1.16s/it, av_loss=0.662]\n",
      "val 949: 100%|██████████| 4/4 [00:07<00:00,  1.83s/it, av_loss=0.567]\n"
     ]
    },
    {
     "name": "stdout",
     "output_type": "stream",
     "text": [
      "Epoch 949 | Train 0.6623 | Val 0.5667 | LR 0.000000\n"
     ]
    },
    {
     "name": "stderr",
     "output_type": "stream",
     "text": [
      "train 950: 100%|██████████| 58/58 [01:06<00:00,  1.14s/it, av_loss=0.663]\n",
      "val 950: 100%|██████████| 4/4 [00:07<00:00,  1.79s/it, av_loss=0.566]\n"
     ]
    },
    {
     "name": "stdout",
     "output_type": "stream",
     "text": [
      "Epoch 950 | Train 0.6627 | Val 0.5658 | LR 0.000000\n"
     ]
    },
    {
     "name": "stderr",
     "output_type": "stream",
     "text": [
      "train 951: 100%|██████████| 58/58 [01:06<00:00,  1.15s/it, av_loss=0.663]\n",
      "val 951: 100%|██████████| 4/4 [00:07<00:00,  1.91s/it, av_loss=0.567]\n"
     ]
    },
    {
     "name": "stdout",
     "output_type": "stream",
     "text": [
      "Epoch 951 | Train 0.6633 | Val 0.5673 | LR 0.000000\n"
     ]
    },
    {
     "name": "stderr",
     "output_type": "stream",
     "text": [
      "train 952: 100%|██████████| 58/58 [01:07<00:00,  1.16s/it, av_loss=0.662]\n",
      "val 952: 100%|██████████| 4/4 [00:07<00:00,  1.92s/it, av_loss=0.567]\n"
     ]
    },
    {
     "name": "stdout",
     "output_type": "stream",
     "text": [
      "Epoch 952 | Train 0.6622 | Val 0.5672 | LR 0.000000\n"
     ]
    },
    {
     "name": "stderr",
     "output_type": "stream",
     "text": [
      "train 953: 100%|██████████| 58/58 [01:06<00:00,  1.15s/it, av_loss=0.663]\n",
      "val 953: 100%|██████████| 4/4 [00:07<00:00,  1.87s/it, av_loss=0.568]\n"
     ]
    },
    {
     "name": "stdout",
     "output_type": "stream",
     "text": [
      "Epoch 953 | Train 0.6631 | Val 0.5682 | LR 0.000000\n"
     ]
    },
    {
     "name": "stderr",
     "output_type": "stream",
     "text": [
      "train 954: 100%|██████████| 58/58 [01:06<00:00,  1.14s/it, av_loss=0.661]\n",
      "val 954: 100%|██████████| 4/4 [00:07<00:00,  1.94s/it, av_loss=0.567]\n"
     ]
    },
    {
     "name": "stdout",
     "output_type": "stream",
     "text": [
      "Epoch 954 | Train 0.6615 | Val 0.5668 | LR 0.000000\n"
     ]
    },
    {
     "name": "stderr",
     "output_type": "stream",
     "text": [
      "train 955: 100%|██████████| 58/58 [01:07<00:00,  1.16s/it, av_loss=0.662]\n",
      "val 955: 100%|██████████| 4/4 [00:07<00:00,  1.90s/it, av_loss=0.567]\n"
     ]
    },
    {
     "name": "stdout",
     "output_type": "stream",
     "text": [
      "Epoch 955 | Train 0.6622 | Val 0.5665 | LR 0.000000\n"
     ]
    },
    {
     "name": "stderr",
     "output_type": "stream",
     "text": [
      "train 956: 100%|██████████| 58/58 [01:07<00:00,  1.17s/it, av_loss=0.661]\n",
      "val 956: 100%|██████████| 4/4 [00:07<00:00,  1.86s/it, av_loss=0.567]\n"
     ]
    },
    {
     "name": "stdout",
     "output_type": "stream",
     "text": [
      "Epoch 956 | Train 0.6613 | Val 0.5674 | LR 0.000000\n"
     ]
    },
    {
     "name": "stderr",
     "output_type": "stream",
     "text": [
      "train 957: 100%|██████████| 58/58 [01:06<00:00,  1.15s/it, av_loss=0.662]\n",
      "val 957: 100%|██████████| 4/4 [00:07<00:00,  1.89s/it, av_loss=0.567]\n"
     ]
    },
    {
     "name": "stdout",
     "output_type": "stream",
     "text": [
      "Epoch 957 | Train 0.6617 | Val 0.5668 | LR 0.000000\n"
     ]
    },
    {
     "name": "stderr",
     "output_type": "stream",
     "text": [
      "train 958: 100%|██████████| 58/58 [01:07<00:00,  1.16s/it, av_loss=0.662]\n",
      "val 958: 100%|██████████| 4/4 [00:07<00:00,  1.82s/it, av_loss=0.567]\n"
     ]
    },
    {
     "name": "stdout",
     "output_type": "stream",
     "text": [
      "Epoch 958 | Train 0.6620 | Val 0.5674 | LR 0.000000\n"
     ]
    },
    {
     "name": "stderr",
     "output_type": "stream",
     "text": [
      "train 959: 100%|██████████| 58/58 [01:07<00:00,  1.16s/it, av_loss=0.662]\n",
      "val 959: 100%|██████████| 4/4 [00:07<00:00,  1.81s/it, av_loss=0.567]\n"
     ]
    },
    {
     "name": "stdout",
     "output_type": "stream",
     "text": [
      "Epoch 959 | Train 0.6615 | Val 0.5670 | LR 0.000000\n"
     ]
    },
    {
     "name": "stderr",
     "output_type": "stream",
     "text": [
      "train 960: 100%|██████████| 58/58 [01:07<00:00,  1.16s/it, av_loss=0.663]\n",
      "val 960: 100%|██████████| 4/4 [00:07<00:00,  1.87s/it, av_loss=0.566]\n"
     ]
    },
    {
     "name": "stdout",
     "output_type": "stream",
     "text": [
      "Epoch 960 | Train 0.6625 | Val 0.5656 | LR 0.000000\n"
     ]
    },
    {
     "name": "stderr",
     "output_type": "stream",
     "text": [
      "train 961: 100%|██████████| 58/58 [01:07<00:00,  1.16s/it, av_loss=0.662]\n",
      "val 961: 100%|██████████| 4/4 [00:07<00:00,  1.89s/it, av_loss=0.567]\n"
     ]
    },
    {
     "name": "stdout",
     "output_type": "stream",
     "text": [
      "Epoch 961 | Train 0.6620 | Val 0.5668 | LR 0.000000\n"
     ]
    },
    {
     "name": "stderr",
     "output_type": "stream",
     "text": [
      "train 962: 100%|██████████| 58/58 [01:06<00:00,  1.16s/it, av_loss=0.662]\n",
      "val 962: 100%|██████████| 4/4 [00:07<00:00,  1.83s/it, av_loss=0.566]\n"
     ]
    },
    {
     "name": "stdout",
     "output_type": "stream",
     "text": [
      "Epoch 962 | Train 0.6620 | Val 0.5662 | LR 0.000000\n"
     ]
    },
    {
     "name": "stderr",
     "output_type": "stream",
     "text": [
      "train 963: 100%|██████████| 58/58 [01:06<00:00,  1.15s/it, av_loss=0.662]\n",
      "val 963: 100%|██████████| 4/4 [00:07<00:00,  1.81s/it, av_loss=0.567]\n"
     ]
    },
    {
     "name": "stdout",
     "output_type": "stream",
     "text": [
      "Epoch 963 | Train 0.6618 | Val 0.5675 | LR 0.000000\n"
     ]
    },
    {
     "name": "stderr",
     "output_type": "stream",
     "text": [
      "train 964: 100%|██████████| 58/58 [01:05<00:00,  1.13s/it, av_loss=0.664]\n",
      "val 964: 100%|██████████| 4/4 [00:07<00:00,  1.87s/it, av_loss=0.567]\n"
     ]
    },
    {
     "name": "stdout",
     "output_type": "stream",
     "text": [
      "Epoch 964 | Train 0.6637 | Val 0.5674 | LR 0.000000\n"
     ]
    },
    {
     "name": "stderr",
     "output_type": "stream",
     "text": [
      "train 965: 100%|██████████| 58/58 [01:07<00:00,  1.16s/it, av_loss=0.662]\n",
      "val 965: 100%|██████████| 4/4 [00:07<00:00,  1.87s/it, av_loss=0.567]\n"
     ]
    },
    {
     "name": "stdout",
     "output_type": "stream",
     "text": [
      "Epoch 965 | Train 0.6624 | Val 0.5668 | LR 0.000000\n"
     ]
    },
    {
     "name": "stderr",
     "output_type": "stream",
     "text": [
      "train 966: 100%|██████████| 58/58 [01:08<00:00,  1.17s/it, av_loss=0.662]\n",
      "val 966: 100%|██████████| 4/4 [00:07<00:00,  1.88s/it, av_loss=0.567]\n"
     ]
    },
    {
     "name": "stdout",
     "output_type": "stream",
     "text": [
      "Epoch 966 | Train 0.6617 | Val 0.5667 | LR 0.000000\n"
     ]
    },
    {
     "name": "stderr",
     "output_type": "stream",
     "text": [
      "train 967: 100%|██████████| 58/58 [01:08<00:00,  1.17s/it, av_loss=0.663]\n",
      "val 967: 100%|██████████| 4/4 [00:07<00:00,  1.89s/it, av_loss=0.567]\n"
     ]
    },
    {
     "name": "stdout",
     "output_type": "stream",
     "text": [
      "Epoch 967 | Train 0.6626 | Val 0.5668 | LR 0.000000\n"
     ]
    },
    {
     "name": "stderr",
     "output_type": "stream",
     "text": [
      "train 968: 100%|██████████| 58/58 [01:05<00:00,  1.14s/it, av_loss=0.661]\n",
      "val 968: 100%|██████████| 4/4 [00:07<00:00,  1.80s/it, av_loss=0.565]\n"
     ]
    },
    {
     "name": "stdout",
     "output_type": "stream",
     "text": [
      "Epoch 968 | Train 0.6612 | Val 0.5654 | LR 0.000000\n"
     ]
    },
    {
     "name": "stderr",
     "output_type": "stream",
     "text": [
      "train 969: 100%|██████████| 58/58 [01:06<00:00,  1.15s/it, av_loss=0.661]\n",
      "val 969: 100%|██████████| 4/4 [00:07<00:00,  1.90s/it, av_loss=0.566]\n"
     ]
    },
    {
     "name": "stdout",
     "output_type": "stream",
     "text": [
      "Epoch 969 | Train 0.6613 | Val 0.5659 | LR 0.000000\n"
     ]
    },
    {
     "name": "stderr",
     "output_type": "stream",
     "text": [
      "train 970: 100%|██████████| 58/58 [01:08<00:00,  1.17s/it, av_loss=0.661]\n",
      "val 970: 100%|██████████| 4/4 [00:07<00:00,  1.89s/it, av_loss=0.566]\n"
     ]
    },
    {
     "name": "stdout",
     "output_type": "stream",
     "text": [
      "Epoch 970 | Train 0.6611 | Val 0.5661 | LR 0.000000\n"
     ]
    },
    {
     "name": "stderr",
     "output_type": "stream",
     "text": [
      "train 971: 100%|██████████| 58/58 [01:06<00:00,  1.15s/it, av_loss=0.661]\n",
      "val 971: 100%|██████████| 4/4 [00:07<00:00,  1.87s/it, av_loss=0.567]\n"
     ]
    },
    {
     "name": "stdout",
     "output_type": "stream",
     "text": [
      "Epoch 971 | Train 0.6614 | Val 0.5667 | LR 0.000000\n"
     ]
    },
    {
     "name": "stderr",
     "output_type": "stream",
     "text": [
      "train 972: 100%|██████████| 58/58 [01:07<00:00,  1.16s/it, av_loss=0.661]\n",
      "val 972: 100%|██████████| 4/4 [00:07<00:00,  1.88s/it, av_loss=0.568]\n"
     ]
    },
    {
     "name": "stdout",
     "output_type": "stream",
     "text": [
      "Epoch 972 | Train 0.6610 | Val 0.5683 | LR 0.000000\n"
     ]
    },
    {
     "name": "stderr",
     "output_type": "stream",
     "text": [
      "train 973: 100%|██████████| 58/58 [01:07<00:00,  1.16s/it, av_loss=0.662]\n",
      "val 973: 100%|██████████| 4/4 [00:07<00:00,  1.79s/it, av_loss=0.567]\n"
     ]
    },
    {
     "name": "stdout",
     "output_type": "stream",
     "text": [
      "Epoch 973 | Train 0.6616 | Val 0.5665 | LR 0.000000\n"
     ]
    },
    {
     "name": "stderr",
     "output_type": "stream",
     "text": [
      "train 974: 100%|██████████| 58/58 [01:05<00:00,  1.14s/it, av_loss=0.663]\n",
      "val 974: 100%|██████████| 4/4 [00:07<00:00,  1.84s/it, av_loss=0.568]\n"
     ]
    },
    {
     "name": "stdout",
     "output_type": "stream",
     "text": [
      "Epoch 974 | Train 0.6629 | Val 0.5677 | LR 0.000000\n"
     ]
    },
    {
     "name": "stderr",
     "output_type": "stream",
     "text": [
      "train 975: 100%|██████████| 58/58 [01:07<00:00,  1.16s/it, av_loss=0.662]\n",
      "val 975: 100%|██████████| 4/4 [00:07<00:00,  1.92s/it, av_loss=0.567]\n"
     ]
    },
    {
     "name": "stdout",
     "output_type": "stream",
     "text": [
      "Epoch 975 | Train 0.6616 | Val 0.5669 | LR 0.000000\n"
     ]
    },
    {
     "name": "stderr",
     "output_type": "stream",
     "text": [
      "train 976: 100%|██████████| 58/58 [01:07<00:00,  1.16s/it, av_loss=0.663]\n",
      "val 976: 100%|██████████| 4/4 [00:07<00:00,  1.87s/it, av_loss=0.567]\n"
     ]
    },
    {
     "name": "stdout",
     "output_type": "stream",
     "text": [
      "Epoch 976 | Train 0.6631 | Val 0.5670 | LR 0.000000\n"
     ]
    },
    {
     "name": "stderr",
     "output_type": "stream",
     "text": [
      "train 977: 100%|██████████| 58/58 [01:06<00:00,  1.15s/it, av_loss=0.662]\n",
      "val 977: 100%|██████████| 4/4 [00:07<00:00,  1.84s/it, av_loss=0.567]\n"
     ]
    },
    {
     "name": "stdout",
     "output_type": "stream",
     "text": [
      "Epoch 977 | Train 0.6623 | Val 0.5672 | LR 0.000000\n"
     ]
    },
    {
     "name": "stderr",
     "output_type": "stream",
     "text": [
      "train 978: 100%|██████████| 58/58 [01:06<00:00,  1.15s/it, av_loss=0.663]\n",
      "val 978: 100%|██████████| 4/4 [00:07<00:00,  1.84s/it, av_loss=0.568]\n"
     ]
    },
    {
     "name": "stdout",
     "output_type": "stream",
     "text": [
      "Epoch 978 | Train 0.6630 | Val 0.5678 | LR 0.000000\n"
     ]
    },
    {
     "name": "stderr",
     "output_type": "stream",
     "text": [
      "train 979: 100%|██████████| 58/58 [01:08<00:00,  1.17s/it, av_loss=0.662]\n",
      "val 979: 100%|██████████| 4/4 [00:07<00:00,  1.84s/it, av_loss=0.567]\n"
     ]
    },
    {
     "name": "stdout",
     "output_type": "stream",
     "text": [
      "Epoch 979 | Train 0.6624 | Val 0.5669 | LR 0.000000\n"
     ]
    },
    {
     "name": "stderr",
     "output_type": "stream",
     "text": [
      "train 980: 100%|██████████| 58/58 [01:06<00:00,  1.15s/it, av_loss=0.661]\n",
      "val 980: 100%|██████████| 4/4 [00:07<00:00,  1.83s/it, av_loss=0.566]\n"
     ]
    },
    {
     "name": "stdout",
     "output_type": "stream",
     "text": [
      "Epoch 980 | Train 0.6612 | Val 0.5662 | LR 0.000000\n"
     ]
    },
    {
     "name": "stderr",
     "output_type": "stream",
     "text": [
      "train 981: 100%|██████████| 58/58 [01:09<00:00,  1.19s/it, av_loss=0.662]\n",
      "val 981: 100%|██████████| 4/4 [00:07<00:00,  1.88s/it, av_loss=0.566]\n"
     ]
    },
    {
     "name": "stdout",
     "output_type": "stream",
     "text": [
      "Epoch 981 | Train 0.6624 | Val 0.5665 | LR 0.000000\n"
     ]
    },
    {
     "name": "stderr",
     "output_type": "stream",
     "text": [
      "train 982: 100%|██████████| 58/58 [01:08<00:00,  1.18s/it, av_loss=0.662]\n",
      "val 982: 100%|██████████| 4/4 [00:07<00:00,  1.92s/it, av_loss=0.567]\n"
     ]
    },
    {
     "name": "stdout",
     "output_type": "stream",
     "text": [
      "Epoch 982 | Train 0.6618 | Val 0.5665 | LR 0.000000\n"
     ]
    },
    {
     "name": "stderr",
     "output_type": "stream",
     "text": [
      "train 983: 100%|██████████| 58/58 [01:07<00:00,  1.17s/it, av_loss=0.662]\n",
      "val 983: 100%|██████████| 4/4 [00:07<00:00,  1.87s/it, av_loss=0.566]\n"
     ]
    },
    {
     "name": "stdout",
     "output_type": "stream",
     "text": [
      "Epoch 983 | Train 0.6620 | Val 0.5655 | LR 0.000000\n"
     ]
    },
    {
     "name": "stderr",
     "output_type": "stream",
     "text": [
      "train 984: 100%|██████████| 58/58 [01:07<00:00,  1.16s/it, av_loss=0.662]\n",
      "val 984: 100%|██████████| 4/4 [00:07<00:00,  1.83s/it, av_loss=0.567]\n"
     ]
    },
    {
     "name": "stdout",
     "output_type": "stream",
     "text": [
      "Epoch 984 | Train 0.6619 | Val 0.5672 | LR 0.000000\n"
     ]
    },
    {
     "name": "stderr",
     "output_type": "stream",
     "text": [
      "train 985: 100%|██████████| 58/58 [01:08<00:00,  1.18s/it, av_loss=0.662]\n",
      "val 985: 100%|██████████| 4/4 [00:07<00:00,  1.86s/it, av_loss=0.567]\n"
     ]
    },
    {
     "name": "stdout",
     "output_type": "stream",
     "text": [
      "Epoch 985 | Train 0.6624 | Val 0.5669 | LR 0.000000\n"
     ]
    },
    {
     "name": "stderr",
     "output_type": "stream",
     "text": [
      "train 986: 100%|██████████| 58/58 [01:08<00:00,  1.17s/it, av_loss=0.663]\n",
      "val 986: 100%|██████████| 4/4 [00:07<00:00,  1.95s/it, av_loss=0.566]\n"
     ]
    },
    {
     "name": "stdout",
     "output_type": "stream",
     "text": [
      "Epoch 986 | Train 0.6628 | Val 0.5663 | LR 0.000000\n"
     ]
    },
    {
     "name": "stderr",
     "output_type": "stream",
     "text": [
      "train 987: 100%|██████████| 58/58 [01:08<00:00,  1.18s/it, av_loss=0.662]\n",
      "val 987: 100%|██████████| 4/4 [00:07<00:00,  1.83s/it, av_loss=0.566]\n"
     ]
    },
    {
     "name": "stdout",
     "output_type": "stream",
     "text": [
      "Epoch 987 | Train 0.6624 | Val 0.5662 | LR 0.000000\n"
     ]
    },
    {
     "name": "stderr",
     "output_type": "stream",
     "text": [
      "train 988: 100%|██████████| 58/58 [01:07<00:00,  1.16s/it, av_loss=0.662]\n",
      "val 988: 100%|██████████| 4/4 [00:07<00:00,  1.89s/it, av_loss=0.567]\n"
     ]
    },
    {
     "name": "stdout",
     "output_type": "stream",
     "text": [
      "Epoch 988 | Train 0.6622 | Val 0.5668 | LR 0.000000\n"
     ]
    },
    {
     "name": "stderr",
     "output_type": "stream",
     "text": [
      "train 989: 100%|██████████| 58/58 [01:08<00:00,  1.18s/it, av_loss=0.662]\n",
      "val 989: 100%|██████████| 4/4 [00:07<00:00,  1.89s/it, av_loss=0.567]\n"
     ]
    },
    {
     "name": "stdout",
     "output_type": "stream",
     "text": [
      "Epoch 989 | Train 0.6622 | Val 0.5667 | LR 0.000000\n"
     ]
    },
    {
     "name": "stderr",
     "output_type": "stream",
     "text": [
      "train 990: 100%|██████████| 58/58 [01:07<00:00,  1.16s/it, av_loss=0.662]\n",
      "val 990: 100%|██████████| 4/4 [00:07<00:00,  1.82s/it, av_loss=0.567]\n"
     ]
    },
    {
     "name": "stdout",
     "output_type": "stream",
     "text": [
      "Epoch 990 | Train 0.6618 | Val 0.5667 | LR 0.000000\n"
     ]
    },
    {
     "name": "stderr",
     "output_type": "stream",
     "text": [
      "train 991: 100%|██████████| 58/58 [01:07<00:00,  1.17s/it, av_loss=0.662]\n",
      "val 991: 100%|██████████| 4/4 [00:07<00:00,  1.88s/it, av_loss=0.567]\n"
     ]
    },
    {
     "name": "stdout",
     "output_type": "stream",
     "text": [
      "Epoch 991 | Train 0.6617 | Val 0.5668 | LR 0.000000\n"
     ]
    },
    {
     "name": "stderr",
     "output_type": "stream",
     "text": [
      "train 992: 100%|██████████| 58/58 [01:07<00:00,  1.17s/it, av_loss=0.663]\n",
      "val 992: 100%|██████████| 4/4 [00:07<00:00,  1.90s/it, av_loss=0.568]\n"
     ]
    },
    {
     "name": "stdout",
     "output_type": "stream",
     "text": [
      "Epoch 992 | Train 0.6625 | Val 0.5683 | LR 0.000000\n"
     ]
    },
    {
     "name": "stderr",
     "output_type": "stream",
     "text": [
      "train 993: 100%|██████████| 58/58 [01:08<00:00,  1.17s/it, av_loss=0.662]\n",
      "val 993: 100%|██████████| 4/4 [00:07<00:00,  1.82s/it, av_loss=0.567]\n"
     ]
    },
    {
     "name": "stdout",
     "output_type": "stream",
     "text": [
      "Epoch 993 | Train 0.6624 | Val 0.5671 | LR 0.000000\n"
     ]
    },
    {
     "name": "stderr",
     "output_type": "stream",
     "text": [
      "train 994: 100%|██████████| 58/58 [01:06<00:00,  1.15s/it, av_loss=0.663]\n",
      "val 994: 100%|██████████| 4/4 [00:07<00:00,  1.86s/it, av_loss=0.567]\n"
     ]
    },
    {
     "name": "stdout",
     "output_type": "stream",
     "text": [
      "Epoch 994 | Train 0.6631 | Val 0.5669 | LR 0.000000\n"
     ]
    },
    {
     "name": "stderr",
     "output_type": "stream",
     "text": [
      "train 995: 100%|██████████| 58/58 [01:07<00:00,  1.16s/it, av_loss=0.662]\n",
      "val 995: 100%|██████████| 4/4 [00:07<00:00,  1.89s/it, av_loss=0.567]\n"
     ]
    },
    {
     "name": "stdout",
     "output_type": "stream",
     "text": [
      "Epoch 995 | Train 0.6624 | Val 0.5670 | LR 0.000000\n"
     ]
    },
    {
     "name": "stderr",
     "output_type": "stream",
     "text": [
      "train 996: 100%|██████████| 58/58 [01:07<00:00,  1.17s/it, av_loss=0.661]\n",
      "val 996: 100%|██████████| 4/4 [00:07<00:00,  1.91s/it, av_loss=0.567]\n"
     ]
    },
    {
     "name": "stdout",
     "output_type": "stream",
     "text": [
      "Epoch 996 | Train 0.6612 | Val 0.5667 | LR 0.000000\n"
     ]
    },
    {
     "name": "stderr",
     "output_type": "stream",
     "text": [
      "train 997: 100%|██████████| 58/58 [01:07<00:00,  1.17s/it, av_loss=0.662]\n",
      "val 997: 100%|██████████| 4/4 [00:07<00:00,  1.86s/it, av_loss=0.567]\n"
     ]
    },
    {
     "name": "stdout",
     "output_type": "stream",
     "text": [
      "Epoch 997 | Train 0.6622 | Val 0.5670 | LR 0.000000\n"
     ]
    },
    {
     "name": "stderr",
     "output_type": "stream",
     "text": [
      "train 998: 100%|██████████| 58/58 [01:07<00:00,  1.16s/it, av_loss=0.663]\n",
      "val 998: 100%|██████████| 4/4 [00:07<00:00,  1.86s/it, av_loss=0.567]\n"
     ]
    },
    {
     "name": "stdout",
     "output_type": "stream",
     "text": [
      "Epoch 998 | Train 0.6629 | Val 0.5666 | LR 0.000000\n"
     ]
    },
    {
     "name": "stderr",
     "output_type": "stream",
     "text": [
      "train 999: 100%|██████████| 58/58 [01:07<00:00,  1.17s/it, av_loss=0.663]\n",
      "val 999: 100%|██████████| 4/4 [00:07<00:00,  1.89s/it, av_loss=0.565]"
     ]
    },
    {
     "name": "stdout",
     "output_type": "stream",
     "text": [
      "Epoch 999 | Train 0.6628 | Val 0.5653 | LR 0.000000\n"
     ]
    },
    {
     "name": "stderr",
     "output_type": "stream",
     "text": [
      "\n"
     ]
    }
   ],
   "source": [
    "for epoch in range(start_epoch, n_epochs):\n",
    "    t_start = time.time()\n",
    "\n",
    "    # ── TRAINING -----------------------------------------------------------\n",
    "    node_value_model.train()\n",
    "    sum_train_loss = torch.tensor(0.0, device=device)\n",
    "    n_train_batches = 0\n",
    "\n",
    "    t_batch_tqdm = tqdm.tqdm(\n",
    "        train_loader, \n",
    "        desc=f\"train {epoch}\" \n",
    "    )\n",
    "    for t_batch in t_batch_tqdm:\n",
    "        t_batch = move_to_device(t_batch, device)\n",
    "\n",
    "        optimizer.zero_grad()\n",
    "\n",
    "        model_out = node_value_model(*extract_input(t_batch, with_dice_scatter=with_dice_scatter))\n",
    "        outputs, targets = extract_output_target(t_batch, model_out)\n",
    "        loss = criterion(outputs, targets)\n",
    "        \n",
    "        loss.backward()\n",
    "        optimizer.step()\n",
    "    \n",
    "        if torch.isnan(loss) or torch.isinf(loss):\n",
    "            raise ValueError(f\"Loss contains NaN or Inf values\")\n",
    "        \n",
    "        sum_train_loss += loss.detach()\n",
    "        n_train_batches += 1\n",
    "        t_batch_tqdm.set_postfix(av_loss=sum_train_loss.item()/n_train_batches)\n",
    "        if (time.time() - t_start) > train_time_limit: \n",
    "            print(f\"Stopping training after >{train_time_limit} seconds.\")\n",
    "            break\n",
    "        \n",
    "    t_batch_tqdm.close()\n",
    "\n",
    "    avg_train_loss = sum_train_loss.item() / n_train_batches\n",
    "    t_train_done = time.time()\n",
    "\n",
    "    # ── VALIDATION ---------------------------------------------------------\n",
    "    node_value_model.eval()\n",
    "    sum_val_loss = 0.0\n",
    "    n_val_batches = 0\n",
    "    with torch.no_grad():\n",
    "        v_batch_tqdm = tqdm.tqdm(\n",
    "            val_loader, \n",
    "            desc=f\"val {epoch}\" \n",
    "        )\n",
    "        for v_batch in v_batch_tqdm:\n",
    "            v_batch = move_to_device(v_batch, device)\n",
    "\n",
    "            v_out = node_value_model(*extract_input(v_batch, with_dice_scatter=with_dice_scatter))\n",
    "            v_outputs, v_targets = extract_output_target(v_batch, v_out)\n",
    "            val_loss = criterion(v_outputs, v_targets)\n",
    "\n",
    "            if torch.isnan(val_loss) or torch.isinf(val_loss):\n",
    "                raise ValueError(f\"Loss contains NaN or Inf values\")\n",
    "            \n",
    "            sum_val_loss += val_loss\n",
    "            n_val_batches += 1\n",
    "            v_batch_tqdm.set_postfix(av_loss=sum_val_loss.item()/n_val_batches)\n",
    "            if (time.time() - t_train_done) > val_time_limit:\n",
    "                print(f\"Stopping validation after >{val_time_limit} seconds.\")\n",
    "                break\n",
    "\n",
    "        v_batch_tqdm.close()\n",
    "\n",
    "    avg_val_loss = sum_val_loss.item() / n_val_batches\n",
    "    t_val_done = time.time()\n",
    "\n",
    "    # Step the learning rate scheduler after each epoch\n",
    "    scheduler.step(avg_val_loss)\n",
    "\n",
    "    # ── CSV logging ---------------------------------------------------------\n",
    "    train_time = t_train_done - t_start\n",
    "    val_time   = t_val_done   - t_train_done\n",
    "    total_time = t_val_done   - t_start\n",
    "\n",
    "\n",
    "    checkpoint_data = {\n",
    "        \"epoch\": epoch,\n",
    "        \"optim_state\": optimizer.state_dict(),\n",
    "        \"model_state\": node_value_model.state_dict()\n",
    "    }\n",
    "    torch.save(checkpoint_data, os.path.join(models_dir, f\"{model_name}_{epoch:06}.pt\"))\n",
    "    \n",
    "    csv_writer.writerow([\n",
    "        epoch,\n",
    "        avg_train_loss,\n",
    "        avg_val_loss,\n",
    "        train_time,\n",
    "        val_time,\n",
    "        total_time\n",
    "    ])\n",
    "    csv_file.flush()  # ensure data is written even if run aborts\n",
    "\n",
    "    # ── console printout ----------------------------------------------------\n",
    "    print(\n",
    "        f\"Epoch {epoch} | \"\n",
    "        f\"Train {avg_train_loss:.4f} | \"\n",
    "        f\"Val {avg_val_loss:.4f} | \"\n",
    "        f\"LR {scheduler.get_last_lr()[0]:.6f}\"\n",
    "    )\n",
    "# ── tidy‑up ----------------------------------------------------------------\n",
    "csv_file.close()"
   ]
  },
  {
   "cell_type": "code",
   "execution_count": null,
   "id": "7bca4bed",
   "metadata": {},
   "outputs": [],
   "source": []
  },
  {
   "cell_type": "code",
   "execution_count": 15,
   "id": "1bcf5745",
   "metadata": {},
   "outputs": [
    {
     "data": {
      "text/plain": [
       "(tensor([[ 2.2256,  0.2028,  5.3070,  ...,  0.0000,  0.0162,  0.4127],\n",
       "         [ 1.8853, -0.0358,  0.3338,  ...,  1.9942,  0.0000,  1.9039],\n",
       "         [ 0.0000,  0.0000,  0.4560,  ...,  1.0192,  0.6509,  1.7127],\n",
       "         ...,\n",
       "         [ 3.7650,  0.0000, -0.1808,  ...,  5.6089,  3.4821,  0.4775],\n",
       "         [-0.6968, -0.1935,  1.1592,  ...,  0.0000,  0.2794,  2.3095],\n",
       "         [ 0.0000,  0.0000,  0.0000,  ...,  0.0000,  1.0781,  6.7716]],\n",
       "        device='cuda:0', grad_fn=<IndexPutBackward0>),\n",
       " tensor([2, 5, 3,  ..., 5, 7, 4], device='cuda:0'))"
      ]
     },
     "execution_count": 15,
     "metadata": {},
     "output_type": "execute_result"
    }
   ],
   "source": [
    "outputs, targets"
   ]
  },
  {
   "cell_type": "code",
   "execution_count": null,
   "id": "a47f5b7a",
   "metadata": {},
   "outputs": [],
   "source": []
  }
 ],
 "metadata": {
  "kernelspec": {
   "display_name": "venv",
   "language": "python",
   "name": "python3"
  },
  "language_info": {
   "codemirror_mode": {
    "name": "ipython",
    "version": 3
   },
   "file_extension": ".py",
   "mimetype": "text/x-python",
   "name": "python",
   "nbconvert_exporter": "python",
   "pygments_lexer": "ipython3",
   "version": "3.12.3"
  }
 },
 "nbformat": 4,
 "nbformat_minor": 5
}
