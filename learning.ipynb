{
 "cells": [
  {
   "cell_type": "code",
   "execution_count": 1,
   "id": "b276a13d",
   "metadata": {},
   "outputs": [],
   "source": [
    "# %matplotlib ipympl\n",
    "\n",
    "import os\n",
    "import glob\n",
    "import torch\n",
    "from torch import nn\n",
    "import networkx as nx\n",
    "from torch.utils.data import DataLoader, ConcatDataset, random_split\n",
    "import torch.optim as optim\n",
    "import tqdm\n",
    "import time\n",
    "import csv\n",
    "from learning.model.actionvalue import DWActionValueModel\n",
    "from learning.data.process_utils import move_to_device"
   ]
  },
  {
   "cell_type": "code",
   "execution_count": 2,
   "id": "2955fd39",
   "metadata": {},
   "outputs": [],
   "source": [
    "from learning.data.av_utils import (\n",
    "    extract_input, extract_output_target, collate_av_data\n",
    ")\n",
    "from learning.data.av_dataset import ActionValueDataset"
   ]
  },
  {
   "cell_type": "code",
   "execution_count": null,
   "id": "bd2e412c",
   "metadata": {},
   "outputs": [],
   "source": []
  },
  {
   "cell_type": "code",
   "execution_count": 3,
   "id": "8cb39e0a",
   "metadata": {},
   "outputs": [],
   "source": [
    "history_folder = \"server/history/\"\n",
    "history_files = sorted(glob.glob(os.path.join(history_folder, \"history_*.json\")))\n",
    "\n",
    "datasets = [ActionValueDataset(f) for f in history_files]\n",
    "concatenated_dataset = ConcatDataset(datasets)"
   ]
  },
  {
   "cell_type": "code",
   "execution_count": 4,
   "id": "43efe07e",
   "metadata": {},
   "outputs": [
    {
     "name": "stdout",
     "output_type": "stream",
     "text": [
      "train_ds 146700\n",
      "val_ds 18337\n",
      "test_ds 18337\n"
     ]
    }
   ],
   "source": [
    "train_ds, val_ds, test_ds = random_split(\n",
    "    concatenated_dataset,\n",
    "    [0.8, 0.1, 0.1],\n",
    ")\n",
    "\n",
    "# Set a fixed seed for reproducibility\n",
    "seed = 42\n",
    "torch.manual_seed(seed)\n",
    "generator = torch.Generator().manual_seed(seed)\n",
    "\n",
    "train_loader = DataLoader(train_ds, 575, pin_memory=True, shuffle=True, \n",
    "                         collate_fn=collate_av_data, generator=generator)\n",
    "val_loader = DataLoader(val_ds, 1000, pin_memory=True, shuffle=True, \n",
    "                       collate_fn=collate_av_data, generator=generator)\n",
    "\n",
    "print(\"train_ds\", len(train_ds))\n",
    "print(\"val_ds\", len(val_ds))\n",
    "print(\"test_ds\", len(test_ds))"
   ]
  },
  {
   "cell_type": "code",
   "execution_count": null,
   "id": "7f61d1ca",
   "metadata": {},
   "outputs": [],
   "source": []
  },
  {
   "cell_type": "code",
   "execution_count": 5,
   "id": "6a966078",
   "metadata": {},
   "outputs": [
    {
     "name": "stdout",
     "output_type": "stream",
     "text": [
      "No valid checkpoint files found\n"
     ]
    }
   ],
   "source": [
    "model_state = None\n",
    "scheduler_state = None\n",
    "optim_state = None\n",
    "latest_epoch = 0\n",
    "\n",
    "models_dir = \"learning/model_checkpoints\" \n",
    "model_name = \"actionvalue\"\n",
    "\n",
    "# Find the latest checkpoint file (with highest epoch number)\n",
    "checkpoint_files = glob.glob(os.path.join(models_dir, f\"{model_name}_*.pt\"))\n",
    "if checkpoint_files:\n",
    "    # Extract epoch numbers from filenames\n",
    "    epoch_nums = [int(f.split(\"_\")[-1].split(\".\")[0]) for f in checkpoint_files]\n",
    "    latest_epoch = max(epoch_nums)\n",
    "    latest_checkpoint = os.path.join(models_dir, f\"{model_name}_{latest_epoch}.pt\")\n",
    "    print(f\"Loading latest checkpoint: {latest_checkpoint} (epoch {latest_epoch})\")\n",
    "    checkpoint = torch.load(latest_checkpoint)\n",
    "    model_state = checkpoint[\"model_state\"]\n",
    "    optim_state = checkpoint[\"optim_state\"]\n",
    "\n",
    "    # Load scheduler state if it exists in the checkpoint\n",
    "    if \"scheduler_state\" in checkpoint:\n",
    "        scheduler_state = checkpoint[\"scheduler_state\"]\n",
    "else:\n",
    "    print(\"No valid checkpoint files found\")"
   ]
  },
  {
   "cell_type": "code",
   "execution_count": 6,
   "id": "de5de2cb",
   "metadata": {},
   "outputs": [
    {
     "name": "stdout",
     "output_type": "stream",
     "text": [
      "Model created. Total trainable parameters: 277\n"
     ]
    }
   ],
   "source": [
    "action_value_model = DWActionValueModel()\n",
    "num_params = sum(p.numel() for p in action_value_model.parameters() if p.requires_grad)\n",
    "print(f\"Model created. Total trainable parameters: {num_params:,}\")"
   ]
  },
  {
   "cell_type": "code",
   "execution_count": null,
   "id": "6d5403d4",
   "metadata": {},
   "outputs": [],
   "source": [
    "init_from_old_model = False\n",
    "\n",
    "if init_from_old_model:\n",
    "    checkpoint = torch.load(\n",
    "        \"learning/old_models/stateflow_winner_action.pt\",\n",
    "        map_location=torch.device('cpu')\n",
    "    )\n",
    "    model_state = checkpoint[\"model_state\"]\n",
    "\n",
    "    # update old model state to match the new one\n",
    "    mismatch = action_value_model.load_state_dict(model_state, strict=False)\n",
    "    model_state = action_value_model.state_dict()\n",
    "\n",
    "    missing_keys, unexpected_keys = mismatch\n",
    "\n",
    "    for mk in missing_keys:\n",
    "        print(\"missing key\", mk)\n",
    "\n",
    "    for uk in unexpected_keys:\n",
    "        print(\"unexpected key\", uk)"
   ]
  },
  {
   "cell_type": "code",
   "execution_count": null,
   "id": "7de32bee",
   "metadata": {},
   "outputs": [
    {
     "name": "stdout",
     "output_type": "stream",
     "text": [
      "missing key attack_value_fn.edge_value_fn.weight\n",
      "missing key attack_value_fn.edge_value_fn.bias\n",
      "missing key end_turn_value_fn.attention_coef_fn.transform_fn.weight\n",
      "missing key end_turn_value_fn.summary_fn.weight\n",
      "missing key end_turn_value_fn.summary_fn.bias\n",
      "unexpected key winner_logit_fn.attention_coef_fn.transform_fn.weight\n",
      "unexpected key winner_logit_fn.summary_fn.weight\n",
      "unexpected key winner_logit_fn.summary_fn.bias\n",
      "unexpected key attack_logit_fn.edge_value_fn.weight\n",
      "unexpected key attack_logit_fn.edge_value_fn.bias\n",
      "unexpected key end_turn_logit_fn.attention_coef_fn.transform_fn.weight\n",
      "unexpected key end_turn_logit_fn.summary_fn.weight\n",
      "unexpected key end_turn_logit_fn.summary_fn.bias\n"
     ]
    }
   ],
   "source": []
  },
  {
   "cell_type": "code",
   "execution_count": 9,
   "id": "78e1d6c5",
   "metadata": {},
   "outputs": [],
   "source": [
    "if model_state is not None:\n",
    "    action_value_model.load_state_dict(model_state)"
   ]
  },
  {
   "cell_type": "code",
   "execution_count": null,
   "id": "5fed280a",
   "metadata": {},
   "outputs": [],
   "source": []
  },
  {
   "cell_type": "code",
   "execution_count": 10,
   "id": "77b8afa8",
   "metadata": {},
   "outputs": [
    {
     "name": "stdout",
     "output_type": "stream",
     "text": [
      "No scheduler state found in checkpoint, stepping scheduler to epoch 0\n"
     ]
    }
   ],
   "source": [
    "# ── CSV set‑up: log one row per epoch ───────────────────────────────────────\n",
    "csv_path = f\"{model_name}_epoch_metrics.csv\"\n",
    "epoch_log_file_exists = os.path.isfile(csv_path)\n",
    "if epoch_log_file_exists and os.path.getsize(csv_path) == 0:\n",
    "    os.remove(csv_path)\n",
    "    epoch_log_file_exists = False\n",
    "\n",
    "csv_file = open(csv_path, \"a\", newline=\"\")  # Open in append mode\n",
    "csv_writer = csv.writer(csv_file)\n",
    "\n",
    "# Only write header if file doesn't exist yet\n",
    "if not epoch_log_file_exists:\n",
    "    csv_writer.writerow([\n",
    "        \"epoch\",           # 0‑based epoch index\n",
    "        \"train_loss\",      # average training loss for the epoch\n",
    "        \"val_loss\",        # average validation loss for the epoch\n",
    "        \"train_time_sec\",  # seconds spent in training phase\n",
    "        \"val_time_sec\",    # seconds spent in validation phase\n",
    "        \"total_time_sec\"   # train + val\n",
    "    ])\n",
    "\n",
    "# ── model / optimiser prep ─────────────────────────────────────────────────\n",
    "\n",
    "n_epochs   = 1000\n",
    "device     = torch.device(\"cuda\", 0)\n",
    "train_time_limit = 10 * 60\n",
    "val_time_limit = train_time_limit / 5\n",
    "criterion  = nn.MSELoss()\n",
    "\n",
    "parameters = action_value_model.parameters()\n",
    "\n",
    "optimizer  = torch.optim.Adam(parameters, lr=3e-2)\n",
    "if optim_state is not None:\n",
    "    optimizer.load_state_dict(optim_state)\n",
    "\n",
    "scheduler  = torch.optim.lr_scheduler.StepLR(optimizer, step_size=30, gamma=0.9)\n",
    "\n",
    "if scheduler_state is not None:\n",
    "    scheduler.load_state_dict(scheduler_state)\n",
    "else:\n",
    "    # If no scheduler state in checkpoint, step it to match the epoch\n",
    "    print(f\"No scheduler state found in checkpoint, stepping scheduler to epoch {latest_epoch}\")\n",
    "    for _ in range(latest_epoch):\n",
    "        scheduler.step()\n",
    "\n",
    "action_value_model = action_value_model.to(device)"
   ]
  },
  {
   "cell_type": "code",
   "execution_count": 11,
   "id": "ea054f68",
   "metadata": {},
   "outputs": [
    {
     "name": "stderr",
     "output_type": "stream",
     "text": [
      "init‑train:   0%|          | 0/256 [00:00<?, ?it/s]\n"
     ]
    },
    {
     "ename": "AttributeError",
     "evalue": "'ActionValueDataset' object has no attribute 'active_players'",
     "output_type": "error",
     "traceback": [
      "\u001b[31m---------------------------------------------------------------------------\u001b[39m",
      "\u001b[31mAttributeError\u001b[39m                            Traceback (most recent call last)",
      "\u001b[36mCell\u001b[39m\u001b[36m \u001b[39m\u001b[32mIn[11]\u001b[39m\u001b[32m, line 9\u001b[39m\n\u001b[32m      7\u001b[39m \u001b[38;5;66;03m# avg loss on training set *without* gradient tracking\u001b[39;00m\n\u001b[32m      8\u001b[39m init_train_sum, init_train_batches = \u001b[32m0.0\u001b[39m, \u001b[32m0\u001b[39m\n\u001b[32m----> \u001b[39m\u001b[32m9\u001b[39m \u001b[43m\u001b[49m\u001b[38;5;28;43;01mfor\u001b[39;49;00m\u001b[43m \u001b[49m\u001b[43mb\u001b[49m\u001b[43m \u001b[49m\u001b[38;5;129;43;01min\u001b[39;49;00m\u001b[43m \u001b[49m\u001b[43mtqdm\u001b[49m\u001b[43m.\u001b[49m\u001b[43mtqdm\u001b[49m\u001b[43m(\u001b[49m\u001b[43mtrain_loader\u001b[49m\u001b[43m,\u001b[49m\u001b[43m \u001b[49m\u001b[43mdesc\u001b[49m\u001b[43m=\u001b[49m\u001b[33;43m\"\u001b[39;49m\u001b[33;43minit‑train\u001b[39;49m\u001b[33;43m\"\u001b[39;49m\u001b[43m)\u001b[49m\u001b[43m:\u001b[49m\n\u001b[32m     10\u001b[39m \u001b[43m    \u001b[49m\u001b[43mb\u001b[49m\u001b[43m \u001b[49m\u001b[43m=\u001b[49m\u001b[43m \u001b[49m\u001b[43mmove_to_device\u001b[49m\u001b[43m(\u001b[49m\u001b[43mb\u001b[49m\u001b[43m,\u001b[49m\u001b[43m \u001b[49m\u001b[43mdevice\u001b[49m\u001b[43m)\u001b[49m\n\u001b[32m     11\u001b[39m \u001b[43m    \u001b[49m\u001b[43mout\u001b[49m\u001b[43m \u001b[49m\u001b[43m=\u001b[49m\u001b[43m \u001b[49m\u001b[43maction_value_model\u001b[49m\u001b[43m(\u001b[49m\u001b[43m*\u001b[49m\u001b[43mextract_input\u001b[49m\u001b[43m(\u001b[49m\u001b[43mb\u001b[49m\u001b[43m)\u001b[49m\u001b[43m)\u001b[49m\n",
      "\u001b[36mFile \u001b[39m\u001b[32m~/Programming/dicewar_learning/venv/lib/python3.12/site-packages/tqdm/std.py:1181\u001b[39m, in \u001b[36mtqdm.__iter__\u001b[39m\u001b[34m(self)\u001b[39m\n\u001b[32m   1178\u001b[39m time = \u001b[38;5;28mself\u001b[39m._time\n\u001b[32m   1180\u001b[39m \u001b[38;5;28;01mtry\u001b[39;00m:\n\u001b[32m-> \u001b[39m\u001b[32m1181\u001b[39m \u001b[43m    \u001b[49m\u001b[38;5;28;43;01mfor\u001b[39;49;00m\u001b[43m \u001b[49m\u001b[43mobj\u001b[49m\u001b[43m \u001b[49m\u001b[38;5;129;43;01min\u001b[39;49;00m\u001b[43m \u001b[49m\u001b[43miterable\u001b[49m\u001b[43m:\u001b[49m\n\u001b[32m   1182\u001b[39m \u001b[43m        \u001b[49m\u001b[38;5;28;43;01myield\u001b[39;49;00m\u001b[43m \u001b[49m\u001b[43mobj\u001b[49m\n\u001b[32m   1183\u001b[39m \u001b[43m        \u001b[49m\u001b[38;5;66;43;03m# Update and possibly print the progressbar.\u001b[39;49;00m\n\u001b[32m   1184\u001b[39m \u001b[43m        \u001b[49m\u001b[38;5;66;43;03m# Note: does not call self.update(1) for speed optimisation.\u001b[39;49;00m\n",
      "\u001b[36mFile \u001b[39m\u001b[32m~/Programming/dicewar_learning/venv/lib/python3.12/site-packages/torch/utils/data/dataloader.py:734\u001b[39m, in \u001b[36m_BaseDataLoaderIter.__next__\u001b[39m\u001b[34m(self)\u001b[39m\n\u001b[32m    731\u001b[39m \u001b[38;5;28;01mif\u001b[39;00m \u001b[38;5;28mself\u001b[39m._sampler_iter \u001b[38;5;129;01mis\u001b[39;00m \u001b[38;5;28;01mNone\u001b[39;00m:\n\u001b[32m    732\u001b[39m     \u001b[38;5;66;03m# TODO(https://github.com/pytorch/pytorch/issues/76750)\u001b[39;00m\n\u001b[32m    733\u001b[39m     \u001b[38;5;28mself\u001b[39m._reset()  \u001b[38;5;66;03m# type: ignore[call-arg]\u001b[39;00m\n\u001b[32m--> \u001b[39m\u001b[32m734\u001b[39m data = \u001b[38;5;28;43mself\u001b[39;49m\u001b[43m.\u001b[49m\u001b[43m_next_data\u001b[49m\u001b[43m(\u001b[49m\u001b[43m)\u001b[49m\n\u001b[32m    735\u001b[39m \u001b[38;5;28mself\u001b[39m._num_yielded += \u001b[32m1\u001b[39m\n\u001b[32m    736\u001b[39m \u001b[38;5;28;01mif\u001b[39;00m (\n\u001b[32m    737\u001b[39m     \u001b[38;5;28mself\u001b[39m._dataset_kind == _DatasetKind.Iterable\n\u001b[32m    738\u001b[39m     \u001b[38;5;129;01mand\u001b[39;00m \u001b[38;5;28mself\u001b[39m._IterableDataset_len_called \u001b[38;5;129;01mis\u001b[39;00m \u001b[38;5;129;01mnot\u001b[39;00m \u001b[38;5;28;01mNone\u001b[39;00m\n\u001b[32m    739\u001b[39m     \u001b[38;5;129;01mand\u001b[39;00m \u001b[38;5;28mself\u001b[39m._num_yielded > \u001b[38;5;28mself\u001b[39m._IterableDataset_len_called\n\u001b[32m    740\u001b[39m ):\n",
      "\u001b[36mFile \u001b[39m\u001b[32m~/Programming/dicewar_learning/venv/lib/python3.12/site-packages/torch/utils/data/dataloader.py:790\u001b[39m, in \u001b[36m_SingleProcessDataLoaderIter._next_data\u001b[39m\u001b[34m(self)\u001b[39m\n\u001b[32m    788\u001b[39m \u001b[38;5;28;01mdef\u001b[39;00m\u001b[38;5;250m \u001b[39m\u001b[34m_next_data\u001b[39m(\u001b[38;5;28mself\u001b[39m):\n\u001b[32m    789\u001b[39m     index = \u001b[38;5;28mself\u001b[39m._next_index()  \u001b[38;5;66;03m# may raise StopIteration\u001b[39;00m\n\u001b[32m--> \u001b[39m\u001b[32m790\u001b[39m     data = \u001b[38;5;28;43mself\u001b[39;49m\u001b[43m.\u001b[49m\u001b[43m_dataset_fetcher\u001b[49m\u001b[43m.\u001b[49m\u001b[43mfetch\u001b[49m\u001b[43m(\u001b[49m\u001b[43mindex\u001b[49m\u001b[43m)\u001b[49m  \u001b[38;5;66;03m# may raise StopIteration\u001b[39;00m\n\u001b[32m    791\u001b[39m     \u001b[38;5;28;01mif\u001b[39;00m \u001b[38;5;28mself\u001b[39m._pin_memory:\n\u001b[32m    792\u001b[39m         data = _utils.pin_memory.pin_memory(data, \u001b[38;5;28mself\u001b[39m._pin_memory_device)\n",
      "\u001b[36mFile \u001b[39m\u001b[32m~/Programming/dicewar_learning/venv/lib/python3.12/site-packages/torch/utils/data/_utils/fetch.py:50\u001b[39m, in \u001b[36m_MapDatasetFetcher.fetch\u001b[39m\u001b[34m(self, possibly_batched_index)\u001b[39m\n\u001b[32m     48\u001b[39m \u001b[38;5;28;01mif\u001b[39;00m \u001b[38;5;28mself\u001b[39m.auto_collation:\n\u001b[32m     49\u001b[39m     \u001b[38;5;28;01mif\u001b[39;00m \u001b[38;5;28mhasattr\u001b[39m(\u001b[38;5;28mself\u001b[39m.dataset, \u001b[33m\"\u001b[39m\u001b[33m__getitems__\u001b[39m\u001b[33m\"\u001b[39m) \u001b[38;5;129;01mand\u001b[39;00m \u001b[38;5;28mself\u001b[39m.dataset.__getitems__:\n\u001b[32m---> \u001b[39m\u001b[32m50\u001b[39m         data = \u001b[38;5;28;43mself\u001b[39;49m\u001b[43m.\u001b[49m\u001b[43mdataset\u001b[49m\u001b[43m.\u001b[49m\u001b[43m__getitems__\u001b[49m\u001b[43m(\u001b[49m\u001b[43mpossibly_batched_index\u001b[49m\u001b[43m)\u001b[49m\n\u001b[32m     51\u001b[39m     \u001b[38;5;28;01melse\u001b[39;00m:\n\u001b[32m     52\u001b[39m         data = [\u001b[38;5;28mself\u001b[39m.dataset[idx] \u001b[38;5;28;01mfor\u001b[39;00m idx \u001b[38;5;129;01min\u001b[39;00m possibly_batched_index]\n",
      "\u001b[36mFile \u001b[39m\u001b[32m~/Programming/dicewar_learning/venv/lib/python3.12/site-packages/torch/utils/data/dataset.py:416\u001b[39m, in \u001b[36mSubset.__getitems__\u001b[39m\u001b[34m(self, indices)\u001b[39m\n\u001b[32m    414\u001b[39m     \u001b[38;5;28;01mreturn\u001b[39;00m \u001b[38;5;28mself\u001b[39m.dataset.__getitems__([\u001b[38;5;28mself\u001b[39m.indices[idx] \u001b[38;5;28;01mfor\u001b[39;00m idx \u001b[38;5;129;01min\u001b[39;00m indices])  \u001b[38;5;66;03m# type: ignore[attr-defined]\u001b[39;00m\n\u001b[32m    415\u001b[39m \u001b[38;5;28;01melse\u001b[39;00m:\n\u001b[32m--> \u001b[39m\u001b[32m416\u001b[39m     \u001b[38;5;28;01mreturn\u001b[39;00m [\u001b[38;5;28;43mself\u001b[39;49m\u001b[43m.\u001b[49m\u001b[43mdataset\u001b[49m\u001b[43m[\u001b[49m\u001b[38;5;28;43mself\u001b[39;49m\u001b[43m.\u001b[49m\u001b[43mindices\u001b[49m\u001b[43m[\u001b[49m\u001b[43midx\u001b[49m\u001b[43m]\u001b[49m\u001b[43m]\u001b[49m \u001b[38;5;28;01mfor\u001b[39;00m idx \u001b[38;5;129;01min\u001b[39;00m indices]\n",
      "\u001b[36mFile \u001b[39m\u001b[32m~/Programming/dicewar_learning/venv/lib/python3.12/site-packages/torch/utils/data/dataset.py:346\u001b[39m, in \u001b[36mConcatDataset.__getitem__\u001b[39m\u001b[34m(self, idx)\u001b[39m\n\u001b[32m    344\u001b[39m \u001b[38;5;28;01melse\u001b[39;00m:\n\u001b[32m    345\u001b[39m     sample_idx = idx - \u001b[38;5;28mself\u001b[39m.cumulative_sizes[dataset_idx - \u001b[32m1\u001b[39m]\n\u001b[32m--> \u001b[39m\u001b[32m346\u001b[39m \u001b[38;5;28;01mreturn\u001b[39;00m \u001b[38;5;28;43mself\u001b[39;49m\u001b[43m.\u001b[49m\u001b[43mdatasets\u001b[49m\u001b[43m[\u001b[49m\u001b[43mdataset_idx\u001b[49m\u001b[43m]\u001b[49m\u001b[43m[\u001b[49m\u001b[43msample_idx\u001b[49m\u001b[43m]\u001b[49m\n",
      "\u001b[36mFile \u001b[39m\u001b[32m~/Programming/dicewar_learning/learning/data/av_dataset.py:25\u001b[39m, in \u001b[36mActionValueDataset.__getitem__\u001b[39m\u001b[34m(self, index)\u001b[39m\n\u001b[32m     22\u001b[39m \u001b[38;5;28;01mdef\u001b[39;00m\u001b[38;5;250m \u001b[39m\u001b[34m__getitem__\u001b[39m(\u001b[38;5;28mself\u001b[39m, index):\n\u001b[32m     23\u001b[39m     \u001b[38;5;66;03m# [n_players]\u001b[39;00m\n\u001b[32m     24\u001b[39m     desc_power_idx = get_power_order(\n\u001b[32m---> \u001b[39m\u001b[32m25\u001b[39m         \u001b[38;5;28mself\u001b[39m.nodes_states[index], \u001b[38;5;28;43mself\u001b[39;49m\u001b[43m.\u001b[49m\u001b[43mactive_players\u001b[49m[index]\n\u001b[32m     26\u001b[39m     )\n\u001b[32m     27\u001b[39m     \u001b[38;5;28;01mreturn\u001b[39;00m {\n\u001b[32m     28\u001b[39m         \u001b[38;5;66;03m# scalar\u001b[39;00m\n\u001b[32m     29\u001b[39m         \u001b[33m\"\u001b[39m\u001b[33mgraph_id\u001b[39m\u001b[33m\"\u001b[39m: \u001b[38;5;28mself\u001b[39m.graph_id, \n\u001b[32m   (...)\u001b[39m\u001b[32m     39\u001b[39m         \u001b[33m\"\u001b[39m\u001b[33mreindex\u001b[39m\u001b[33m\"\u001b[39m: desc_power_idx\n\u001b[32m     40\u001b[39m     }\n",
      "\u001b[31mAttributeError\u001b[39m: 'ActionValueDataset' object has no attribute 'active_players'"
     ]
    }
   ],
   "source": [
    "# ── INITIAL (untrained) LOSS EVALUATION ───────────────────────────────────────\n",
    "if not epoch_log_file_exists:\n",
    "    action_value_model.eval()\n",
    "    with torch.no_grad():\n",
    "        t_start = time.time()\n",
    "\n",
    "        # avg loss on training set *without* gradient tracking\n",
    "        init_train_sum, init_train_batches = 0.0, 0\n",
    "        for b in tqdm.tqdm(train_loader, desc=\"init‑train\"):\n",
    "            b = move_to_device(b, device)\n",
    "            out = action_value_model(*extract_input(b))\n",
    "            o, t = extract_output_target(b, out)\n",
    "            init_train_sum += criterion(o, t).item()\n",
    "            init_train_batches += 1\n",
    "            if (time.time() - t_start) > train_time_limit: \n",
    "                print(f\"Stopping training after >{train_time_limit} seconds.\")\n",
    "                break\n",
    "        init_train_loss = init_train_sum / init_train_batches\n",
    "        t_train_done = time.time()\n",
    "\n",
    "        # avg loss on validation set\n",
    "        init_val_sum, init_val_batches = 0.0, 0\n",
    "        for vb in tqdm.tqdm(val_loader, desc=\"init‑val\"):\n",
    "            vb = move_to_device(vb, device)\n",
    "            vout = action_value_model(*extract_input(vb))\n",
    "            vo, vt = extract_output_target(vb, vout)\n",
    "            init_val_sum += criterion(vo, vt).item()\n",
    "            init_val_batches += 1\n",
    "            if (time.time() - t_train_done) > val_time_limit:\n",
    "                print(f\"Stopping validation after >{val_time_limit} seconds.\")\n",
    "                break\n",
    "        init_val_loss = init_val_sum / init_val_batches\n",
    "        t_val_done = time.time()\n",
    "\n",
    "    # times\n",
    "    init_train_time = t_train_done - t_start\n",
    "    init_val_time   = t_val_done - t_train_done\n",
    "    init_total_time = t_val_done - t_start\n",
    "\n",
    "    # write initial row (epoch = None)\n",
    "    csv_writer.writerow([\n",
    "        None,\n",
    "        init_train_loss,\n",
    "        init_val_loss,\n",
    "        init_train_time,\n",
    "        init_val_time,\n",
    "        init_total_time\n",
    "    ])\n",
    "    csv_file.flush()\n",
    "    print(\n",
    "        f\"Initial | Train {init_train_loss:.4f} | Val {init_val_loss:.4f} | \"\n",
    "        f\"Time {init_total_time:.1f}s (T {init_train_time:.1f}s | V {init_val_time:.1f}s)\"\n",
    "    )"
   ]
  },
  {
   "cell_type": "code",
   "execution_count": null,
   "id": "c1f88112",
   "metadata": {},
   "outputs": [
    {
     "name": "stderr",
     "output_type": "stream",
     "text": [
      "train 67:  10%|▉         | 25/256 [10:18<1:35:15, 24.74s/it]\n",
      "train 67:  10%|▉         | 25/256 [10:18<1:35:15, 24.74s/it]\n"
     ]
    },
    {
     "name": "stdout",
     "output_type": "stream",
     "text": [
      "Stopping training after >600 seconds.\n"
     ]
    },
    {
     "name": "stderr",
     "output_type": "stream",
     "text": [
      "val 67:  47%|████▋     | 9/19 [02:10<02:25, 14.52s/it]\n",
      "val 67:  47%|████▋     | 9/19 [02:10<02:25, 14.52s/it]\n"
     ]
    },
    {
     "name": "stdout",
     "output_type": "stream",
     "text": [
      "Stopping validation after >120.0 seconds.\n",
      "Epoch  68/1000 | Train 3794665.8462 | Val 3978860.0000 | LR 0.008100\n"
     ]
    },
    {
     "name": "stderr",
     "output_type": "stream",
     "text": [
      "train 68:   9%|▉         | 24/256 [10:03<1:37:09, 25.13s/it]\n",
      "train 68:   9%|▉         | 24/256 [10:03<1:37:09, 25.13s/it]\n"
     ]
    },
    {
     "name": "stdout",
     "output_type": "stream",
     "text": [
      "Stopping training after >600 seconds.\n"
     ]
    },
    {
     "name": "stderr",
     "output_type": "stream",
     "text": [
      "val 68:  47%|████▋     | 9/19 [02:11<02:26, 14.63s/it]\n",
      "val 68:  47%|████▋     | 9/19 [02:11<02:26, 14.63s/it]\n"
     ]
    },
    {
     "name": "stdout",
     "output_type": "stream",
     "text": [
      "Stopping validation after >120.0 seconds.\n",
      "Epoch  69/1000 | Train 3762170.2400 | Val 3977470.4000 | LR 0.008100\n"
     ]
    },
    {
     "name": "stderr",
     "output_type": "stream",
     "text": [
      "train 69:   9%|▉         | 24/256 [10:06<1:37:41, 25.26s/it]\n",
      "train 69:   9%|▉         | 24/256 [10:06<1:37:41, 25.26s/it]\n"
     ]
    },
    {
     "name": "stdout",
     "output_type": "stream",
     "text": [
      "Stopping training after >600 seconds.\n"
     ]
    },
    {
     "name": "stderr",
     "output_type": "stream",
     "text": [
      "val 69:  47%|████▋     | 9/19 [02:10<02:25, 14.53s/it]\n",
      "val 69:  47%|████▋     | 9/19 [02:10<02:25, 14.53s/it]\n"
     ]
    },
    {
     "name": "stdout",
     "output_type": "stream",
     "text": [
      "Stopping validation after >120.0 seconds.\n",
      "Epoch  70/1000 | Train 3767781.4400 | Val 3983569.2000 | LR 0.008100\n"
     ]
    },
    {
     "name": "stderr",
     "output_type": "stream",
     "text": [
      "train 70:   9%|▉         | 24/256 [10:07<1:37:56, 25.33s/it]\n",
      "train 70:   9%|▉         | 24/256 [10:07<1:37:56, 25.33s/it]\n"
     ]
    },
    {
     "name": "stdout",
     "output_type": "stream",
     "text": [
      "Stopping training after >600 seconds.\n"
     ]
    },
    {
     "name": "stderr",
     "output_type": "stream",
     "text": [
      "val 70:  47%|████▋     | 9/19 [02:12<02:26, 14.69s/it]\n",
      "val 70:  47%|████▋     | 9/19 [02:12<02:26, 14.69s/it]\n"
     ]
    },
    {
     "name": "stdout",
     "output_type": "stream",
     "text": [
      "Stopping validation after >120.0 seconds.\n",
      "Epoch  71/1000 | Train 3789176.9600 | Val 3980726.8000 | LR 0.008100\n"
     ]
    },
    {
     "name": "stderr",
     "output_type": "stream",
     "text": [
      "train 71:   9%|▉         | 24/256 [10:09<1:38:07, 25.38s/it]\n",
      "train 71:   9%|▉         | 24/256 [10:09<1:38:07, 25.38s/it]\n"
     ]
    },
    {
     "name": "stdout",
     "output_type": "stream",
     "text": [
      "Stopping training after >600 seconds.\n"
     ]
    },
    {
     "name": "stderr",
     "output_type": "stream",
     "text": [
      "val 71:  47%|████▋     | 9/19 [02:12<02:27, 14.73s/it]\n",
      "val 71:  47%|████▋     | 9/19 [02:12<02:27, 14.73s/it]\n"
     ]
    },
    {
     "name": "stdout",
     "output_type": "stream",
     "text": [
      "Stopping validation after >120.0 seconds.\n",
      "Epoch  72/1000 | Train 3776655.6800 | Val 3992804.4000 | LR 0.008100\n"
     ]
    },
    {
     "name": "stderr",
     "output_type": "stream",
     "text": [
      "train 72:   9%|▉         | 24/256 [10:11<1:38:30, 25.48s/it]\n",
      "train 72:   9%|▉         | 24/256 [10:11<1:38:30, 25.48s/it]\n"
     ]
    },
    {
     "name": "stdout",
     "output_type": "stream",
     "text": [
      "Stopping training after >600 seconds.\n"
     ]
    },
    {
     "name": "stderr",
     "output_type": "stream",
     "text": [
      "val 72:  47%|████▋     | 9/19 [02:10<02:24, 14.50s/it]\n",
      "val 72:  47%|████▋     | 9/19 [02:10<02:24, 14.50s/it]\n"
     ]
    },
    {
     "name": "stdout",
     "output_type": "stream",
     "text": [
      "Stopping validation after >120.0 seconds.\n",
      "Epoch  73/1000 | Train 3807621.1200 | Val 3988266.4000 | LR 0.008100\n"
     ]
    },
    {
     "name": "stderr",
     "output_type": "stream",
     "text": [
      "train 73:   9%|▉         | 24/256 [10:10<1:38:18, 25.42s/it]\n",
      "train 73:   9%|▉         | 24/256 [10:10<1:38:18, 25.42s/it]\n"
     ]
    },
    {
     "name": "stdout",
     "output_type": "stream",
     "text": [
      "Stopping training after >600 seconds.\n"
     ]
    },
    {
     "name": "stderr",
     "output_type": "stream",
     "text": [
      "val 73:  47%|████▋     | 9/19 [02:12<02:26, 14.69s/it]\n",
      "val 73:  47%|████▋     | 9/19 [02:12<02:26, 14.69s/it]\n"
     ]
    },
    {
     "name": "stdout",
     "output_type": "stream",
     "text": [
      "Stopping validation after >120.0 seconds.\n",
      "Epoch  74/1000 | Train 3752473.6000 | Val 3985186.0000 | LR 0.008100\n"
     ]
    },
    {
     "name": "stderr",
     "output_type": "stream",
     "text": [
      "train 74:   9%|▉         | 24/256 [10:10<1:38:22, 25.44s/it]\n",
      "train 74:   9%|▉         | 24/256 [10:10<1:38:22, 25.44s/it]\n"
     ]
    },
    {
     "name": "stdout",
     "output_type": "stream",
     "text": [
      "Stopping training after >600 seconds.\n"
     ]
    },
    {
     "name": "stderr",
     "output_type": "stream",
     "text": [
      "val 74:  47%|████▋     | 9/19 [02:10<02:25, 14.50s/it]\n",
      "val 74:  47%|████▋     | 9/19 [02:10<02:25, 14.50s/it]\n"
     ]
    },
    {
     "name": "stdout",
     "output_type": "stream",
     "text": [
      "Stopping validation after >120.0 seconds.\n",
      "Epoch  75/1000 | Train 3790145.9200 | Val 3990372.0000 | LR 0.008100\n"
     ]
    },
    {
     "name": "stderr",
     "output_type": "stream",
     "text": [
      "train 75:   9%|▉         | 24/256 [10:08<1:38:06, 25.37s/it]\n",
      "train 75:   9%|▉         | 24/256 [10:08<1:38:06, 25.37s/it]\n"
     ]
    },
    {
     "name": "stdout",
     "output_type": "stream",
     "text": [
      "Stopping training after >600 seconds.\n"
     ]
    },
    {
     "name": "stderr",
     "output_type": "stream",
     "text": [
      "val 75:  47%|████▋     | 9/19 [02:12<02:26, 14.67s/it]\n",
      "val 75:  47%|████▋     | 9/19 [02:12<02:26, 14.67s/it]\n"
     ]
    },
    {
     "name": "stdout",
     "output_type": "stream",
     "text": [
      "Stopping validation after >120.0 seconds.\n",
      "Epoch  76/1000 | Train 3782673.6000 | Val 3982249.2000 | LR 0.008100\n"
     ]
    },
    {
     "name": "stderr",
     "output_type": "stream",
     "text": [
      "train 76:   9%|▉         | 24/256 [10:11<1:38:34, 25.49s/it]\n",
      "train 76:   9%|▉         | 24/256 [10:11<1:38:34, 25.49s/it]\n"
     ]
    },
    {
     "name": "stdout",
     "output_type": "stream",
     "text": [
      "Stopping training after >600 seconds.\n"
     ]
    },
    {
     "name": "stderr",
     "output_type": "stream",
     "text": [
      "val 76:  47%|████▋     | 9/19 [02:12<02:27, 14.77s/it]\n",
      "val 76:  47%|████▋     | 9/19 [02:12<02:27, 14.77s/it]\n"
     ]
    },
    {
     "name": "stdout",
     "output_type": "stream",
     "text": [
      "Stopping validation after >120.0 seconds.\n",
      "Epoch  77/1000 | Train 3767751.0400 | Val 3979498.8000 | LR 0.008100\n"
     ]
    },
    {
     "name": "stderr",
     "output_type": "stream",
     "text": [
      "train 77:   9%|▉         | 24/256 [10:11<1:38:33, 25.49s/it]\n",
      "train 77:   9%|▉         | 24/256 [10:11<1:38:33, 25.49s/it]\n"
     ]
    },
    {
     "name": "stdout",
     "output_type": "stream",
     "text": [
      "Stopping training after >600 seconds.\n"
     ]
    },
    {
     "name": "stderr",
     "output_type": "stream",
     "text": [
      "val 77:  47%|████▋     | 9/19 [02:13<02:27, 14.79s/it]\n",
      "val 77:  47%|████▋     | 9/19 [02:13<02:27, 14.79s/it]\n"
     ]
    },
    {
     "name": "stdout",
     "output_type": "stream",
     "text": [
      "Stopping validation after >120.0 seconds.\n",
      "Epoch  78/1000 | Train 3748211.2000 | Val 3972160.8000 | LR 0.008100\n"
     ]
    },
    {
     "name": "stderr",
     "output_type": "stream",
     "text": [
      "train 78:   9%|▉         | 24/256 [10:10<1:38:23, 25.45s/it]\n",
      "train 78:   9%|▉         | 24/256 [10:10<1:38:23, 25.45s/it]\n"
     ]
    },
    {
     "name": "stdout",
     "output_type": "stream",
     "text": [
      "Stopping training after >600 seconds.\n"
     ]
    },
    {
     "name": "stderr",
     "output_type": "stream",
     "text": [
      "val 78:  47%|████▋     | 9/19 [02:12<02:27, 14.71s/it]\n",
      "val 78:  47%|████▋     | 9/19 [02:12<02:27, 14.71s/it]\n"
     ]
    },
    {
     "name": "stdout",
     "output_type": "stream",
     "text": [
      "Stopping validation after >120.0 seconds.\n",
      "Epoch  79/1000 | Train 3765199.6800 | Val 4001736.4000 | LR 0.008100\n"
     ]
    },
    {
     "name": "stderr",
     "output_type": "stream",
     "text": [
      "train 79:   9%|▉         | 24/256 [10:11<1:38:35, 25.50s/it]\n",
      "train 79:   9%|▉         | 24/256 [10:11<1:38:35, 25.50s/it]\n"
     ]
    },
    {
     "name": "stdout",
     "output_type": "stream",
     "text": [
      "Stopping training after >600 seconds.\n"
     ]
    },
    {
     "name": "stderr",
     "output_type": "stream",
     "text": [
      "val 79:  47%|████▋     | 9/19 [02:12<02:26, 14.69s/it]\n",
      "val 79:  47%|████▋     | 9/19 [02:12<02:26, 14.69s/it]\n"
     ]
    },
    {
     "name": "stdout",
     "output_type": "stream",
     "text": [
      "Stopping validation after >120.0 seconds.\n",
      "Epoch  80/1000 | Train 3776651.8400 | Val 3999976.4000 | LR 0.008100\n"
     ]
    },
    {
     "name": "stderr",
     "output_type": "stream",
     "text": [
      "train 80:   9%|▉         | 24/256 [10:10<1:38:22, 25.44s/it]\n",
      "train 80:   9%|▉         | 24/256 [10:10<1:38:22, 25.44s/it]\n"
     ]
    },
    {
     "name": "stdout",
     "output_type": "stream",
     "text": [
      "Stopping training after >600 seconds.\n"
     ]
    },
    {
     "name": "stderr",
     "output_type": "stream",
     "text": [
      "val 80:  42%|████▏     | 8/19 [02:00<02:45, 15.02s/it]\n",
      "val 80:  42%|████▏     | 8/19 [02:00<02:45, 15.02s/it]\n"
     ]
    },
    {
     "name": "stdout",
     "output_type": "stream",
     "text": [
      "Stopping validation after >120.0 seconds.\n",
      "Epoch  81/1000 | Train 3770630.0800 | Val 3986354.6667 | LR 0.008100\n"
     ]
    },
    {
     "name": "stderr",
     "output_type": "stream",
     "text": [
      "train 81:   9%|▉         | 24/256 [10:08<1:38:06, 25.37s/it]\n",
      "train 81:   9%|▉         | 24/256 [10:08<1:38:06, 25.37s/it]\n"
     ]
    },
    {
     "name": "stdout",
     "output_type": "stream",
     "text": [
      "Stopping training after >600 seconds.\n"
     ]
    },
    {
     "name": "stderr",
     "output_type": "stream",
     "text": [
      "val 81:  47%|████▋     | 9/19 [02:12<02:27, 14.76s/it]\n",
      "val 81:  47%|████▋     | 9/19 [02:12<02:27, 14.76s/it]\n"
     ]
    },
    {
     "name": "stdout",
     "output_type": "stream",
     "text": [
      "Stopping validation after >120.0 seconds.\n",
      "Epoch  82/1000 | Train 3776244.4800 | Val 3969532.8000 | LR 0.008100\n"
     ]
    },
    {
     "name": "stderr",
     "output_type": "stream",
     "text": [
      "train 82:   9%|▉         | 24/256 [10:12<1:38:37, 25.51s/it]\n",
      "train 82:   9%|▉         | 24/256 [10:12<1:38:37, 25.51s/it]\n"
     ]
    },
    {
     "name": "stdout",
     "output_type": "stream",
     "text": [
      "Stopping training after >600 seconds.\n"
     ]
    },
    {
     "name": "stderr",
     "output_type": "stream",
     "text": [
      "val 82:  47%|████▋     | 9/19 [02:11<02:26, 14.62s/it]\n",
      "val 82:  47%|████▋     | 9/19 [02:11<02:26, 14.62s/it]\n"
     ]
    },
    {
     "name": "stdout",
     "output_type": "stream",
     "text": [
      "Stopping validation after >120.0 seconds.\n",
      "Epoch  83/1000 | Train 3751103.3600 | Val 3977401.6000 | LR 0.008100\n"
     ]
    },
    {
     "name": "stderr",
     "output_type": "stream",
     "text": [
      "train 83:   9%|▉         | 24/256 [10:07<1:37:56, 25.33s/it]\n",
      "\n"
     ]
    },
    {
     "name": "stdout",
     "output_type": "stream",
     "text": [
      "Stopping training after >600 seconds.\n"
     ]
    },
    {
     "name": "stderr",
     "output_type": "stream",
     "text": [
      "val 83:  47%|████▋     | 9/19 [02:12<02:27, 14.75s/it]\n",
      "val 83:  47%|████▋     | 9/19 [02:12<02:27, 14.75s/it]\n"
     ]
    },
    {
     "name": "stdout",
     "output_type": "stream",
     "text": [
      "Stopping validation after >120.0 seconds.\n",
      "Epoch  84/1000 | Train 3774067.8400 | Val 3969122.4000 | LR 0.008100\n"
     ]
    },
    {
     "name": "stderr",
     "output_type": "stream",
     "text": [
      "train 84:   9%|▉         | 24/256 [10:04<1:37:26, 25.20s/it]\n",
      "train 84:   9%|▉         | 24/256 [10:04<1:37:26, 25.20s/it]\n"
     ]
    },
    {
     "name": "stdout",
     "output_type": "stream",
     "text": [
      "Stopping training after >600 seconds.\n"
     ]
    },
    {
     "name": "stderr",
     "output_type": "stream",
     "text": [
      "val 84:  47%|████▋     | 9/19 [02:10<02:24, 14.49s/it]\n",
      "val 84:  47%|████▋     | 9/19 [02:10<02:24, 14.49s/it]\n"
     ]
    },
    {
     "name": "stdout",
     "output_type": "stream",
     "text": [
      "Stopping validation after >120.0 seconds.\n",
      "Epoch  85/1000 | Train 3795229.4400 | Val 3976676.0000 | LR 0.008100\n"
     ]
    },
    {
     "name": "stderr",
     "output_type": "stream",
     "text": [
      "train 85:   9%|▉         | 24/256 [10:06<1:37:39, 25.26s/it]\n",
      "train 85:   9%|▉         | 24/256 [10:06<1:37:39, 25.26s/it]\n"
     ]
    },
    {
     "name": "stdout",
     "output_type": "stream",
     "text": [
      "Stopping training after >600 seconds.\n"
     ]
    },
    {
     "name": "stderr",
     "output_type": "stream",
     "text": [
      "val 85:  47%|████▋     | 9/19 [02:09<02:24, 14.44s/it]\n",
      "val 85:  47%|████▋     | 9/19 [02:09<02:24, 14.44s/it]\n"
     ]
    },
    {
     "name": "stdout",
     "output_type": "stream",
     "text": [
      "Stopping validation after >120.0 seconds.\n",
      "Epoch  86/1000 | Train 3743471.6800 | Val 3969790.8000 | LR 0.008100\n"
     ]
    },
    {
     "name": "stderr",
     "output_type": "stream",
     "text": [
      "train 86:   9%|▉         | 24/256 [10:01<1:36:55, 25.07s/it]\n",
      "train 86:   9%|▉         | 24/256 [10:01<1:36:55, 25.07s/it]\n"
     ]
    },
    {
     "name": "stdout",
     "output_type": "stream",
     "text": [
      "Stopping training after >600 seconds.\n"
     ]
    },
    {
     "name": "stderr",
     "output_type": "stream",
     "text": [
      "val 86:  47%|████▋     | 9/19 [02:09<02:24, 14.40s/it]\n",
      "val 86:  47%|████▋     | 9/19 [02:09<02:24, 14.40s/it]\n"
     ]
    },
    {
     "name": "stdout",
     "output_type": "stream",
     "text": [
      "Stopping validation after >120.0 seconds.\n",
      "Epoch  87/1000 | Train 3756749.1200 | Val 3985141.6000 | LR 0.008100\n"
     ]
    },
    {
     "name": "stderr",
     "output_type": "stream",
     "text": [
      "train 87:   9%|▉         | 24/256 [10:05<1:37:33, 25.23s/it]\n",
      "train 87:   9%|▉         | 24/256 [10:05<1:37:33, 25.23s/it]\n"
     ]
    },
    {
     "name": "stdout",
     "output_type": "stream",
     "text": [
      "Stopping training after >600 seconds.\n"
     ]
    },
    {
     "name": "stderr",
     "output_type": "stream",
     "text": [
      "val 87:  47%|████▋     | 9/19 [02:11<02:25, 14.58s/it]\n",
      "val 87:  47%|████▋     | 9/19 [02:11<02:25, 14.58s/it]\n"
     ]
    },
    {
     "name": "stdout",
     "output_type": "stream",
     "text": [
      "Stopping validation after >120.0 seconds.\n",
      "Epoch  88/1000 | Train 3762448.0000 | Val 3978959.2000 | LR 0.008100\n"
     ]
    },
    {
     "name": "stderr",
     "output_type": "stream",
     "text": [
      "train 88:   9%|▉         | 24/256 [10:01<1:36:50, 25.04s/it]\n",
      "train 88:   9%|▉         | 24/256 [10:01<1:36:50, 25.04s/it]\n"
     ]
    },
    {
     "name": "stdout",
     "output_type": "stream",
     "text": [
      "Stopping training after >600 seconds.\n"
     ]
    },
    {
     "name": "stderr",
     "output_type": "stream",
     "text": [
      "val 88:  47%|████▋     | 9/19 [02:10<02:25, 14.52s/it]\n",
      "val 88:  47%|████▋     | 9/19 [02:10<02:25, 14.52s/it]\n"
     ]
    },
    {
     "name": "stdout",
     "output_type": "stream",
     "text": [
      "Stopping validation after >120.0 seconds.\n",
      "Epoch  89/1000 | Train 3748657.6000 | Val 3964117.2000 | LR 0.008100\n"
     ]
    },
    {
     "name": "stderr",
     "output_type": "stream",
     "text": [
      "train 89:   9%|▉         | 24/256 [10:03<1:37:17, 25.16s/it]\n",
      "train 89:   9%|▉         | 24/256 [10:03<1:37:17, 25.16s/it]\n"
     ]
    },
    {
     "name": "stdout",
     "output_type": "stream",
     "text": [
      "Stopping training after >600 seconds.\n"
     ]
    },
    {
     "name": "stderr",
     "output_type": "stream",
     "text": [
      "val 89:  47%|████▋     | 9/19 [02:11<02:25, 14.58s/it]\n",
      "val 89:  47%|████▋     | 9/19 [02:11<02:25, 14.58s/it]\n"
     ]
    },
    {
     "name": "stdout",
     "output_type": "stream",
     "text": [
      "Stopping validation after >120.0 seconds.\n",
      "Epoch  90/1000 | Train 3748704.3200 | Val 3972093.6000 | LR 0.008100\n"
     ]
    },
    {
     "name": "stderr",
     "output_type": "stream",
     "text": [
      "train 90:   9%|▉         | 24/256 [10:05<1:37:32, 25.23s/it]\n",
      "train 90:   9%|▉         | 24/256 [10:05<1:37:32, 25.23s/it]\n"
     ]
    },
    {
     "name": "stdout",
     "output_type": "stream",
     "text": [
      "Stopping training after >600 seconds.\n"
     ]
    },
    {
     "name": "stderr",
     "output_type": "stream",
     "text": [
      "val 90:  47%|████▋     | 9/19 [02:08<02:22, 14.28s/it]\n",
      "val 90:  47%|████▋     | 9/19 [02:08<02:22, 14.28s/it]\n"
     ]
    },
    {
     "name": "stdout",
     "output_type": "stream",
     "text": [
      "Stopping validation after >120.0 seconds.\n",
      "Epoch  91/1000 | Train 3740363.8400 | Val 3981758.4000 | LR 0.007290\n"
     ]
    },
    {
     "name": "stderr",
     "output_type": "stream",
     "text": [
      "train 91:   9%|▉         | 24/256 [10:04<1:37:22, 25.18s/it]\n",
      "train 91:   9%|▉         | 24/256 [10:04<1:37:22, 25.18s/it]\n"
     ]
    },
    {
     "name": "stdout",
     "output_type": "stream",
     "text": [
      "Stopping training after >600 seconds.\n"
     ]
    },
    {
     "name": "stderr",
     "output_type": "stream",
     "text": [
      "val 91:  47%|████▋     | 9/19 [02:09<02:24, 14.43s/it]\n",
      "val 91:  47%|████▋     | 9/19 [02:09<02:24, 14.43s/it]\n"
     ]
    },
    {
     "name": "stdout",
     "output_type": "stream",
     "text": [
      "Stopping validation after >120.0 seconds.\n",
      "Epoch  92/1000 | Train 3776791.0400 | Val 3973002.8000 | LR 0.007290\n"
     ]
    },
    {
     "name": "stderr",
     "output_type": "stream",
     "text": [
      "train 92:   9%|▉         | 24/256 [10:03<1:37:15, 25.15s/it]\n",
      "train 92:   9%|▉         | 24/256 [10:03<1:37:15, 25.15s/it]\n"
     ]
    },
    {
     "name": "stdout",
     "output_type": "stream",
     "text": [
      "Stopping training after >600 seconds.\n"
     ]
    },
    {
     "name": "stderr",
     "output_type": "stream",
     "text": [
      "val 92:  47%|████▋     | 9/19 [02:11<02:26, 14.60s/it]\n",
      "val 92:  47%|████▋     | 9/19 [02:11<02:26, 14.60s/it]\n"
     ]
    },
    {
     "name": "stdout",
     "output_type": "stream",
     "text": [
      "Stopping validation after >120.0 seconds.\n",
      "Epoch  93/1000 | Train 3760772.8000 | Val 3967886.8000 | LR 0.007290\n"
     ]
    },
    {
     "name": "stderr",
     "output_type": "stream",
     "text": [
      "train 93:   9%|▉         | 24/256 [10:04<1:37:20, 25.18s/it]\n",
      "train 93:   9%|▉         | 24/256 [10:04<1:37:20, 25.18s/it]\n"
     ]
    },
    {
     "name": "stdout",
     "output_type": "stream",
     "text": [
      "Stopping training after >600 seconds.\n"
     ]
    },
    {
     "name": "stderr",
     "output_type": "stream",
     "text": [
      "val 93:  47%|████▋     | 9/19 [02:09<02:24, 14.42s/it]\n",
      "val 93:  47%|████▋     | 9/19 [02:09<02:24, 14.42s/it]\n"
     ]
    },
    {
     "name": "stdout",
     "output_type": "stream",
     "text": [
      "Stopping validation after >120.0 seconds.\n",
      "Epoch  94/1000 | Train 3770120.3200 | Val 3966364.8000 | LR 0.007290\n"
     ]
    },
    {
     "name": "stderr",
     "output_type": "stream",
     "text": [
      "train 94:   9%|▉         | 24/256 [10:04<1:37:25, 25.20s/it]\n",
      "train 94:   9%|▉         | 24/256 [10:04<1:37:25, 25.20s/it]\n"
     ]
    },
    {
     "name": "stdout",
     "output_type": "stream",
     "text": [
      "Stopping training after >600 seconds.\n"
     ]
    },
    {
     "name": "stderr",
     "output_type": "stream",
     "text": [
      "val 94:  47%|████▋     | 9/19 [02:10<02:24, 14.47s/it]\n",
      "val 94:  47%|████▋     | 9/19 [02:10<02:24, 14.47s/it]\n"
     ]
    },
    {
     "name": "stdout",
     "output_type": "stream",
     "text": [
      "Stopping validation after >120.0 seconds.\n",
      "Epoch  95/1000 | Train 3747539.8400 | Val 3977387.2000 | LR 0.007290\n"
     ]
    },
    {
     "name": "stderr",
     "output_type": "stream",
     "text": [
      "train 95:   9%|▉         | 24/256 [10:04<1:37:18, 25.17s/it]\n",
      "train 95:   9%|▉         | 24/256 [10:04<1:37:18, 25.17s/it]\n"
     ]
    },
    {
     "name": "stdout",
     "output_type": "stream",
     "text": [
      "Stopping training after >600 seconds.\n"
     ]
    },
    {
     "name": "stderr",
     "output_type": "stream",
     "text": [
      "val 95:  47%|████▋     | 9/19 [02:10<02:25, 14.50s/it]\n",
      "val 95:  47%|████▋     | 9/19 [02:10<02:25, 14.50s/it]\n"
     ]
    },
    {
     "name": "stdout",
     "output_type": "stream",
     "text": [
      "Stopping validation after >120.0 seconds.\n",
      "Epoch  96/1000 | Train 3743636.1600 | Val 3957477.6000 | LR 0.007290\n"
     ]
    },
    {
     "name": "stderr",
     "output_type": "stream",
     "text": [
      "train 96:   9%|▉         | 24/256 [10:04<1:37:24, 25.19s/it]\n",
      "train 96:   9%|▉         | 24/256 [10:04<1:37:24, 25.19s/it]\n"
     ]
    },
    {
     "name": "stdout",
     "output_type": "stream",
     "text": [
      "Stopping training after >600 seconds.\n"
     ]
    },
    {
     "name": "stderr",
     "output_type": "stream",
     "text": [
      "val 96:  47%|████▋     | 9/19 [02:12<02:27, 14.74s/it]\n",
      "val 96:  47%|████▋     | 9/19 [02:12<02:27, 14.74s/it]\n"
     ]
    },
    {
     "name": "stdout",
     "output_type": "stream",
     "text": [
      "Stopping validation after >120.0 seconds.\n",
      "Epoch  97/1000 | Train 3764745.2800 | Val 3962729.2000 | LR 0.007290\n"
     ]
    },
    {
     "name": "stderr",
     "output_type": "stream",
     "text": [
      "train 97:   9%|▉         | 24/256 [10:05<1:37:33, 25.23s/it]\n",
      "train 97:   9%|▉         | 24/256 [10:05<1:37:33, 25.23s/it]\n"
     ]
    },
    {
     "name": "stdout",
     "output_type": "stream",
     "text": [
      "Stopping training after >600 seconds.\n"
     ]
    },
    {
     "name": "stderr",
     "output_type": "stream",
     "text": [
      "val 97:  47%|████▋     | 9/19 [02:11<02:26, 14.61s/it]\n",
      "val 97:  47%|████▋     | 9/19 [02:11<02:26, 14.61s/it]\n"
     ]
    },
    {
     "name": "stdout",
     "output_type": "stream",
     "text": [
      "Stopping validation after >120.0 seconds.\n",
      "Epoch  98/1000 | Train 3747384.3200 | Val 3974791.2000 | LR 0.007290\n"
     ]
    },
    {
     "name": "stderr",
     "output_type": "stream",
     "text": [
      "train 98:   9%|▉         | 24/256 [10:02<1:37:01, 25.09s/it]\n",
      "train 98:   9%|▉         | 24/256 [10:02<1:37:01, 25.09s/it]\n"
     ]
    },
    {
     "name": "stdout",
     "output_type": "stream",
     "text": [
      "Stopping training after >600 seconds.\n"
     ]
    },
    {
     "name": "stderr",
     "output_type": "stream",
     "text": [
      "val 98:  47%|████▋     | 9/19 [02:10<02:24, 14.49s/it]\n",
      "val 98:  47%|████▋     | 9/19 [02:10<02:24, 14.49s/it]\n"
     ]
    },
    {
     "name": "stdout",
     "output_type": "stream",
     "text": [
      "Stopping validation after >120.0 seconds.\n",
      "Epoch  99/1000 | Train 3734855.3600 | Val 3962696.4000 | LR 0.007290\n"
     ]
    },
    {
     "name": "stderr",
     "output_type": "stream",
     "text": [
      "train 99:   9%|▉         | 24/256 [10:02<1:37:08, 25.12s/it]\n",
      "train 99:   9%|▉         | 24/256 [10:02<1:37:08, 25.12s/it]\n"
     ]
    },
    {
     "name": "stdout",
     "output_type": "stream",
     "text": [
      "Stopping training after >600 seconds.\n"
     ]
    },
    {
     "name": "stderr",
     "output_type": "stream",
     "text": [
      "val 99:  47%|████▋     | 9/19 [02:12<02:26, 14.69s/it]\n",
      "val 99:  47%|████▋     | 9/19 [02:12<02:26, 14.69s/it]\n"
     ]
    },
    {
     "name": "stdout",
     "output_type": "stream",
     "text": [
      "Stopping validation after >120.0 seconds.\n",
      "Epoch 100/1000 | Train 3754920.0000 | Val 3975843.2000 | LR 0.007290\n"
     ]
    },
    {
     "name": "stderr",
     "output_type": "stream",
     "text": [
      "train 100:   9%|▉         | 24/256 [10:04<1:37:20, 25.18s/it]\n",
      "train 100:   9%|▉         | 24/256 [10:04<1:37:20, 25.18s/it]\n"
     ]
    },
    {
     "name": "stdout",
     "output_type": "stream",
     "text": [
      "Stopping training after >600 seconds.\n"
     ]
    },
    {
     "name": "stderr",
     "output_type": "stream",
     "text": [
      "val 100:  47%|████▋     | 9/19 [02:10<02:24, 14.47s/it]\n",
      "val 100:  47%|████▋     | 9/19 [02:10<02:24, 14.47s/it]\n"
     ]
    },
    {
     "name": "stdout",
     "output_type": "stream",
     "text": [
      "Stopping validation after >120.0 seconds.\n",
      "Epoch 101/1000 | Train 3759757.7600 | Val 3994610.4000 | LR 0.007290\n"
     ]
    },
    {
     "name": "stderr",
     "output_type": "stream",
     "text": [
      "train 101:   9%|▉         | 24/256 [10:03<1:37:14, 25.15s/it]\n",
      "train 101:   9%|▉         | 24/256 [10:03<1:37:14, 25.15s/it]\n"
     ]
    },
    {
     "name": "stdout",
     "output_type": "stream",
     "text": [
      "Stopping training after >600 seconds.\n"
     ]
    },
    {
     "name": "stderr",
     "output_type": "stream",
     "text": [
      "val 101:  47%|████▋     | 9/19 [02:09<02:23, 14.40s/it]\n",
      "val 101:  47%|████▋     | 9/19 [02:09<02:23, 14.40s/it]\n"
     ]
    },
    {
     "name": "stdout",
     "output_type": "stream",
     "text": [
      "Stopping validation after >120.0 seconds.\n",
      "Epoch 102/1000 | Train 3714532.1600 | Val 3973512.4000 | LR 0.007290\n"
     ]
    },
    {
     "name": "stderr",
     "output_type": "stream",
     "text": [
      "train 102:   9%|▉         | 24/256 [10:04<1:37:24, 25.19s/it]\n",
      "train 102:   9%|▉         | 24/256 [10:04<1:37:24, 25.19s/it]\n"
     ]
    },
    {
     "name": "stdout",
     "output_type": "stream",
     "text": [
      "Stopping training after >600 seconds.\n"
     ]
    },
    {
     "name": "stderr",
     "output_type": "stream",
     "text": [
      "val 102:  47%|████▋     | 9/19 [02:10<02:24, 14.48s/it]\n",
      "val 102:  47%|████▋     | 9/19 [02:10<02:24, 14.48s/it]\n"
     ]
    },
    {
     "name": "stdout",
     "output_type": "stream",
     "text": [
      "Stopping validation after >120.0 seconds.\n",
      "Epoch 103/1000 | Train 3731679.3600 | Val 3974732.0000 | LR 0.007290\n"
     ]
    },
    {
     "name": "stderr",
     "output_type": "stream",
     "text": [
      "train 103:   9%|▉         | 24/256 [10:02<1:37:01, 25.09s/it]\n",
      "train 103:   9%|▉         | 24/256 [10:02<1:37:01, 25.09s/it]\n"
     ]
    },
    {
     "name": "stdout",
     "output_type": "stream",
     "text": [
      "Stopping training after >600 seconds.\n"
     ]
    },
    {
     "name": "stderr",
     "output_type": "stream",
     "text": [
      "val 103:  47%|████▋     | 9/19 [02:12<02:27, 14.70s/it]\n",
      "val 103:  47%|████▋     | 9/19 [02:12<02:27, 14.70s/it]\n"
     ]
    },
    {
     "name": "stdout",
     "output_type": "stream",
     "text": [
      "Stopping validation after >120.0 seconds.\n",
      "Epoch 104/1000 | Train 3756755.2000 | Val 3983536.0000 | LR 0.007290\n"
     ]
    },
    {
     "name": "stderr",
     "output_type": "stream",
     "text": [
      "train 104:   9%|▉         | 24/256 [10:03<1:37:09, 25.13s/it]\n",
      "train 104:   9%|▉         | 24/256 [10:03<1:37:09, 25.13s/it]\n"
     ]
    },
    {
     "name": "stdout",
     "output_type": "stream",
     "text": [
      "Stopping training after >600 seconds.\n"
     ]
    },
    {
     "name": "stderr",
     "output_type": "stream",
     "text": [
      "val 104:  47%|████▋     | 9/19 [02:11<02:26, 14.62s/it]\n",
      "val 104:  47%|████▋     | 9/19 [02:11<02:26, 14.62s/it]\n"
     ]
    },
    {
     "name": "stdout",
     "output_type": "stream",
     "text": [
      "Stopping validation after >120.0 seconds.\n",
      "Epoch 105/1000 | Train 3741386.2400 | Val 3980210.0000 | LR 0.007290\n"
     ]
    },
    {
     "name": "stderr",
     "output_type": "stream",
     "text": [
      "train 105:   9%|▉         | 24/256 [10:04<1:37:24, 25.19s/it]\n",
      "train 105:   9%|▉         | 24/256 [10:04<1:37:24, 25.19s/it]\n"
     ]
    },
    {
     "name": "stdout",
     "output_type": "stream",
     "text": [
      "Stopping training after >600 seconds.\n"
     ]
    },
    {
     "name": "stderr",
     "output_type": "stream",
     "text": [
      "val 105:  47%|████▋     | 9/19 [02:10<02:24, 14.47s/it]\n",
      "val 105:  47%|████▋     | 9/19 [02:10<02:24, 14.47s/it]\n"
     ]
    },
    {
     "name": "stdout",
     "output_type": "stream",
     "text": [
      "Stopping validation after >120.0 seconds.\n",
      "Epoch 106/1000 | Train 3761073.9200 | Val 3976185.6000 | LR 0.007290\n"
     ]
    },
    {
     "name": "stderr",
     "output_type": "stream",
     "text": [
      "train 106:   9%|▉         | 24/256 [10:09<1:38:13, 25.40s/it]\n",
      "train 106:   9%|▉         | 24/256 [10:09<1:38:13, 25.40s/it]\n"
     ]
    },
    {
     "name": "stdout",
     "output_type": "stream",
     "text": [
      "Stopping training after >600 seconds.\n"
     ]
    },
    {
     "name": "stderr",
     "output_type": "stream",
     "text": [
      "val 106:  47%|████▋     | 9/19 [02:11<02:25, 14.57s/it]\n",
      "val 106:  47%|████▋     | 9/19 [02:11<02:25, 14.57s/it]\n"
     ]
    },
    {
     "name": "stdout",
     "output_type": "stream",
     "text": [
      "Stopping validation after >120.0 seconds.\n",
      "Epoch 107/1000 | Train 3767558.0800 | Val 3978626.8000 | LR 0.007290\n"
     ]
    },
    {
     "name": "stderr",
     "output_type": "stream",
     "text": [
      "train 107:   9%|▉         | 24/256 [10:07<1:37:47, 25.29s/it]\n",
      "train 107:   9%|▉         | 24/256 [10:07<1:37:47, 25.29s/it]\n"
     ]
    },
    {
     "name": "stdout",
     "output_type": "stream",
     "text": [
      "Stopping training after >600 seconds.\n"
     ]
    },
    {
     "name": "stderr",
     "output_type": "stream",
     "text": [
      "val 107:  47%|████▋     | 9/19 [02:12<02:27, 14.78s/it]\n",
      "val 107:  47%|████▋     | 9/19 [02:12<02:27, 14.78s/it]\n"
     ]
    },
    {
     "name": "stdout",
     "output_type": "stream",
     "text": [
      "Stopping validation after >120.0 seconds.\n",
      "Epoch 108/1000 | Train 3714130.2400 | Val 3969657.2000 | LR 0.007290\n"
     ]
    },
    {
     "name": "stderr",
     "output_type": "stream",
     "text": [
      "train 108:   9%|▉         | 24/256 [10:07<1:37:48, 25.29s/it]\n",
      "train 108:   9%|▉         | 24/256 [10:07<1:37:48, 25.29s/it]\n"
     ]
    },
    {
     "name": "stdout",
     "output_type": "stream",
     "text": [
      "Stopping training after >600 seconds.\n"
     ]
    },
    {
     "name": "stderr",
     "output_type": "stream",
     "text": [
      "val 108:  47%|████▋     | 9/19 [02:10<02:24, 14.49s/it]\n",
      "val 108:  47%|████▋     | 9/19 [02:10<02:24, 14.49s/it]\n"
     ]
    },
    {
     "name": "stdout",
     "output_type": "stream",
     "text": [
      "Stopping validation after >120.0 seconds.\n",
      "Epoch 109/1000 | Train 3729551.3600 | Val 3960547.2000 | LR 0.007290\n"
     ]
    },
    {
     "name": "stderr",
     "output_type": "stream",
     "text": [
      "train 109:   9%|▉         | 24/256 [10:06<1:37:38, 25.25s/it]\n",
      "train 109:   9%|▉         | 24/256 [10:06<1:37:38, 25.25s/it]\n"
     ]
    },
    {
     "name": "stdout",
     "output_type": "stream",
     "text": [
      "Stopping training after >600 seconds.\n"
     ]
    },
    {
     "name": "stderr",
     "output_type": "stream",
     "text": [
      "val 109:  47%|████▋     | 9/19 [02:12<02:27, 14.71s/it]\n",
      "val 109:  47%|████▋     | 9/19 [02:12<02:27, 14.71s/it]\n"
     ]
    },
    {
     "name": "stdout",
     "output_type": "stream",
     "text": [
      "Stopping validation after >120.0 seconds.\n",
      "Epoch 110/1000 | Train 3748038.0800 | Val 3967377.6000 | LR 0.007290\n"
     ]
    },
    {
     "name": "stderr",
     "output_type": "stream",
     "text": [
      "train 110:   9%|▉         | 24/256 [10:03<1:37:16, 25.16s/it]\n",
      "train 110:   9%|▉         | 24/256 [10:03<1:37:16, 25.16s/it]\n"
     ]
    },
    {
     "name": "stdout",
     "output_type": "stream",
     "text": [
      "Stopping training after >600 seconds.\n"
     ]
    },
    {
     "name": "stderr",
     "output_type": "stream",
     "text": [
      "val 110:  47%|████▋     | 9/19 [02:12<02:26, 14.70s/it]\n",
      "val 110:  47%|████▋     | 9/19 [02:12<02:26, 14.70s/it]\n"
     ]
    },
    {
     "name": "stdout",
     "output_type": "stream",
     "text": [
      "Stopping validation after >120.0 seconds.\n",
      "Epoch 111/1000 | Train 3766921.2800 | Val 3973672.8000 | LR 0.007290\n"
     ]
    },
    {
     "name": "stderr",
     "output_type": "stream",
     "text": [
      "train 111:   9%|▉         | 24/256 [10:04<1:37:25, 25.20s/it]\n",
      "train 111:   9%|▉         | 24/256 [10:04<1:37:25, 25.20s/it]\n"
     ]
    },
    {
     "name": "stdout",
     "output_type": "stream",
     "text": [
      "Stopping training after >600 seconds.\n"
     ]
    },
    {
     "name": "stderr",
     "output_type": "stream",
     "text": [
      "val 111:  47%|████▋     | 9/19 [02:10<02:24, 14.50s/it]\n",
      "val 111:  47%|████▋     | 9/19 [02:10<02:24, 14.50s/it]\n"
     ]
    },
    {
     "name": "stdout",
     "output_type": "stream",
     "text": [
      "Stopping validation after >120.0 seconds.\n",
      "Epoch 112/1000 | Train 3741074.2400 | Val 3954929.2000 | LR 0.007290\n"
     ]
    },
    {
     "name": "stderr",
     "output_type": "stream",
     "text": [
      "train 112:   9%|▉         | 24/256 [10:03<1:37:15, 25.15s/it]\n",
      "train 112:   9%|▉         | 24/256 [10:03<1:37:15, 25.15s/it]\n"
     ]
    },
    {
     "name": "stdout",
     "output_type": "stream",
     "text": [
      "Stopping training after >600 seconds.\n"
     ]
    },
    {
     "name": "stderr",
     "output_type": "stream",
     "text": [
      "val 112:  47%|████▋     | 9/19 [02:10<02:24, 14.45s/it]\n",
      "val 112:  47%|████▋     | 9/19 [02:10<02:24, 14.45s/it]\n"
     ]
    },
    {
     "name": "stdout",
     "output_type": "stream",
     "text": [
      "Stopping validation after >120.0 seconds.\n",
      "Epoch 113/1000 | Train 3760635.2000 | Val 3969930.0000 | LR 0.007290\n"
     ]
    },
    {
     "name": "stderr",
     "output_type": "stream",
     "text": [
      "train 113:   9%|▉         | 24/256 [10:03<1:37:09, 25.13s/it]\n",
      "train 113:   9%|▉         | 24/256 [10:03<1:37:09, 25.13s/it]\n"
     ]
    },
    {
     "name": "stdout",
     "output_type": "stream",
     "text": [
      "Stopping training after >600 seconds.\n"
     ]
    },
    {
     "name": "stderr",
     "output_type": "stream",
     "text": [
      "val 113:  47%|████▋     | 9/19 [02:12<02:26, 14.70s/it]\n",
      "val 113:  47%|████▋     | 9/19 [02:12<02:26, 14.70s/it]\n"
     ]
    },
    {
     "name": "stdout",
     "output_type": "stream",
     "text": [
      "Stopping validation after >120.0 seconds.\n",
      "Epoch 114/1000 | Train 3744673.9200 | Val 3966613.6000 | LR 0.007290\n"
     ]
    },
    {
     "name": "stderr",
     "output_type": "stream",
     "text": [
      "train 114:   9%|▉         | 24/256 [10:04<1:37:25, 25.20s/it]\n",
      "train 114:   9%|▉         | 24/256 [10:04<1:37:25, 25.20s/it]\n"
     ]
    },
    {
     "name": "stdout",
     "output_type": "stream",
     "text": [
      "Stopping training after >600 seconds.\n"
     ]
    },
    {
     "name": "stderr",
     "output_type": "stream",
     "text": [
      "val 114:  47%|████▋     | 9/19 [02:10<02:25, 14.54s/it]\n",
      "val 114:  47%|████▋     | 9/19 [02:10<02:25, 14.54s/it]\n"
     ]
    },
    {
     "name": "stdout",
     "output_type": "stream",
     "text": [
      "Stopping validation after >120.0 seconds.\n",
      "Epoch 115/1000 | Train 3755456.9600 | Val 3963923.6000 | LR 0.007290\n"
     ]
    },
    {
     "name": "stderr",
     "output_type": "stream",
     "text": [
      "train 115:   9%|▉         | 24/256 [10:03<1:37:16, 25.16s/it]\n",
      "train 115:   9%|▉         | 24/256 [10:03<1:37:16, 25.16s/it]\n"
     ]
    },
    {
     "name": "stdout",
     "output_type": "stream",
     "text": [
      "Stopping training after >600 seconds.\n"
     ]
    },
    {
     "name": "stderr",
     "output_type": "stream",
     "text": [
      "val 115:  47%|████▋     | 9/19 [02:11<02:26, 14.66s/it]\n",
      "val 115:  47%|████▋     | 9/19 [02:11<02:26, 14.66s/it]\n"
     ]
    },
    {
     "name": "stdout",
     "output_type": "stream",
     "text": [
      "Stopping validation after >120.0 seconds.\n",
      "Epoch 116/1000 | Train 3765884.8000 | Val 3961857.6000 | LR 0.007290\n"
     ]
    },
    {
     "name": "stderr",
     "output_type": "stream",
     "text": [
      "train 116:   9%|▉         | 24/256 [10:11<1:38:33, 25.49s/it]\n",
      "\n"
     ]
    },
    {
     "name": "stdout",
     "output_type": "stream",
     "text": [
      "Stopping training after >600 seconds.\n"
     ]
    },
    {
     "name": "stderr",
     "output_type": "stream",
     "text": [
      "val 116:  42%|████▏     | 8/19 [02:00<02:45, 15.01s/it]\n",
      "val 116:  42%|████▏     | 8/19 [02:00<02:45, 15.01s/it]\n"
     ]
    },
    {
     "name": "stdout",
     "output_type": "stream",
     "text": [
      "Stopping validation after >120.0 seconds.\n",
      "Epoch 117/1000 | Train 3735631.6800 | Val 3963603.1111 | LR 0.007290\n"
     ]
    },
    {
     "name": "stderr",
     "output_type": "stream",
     "text": [
      "train 117:   9%|▉         | 24/256 [10:12<1:38:44, 25.54s/it]\n",
      "train 117:   9%|▉         | 24/256 [10:12<1:38:44, 25.54s/it]\n"
     ]
    },
    {
     "name": "stdout",
     "output_type": "stream",
     "text": [
      "Stopping training after >600 seconds.\n"
     ]
    },
    {
     "name": "stderr",
     "output_type": "stream",
     "text": [
      "val 117:  47%|████▋     | 9/19 [02:12<02:27, 14.74s/it]\n",
      "val 117:  47%|████▋     | 9/19 [02:12<02:27, 14.74s/it]\n"
     ]
    },
    {
     "name": "stdout",
     "output_type": "stream",
     "text": [
      "Stopping validation after >120.0 seconds.\n",
      "Epoch 118/1000 | Train 3747104.0000 | Val 3959362.4000 | LR 0.007290\n"
     ]
    },
    {
     "name": "stderr",
     "output_type": "stream",
     "text": [
      "train 118:   9%|▉         | 24/256 [10:14<1:39:04, 25.62s/it]\n",
      "train 118:   9%|▉         | 24/256 [10:14<1:39:04, 25.62s/it]\n"
     ]
    },
    {
     "name": "stdout",
     "output_type": "stream",
     "text": [
      "Stopping training after >600 seconds.\n"
     ]
    },
    {
     "name": "stderr",
     "output_type": "stream",
     "text": [
      "val 118:  47%|████▋     | 9/19 [02:12<02:27, 14.74s/it]\n",
      "val 118:  47%|████▋     | 9/19 [02:12<02:27, 14.74s/it]\n"
     ]
    },
    {
     "name": "stdout",
     "output_type": "stream",
     "text": [
      "Stopping validation after >120.0 seconds.\n",
      "Epoch 119/1000 | Train 3749140.1600 | Val 3959060.4000 | LR 0.007290\n"
     ]
    },
    {
     "name": "stderr",
     "output_type": "stream",
     "text": [
      "train 119:   9%|▉         | 24/256 [10:11<1:38:34, 25.49s/it]\n",
      "train 119:   9%|▉         | 24/256 [10:11<1:38:34, 25.49s/it]\n"
     ]
    },
    {
     "name": "stdout",
     "output_type": "stream",
     "text": [
      "Stopping training after >600 seconds.\n"
     ]
    },
    {
     "name": "stderr",
     "output_type": "stream",
     "text": [
      "val 119:  47%|████▋     | 9/19 [02:12<02:27, 14.74s/it]\n",
      "val 119:  47%|████▋     | 9/19 [02:12<02:27, 14.74s/it]\n"
     ]
    },
    {
     "name": "stdout",
     "output_type": "stream",
     "text": [
      "Stopping validation after >120.0 seconds.\n",
      "Epoch 120/1000 | Train 3752259.8400 | Val 3973490.0000 | LR 0.007290\n"
     ]
    },
    {
     "name": "stderr",
     "output_type": "stream",
     "text": [
      "train 120:   9%|▉         | 24/256 [10:11<1:38:35, 25.50s/it]\n",
      "train 120:   9%|▉         | 24/256 [10:11<1:38:35, 25.50s/it]\n"
     ]
    },
    {
     "name": "stdout",
     "output_type": "stream",
     "text": [
      "Stopping training after >600 seconds.\n"
     ]
    },
    {
     "name": "stderr",
     "output_type": "stream",
     "text": [
      "val 120:  47%|████▋     | 9/19 [02:12<02:26, 14.69s/it]\n",
      "val 120:  47%|████▋     | 9/19 [02:12<02:26, 14.69s/it]\n"
     ]
    },
    {
     "name": "stdout",
     "output_type": "stream",
     "text": [
      "Stopping validation after >120.0 seconds.\n",
      "Epoch 121/1000 | Train 3769563.2000 | Val 3958363.2000 | LR 0.006561\n"
     ]
    },
    {
     "name": "stderr",
     "output_type": "stream",
     "text": [
      "train 121:   9%|▉         | 24/256 [10:13<1:38:49, 25.56s/it]\n",
      "train 121:   9%|▉         | 24/256 [10:13<1:38:49, 25.56s/it]\n"
     ]
    },
    {
     "name": "stdout",
     "output_type": "stream",
     "text": [
      "Stopping training after >600 seconds.\n"
     ]
    },
    {
     "name": "stderr",
     "output_type": "stream",
     "text": [
      "val 121:  47%|████▋     | 9/19 [02:12<02:26, 14.68s/it]\n",
      "val 121:  47%|████▋     | 9/19 [02:12<02:26, 14.68s/it]\n"
     ]
    },
    {
     "name": "stdout",
     "output_type": "stream",
     "text": [
      "Stopping validation after >120.0 seconds.\n",
      "Epoch 122/1000 | Train 3760569.6000 | Val 3961571.6000 | LR 0.006561\n"
     ]
    },
    {
     "name": "stderr",
     "output_type": "stream",
     "text": [
      "train 122:   9%|▉         | 24/256 [10:15<1:39:09, 25.65s/it]\n",
      "train 122:   9%|▉         | 24/256 [10:15<1:39:09, 25.65s/it]\n"
     ]
    },
    {
     "name": "stdout",
     "output_type": "stream",
     "text": [
      "Stopping training after >600 seconds.\n"
     ]
    },
    {
     "name": "stderr",
     "output_type": "stream",
     "text": [
      "val 122:  47%|████▋     | 9/19 [02:12<02:27, 14.77s/it]\n",
      "val 122:  47%|████▋     | 9/19 [02:12<02:27, 14.77s/it]\n"
     ]
    },
    {
     "name": "stdout",
     "output_type": "stream",
     "text": [
      "Stopping validation after >120.0 seconds.\n",
      "Epoch 123/1000 | Train 3763422.7200 | Val 3967817.6000 | LR 0.006561\n"
     ]
    },
    {
     "name": "stderr",
     "output_type": "stream",
     "text": [
      "train 123:   9%|▉         | 24/256 [10:11<1:38:32, 25.48s/it]\n",
      "train 123:   9%|▉         | 24/256 [10:11<1:38:32, 25.48s/it]\n"
     ]
    },
    {
     "name": "stdout",
     "output_type": "stream",
     "text": [
      "Stopping training after >600 seconds.\n"
     ]
    },
    {
     "name": "stderr",
     "output_type": "stream",
     "text": [
      "val 123:  47%|████▋     | 9/19 [02:12<02:27, 14.76s/it]\n",
      "val 123:  47%|████▋     | 9/19 [02:12<02:27, 14.76s/it]\n"
     ]
    },
    {
     "name": "stdout",
     "output_type": "stream",
     "text": [
      "Stopping validation after >120.0 seconds.\n",
      "Epoch 124/1000 | Train 3755830.7200 | Val 3979878.0000 | LR 0.006561\n"
     ]
    },
    {
     "name": "stderr",
     "output_type": "stream",
     "text": [
      "train 124:   9%|▉         | 24/256 [10:13<1:38:51, 25.57s/it]\n",
      "train 124:   9%|▉         | 24/256 [10:13<1:38:51, 25.57s/it]\n"
     ]
    },
    {
     "name": "stdout",
     "output_type": "stream",
     "text": [
      "Stopping training after >600 seconds.\n"
     ]
    },
    {
     "name": "stderr",
     "output_type": "stream",
     "text": [
      "val 124:  47%|████▋     | 9/19 [02:12<02:27, 14.75s/it]\n",
      "val 124:  47%|████▋     | 9/19 [02:12<02:27, 14.75s/it]\n"
     ]
    },
    {
     "name": "stdout",
     "output_type": "stream",
     "text": [
      "Stopping validation after >120.0 seconds.\n",
      "Epoch 125/1000 | Train 3730571.5200 | Val 3961474.8000 | LR 0.006561\n"
     ]
    },
    {
     "name": "stderr",
     "output_type": "stream",
     "text": [
      "train 125:   9%|▉         | 24/256 [10:11<1:38:27, 25.46s/it]\n",
      "train 125:   9%|▉         | 24/256 [10:11<1:38:27, 25.46s/it]\n"
     ]
    },
    {
     "name": "stdout",
     "output_type": "stream",
     "text": [
      "Stopping training after >600 seconds.\n"
     ]
    },
    {
     "name": "stderr",
     "output_type": "stream",
     "text": [
      "val 125:  47%|████▋     | 9/19 [02:13<02:28, 14.81s/it]\n",
      "val 125:  47%|████▋     | 9/19 [02:13<02:28, 14.81s/it]\n"
     ]
    },
    {
     "name": "stdout",
     "output_type": "stream",
     "text": [
      "Stopping validation after >120.0 seconds.\n",
      "Epoch 126/1000 | Train 3766407.6800 | Val 3970674.0000 | LR 0.006561\n"
     ]
    },
    {
     "name": "stderr",
     "output_type": "stream",
     "text": [
      "train 126:   9%|▉         | 24/256 [10:14<1:39:02, 25.61s/it]\n",
      "train 126:   9%|▉         | 24/256 [10:14<1:39:02, 25.61s/it]\n"
     ]
    },
    {
     "name": "stdout",
     "output_type": "stream",
     "text": [
      "Stopping training after >600 seconds.\n"
     ]
    },
    {
     "name": "stderr",
     "output_type": "stream",
     "text": [
      "val 126:  47%|████▋     | 9/19 [02:13<02:28, 14.80s/it]\n",
      "val 126:  47%|████▋     | 9/19 [02:13<02:28, 14.80s/it]\n"
     ]
    },
    {
     "name": "stdout",
     "output_type": "stream",
     "text": [
      "Stopping validation after >120.0 seconds.\n",
      "Epoch 127/1000 | Train 3730385.9200 | Val 3962199.6000 | LR 0.006561\n"
     ]
    },
    {
     "name": "stderr",
     "output_type": "stream",
     "text": [
      "train 127:   9%|▉         | 24/256 [10:09<1:38:16, 25.42s/it]\n",
      "train 127:   9%|▉         | 24/256 [10:09<1:38:16, 25.42s/it]\n"
     ]
    },
    {
     "name": "stdout",
     "output_type": "stream",
     "text": [
      "Stopping training after >600 seconds.\n"
     ]
    },
    {
     "name": "stderr",
     "output_type": "stream",
     "text": [
      "val 127:  47%|████▋     | 9/19 [02:11<02:26, 14.62s/it]\n",
      "val 127:  47%|████▋     | 9/19 [02:11<02:26, 14.62s/it]\n"
     ]
    },
    {
     "name": "stdout",
     "output_type": "stream",
     "text": [
      "Stopping validation after >120.0 seconds.\n",
      "Epoch 128/1000 | Train 3741426.5600 | Val 3964955.2000 | LR 0.006561\n"
     ]
    },
    {
     "name": "stderr",
     "output_type": "stream",
     "text": [
      "train 128:   9%|▉         | 24/256 [10:06<1:37:42, 25.27s/it]\n",
      "train 128:   9%|▉         | 24/256 [10:06<1:37:42, 25.27s/it]\n"
     ]
    },
    {
     "name": "stdout",
     "output_type": "stream",
     "text": [
      "Stopping training after >600 seconds.\n"
     ]
    },
    {
     "name": "stderr",
     "output_type": "stream",
     "text": [
      "val 128:  47%|████▋     | 9/19 [02:00<02:13, 13.39s/it]\n",
      "val 128:  47%|████▋     | 9/19 [02:00<02:13, 13.39s/it]\n"
     ]
    },
    {
     "name": "stdout",
     "output_type": "stream",
     "text": [
      "Stopping validation after >120.0 seconds.\n",
      "Epoch 129/1000 | Train 3746117.1200 | Val 3970186.0000 | LR 0.006561\n"
     ]
    },
    {
     "name": "stderr",
     "output_type": "stream",
     "text": [
      "train 129:  10%|█         | 26/256 [10:04<1:29:03, 23.23s/it]\n",
      "train 129:  10%|█         | 26/256 [10:04<1:29:03, 23.23s/it]\n"
     ]
    },
    {
     "name": "stdout",
     "output_type": "stream",
     "text": [
      "Stopping training after >600 seconds.\n"
     ]
    },
    {
     "name": "stderr",
     "output_type": "stream",
     "text": [
      "val 129:  47%|████▋     | 9/19 [02:00<02:13, 13.35s/it]\n",
      "val 129:  47%|████▋     | 9/19 [02:00<02:13, 13.35s/it]\n"
     ]
    },
    {
     "name": "stdout",
     "output_type": "stream",
     "text": [
      "Stopping validation after >120.0 seconds.\n",
      "Epoch 130/1000 | Train 3747753.4815 | Val 3960544.4000 | LR 0.006561\n"
     ]
    },
    {
     "name": "stderr",
     "output_type": "stream",
     "text": [
      "train 130:  10%|█         | 26/256 [10:05<1:29:14, 23.28s/it]\n",
      "train 130:  10%|█         | 26/256 [10:05<1:29:14, 23.28s/it]\n"
     ]
    },
    {
     "name": "stdout",
     "output_type": "stream",
     "text": [
      "Stopping training after >600 seconds.\n"
     ]
    },
    {
     "name": "stderr",
     "output_type": "stream",
     "text": [
      "val 130:  53%|█████▎    | 10/19 [02:12<01:58, 13.20s/it]\n",
      "val 130:  53%|█████▎    | 10/19 [02:12<01:58, 13.20s/it]\n"
     ]
    },
    {
     "name": "stdout",
     "output_type": "stream",
     "text": [
      "Stopping validation after >120.0 seconds.\n",
      "Epoch 131/1000 | Train 3738960.0000 | Val 3955430.5455 | LR 0.006561\n"
     ]
    },
    {
     "name": "stderr",
     "output_type": "stream",
     "text": [
      "train 131:  10%|█         | 26/256 [10:02<1:28:45, 23.16s/it]\n",
      "train 131:  10%|█         | 26/256 [10:02<1:28:45, 23.16s/it]\n"
     ]
    },
    {
     "name": "stdout",
     "output_type": "stream",
     "text": [
      "Stopping training after >600 seconds.\n"
     ]
    },
    {
     "name": "stderr",
     "output_type": "stream",
     "text": [
      "val 131:  53%|█████▎    | 10/19 [02:10<01:57, 13.10s/it]\n",
      "val 131:  53%|█████▎    | 10/19 [02:10<01:57, 13.10s/it]\n"
     ]
    },
    {
     "name": "stdout",
     "output_type": "stream",
     "text": [
      "Stopping validation after >120.0 seconds.\n",
      "Epoch 132/1000 | Train 3744885.0370 | Val 3967245.0909 | LR 0.006561\n"
     ]
    },
    {
     "name": "stderr",
     "output_type": "stream",
     "text": [
      "train 132:  10%|█         | 26/256 [10:02<1:28:46, 23.16s/it]\n",
      "train 132:  10%|█         | 26/256 [10:02<1:28:46, 23.16s/it]\n"
     ]
    },
    {
     "name": "stdout",
     "output_type": "stream",
     "text": [
      "Stopping training after >600 seconds.\n"
     ]
    },
    {
     "name": "stderr",
     "output_type": "stream",
     "text": [
      "val 132:  47%|████▋     | 9/19 [02:00<02:13, 13.33s/it]\n",
      "val 132:  47%|████▋     | 9/19 [02:00<02:13, 13.33s/it]\n"
     ]
    },
    {
     "name": "stdout",
     "output_type": "stream",
     "text": [
      "Stopping validation after >120.0 seconds.\n",
      "Epoch 133/1000 | Train 3726077.3333 | Val 3951515.2000 | LR 0.006561\n"
     ]
    },
    {
     "name": "stderr",
     "output_type": "stream",
     "text": [
      "train 133:  10%|█         | 26/256 [10:00<1:28:36, 23.11s/it]\n",
      "train 133:  10%|█         | 26/256 [10:00<1:28:36, 23.11s/it]\n"
     ]
    },
    {
     "name": "stdout",
     "output_type": "stream",
     "text": [
      "Stopping training after >600 seconds.\n"
     ]
    },
    {
     "name": "stderr",
     "output_type": "stream",
     "text": [
      "val 133:  53%|█████▎    | 10/19 [02:11<01:58, 13.11s/it]\n",
      "val 133:  53%|█████▎    | 10/19 [02:11<01:58, 13.11s/it]\n"
     ]
    },
    {
     "name": "stdout",
     "output_type": "stream",
     "text": [
      "Stopping validation after >120.0 seconds.\n",
      "Epoch 134/1000 | Train 3747424.2963 | Val 3973364.0000 | LR 0.006561\n"
     ]
    },
    {
     "name": "stderr",
     "output_type": "stream",
     "text": [
      "train 134:  10%|▉         | 25/256 [10:16<1:34:54, 24.65s/it]\n",
      "train 134:  10%|▉         | 25/256 [10:16<1:34:54, 24.65s/it]\n"
     ]
    },
    {
     "name": "stdout",
     "output_type": "stream",
     "text": [
      "Stopping training after >600 seconds.\n"
     ]
    },
    {
     "name": "stderr",
     "output_type": "stream",
     "text": [
      "val 134:  42%|████▏     | 8/19 [02:02<02:48, 15.33s/it]\n",
      "val 134:  42%|████▏     | 8/19 [02:02<02:48, 15.33s/it]\n"
     ]
    },
    {
     "name": "stdout",
     "output_type": "stream",
     "text": [
      "Stopping validation after >120.0 seconds.\n",
      "Epoch 135/1000 | Train 3719267.6923 | Val 3959920.4444 | LR 0.006561\n"
     ]
    },
    {
     "name": "stderr",
     "output_type": "stream",
     "text": [
      "train 135:   9%|▉         | 24/256 [10:01<1:36:53, 25.06s/it]\n",
      "train 135:   9%|▉         | 24/256 [10:01<1:36:53, 25.06s/it]\n"
     ]
    },
    {
     "name": "stdout",
     "output_type": "stream",
     "text": [
      "Stopping training after >600 seconds.\n"
     ]
    },
    {
     "name": "stderr",
     "output_type": "stream",
     "text": [
      "val 135:  47%|████▋     | 9/19 [02:04<02:18, 13.83s/it]\n",
      "val 135:  47%|████▋     | 9/19 [02:04<02:18, 13.83s/it]\n"
     ]
    },
    {
     "name": "stdout",
     "output_type": "stream",
     "text": [
      "Stopping validation after >120.0 seconds.\n",
      "Epoch 136/1000 | Train 3745902.7200 | Val 3958917.2000 | LR 0.006561\n"
     ]
    },
    {
     "name": "stderr",
     "output_type": "stream",
     "text": [
      "train 136:  10%|▉         | 25/256 [10:04<1:33:01, 24.16s/it]\n",
      "train 136:  10%|▉         | 25/256 [10:04<1:33:01, 24.16s/it]\n"
     ]
    },
    {
     "name": "stdout",
     "output_type": "stream",
     "text": [
      "Stopping training after >600 seconds.\n"
     ]
    },
    {
     "name": "stderr",
     "output_type": "stream",
     "text": [
      "val 136:  47%|████▋     | 9/19 [02:05<02:18, 13.89s/it]\n",
      "val 136:  47%|████▋     | 9/19 [02:05<02:18, 13.89s/it]\n"
     ]
    },
    {
     "name": "stdout",
     "output_type": "stream",
     "text": [
      "Stopping validation after >120.0 seconds.\n",
      "Epoch 137/1000 | Train 3721373.5385 | Val 3957290.8000 | LR 0.006561\n"
     ]
    },
    {
     "name": "stderr",
     "output_type": "stream",
     "text": [
      "train 137:  10%|▉         | 25/256 [10:09<1:33:52, 24.38s/it]\n",
      "train 137:  10%|▉         | 25/256 [10:09<1:33:52, 24.38s/it]\n"
     ]
    },
    {
     "name": "stdout",
     "output_type": "stream",
     "text": [
      "Stopping training after >600 seconds.\n"
     ]
    },
    {
     "name": "stderr",
     "output_type": "stream",
     "text": [
      "val 137:  47%|████▋     | 9/19 [02:02<02:16, 13.63s/it]\n",
      "val 137:  47%|████▋     | 9/19 [02:02<02:16, 13.63s/it]\n"
     ]
    },
    {
     "name": "stdout",
     "output_type": "stream",
     "text": [
      "Stopping validation after >120.0 seconds.\n",
      "Epoch 138/1000 | Train 3726599.0769 | Val 3962618.0000 | LR 0.006561\n"
     ]
    },
    {
     "name": "stderr",
     "output_type": "stream",
     "text": [
      "train 138:  10%|▉         | 25/256 [10:06<1:33:28, 24.28s/it]\n",
      "train 138:  10%|▉         | 25/256 [10:06<1:33:28, 24.28s/it]\n"
     ]
    },
    {
     "name": "stdout",
     "output_type": "stream",
     "text": [
      "Stopping training after >600 seconds.\n"
     ]
    },
    {
     "name": "stderr",
     "output_type": "stream",
     "text": [
      "val 138:  47%|████▋     | 9/19 [02:03<02:17, 13.75s/it]\n",
      "val 138:  47%|████▋     | 9/19 [02:03<02:17, 13.75s/it]\n"
     ]
    },
    {
     "name": "stdout",
     "output_type": "stream",
     "text": [
      "Stopping validation after >120.0 seconds.\n",
      "Epoch 139/1000 | Train 3742100.9231 | Val 3966012.8000 | LR 0.006561\n"
     ]
    },
    {
     "name": "stderr",
     "output_type": "stream",
     "text": [
      "train 139:  10%|▉         | 25/256 [10:19<1:35:22, 24.77s/it]\n",
      "train 139:  10%|▉         | 25/256 [10:19<1:35:22, 24.77s/it]\n"
     ]
    },
    {
     "name": "stdout",
     "output_type": "stream",
     "text": [
      "Stopping training after >600 seconds.\n"
     ]
    },
    {
     "name": "stderr",
     "output_type": "stream",
     "text": [
      "val 139:  47%|████▋     | 9/19 [02:03<02:17, 13.72s/it]\n",
      "val 139:  47%|████▋     | 9/19 [02:03<02:17, 13.72s/it]\n"
     ]
    },
    {
     "name": "stdout",
     "output_type": "stream",
     "text": [
      "Stopping validation after >120.0 seconds.\n",
      "Epoch 140/1000 | Train 3752166.7692 | Val 3979486.0000 | LR 0.006561\n"
     ]
    },
    {
     "name": "stderr",
     "output_type": "stream",
     "text": [
      "train 140:  10%|▉         | 25/256 [10:08<1:33:46, 24.36s/it]\n",
      "train 140:  10%|▉         | 25/256 [10:08<1:33:46, 24.36s/it]\n"
     ]
    },
    {
     "name": "stdout",
     "output_type": "stream",
     "text": [
      "Stopping training after >600 seconds.\n"
     ]
    },
    {
     "name": "stderr",
     "output_type": "stream",
     "text": [
      "val 140:  47%|████▋     | 9/19 [02:04<02:18, 13.88s/it]\n",
      "val 140:  47%|████▋     | 9/19 [02:04<02:18, 13.88s/it]\n"
     ]
    },
    {
     "name": "stdout",
     "output_type": "stream",
     "text": [
      "Stopping validation after >120.0 seconds.\n",
      "Epoch 141/1000 | Train 3754321.2308 | Val 3975840.0000 | LR 0.006561\n"
     ]
    },
    {
     "name": "stderr",
     "output_type": "stream",
     "text": [
      "train 141:  10%|▉         | 25/256 [10:18<1:35:17, 24.75s/it]\n",
      "train 141:  10%|▉         | 25/256 [10:18<1:35:17, 24.75s/it]\n"
     ]
    },
    {
     "name": "stdout",
     "output_type": "stream",
     "text": [
      "Stopping training after >600 seconds.\n"
     ]
    },
    {
     "name": "stderr",
     "output_type": "stream",
     "text": [
      "val 141:  47%|████▋     | 9/19 [02:11<02:26, 14.63s/it]\n"
     ]
    },
    {
     "name": "stdout",
     "output_type": "stream",
     "text": [
      "Stopping validation after >120.0 seconds.\n",
      "Epoch 142/1000 | Train 3765727.6923 | Val 3976713.2000 | LR 0.006561\n"
     ]
    },
    {
     "name": "stderr",
     "output_type": "stream",
     "text": [
      "train 142:   9%|▉         | 24/256 [10:22<1:40:15, 25.93s/it]\n"
     ]
    },
    {
     "name": "stdout",
     "output_type": "stream",
     "text": [
      "Stopping training after >600 seconds.\n"
     ]
    },
    {
     "name": "stderr",
     "output_type": "stream",
     "text": [
      "val 142:  42%|████▏     | 8/19 [02:00<02:45, 15.07s/it]\n"
     ]
    },
    {
     "name": "stdout",
     "output_type": "stream",
     "text": [
      "Stopping validation after >120.0 seconds.\n",
      "Epoch 143/1000 | Train 3768533.4400 | Val 3975222.2222 | LR 0.006561\n"
     ]
    },
    {
     "name": "stderr",
     "output_type": "stream",
     "text": [
      "train 143:   9%|▉         | 24/256 [10:22<1:40:16, 25.93s/it]\n"
     ]
    },
    {
     "name": "stdout",
     "output_type": "stream",
     "text": [
      "Stopping training after >600 seconds.\n"
     ]
    },
    {
     "name": "stderr",
     "output_type": "stream",
     "text": [
      "val 143:  42%|████▏     | 8/19 [02:00<02:45, 15.04s/it]\n"
     ]
    },
    {
     "name": "stdout",
     "output_type": "stream",
     "text": [
      "Stopping validation after >120.0 seconds.\n",
      "Epoch 144/1000 | Train 3731482.5600 | Val 3980526.6667 | LR 0.006561\n"
     ]
    },
    {
     "name": "stderr",
     "output_type": "stream",
     "text": [
      "train 144:   9%|▉         | 24/256 [10:21<1:40:09, 25.90s/it]\n"
     ]
    },
    {
     "name": "stdout",
     "output_type": "stream",
     "text": [
      "Stopping training after >600 seconds.\n"
     ]
    },
    {
     "name": "stderr",
     "output_type": "stream",
     "text": [
      "val 144:  42%|████▏     | 8/19 [02:01<02:46, 15.13s/it]\n"
     ]
    },
    {
     "name": "stdout",
     "output_type": "stream",
     "text": [
      "Stopping validation after >120.0 seconds.\n",
      "Epoch 145/1000 | Train 3741313.9200 | Val 3963523.1111 | LR 0.006561\n"
     ]
    },
    {
     "name": "stderr",
     "output_type": "stream",
     "text": [
      "train 145:   9%|▉         | 24/256 [10:24<1:40:35, 26.02s/it]\n"
     ]
    },
    {
     "name": "stdout",
     "output_type": "stream",
     "text": [
      "Stopping training after >600 seconds.\n"
     ]
    },
    {
     "name": "stderr",
     "output_type": "stream",
     "text": [
      "val 145:  42%|████▏     | 8/19 [02:00<02:46, 15.11s/it]\n"
     ]
    },
    {
     "name": "stdout",
     "output_type": "stream",
     "text": [
      "Stopping validation after >120.0 seconds.\n",
      "Epoch 146/1000 | Train 3739005.7600 | Val 3964239.5556 | LR 0.006561\n"
     ]
    },
    {
     "name": "stderr",
     "output_type": "stream",
     "text": [
      "train 146:   9%|▉         | 24/256 [10:23<1:40:31, 26.00s/it]\n"
     ]
    },
    {
     "name": "stdout",
     "output_type": "stream",
     "text": [
      "Stopping training after >600 seconds.\n"
     ]
    },
    {
     "name": "stderr",
     "output_type": "stream",
     "text": [
      "val 146:  47%|████▋     | 9/19 [02:12<02:27, 14.72s/it]\n"
     ]
    },
    {
     "name": "stdout",
     "output_type": "stream",
     "text": [
      "Stopping validation after >120.0 seconds.\n",
      "Epoch 147/1000 | Train 3746356.4800 | Val 3977763.2000 | LR 0.006561\n"
     ]
    },
    {
     "name": "stderr",
     "output_type": "stream",
     "text": [
      "train 147:   9%|▉         | 24/256 [10:23<1:40:26, 25.98s/it]\n"
     ]
    },
    {
     "name": "stdout",
     "output_type": "stream",
     "text": [
      "Stopping training after >600 seconds.\n"
     ]
    },
    {
     "name": "stderr",
     "output_type": "stream",
     "text": [
      "val 147:  42%|████▏     | 8/19 [02:00<02:45, 15.08s/it]\n"
     ]
    },
    {
     "name": "stdout",
     "output_type": "stream",
     "text": [
      "Stopping validation after >120.0 seconds.\n",
      "Epoch 148/1000 | Train 3727671.6800 | Val 3951942.6667 | LR 0.006561\n"
     ]
    },
    {
     "name": "stderr",
     "output_type": "stream",
     "text": [
      "train 148:   9%|▉         | 24/256 [10:23<1:40:28, 25.99s/it]\n"
     ]
    },
    {
     "name": "stdout",
     "output_type": "stream",
     "text": [
      "Stopping training after >600 seconds.\n"
     ]
    },
    {
     "name": "stderr",
     "output_type": "stream",
     "text": [
      "val 148:  42%|████▏     | 8/19 [02:00<02:45, 15.07s/it]\n"
     ]
    },
    {
     "name": "stdout",
     "output_type": "stream",
     "text": [
      "Stopping validation after >120.0 seconds.\n",
      "Epoch 149/1000 | Train 3709212.1600 | Val 3959071.5556 | LR 0.006561\n"
     ]
    },
    {
     "name": "stderr",
     "output_type": "stream",
     "text": [
      "train 149:   9%|▉         | 24/256 [10:22<1:40:19, 25.95s/it]\n"
     ]
    },
    {
     "name": "stdout",
     "output_type": "stream",
     "text": [
      "Stopping training after >600 seconds.\n"
     ]
    },
    {
     "name": "stderr",
     "output_type": "stream",
     "text": [
      "val 149:  42%|████▏     | 8/19 [02:00<02:46, 15.11s/it]\n"
     ]
    },
    {
     "name": "stdout",
     "output_type": "stream",
     "text": [
      "Stopping validation after >120.0 seconds.\n",
      "Epoch 150/1000 | Train 3753026.8800 | Val 3962846.2222 | LR 0.006561\n"
     ]
    },
    {
     "name": "stderr",
     "output_type": "stream",
     "text": [
      "train 150:   9%|▉         | 24/256 [10:24<1:40:35, 26.02s/it]\n"
     ]
    },
    {
     "name": "stdout",
     "output_type": "stream",
     "text": [
      "Stopping training after >600 seconds.\n"
     ]
    },
    {
     "name": "stderr",
     "output_type": "stream",
     "text": [
      "val 150:  42%|████▏     | 8/19 [02:00<02:46, 15.12s/it]\n"
     ]
    },
    {
     "name": "stdout",
     "output_type": "stream",
     "text": [
      "Stopping validation after >120.0 seconds.\n",
      "Epoch 151/1000 | Train 3735774.7200 | Val 3953622.2222 | LR 0.005905\n"
     ]
    },
    {
     "name": "stderr",
     "output_type": "stream",
     "text": [
      "train 151:   9%|▉         | 24/256 [10:21<1:40:12, 25.92s/it]\n"
     ]
    },
    {
     "name": "stdout",
     "output_type": "stream",
     "text": [
      "Stopping training after >600 seconds.\n"
     ]
    },
    {
     "name": "stderr",
     "output_type": "stream",
     "text": [
      "val 151:  42%|████▏     | 8/19 [02:01<02:46, 15.13s/it]\n"
     ]
    },
    {
     "name": "stdout",
     "output_type": "stream",
     "text": [
      "Stopping validation after >120.0 seconds.\n",
      "Epoch 152/1000 | Train 3722146.2400 | Val 3970446.6667 | LR 0.005905\n"
     ]
    },
    {
     "name": "stderr",
     "output_type": "stream",
     "text": [
      "train 152:   9%|▉         | 24/256 [10:20<1:40:00, 25.86s/it]\n"
     ]
    },
    {
     "name": "stdout",
     "output_type": "stream",
     "text": [
      "Stopping training after >600 seconds.\n"
     ]
    },
    {
     "name": "stderr",
     "output_type": "stream",
     "text": [
      "val 152:  42%|████▏     | 8/19 [02:00<02:46, 15.12s/it]\n"
     ]
    },
    {
     "name": "stdout",
     "output_type": "stream",
     "text": [
      "Stopping validation after >120.0 seconds.\n",
      "Epoch 153/1000 | Train 3752154.8800 | Val 3960590.2222 | LR 0.005905\n"
     ]
    },
    {
     "name": "stderr",
     "output_type": "stream",
     "text": [
      "train 153:   9%|▉         | 24/256 [10:23<1:40:31, 26.00s/it]\n"
     ]
    },
    {
     "name": "stdout",
     "output_type": "stream",
     "text": [
      "Stopping training after >600 seconds.\n"
     ]
    },
    {
     "name": "stderr",
     "output_type": "stream",
     "text": [
      "val 153:  42%|████▏     | 8/19 [02:02<02:48, 15.28s/it]\n"
     ]
    },
    {
     "name": "stdout",
     "output_type": "stream",
     "text": [
      "Stopping validation after >120.0 seconds.\n",
      "Epoch 154/1000 | Train 3739022.4000 | Val 3964987.1111 | LR 0.005905\n"
     ]
    },
    {
     "name": "stderr",
     "output_type": "stream",
     "text": [
      "train 154:   9%|▉         | 24/256 [10:21<1:40:10, 25.91s/it]\n"
     ]
    },
    {
     "name": "stdout",
     "output_type": "stream",
     "text": [
      "Stopping training after >600 seconds.\n"
     ]
    },
    {
     "name": "stderr",
     "output_type": "stream",
     "text": [
      "val 154:  42%|████▏     | 8/19 [02:01<02:47, 15.23s/it]\n"
     ]
    },
    {
     "name": "stdout",
     "output_type": "stream",
     "text": [
      "Stopping validation after >120.0 seconds.\n",
      "Epoch 155/1000 | Train 3725346.8800 | Val 3942005.7778 | LR 0.005905\n"
     ]
    },
    {
     "name": "stderr",
     "output_type": "stream",
     "text": [
      "train 155:   9%|▉         | 24/256 [10:24<1:40:39, 26.03s/it]\n"
     ]
    },
    {
     "name": "stdout",
     "output_type": "stream",
     "text": [
      "Stopping training after >600 seconds.\n"
     ]
    },
    {
     "name": "stderr",
     "output_type": "stream",
     "text": [
      "val 155:  42%|████▏     | 8/19 [02:00<02:45, 15.06s/it]\n"
     ]
    },
    {
     "name": "stdout",
     "output_type": "stream",
     "text": [
      "Stopping validation after >120.0 seconds.\n",
      "Epoch 156/1000 | Train 3758171.5200 | Val 3961328.0000 | LR 0.005905\n"
     ]
    },
    {
     "name": "stderr",
     "output_type": "stream",
     "text": [
      "train 156:   9%|▉         | 24/256 [10:22<1:40:13, 25.92s/it]\n"
     ]
    },
    {
     "name": "stdout",
     "output_type": "stream",
     "text": [
      "Stopping training after >600 seconds.\n"
     ]
    },
    {
     "name": "stderr",
     "output_type": "stream",
     "text": [
      "val 156:  42%|████▏     | 8/19 [02:00<02:45, 15.07s/it]\n"
     ]
    },
    {
     "name": "stdout",
     "output_type": "stream",
     "text": [
      "Stopping validation after >120.0 seconds.\n",
      "Epoch 157/1000 | Train 3733013.1200 | Val 3968572.4444 | LR 0.005905\n"
     ]
    },
    {
     "name": "stderr",
     "output_type": "stream",
     "text": [
      "train 157:   9%|▉         | 24/256 [10:23<1:40:29, 25.99s/it]\n"
     ]
    },
    {
     "name": "stdout",
     "output_type": "stream",
     "text": [
      "Stopping training after >600 seconds.\n"
     ]
    },
    {
     "name": "stderr",
     "output_type": "stream",
     "text": [
      "val 157:  42%|████▏     | 8/19 [02:00<02:46, 15.11s/it]\n"
     ]
    },
    {
     "name": "stdout",
     "output_type": "stream",
     "text": [
      "Stopping validation after >120.0 seconds.\n",
      "Epoch 158/1000 | Train 3742083.8400 | Val 3972228.8889 | LR 0.005905\n"
     ]
    },
    {
     "name": "stderr",
     "output_type": "stream",
     "text": [
      "train 158:   9%|▉         | 24/256 [10:22<1:40:14, 25.93s/it]\n"
     ]
    },
    {
     "name": "stdout",
     "output_type": "stream",
     "text": [
      "Stopping training after >600 seconds.\n"
     ]
    },
    {
     "name": "stderr",
     "output_type": "stream",
     "text": [
      "val 158:  42%|████▏     | 8/19 [02:00<02:45, 15.08s/it]\n"
     ]
    },
    {
     "name": "stdout",
     "output_type": "stream",
     "text": [
      "Stopping validation after >120.0 seconds.\n",
      "Epoch 159/1000 | Train 3764231.6800 | Val 3966677.3333 | LR 0.005905\n"
     ]
    },
    {
     "name": "stderr",
     "output_type": "stream",
     "text": [
      "train 159:   9%|▉         | 24/256 [10:22<1:40:19, 25.95s/it]\n"
     ]
    },
    {
     "name": "stdout",
     "output_type": "stream",
     "text": [
      "Stopping training after >600 seconds.\n"
     ]
    },
    {
     "name": "stderr",
     "output_type": "stream",
     "text": [
      "val 159:  42%|████▏     | 8/19 [02:00<02:45, 15.08s/it]\n"
     ]
    },
    {
     "name": "stdout",
     "output_type": "stream",
     "text": [
      "Stopping validation after >120.0 seconds.\n",
      "Epoch 160/1000 | Train 3727498.5600 | Val 3945909.3333 | LR 0.005905\n"
     ]
    },
    {
     "name": "stderr",
     "output_type": "stream",
     "text": [
      "train 160:   9%|▉         | 24/256 [10:18<1:39:40, 25.78s/it]\n"
     ]
    },
    {
     "name": "stdout",
     "output_type": "stream",
     "text": [
      "Stopping training after >600 seconds.\n"
     ]
    },
    {
     "name": "stderr",
     "output_type": "stream",
     "text": [
      "val 160:  42%|████▏     | 8/19 [02:01<02:46, 15.16s/it]\n"
     ]
    },
    {
     "name": "stdout",
     "output_type": "stream",
     "text": [
      "Stopping validation after >120.0 seconds.\n",
      "Epoch 161/1000 | Train 3753517.7600 | Val 3944885.7778 | LR 0.005905\n"
     ]
    },
    {
     "name": "stderr",
     "output_type": "stream",
     "text": [
      "train 161:   9%|▉         | 24/256 [10:20<1:39:56, 25.85s/it]\n"
     ]
    },
    {
     "name": "stdout",
     "output_type": "stream",
     "text": [
      "Stopping training after >600 seconds.\n"
     ]
    },
    {
     "name": "stderr",
     "output_type": "stream",
     "text": [
      "val 161:  42%|████▏     | 8/19 [02:01<02:46, 15.14s/it]\n"
     ]
    },
    {
     "name": "stdout",
     "output_type": "stream",
     "text": [
      "Stopping validation after >120.0 seconds.\n",
      "Epoch 162/1000 | Train 3736771.5200 | Val 3968227.1111 | LR 0.005905\n"
     ]
    },
    {
     "name": "stderr",
     "output_type": "stream",
     "text": [
      "train 162:   9%|▉         | 24/256 [10:21<1:40:03, 25.88s/it]\n"
     ]
    },
    {
     "name": "stdout",
     "output_type": "stream",
     "text": [
      "Stopping training after >600 seconds.\n"
     ]
    },
    {
     "name": "stderr",
     "output_type": "stream",
     "text": [
      "val 162:  42%|████▏     | 8/19 [02:00<02:45, 15.05s/it]\n"
     ]
    },
    {
     "name": "stdout",
     "output_type": "stream",
     "text": [
      "Stopping validation after >120.0 seconds.\n",
      "Epoch 163/1000 | Train 3752836.8000 | Val 3958336.4444 | LR 0.005905\n"
     ]
    },
    {
     "name": "stderr",
     "output_type": "stream",
     "text": [
      "train 163:   9%|▉         | 24/256 [10:19<1:39:52, 25.83s/it]\n"
     ]
    },
    {
     "name": "stdout",
     "output_type": "stream",
     "text": [
      "Stopping training after >600 seconds.\n"
     ]
    },
    {
     "name": "stderr",
     "output_type": "stream",
     "text": [
      "val 163:  47%|████▋     | 9/19 [02:12<02:27, 14.73s/it]\n"
     ]
    },
    {
     "name": "stdout",
     "output_type": "stream",
     "text": [
      "Stopping validation after >120.0 seconds.\n",
      "Epoch 164/1000 | Train 3733232.6400 | Val 3946032.4000 | LR 0.005905\n"
     ]
    },
    {
     "name": "stderr",
     "output_type": "stream",
     "text": [
      "train 164:   9%|▉         | 24/256 [10:21<1:40:12, 25.92s/it]\n"
     ]
    },
    {
     "name": "stdout",
     "output_type": "stream",
     "text": [
      "Stopping training after >600 seconds.\n"
     ]
    },
    {
     "name": "stderr",
     "output_type": "stream",
     "text": [
      "val 164:  42%|████▏     | 8/19 [02:00<02:46, 15.09s/it]\n"
     ]
    },
    {
     "name": "stdout",
     "output_type": "stream",
     "text": [
      "Stopping validation after >120.0 seconds.\n",
      "Epoch 165/1000 | Train 3746561.2800 | Val 3963095.1111 | LR 0.005905\n"
     ]
    },
    {
     "name": "stderr",
     "output_type": "stream",
     "text": [
      "train 165:   9%|▉         | 24/256 [10:20<1:39:59, 25.86s/it]\n"
     ]
    },
    {
     "name": "stdout",
     "output_type": "stream",
     "text": [
      "Stopping training after >600 seconds.\n"
     ]
    },
    {
     "name": "stderr",
     "output_type": "stream",
     "text": [
      "val 165:  42%|████▏     | 8/19 [02:00<02:45, 15.08s/it]\n"
     ]
    },
    {
     "name": "stdout",
     "output_type": "stream",
     "text": [
      "Stopping validation after >120.0 seconds.\n",
      "Epoch 166/1000 | Train 3722714.2400 | Val 3971248.4444 | LR 0.005905\n"
     ]
    },
    {
     "name": "stderr",
     "output_type": "stream",
     "text": [
      "train 166:   9%|▉         | 24/256 [10:22<1:40:12, 25.92s/it]\n"
     ]
    },
    {
     "name": "stdout",
     "output_type": "stream",
     "text": [
      "Stopping training after >600 seconds.\n"
     ]
    },
    {
     "name": "stderr",
     "output_type": "stream",
     "text": [
      "val 166:  42%|████▏     | 8/19 [02:02<02:48, 15.32s/it]\n"
     ]
    },
    {
     "name": "stdout",
     "output_type": "stream",
     "text": [
      "Stopping validation after >120.0 seconds.\n",
      "Epoch 167/1000 | Train 3773619.5200 | Val 3954263.5556 | LR 0.005905\n"
     ]
    },
    {
     "name": "stderr",
     "output_type": "stream",
     "text": [
      "train 167:   9%|▉         | 23/256 [10:02<1:41:43, 26.20s/it]\n"
     ]
    },
    {
     "name": "stdout",
     "output_type": "stream",
     "text": [
      "Stopping training after >600 seconds.\n"
     ]
    },
    {
     "name": "stderr",
     "output_type": "stream",
     "text": [
      "val 167:  42%|████▏     | 8/19 [02:00<02:45, 15.06s/it]\n"
     ]
    },
    {
     "name": "stdout",
     "output_type": "stream",
     "text": [
      "Stopping validation after >120.0 seconds.\n",
      "Epoch 168/1000 | Train 3729246.0000 | Val 3955862.6667 | LR 0.005905\n"
     ]
    },
    {
     "name": "stderr",
     "output_type": "stream",
     "text": [
      "train 168:   9%|▉         | 23/256 [10:05<1:42:10, 26.31s/it]\n"
     ]
    },
    {
     "name": "stdout",
     "output_type": "stream",
     "text": [
      "Stopping training after >600 seconds.\n"
     ]
    },
    {
     "name": "stderr",
     "output_type": "stream",
     "text": [
      "val 168:  42%|████▏     | 8/19 [02:02<02:48, 15.29s/it]\n"
     ]
    },
    {
     "name": "stdout",
     "output_type": "stream",
     "text": [
      "Stopping validation after >120.0 seconds.\n",
      "Epoch 169/1000 | Train 3739945.0000 | Val 3964650.2222 | LR 0.005905\n"
     ]
    },
    {
     "name": "stderr",
     "output_type": "stream",
     "text": [
      "train 169:   9%|▉         | 23/256 [10:03<1:41:58, 26.26s/it]\n"
     ]
    },
    {
     "name": "stdout",
     "output_type": "stream",
     "text": [
      "Stopping training after >600 seconds.\n"
     ]
    },
    {
     "name": "stderr",
     "output_type": "stream",
     "text": [
      "val 169:  42%|████▏     | 8/19 [02:03<02:49, 15.39s/it]\n"
     ]
    },
    {
     "name": "stdout",
     "output_type": "stream",
     "text": [
      "Stopping validation after >120.0 seconds.\n",
      "Epoch 170/1000 | Train 3757022.3333 | Val 3961340.8889 | LR 0.005905\n"
     ]
    },
    {
     "name": "stderr",
     "output_type": "stream",
     "text": [
      "train 170:   9%|▉         | 23/256 [10:00<1:41:27, 26.13s/it]\n"
     ]
    },
    {
     "name": "stdout",
     "output_type": "stream",
     "text": [
      "Stopping training after >600 seconds.\n"
     ]
    },
    {
     "name": "stderr",
     "output_type": "stream",
     "text": [
      "val 170:  42%|████▏     | 8/19 [02:00<02:46, 15.12s/it]\n"
     ]
    },
    {
     "name": "stdout",
     "output_type": "stream",
     "text": [
      "Stopping validation after >120.0 seconds.\n",
      "Epoch 171/1000 | Train 3748566.3333 | Val 3950269.7778 | LR 0.005905\n"
     ]
    },
    {
     "name": "stderr",
     "output_type": "stream",
     "text": [
      "train 171:   9%|▉         | 23/256 [10:00<1:41:27, 26.13s/it]\n"
     ]
    },
    {
     "name": "stdout",
     "output_type": "stream",
     "text": [
      "Stopping training after >600 seconds.\n"
     ]
    },
    {
     "name": "stderr",
     "output_type": "stream",
     "text": [
      "val 171:  42%|████▏     | 8/19 [02:00<02:45, 15.09s/it]\n"
     ]
    },
    {
     "name": "stdout",
     "output_type": "stream",
     "text": [
      "Stopping validation after >120.0 seconds.\n",
      "Epoch 172/1000 | Train 3758118.0000 | Val 3963566.6667 | LR 0.005905\n"
     ]
    },
    {
     "name": "stderr",
     "output_type": "stream",
     "text": [
      "train 172:   9%|▉         | 24/256 [10:22<1:40:16, 25.93s/it]\n"
     ]
    },
    {
     "name": "stdout",
     "output_type": "stream",
     "text": [
      "Stopping training after >600 seconds.\n"
     ]
    },
    {
     "name": "stderr",
     "output_type": "stream",
     "text": [
      "val 172:  42%|████▏     | 8/19 [02:02<02:47, 15.27s/it]\n"
     ]
    },
    {
     "name": "stdout",
     "output_type": "stream",
     "text": [
      "Stopping validation after >120.0 seconds.\n",
      "Epoch 173/1000 | Train 3766964.1600 | Val 3956469.3333 | LR 0.005905\n"
     ]
    },
    {
     "name": "stderr",
     "output_type": "stream",
     "text": [
      "train 173:   9%|▉         | 24/256 [10:20<1:39:59, 25.86s/it]\n"
     ]
    },
    {
     "name": "stdout",
     "output_type": "stream",
     "text": [
      "Stopping training after >600 seconds.\n"
     ]
    },
    {
     "name": "stderr",
     "output_type": "stream",
     "text": [
      "val 173:  42%|████▏     | 8/19 [02:01<02:47, 15.22s/it]\n"
     ]
    },
    {
     "name": "stdout",
     "output_type": "stream",
     "text": [
      "Stopping validation after >120.0 seconds.\n",
      "Epoch 174/1000 | Train 3743328.6400 | Val 3964168.4444 | LR 0.005905\n"
     ]
    },
    {
     "name": "stderr",
     "output_type": "stream",
     "text": [
      "train 174:   9%|▉         | 24/256 [10:22<1:40:19, 25.94s/it]\n"
     ]
    },
    {
     "name": "stdout",
     "output_type": "stream",
     "text": [
      "Stopping training after >600 seconds.\n"
     ]
    },
    {
     "name": "stderr",
     "output_type": "stream",
     "text": [
      "val 174:  42%|████▏     | 8/19 [02:00<02:45, 15.03s/it]\n"
     ]
    },
    {
     "name": "stdout",
     "output_type": "stream",
     "text": [
      "Stopping validation after >120.0 seconds.\n",
      "Epoch 175/1000 | Train 3734731.5200 | Val 3965455.1111 | LR 0.005905\n"
     ]
    },
    {
     "name": "stderr",
     "output_type": "stream",
     "text": [
      "train 175:   9%|▉         | 24/256 [10:24<1:40:37, 26.03s/it]\n"
     ]
    },
    {
     "name": "stdout",
     "output_type": "stream",
     "text": [
      "Stopping training after >600 seconds.\n"
     ]
    },
    {
     "name": "stderr",
     "output_type": "stream",
     "text": [
      "val 175:  42%|████▏     | 8/19 [02:00<02:45, 15.05s/it]\n"
     ]
    },
    {
     "name": "stdout",
     "output_type": "stream",
     "text": [
      "Stopping validation after >120.0 seconds.\n",
      "Epoch 176/1000 | Train 3752795.5200 | Val 3957666.6667 | LR 0.005905\n"
     ]
    },
    {
     "name": "stderr",
     "output_type": "stream",
     "text": [
      "train 176:   9%|▉         | 24/256 [10:22<1:40:16, 25.93s/it]\n"
     ]
    },
    {
     "name": "stdout",
     "output_type": "stream",
     "text": [
      "Stopping training after >600 seconds.\n"
     ]
    },
    {
     "name": "stderr",
     "output_type": "stream",
     "text": [
      "val 176:  47%|████▋     | 9/19 [02:13<02:28, 14.82s/it]\n"
     ]
    },
    {
     "name": "stdout",
     "output_type": "stream",
     "text": [
      "Stopping validation after >120.0 seconds.\n",
      "Epoch 177/1000 | Train 3744616.0000 | Val 3972576.0000 | LR 0.005905\n"
     ]
    },
    {
     "name": "stderr",
     "output_type": "stream",
     "text": [
      "train 177:   9%|▉         | 24/256 [10:20<1:39:55, 25.84s/it]\n"
     ]
    },
    {
     "name": "stdout",
     "output_type": "stream",
     "text": [
      "Stopping training after >600 seconds.\n"
     ]
    },
    {
     "name": "stderr",
     "output_type": "stream",
     "text": [
      "val 177:  42%|████▏     | 8/19 [02:00<02:46, 15.11s/it]\n"
     ]
    },
    {
     "name": "stdout",
     "output_type": "stream",
     "text": [
      "Stopping validation after >120.0 seconds.\n",
      "Epoch 178/1000 | Train 3746921.6000 | Val 3960803.1111 | LR 0.005905\n"
     ]
    },
    {
     "name": "stderr",
     "output_type": "stream",
     "text": [
      "train 178:   9%|▉         | 24/256 [10:23<1:40:30, 25.99s/it]\n"
     ]
    },
    {
     "name": "stdout",
     "output_type": "stream",
     "text": [
      "Stopping training after >600 seconds.\n"
     ]
    },
    {
     "name": "stderr",
     "output_type": "stream",
     "text": [
      "val 178:  47%|████▋     | 9/19 [02:13<02:28, 14.84s/it]\n"
     ]
    },
    {
     "name": "stdout",
     "output_type": "stream",
     "text": [
      "Stopping validation after >120.0 seconds.\n",
      "Epoch 179/1000 | Train 3725635.8400 | Val 3957641.2000 | LR 0.005905\n"
     ]
    },
    {
     "name": "stderr",
     "output_type": "stream",
     "text": [
      "train 179:   9%|▉         | 24/256 [10:21<1:40:03, 25.88s/it]\n"
     ]
    },
    {
     "name": "stdout",
     "output_type": "stream",
     "text": [
      "Stopping training after >600 seconds.\n"
     ]
    },
    {
     "name": "stderr",
     "output_type": "stream",
     "text": [
      "val 179:  47%|████▋     | 9/19 [02:12<02:27, 14.74s/it]\n"
     ]
    },
    {
     "name": "stdout",
     "output_type": "stream",
     "text": [
      "Stopping validation after >120.0 seconds.\n",
      "Epoch 180/1000 | Train 3758124.8000 | Val 3955645.6000 | LR 0.005905\n"
     ]
    },
    {
     "name": "stderr",
     "output_type": "stream",
     "text": [
      "train 180:   9%|▉         | 24/256 [10:18<1:39:42, 25.78s/it]\n"
     ]
    },
    {
     "name": "stdout",
     "output_type": "stream",
     "text": [
      "Stopping training after >600 seconds.\n"
     ]
    },
    {
     "name": "stderr",
     "output_type": "stream",
     "text": [
      "val 180:  47%|████▋     | 9/19 [02:12<02:26, 14.70s/it]\n"
     ]
    },
    {
     "name": "stdout",
     "output_type": "stream",
     "text": [
      "Stopping validation after >120.0 seconds.\n",
      "Epoch 181/1000 | Train 3776901.4400 | Val 3953414.8000 | LR 0.005314\n"
     ]
    },
    {
     "name": "stderr",
     "output_type": "stream",
     "text": [
      "train 181:   9%|▉         | 24/256 [10:18<1:39:39, 25.77s/it]\n"
     ]
    },
    {
     "name": "stdout",
     "output_type": "stream",
     "text": [
      "Stopping training after >600 seconds.\n"
     ]
    },
    {
     "name": "stderr",
     "output_type": "stream",
     "text": [
      "val 181:  47%|████▋     | 9/19 [02:12<02:27, 14.73s/it]\n"
     ]
    },
    {
     "name": "stdout",
     "output_type": "stream",
     "text": [
      "Stopping validation after >120.0 seconds.\n",
      "Epoch 182/1000 | Train 3715121.2800 | Val 3955274.0000 | LR 0.005314\n"
     ]
    },
    {
     "name": "stderr",
     "output_type": "stream",
     "text": [
      "train 182:   9%|▉         | 24/256 [10:22<1:40:17, 25.94s/it]\n"
     ]
    },
    {
     "name": "stdout",
     "output_type": "stream",
     "text": [
      "Stopping training after >600 seconds.\n"
     ]
    },
    {
     "name": "stderr",
     "output_type": "stream",
     "text": [
      "val 182:  47%|████▋     | 9/19 [02:13<02:27, 14.80s/it]\n"
     ]
    },
    {
     "name": "stdout",
     "output_type": "stream",
     "text": [
      "Stopping validation after >120.0 seconds.\n",
      "Epoch 183/1000 | Train 3756751.3600 | Val 3962649.6000 | LR 0.005314\n"
     ]
    },
    {
     "name": "stderr",
     "output_type": "stream",
     "text": [
      "train 183:   9%|▉         | 24/256 [10:17<1:39:32, 25.74s/it]\n"
     ]
    },
    {
     "name": "stdout",
     "output_type": "stream",
     "text": [
      "Stopping training after >600 seconds.\n"
     ]
    },
    {
     "name": "stderr",
     "output_type": "stream",
     "text": [
      "val 183:  47%|████▋     | 9/19 [02:12<02:26, 14.67s/it]\n"
     ]
    },
    {
     "name": "stdout",
     "output_type": "stream",
     "text": [
      "Stopping validation after >120.0 seconds.\n",
      "Epoch 184/1000 | Train 3719681.2800 | Val 3950606.4000 | LR 0.005314\n"
     ]
    },
    {
     "name": "stderr",
     "output_type": "stream",
     "text": [
      "train 184:   9%|▉         | 24/256 [10:19<1:39:46, 25.80s/it]\n"
     ]
    },
    {
     "name": "stdout",
     "output_type": "stream",
     "text": [
      "Stopping training after >600 seconds.\n"
     ]
    },
    {
     "name": "stderr",
     "output_type": "stream",
     "text": [
      "val 184:  47%|████▋     | 9/19 [02:13<02:28, 14.81s/it]\n"
     ]
    },
    {
     "name": "stdout",
     "output_type": "stream",
     "text": [
      "Stopping validation after >120.0 seconds.\n",
      "Epoch 185/1000 | Train 3748658.8800 | Val 3960328.0000 | LR 0.005314\n"
     ]
    },
    {
     "name": "stderr",
     "output_type": "stream",
     "text": [
      "train 185:   9%|▉         | 24/256 [10:19<1:39:49, 25.82s/it]\n"
     ]
    },
    {
     "name": "stdout",
     "output_type": "stream",
     "text": [
      "Stopping training after >600 seconds.\n"
     ]
    },
    {
     "name": "stderr",
     "output_type": "stream",
     "text": [
      "val 185:  42%|████▏     | 8/19 [02:01<02:47, 15.21s/it]\n"
     ]
    },
    {
     "name": "stdout",
     "output_type": "stream",
     "text": [
      "Stopping validation after >120.0 seconds.\n",
      "Epoch 186/1000 | Train 3745649.2800 | Val 3941309.3333 | LR 0.005314\n"
     ]
    },
    {
     "name": "stderr",
     "output_type": "stream",
     "text": [
      "train 186:   9%|▉         | 24/256 [10:19<1:39:49, 25.82s/it]\n"
     ]
    },
    {
     "name": "stdout",
     "output_type": "stream",
     "text": [
      "Stopping training after >600 seconds.\n"
     ]
    },
    {
     "name": "stderr",
     "output_type": "stream",
     "text": [
      "val 186:  42%|████▏     | 8/19 [02:00<02:45, 15.09s/it]\n"
     ]
    },
    {
     "name": "stdout",
     "output_type": "stream",
     "text": [
      "Stopping validation after >120.0 seconds.\n",
      "Epoch 187/1000 | Train 3740187.2000 | Val 3956582.2222 | LR 0.005314\n"
     ]
    },
    {
     "name": "stderr",
     "output_type": "stream",
     "text": [
      "train 187:   9%|▉         | 24/256 [10:21<1:40:11, 25.91s/it]\n"
     ]
    },
    {
     "name": "stdout",
     "output_type": "stream",
     "text": [
      "Stopping training after >600 seconds.\n"
     ]
    },
    {
     "name": "stderr",
     "output_type": "stream",
     "text": [
      "val 187:  47%|████▋     | 9/19 [02:12<02:27, 14.72s/it]\n"
     ]
    },
    {
     "name": "stdout",
     "output_type": "stream",
     "text": [
      "Stopping validation after >120.0 seconds.\n",
      "Epoch 188/1000 | Train 3753621.1200 | Val 3965103.6000 | LR 0.005314\n"
     ]
    },
    {
     "name": "stderr",
     "output_type": "stream",
     "text": [
      "train 188:   9%|▉         | 24/256 [10:16<1:39:23, 25.70s/it]\n"
     ]
    },
    {
     "name": "stdout",
     "output_type": "stream",
     "text": [
      "Stopping training after >600 seconds.\n"
     ]
    },
    {
     "name": "stderr",
     "output_type": "stream",
     "text": [
      "val 188:  47%|████▋     | 9/19 [02:12<02:27, 14.73s/it]\n"
     ]
    },
    {
     "name": "stdout",
     "output_type": "stream",
     "text": [
      "Stopping validation after >120.0 seconds.\n",
      "Epoch 189/1000 | Train 3758191.3600 | Val 3969712.4000 | LR 0.005314\n"
     ]
    },
    {
     "name": "stderr",
     "output_type": "stream",
     "text": [
      "train 189:   9%|▉         | 24/256 [10:21<1:40:03, 25.88s/it]\n"
     ]
    },
    {
     "name": "stdout",
     "output_type": "stream",
     "text": [
      "Stopping training after >600 seconds.\n"
     ]
    },
    {
     "name": "stderr",
     "output_type": "stream",
     "text": [
      "val 189:  47%|████▋     | 9/19 [02:12<02:27, 14.73s/it]\n"
     ]
    },
    {
     "name": "stdout",
     "output_type": "stream",
     "text": [
      "Stopping validation after >120.0 seconds.\n",
      "Epoch 190/1000 | Train 3748828.4800 | Val 3973542.8000 | LR 0.005314\n"
     ]
    },
    {
     "name": "stderr",
     "output_type": "stream",
     "text": [
      "train 190:   9%|▉         | 24/256 [10:18<1:39:40, 25.78s/it]\n"
     ]
    },
    {
     "name": "stdout",
     "output_type": "stream",
     "text": [
      "Stopping training after >600 seconds.\n"
     ]
    },
    {
     "name": "stderr",
     "output_type": "stream",
     "text": [
      "val 190:  42%|████▏     | 8/19 [02:00<02:45, 15.06s/it]\n"
     ]
    },
    {
     "name": "stdout",
     "output_type": "stream",
     "text": [
      "Stopping validation after >120.0 seconds.\n",
      "Epoch 191/1000 | Train 3747451.2000 | Val 3966202.6667 | LR 0.005314\n"
     ]
    },
    {
     "name": "stderr",
     "output_type": "stream",
     "text": [
      "train 191:   9%|▉         | 24/256 [10:21<1:40:03, 25.88s/it]\n"
     ]
    },
    {
     "name": "stdout",
     "output_type": "stream",
     "text": [
      "Stopping training after >600 seconds.\n"
     ]
    },
    {
     "name": "stderr",
     "output_type": "stream",
     "text": [
      "val 191:  42%|████▏     | 8/19 [02:00<02:45, 15.02s/it]\n"
     ]
    },
    {
     "name": "stdout",
     "output_type": "stream",
     "text": [
      "Stopping validation after >120.0 seconds.\n",
      "Epoch 192/1000 | Train 3735354.8800 | Val 3955962.6667 | LR 0.005314\n"
     ]
    },
    {
     "name": "stderr",
     "output_type": "stream",
     "text": [
      "train 192:   9%|▉         | 24/256 [10:19<1:39:52, 25.83s/it]\n"
     ]
    },
    {
     "name": "stdout",
     "output_type": "stream",
     "text": [
      "Stopping training after >600 seconds.\n"
     ]
    },
    {
     "name": "stderr",
     "output_type": "stream",
     "text": [
      "val 192:  47%|████▋     | 9/19 [02:13<02:27, 14.78s/it]\n"
     ]
    },
    {
     "name": "stdout",
     "output_type": "stream",
     "text": [
      "Stopping validation after >120.0 seconds.\n",
      "Epoch 193/1000 | Train 3709527.6800 | Val 3949518.4000 | LR 0.005314\n"
     ]
    },
    {
     "name": "stderr",
     "output_type": "stream",
     "text": [
      "train 193:   9%|▉         | 24/256 [10:21<1:40:03, 25.88s/it]\n"
     ]
    },
    {
     "name": "stdout",
     "output_type": "stream",
     "text": [
      "Stopping training after >600 seconds.\n"
     ]
    },
    {
     "name": "stderr",
     "output_type": "stream",
     "text": [
      "val 193:  47%|████▋     | 9/19 [02:11<02:26, 14.60s/it]\n"
     ]
    },
    {
     "name": "stdout",
     "output_type": "stream",
     "text": [
      "Stopping validation after >120.0 seconds.\n",
      "Epoch 194/1000 | Train 3719242.5600 | Val 3959662.8000 | LR 0.005314\n"
     ]
    },
    {
     "name": "stderr",
     "output_type": "stream",
     "text": [
      "train 194:   9%|▉         | 24/256 [10:19<1:39:49, 25.82s/it]\n"
     ]
    },
    {
     "name": "stdout",
     "output_type": "stream",
     "text": [
      "Stopping training after >600 seconds.\n"
     ]
    },
    {
     "name": "stderr",
     "output_type": "stream",
     "text": [
      "val 194:  42%|████▏     | 8/19 [02:01<02:46, 15.14s/it]\n"
     ]
    },
    {
     "name": "stdout",
     "output_type": "stream",
     "text": [
      "Stopping validation after >120.0 seconds.\n",
      "Epoch 195/1000 | Train 3724337.2800 | Val 3947770.2222 | LR 0.005314\n"
     ]
    },
    {
     "name": "stderr",
     "output_type": "stream",
     "text": [
      "train 195:   9%|▉         | 24/256 [10:19<1:39:49, 25.82s/it]\n"
     ]
    },
    {
     "name": "stdout",
     "output_type": "stream",
     "text": [
      "Stopping training after >600 seconds.\n"
     ]
    },
    {
     "name": "stderr",
     "output_type": "stream",
     "text": [
      "val 195:  42%|████▏     | 8/19 [02:01<02:46, 15.17s/it]\n"
     ]
    },
    {
     "name": "stdout",
     "output_type": "stream",
     "text": [
      "Stopping validation after >120.0 seconds.\n",
      "Epoch 196/1000 | Train 3733970.8800 | Val 3953744.8889 | LR 0.005314\n"
     ]
    },
    {
     "name": "stderr",
     "output_type": "stream",
     "text": [
      "train 196:   9%|▉         | 24/256 [10:20<1:40:01, 25.87s/it]\n"
     ]
    },
    {
     "name": "stdout",
     "output_type": "stream",
     "text": [
      "Stopping training after >600 seconds.\n"
     ]
    },
    {
     "name": "stderr",
     "output_type": "stream",
     "text": [
      "val 196:  42%|████▏     | 8/19 [02:01<02:46, 15.14s/it]\n"
     ]
    },
    {
     "name": "stdout",
     "output_type": "stream",
     "text": [
      "Stopping validation after >120.0 seconds.\n",
      "Epoch 197/1000 | Train 3750431.6800 | Val 3955512.8889 | LR 0.005314\n"
     ]
    },
    {
     "name": "stderr",
     "output_type": "stream",
     "text": [
      "train 197:   9%|▉         | 24/256 [10:20<1:40:00, 25.87s/it]\n"
     ]
    },
    {
     "name": "stdout",
     "output_type": "stream",
     "text": [
      "Stopping training after >600 seconds.\n"
     ]
    },
    {
     "name": "stderr",
     "output_type": "stream",
     "text": [
      "val 197:  42%|████▏     | 8/19 [02:01<02:46, 15.18s/it]\n"
     ]
    },
    {
     "name": "stdout",
     "output_type": "stream",
     "text": [
      "Stopping validation after >120.0 seconds.\n",
      "Epoch 198/1000 | Train 3742480.3200 | Val 3965816.4444 | LR 0.005314\n"
     ]
    },
    {
     "name": "stderr",
     "output_type": "stream",
     "text": [
      "train 198:   9%|▉         | 24/256 [10:22<1:40:16, 25.93s/it]\n"
     ]
    },
    {
     "name": "stdout",
     "output_type": "stream",
     "text": [
      "Stopping training after >600 seconds.\n"
     ]
    },
    {
     "name": "stderr",
     "output_type": "stream",
     "text": [
      "val 198:  42%|████▏     | 8/19 [02:00<02:45, 15.05s/it]\n"
     ]
    },
    {
     "name": "stdout",
     "output_type": "stream",
     "text": [
      "Stopping validation after >120.0 seconds.\n",
      "Epoch 199/1000 | Train 3750387.2000 | Val 3964521.7778 | LR 0.005314\n"
     ]
    },
    {
     "name": "stderr",
     "output_type": "stream",
     "text": [
      "train 199:   9%|▉         | 24/256 [10:23<1:40:23, 25.97s/it]\n"
     ]
    },
    {
     "name": "stdout",
     "output_type": "stream",
     "text": [
      "Stopping training after >600 seconds.\n"
     ]
    },
    {
     "name": "stderr",
     "output_type": "stream",
     "text": [
      "val 199:  42%|████▏     | 8/19 [02:00<02:46, 15.09s/it]\n"
     ]
    },
    {
     "name": "stdout",
     "output_type": "stream",
     "text": [
      "Stopping validation after >120.0 seconds.\n",
      "Epoch 200/1000 | Train 3733052.8000 | Val 3948616.8889 | LR 0.005314\n"
     ]
    },
    {
     "name": "stderr",
     "output_type": "stream",
     "text": [
      "train 200:   9%|▉         | 23/256 [10:00<1:41:18, 26.09s/it]\n"
     ]
    },
    {
     "name": "stdout",
     "output_type": "stream",
     "text": [
      "Stopping training after >600 seconds.\n"
     ]
    },
    {
     "name": "stderr",
     "output_type": "stream",
     "text": [
      "val 200:  42%|████▏     | 8/19 [02:01<02:46, 15.16s/it]\n"
     ]
    },
    {
     "name": "stdout",
     "output_type": "stream",
     "text": [
      "Stopping validation after >120.0 seconds.\n",
      "Epoch 201/1000 | Train 3734377.0000 | Val 3960441.3333 | LR 0.005314\n"
     ]
    },
    {
     "name": "stderr",
     "output_type": "stream",
     "text": [
      "train 201:   9%|▉         | 23/256 [10:00<1:41:24, 26.11s/it]\n"
     ]
    },
    {
     "name": "stdout",
     "output_type": "stream",
     "text": [
      "Stopping training after >600 seconds.\n"
     ]
    },
    {
     "name": "stderr",
     "output_type": "stream",
     "text": [
      "val 201:  42%|████▏     | 8/19 [02:02<02:48, 15.27s/it]\n"
     ]
    },
    {
     "name": "stdout",
     "output_type": "stream",
     "text": [
      "Stopping validation after >120.0 seconds.\n",
      "Epoch 202/1000 | Train 3711651.0000 | Val 3950592.0000 | LR 0.005314\n"
     ]
    },
    {
     "name": "stderr",
     "output_type": "stream",
     "text": [
      "train 202:   9%|▉         | 23/256 [10:00<1:41:28, 26.13s/it]\n"
     ]
    },
    {
     "name": "stdout",
     "output_type": "stream",
     "text": [
      "Stopping training after >600 seconds.\n"
     ]
    },
    {
     "name": "stderr",
     "output_type": "stream",
     "text": [
      "val 202:  42%|████▏     | 8/19 [02:01<02:47, 15.19s/it]\n"
     ]
    },
    {
     "name": "stdout",
     "output_type": "stream",
     "text": [
      "Stopping validation after >120.0 seconds.\n",
      "Epoch 203/1000 | Train 3738551.6667 | Val 3944411.1111 | LR 0.005314\n"
     ]
    },
    {
     "name": "stderr",
     "output_type": "stream",
     "text": [
      "train 203:   9%|▉         | 23/256 [10:01<1:41:36, 26.16s/it]\n"
     ]
    },
    {
     "name": "stdout",
     "output_type": "stream",
     "text": [
      "Stopping training after >600 seconds.\n"
     ]
    },
    {
     "name": "stderr",
     "output_type": "stream",
     "text": [
      "val 203:  42%|████▏     | 8/19 [02:01<02:47, 15.23s/it]\n"
     ]
    },
    {
     "name": "stdout",
     "output_type": "stream",
     "text": [
      "Stopping validation after >120.0 seconds.\n",
      "Epoch 204/1000 | Train 3729769.6667 | Val 3952260.8889 | LR 0.005314\n"
     ]
    },
    {
     "name": "stderr",
     "output_type": "stream",
     "text": [
      "train 204:   9%|▉         | 23/256 [10:00<1:41:23, 26.11s/it]\n"
     ]
    },
    {
     "name": "stdout",
     "output_type": "stream",
     "text": [
      "Stopping training after >600 seconds.\n"
     ]
    },
    {
     "name": "stderr",
     "output_type": "stream",
     "text": [
      "val 204:  42%|████▏     | 8/19 [02:02<02:48, 15.28s/it]\n"
     ]
    },
    {
     "name": "stdout",
     "output_type": "stream",
     "text": [
      "Stopping validation after >120.0 seconds.\n",
      "Epoch 205/1000 | Train 3719964.6667 | Val 3956241.3333 | LR 0.005314\n"
     ]
    },
    {
     "name": "stderr",
     "output_type": "stream",
     "text": [
      "train 205:   9%|▉         | 23/256 [10:03<1:41:48, 26.22s/it]\n"
     ]
    },
    {
     "name": "stdout",
     "output_type": "stream",
     "text": [
      "Stopping training after >600 seconds.\n"
     ]
    },
    {
     "name": "stderr",
     "output_type": "stream",
     "text": [
      "val 205:  42%|████▏     | 8/19 [02:01<02:46, 15.17s/it]\n"
     ]
    },
    {
     "name": "stdout",
     "output_type": "stream",
     "text": [
      "Stopping validation after >120.0 seconds.\n",
      "Epoch 206/1000 | Train 3738846.0000 | Val 3952392.8889 | LR 0.005314\n"
     ]
    },
    {
     "name": "stderr",
     "output_type": "stream",
     "text": [
      "train 206:   9%|▉         | 24/256 [10:24<1:40:33, 26.01s/it]\n"
     ]
    },
    {
     "name": "stdout",
     "output_type": "stream",
     "text": [
      "Stopping training after >600 seconds.\n"
     ]
    },
    {
     "name": "stderr",
     "output_type": "stream",
     "text": [
      "val 206:  42%|████▏     | 8/19 [02:01<02:47, 15.22s/it]\n"
     ]
    },
    {
     "name": "stdout",
     "output_type": "stream",
     "text": [
      "Stopping validation after >120.0 seconds.\n",
      "Epoch 207/1000 | Train 3724872.0000 | Val 3965243.5556 | LR 0.005314\n"
     ]
    },
    {
     "name": "stderr",
     "output_type": "stream",
     "text": [
      "train 207:   9%|▉         | 24/256 [10:24<1:40:33, 26.01s/it]\n"
     ]
    },
    {
     "name": "stdout",
     "output_type": "stream",
     "text": [
      "Stopping training after >600 seconds.\n"
     ]
    },
    {
     "name": "stderr",
     "output_type": "stream",
     "text": [
      "val 207:  42%|████▏     | 8/19 [02:03<02:49, 15.38s/it]\n"
     ]
    },
    {
     "name": "stdout",
     "output_type": "stream",
     "text": [
      "Stopping validation after >120.0 seconds.\n",
      "Epoch 208/1000 | Train 3710784.6400 | Val 3944444.4444 | LR 0.005314\n"
     ]
    },
    {
     "name": "stderr",
     "output_type": "stream",
     "text": [
      "train 208:   9%|▉         | 23/256 [10:00<1:41:28, 26.13s/it]\n"
     ]
    },
    {
     "name": "stdout",
     "output_type": "stream",
     "text": [
      "Stopping training after >600 seconds.\n"
     ]
    },
    {
     "name": "stderr",
     "output_type": "stream",
     "text": [
      "val 208:  47%|████▋     | 9/19 [02:13<02:27, 14.79s/it]\n"
     ]
    },
    {
     "name": "stdout",
     "output_type": "stream",
     "text": [
      "Stopping validation after >120.0 seconds.\n",
      "Epoch 209/1000 | Train 3765633.0000 | Val 3950386.0000 | LR 0.005314\n"
     ]
    },
    {
     "name": "stderr",
     "output_type": "stream",
     "text": [
      "train 209:   9%|▉         | 23/256 [10:01<1:41:32, 26.15s/it]\n"
     ]
    },
    {
     "name": "stdout",
     "output_type": "stream",
     "text": [
      "Stopping training after >600 seconds.\n"
     ]
    },
    {
     "name": "stderr",
     "output_type": "stream",
     "text": [
      "val 209:  42%|████▏     | 8/19 [02:01<02:47, 15.20s/it]\n"
     ]
    },
    {
     "name": "stdout",
     "output_type": "stream",
     "text": [
      "Stopping validation after >120.0 seconds.\n",
      "Epoch 210/1000 | Train 3760797.3333 | Val 3948757.3333 | LR 0.005314\n"
     ]
    },
    {
     "name": "stderr",
     "output_type": "stream",
     "text": [
      "train 210:   9%|▉         | 24/256 [10:23<1:40:31, 26.00s/it]\n"
     ]
    },
    {
     "name": "stdout",
     "output_type": "stream",
     "text": [
      "Stopping training after >600 seconds.\n"
     ]
    },
    {
     "name": "stderr",
     "output_type": "stream",
     "text": [
      "val 210:  42%|████▏     | 8/19 [02:01<02:47, 15.20s/it]\n"
     ]
    },
    {
     "name": "stdout",
     "output_type": "stream",
     "text": [
      "Stopping validation after >120.0 seconds.\n",
      "Epoch 211/1000 | Train 3737099.8400 | Val 3955204.8889 | LR 0.004783\n"
     ]
    },
    {
     "name": "stderr",
     "output_type": "stream",
     "text": [
      "train 211:   9%|▉         | 24/256 [10:23<1:40:23, 25.96s/it]\n"
     ]
    },
    {
     "name": "stdout",
     "output_type": "stream",
     "text": [
      "Stopping training after >600 seconds.\n"
     ]
    },
    {
     "name": "stderr",
     "output_type": "stream",
     "text": [
      "val 211:  42%|████▏     | 8/19 [02:02<02:47, 15.26s/it]\n"
     ]
    },
    {
     "name": "stdout",
     "output_type": "stream",
     "text": [
      "Stopping validation after >120.0 seconds.\n",
      "Epoch 212/1000 | Train 3723637.4400 | Val 3947540.0000 | LR 0.004783\n"
     ]
    },
    {
     "name": "stderr",
     "output_type": "stream",
     "text": [
      "train 212:   9%|▉         | 23/256 [10:00<1:41:24, 26.12s/it]\n"
     ]
    },
    {
     "name": "stdout",
     "output_type": "stream",
     "text": [
      "Stopping training after >600 seconds.\n"
     ]
    },
    {
     "name": "stderr",
     "output_type": "stream",
     "text": [
      "val 212:  42%|████▏     | 8/19 [02:02<02:47, 15.26s/it]\n"
     ]
    },
    {
     "name": "stdout",
     "output_type": "stream",
     "text": [
      "Stopping validation after >120.0 seconds.\n",
      "Epoch 213/1000 | Train 3721650.0000 | Val 3957598.6667 | LR 0.004783\n"
     ]
    },
    {
     "name": "stderr",
     "output_type": "stream",
     "text": [
      "train 213:   9%|▉         | 23/256 [10:04<1:41:59, 26.26s/it]\n"
     ]
    },
    {
     "name": "stdout",
     "output_type": "stream",
     "text": [
      "Stopping training after >600 seconds.\n"
     ]
    },
    {
     "name": "stderr",
     "output_type": "stream",
     "text": [
      "val 213:  42%|████▏     | 8/19 [02:01<02:46, 15.16s/it]\n"
     ]
    },
    {
     "name": "stdout",
     "output_type": "stream",
     "text": [
      "Stopping validation after >120.0 seconds.\n",
      "Epoch 214/1000 | Train 3728789.0000 | Val 3944491.5556 | LR 0.004783\n"
     ]
    },
    {
     "name": "stderr",
     "output_type": "stream",
     "text": [
      "train 214:   9%|▉         | 23/256 [10:03<1:41:55, 26.25s/it]\n"
     ]
    },
    {
     "name": "stdout",
     "output_type": "stream",
     "text": [
      "Stopping training after >600 seconds.\n"
     ]
    },
    {
     "name": "stderr",
     "output_type": "stream",
     "text": [
      "val 214:  42%|████▏     | 8/19 [02:01<02:47, 15.18s/it]\n"
     ]
    },
    {
     "name": "stdout",
     "output_type": "stream",
     "text": [
      "Stopping validation after >120.0 seconds.\n",
      "Epoch 215/1000 | Train 3725992.6667 | Val 3946023.1111 | LR 0.004783\n"
     ]
    },
    {
     "name": "stderr",
     "output_type": "stream",
     "text": [
      "train 215:   9%|▉         | 23/256 [10:00<1:41:24, 26.11s/it]\n"
     ]
    },
    {
     "name": "stdout",
     "output_type": "stream",
     "text": [
      "Stopping training after >600 seconds.\n"
     ]
    },
    {
     "name": "stderr",
     "output_type": "stream",
     "text": [
      "val 215:  42%|████▏     | 8/19 [02:01<02:47, 15.21s/it]\n"
     ]
    },
    {
     "name": "stdout",
     "output_type": "stream",
     "text": [
      "Stopping validation after >120.0 seconds.\n",
      "Epoch 216/1000 | Train 3709214.3333 | Val 3948356.8889 | LR 0.004783\n"
     ]
    },
    {
     "name": "stderr",
     "output_type": "stream",
     "text": [
      "train 216:   9%|▉         | 23/256 [10:01<1:41:33, 26.15s/it]\n"
     ]
    },
    {
     "name": "stdout",
     "output_type": "stream",
     "text": [
      "Stopping training after >600 seconds.\n"
     ]
    },
    {
     "name": "stderr",
     "output_type": "stream",
     "text": [
      "val 216:  42%|████▏     | 8/19 [02:02<02:48, 15.27s/it]\n"
     ]
    },
    {
     "name": "stdout",
     "output_type": "stream",
     "text": [
      "Stopping validation after >120.0 seconds.\n",
      "Epoch 217/1000 | Train 3728173.0000 | Val 3947871.5556 | LR 0.004783\n"
     ]
    },
    {
     "name": "stderr",
     "output_type": "stream",
     "text": [
      "train 217:   9%|▉         | 24/256 [10:23<1:40:25, 25.97s/it]\n"
     ]
    },
    {
     "name": "stdout",
     "output_type": "stream",
     "text": [
      "Stopping training after >600 seconds.\n"
     ]
    },
    {
     "name": "stderr",
     "output_type": "stream",
     "text": [
      "val 217:  42%|████▏     | 8/19 [02:01<02:47, 15.19s/it]\n"
     ]
    },
    {
     "name": "stdout",
     "output_type": "stream",
     "text": [
      "Stopping validation after >120.0 seconds.\n",
      "Epoch 218/1000 | Train 3708056.3200 | Val 3936602.2222 | LR 0.004783\n"
     ]
    },
    {
     "name": "stderr",
     "output_type": "stream",
     "text": [
      "train 218:   9%|▉         | 24/256 [10:24<1:40:40, 26.04s/it]\n"
     ]
    },
    {
     "name": "stdout",
     "output_type": "stream",
     "text": [
      "Stopping training after >600 seconds.\n"
     ]
    },
    {
     "name": "stderr",
     "output_type": "stream",
     "text": [
      "val 218:  42%|████▏     | 8/19 [02:01<02:47, 15.20s/it]\n"
     ]
    },
    {
     "name": "stdout",
     "output_type": "stream",
     "text": [
      "Stopping validation after >120.0 seconds.\n",
      "Epoch 219/1000 | Train 3705307.2000 | Val 3944425.3333 | LR 0.004783\n"
     ]
    },
    {
     "name": "stderr",
     "output_type": "stream",
     "text": [
      "train 219:   9%|▉         | 23/256 [10:01<1:41:34, 26.16s/it]\n"
     ]
    },
    {
     "name": "stdout",
     "output_type": "stream",
     "text": [
      "Stopping training after >600 seconds.\n"
     ]
    },
    {
     "name": "stderr",
     "output_type": "stream",
     "text": [
      "val 219:  42%|████▏     | 8/19 [02:01<02:47, 15.19s/it]\n"
     ]
    },
    {
     "name": "stdout",
     "output_type": "stream",
     "text": [
      "Stopping validation after >120.0 seconds.\n",
      "Epoch 220/1000 | Train 3735797.0000 | Val 3944363.1111 | LR 0.004783\n"
     ]
    },
    {
     "name": "stderr",
     "output_type": "stream",
     "text": [
      "train 220:   9%|▉         | 23/256 [10:01<1:41:31, 26.14s/it]\n"
     ]
    },
    {
     "name": "stdout",
     "output_type": "stream",
     "text": [
      "Stopping training after >600 seconds.\n"
     ]
    },
    {
     "name": "stderr",
     "output_type": "stream",
     "text": [
      "val 220:  42%|████▏     | 8/19 [02:01<02:46, 15.16s/it]\n"
     ]
    },
    {
     "name": "stdout",
     "output_type": "stream",
     "text": [
      "Stopping validation after >120.0 seconds.\n",
      "Epoch 221/1000 | Train 3753794.0000 | Val 3952039.5556 | LR 0.004783\n"
     ]
    },
    {
     "name": "stderr",
     "output_type": "stream",
     "text": [
      "train 221:   9%|▉         | 24/256 [10:24<1:40:38, 26.03s/it]\n"
     ]
    },
    {
     "name": "stdout",
     "output_type": "stream",
     "text": [
      "Stopping training after >600 seconds.\n"
     ]
    },
    {
     "name": "stderr",
     "output_type": "stream",
     "text": [
      "val 221:  42%|████▏     | 8/19 [02:01<02:47, 15.18s/it]\n"
     ]
    },
    {
     "name": "stdout",
     "output_type": "stream",
     "text": [
      "Stopping validation after >120.0 seconds.\n",
      "Epoch 222/1000 | Train 3732944.6400 | Val 3934065.7778 | LR 0.004783\n"
     ]
    },
    {
     "name": "stderr",
     "output_type": "stream",
     "text": [
      "train 222:   9%|▉         | 24/256 [10:23<1:40:22, 25.96s/it]\n"
     ]
    },
    {
     "name": "stdout",
     "output_type": "stream",
     "text": [
      "Stopping training after >600 seconds.\n"
     ]
    },
    {
     "name": "stderr",
     "output_type": "stream",
     "text": [
      "val 222:  42%|████▏     | 8/19 [02:02<02:47, 15.26s/it]\n"
     ]
    },
    {
     "name": "stdout",
     "output_type": "stream",
     "text": [
      "Stopping validation after >120.0 seconds.\n",
      "Epoch 223/1000 | Train 3723438.7200 | Val 3944596.4444 | LR 0.004783\n"
     ]
    },
    {
     "name": "stderr",
     "output_type": "stream",
     "text": [
      "train 223:   9%|▉         | 24/256 [10:24<1:40:36, 26.02s/it]\n"
     ]
    },
    {
     "name": "stdout",
     "output_type": "stream",
     "text": [
      "Stopping training after >600 seconds.\n"
     ]
    },
    {
     "name": "stderr",
     "output_type": "stream",
     "text": [
      "val 223:  42%|████▏     | 8/19 [02:01<02:46, 15.15s/it]\n"
     ]
    },
    {
     "name": "stdout",
     "output_type": "stream",
     "text": [
      "Stopping validation after >120.0 seconds.\n",
      "Epoch 224/1000 | Train 3721316.8000 | Val 3951817.7778 | LR 0.004783\n"
     ]
    },
    {
     "name": "stderr",
     "output_type": "stream",
     "text": [
      "train 224:   9%|▉         | 23/256 [10:00<1:41:21, 26.10s/it]\n"
     ]
    },
    {
     "name": "stdout",
     "output_type": "stream",
     "text": [
      "Stopping training after >600 seconds.\n"
     ]
    },
    {
     "name": "stderr",
     "output_type": "stream",
     "text": [
      "val 224:  42%|████▏     | 8/19 [02:02<02:48, 15.32s/it]\n"
     ]
    },
    {
     "name": "stdout",
     "output_type": "stream",
     "text": [
      "Stopping validation after >120.0 seconds.\n",
      "Epoch 225/1000 | Train 3724405.3333 | Val 3942950.6667 | LR 0.004783\n"
     ]
    },
    {
     "name": "stderr",
     "output_type": "stream",
     "text": [
      "train 225:   9%|▉         | 24/256 [10:22<1:40:17, 25.94s/it]\n"
     ]
    },
    {
     "name": "stdout",
     "output_type": "stream",
     "text": [
      "Stopping training after >600 seconds.\n"
     ]
    },
    {
     "name": "stderr",
     "output_type": "stream",
     "text": [
      "val 225:  47%|████▋     | 9/19 [02:13<02:28, 14.81s/it]\n"
     ]
    },
    {
     "name": "stdout",
     "output_type": "stream",
     "text": [
      "Stopping validation after >120.0 seconds.\n",
      "Epoch 226/1000 | Train 3743701.1200 | Val 3954763.2000 | LR 0.004783\n"
     ]
    },
    {
     "name": "stderr",
     "output_type": "stream",
     "text": [
      "train 226:   9%|▉         | 24/256 [10:21<1:40:09, 25.90s/it]\n"
     ]
    },
    {
     "name": "stdout",
     "output_type": "stream",
     "text": [
      "Stopping training after >600 seconds.\n"
     ]
    },
    {
     "name": "stderr",
     "output_type": "stream",
     "text": [
      "val 226:  42%|████▏     | 8/19 [02:01<02:46, 15.18s/it]\n"
     ]
    },
    {
     "name": "stdout",
     "output_type": "stream",
     "text": [
      "Stopping validation after >120.0 seconds.\n",
      "Epoch 227/1000 | Train 3727385.6000 | Val 3958025.7778 | LR 0.004783\n"
     ]
    },
    {
     "name": "stderr",
     "output_type": "stream",
     "text": [
      "train 227:   9%|▉         | 24/256 [10:23<1:40:22, 25.96s/it]\n"
     ]
    },
    {
     "name": "stdout",
     "output_type": "stream",
     "text": [
      "Stopping training after >600 seconds.\n"
     ]
    },
    {
     "name": "stderr",
     "output_type": "stream",
     "text": [
      "val 227:  42%|████▏     | 8/19 [02:01<02:47, 15.22s/it]\n"
     ]
    },
    {
     "name": "stdout",
     "output_type": "stream",
     "text": [
      "Stopping validation after >120.0 seconds.\n",
      "Epoch 228/1000 | Train 3713451.5200 | Val 3952617.3333 | LR 0.004783\n"
     ]
    },
    {
     "name": "stderr",
     "output_type": "stream",
     "text": [
      "train 228:   9%|▉         | 24/256 [10:24<1:40:34, 26.01s/it]\n"
     ]
    },
    {
     "name": "stdout",
     "output_type": "stream",
     "text": [
      "Stopping training after >600 seconds.\n"
     ]
    },
    {
     "name": "stderr",
     "output_type": "stream",
     "text": [
      "val 228:  42%|████▏     | 8/19 [02:01<02:47, 15.19s/it]\n"
     ]
    },
    {
     "name": "stdout",
     "output_type": "stream",
     "text": [
      "Stopping validation after >120.0 seconds.\n",
      "Epoch 229/1000 | Train 3742813.1200 | Val 3936277.7778 | LR 0.004783\n"
     ]
    },
    {
     "name": "stderr",
     "output_type": "stream",
     "text": [
      "train 229:   9%|▉         | 24/256 [10:23<1:40:22, 25.96s/it]\n"
     ]
    },
    {
     "name": "stdout",
     "output_type": "stream",
     "text": [
      "Stopping training after >600 seconds.\n"
     ]
    },
    {
     "name": "stderr",
     "output_type": "stream",
     "text": [
      "val 229:  47%|████▋     | 9/19 [02:13<02:28, 14.80s/it]\n"
     ]
    },
    {
     "name": "stdout",
     "output_type": "stream",
     "text": [
      "Stopping validation after >120.0 seconds.\n",
      "Epoch 230/1000 | Train 3697595.8400 | Val 3964866.4000 | LR 0.004783\n"
     ]
    },
    {
     "name": "stderr",
     "output_type": "stream",
     "text": [
      "train 230:   9%|▉         | 24/256 [10:22<1:40:15, 25.93s/it]\n"
     ]
    },
    {
     "name": "stdout",
     "output_type": "stream",
     "text": [
      "Stopping training after >600 seconds.\n"
     ]
    },
    {
     "name": "stderr",
     "output_type": "stream",
     "text": [
      "val 230:  42%|████▏     | 8/19 [02:00<02:45, 15.06s/it]\n"
     ]
    },
    {
     "name": "stdout",
     "output_type": "stream",
     "text": [
      "Stopping validation after >120.0 seconds.\n",
      "Epoch 231/1000 | Train 3732520.3200 | Val 3953123.5556 | LR 0.004783\n"
     ]
    },
    {
     "name": "stderr",
     "output_type": "stream",
     "text": [
      "train 231:   9%|▉         | 24/256 [10:20<1:40:02, 25.87s/it]\n"
     ]
    },
    {
     "name": "stdout",
     "output_type": "stream",
     "text": [
      "Stopping training after >600 seconds.\n"
     ]
    },
    {
     "name": "stderr",
     "output_type": "stream",
     "text": [
      "val 231:  42%|████▏     | 8/19 [02:01<02:47, 15.19s/it]\n"
     ]
    },
    {
     "name": "stdout",
     "output_type": "stream",
     "text": [
      "Stopping validation after >120.0 seconds.\n",
      "Epoch 232/1000 | Train 3729464.0000 | Val 3942571.1111 | LR 0.004783\n"
     ]
    },
    {
     "name": "stderr",
     "output_type": "stream",
     "text": [
      "train 232:   9%|▉         | 24/256 [10:21<1:40:04, 25.88s/it]\n"
     ]
    },
    {
     "name": "stdout",
     "output_type": "stream",
     "text": [
      "Stopping training after >600 seconds.\n"
     ]
    },
    {
     "name": "stderr",
     "output_type": "stream",
     "text": [
      "val 232:  42%|████▏     | 8/19 [02:01<02:47, 15.23s/it]\n"
     ]
    },
    {
     "name": "stdout",
     "output_type": "stream",
     "text": [
      "Stopping validation after >120.0 seconds.\n",
      "Epoch 233/1000 | Train 3719450.5600 | Val 3961359.5556 | LR 0.004783\n"
     ]
    },
    {
     "name": "stderr",
     "output_type": "stream",
     "text": [
      "train 233:   9%|▉         | 24/256 [10:23<1:40:29, 25.99s/it]\n"
     ]
    },
    {
     "name": "stdout",
     "output_type": "stream",
     "text": [
      "Stopping training after >600 seconds.\n"
     ]
    },
    {
     "name": "stderr",
     "output_type": "stream",
     "text": [
      "val 233:  42%|████▏     | 8/19 [02:00<02:45, 15.00s/it]\n"
     ]
    },
    {
     "name": "stdout",
     "output_type": "stream",
     "text": [
      "Stopping validation after >120.0 seconds.\n",
      "Epoch 234/1000 | Train 3770423.0400 | Val 3947768.0000 | LR 0.004783\n"
     ]
    },
    {
     "name": "stderr",
     "output_type": "stream",
     "text": [
      "train 234:   9%|▉         | 24/256 [10:21<1:40:06, 25.89s/it]\n"
     ]
    },
    {
     "name": "stdout",
     "output_type": "stream",
     "text": [
      "Stopping training after >600 seconds.\n"
     ]
    },
    {
     "name": "stderr",
     "output_type": "stream",
     "text": [
      "val 234:  47%|████▋     | 9/19 [02:13<02:28, 14.80s/it]\n"
     ]
    },
    {
     "name": "stdout",
     "output_type": "stream",
     "text": [
      "Stopping validation after >120.0 seconds.\n",
      "Epoch 235/1000 | Train 3740201.6000 | Val 3960613.2000 | LR 0.004783\n"
     ]
    },
    {
     "name": "stderr",
     "output_type": "stream",
     "text": [
      "train 235:   9%|▉         | 24/256 [10:22<1:40:14, 25.92s/it]\n"
     ]
    },
    {
     "name": "stdout",
     "output_type": "stream",
     "text": [
      "Stopping training after >600 seconds.\n"
     ]
    },
    {
     "name": "stderr",
     "output_type": "stream",
     "text": [
      "val 235:  42%|████▏     | 8/19 [02:00<02:45, 15.08s/it]\n"
     ]
    },
    {
     "name": "stdout",
     "output_type": "stream",
     "text": [
      "Stopping validation after >120.0 seconds.\n",
      "Epoch 236/1000 | Train 3710978.5600 | Val 3942146.2222 | LR 0.004783\n"
     ]
    },
    {
     "name": "stderr",
     "output_type": "stream",
     "text": [
      "train 236:   9%|▉         | 24/256 [10:21<1:40:03, 25.88s/it]\n"
     ]
    },
    {
     "name": "stdout",
     "output_type": "stream",
     "text": [
      "Stopping training after >600 seconds.\n"
     ]
    },
    {
     "name": "stderr",
     "output_type": "stream",
     "text": [
      "val 236:  42%|████▏     | 8/19 [02:02<02:48, 15.32s/it]\n"
     ]
    },
    {
     "name": "stdout",
     "output_type": "stream",
     "text": [
      "Stopping validation after >120.0 seconds.\n",
      "Epoch 237/1000 | Train 3739042.8800 | Val 3943254.6667 | LR 0.004783\n"
     ]
    },
    {
     "name": "stderr",
     "output_type": "stream",
     "text": [
      "train 237:   9%|▉         | 24/256 [10:24<1:40:34, 26.01s/it]\n"
     ]
    },
    {
     "name": "stdout",
     "output_type": "stream",
     "text": [
      "Stopping training after >600 seconds.\n"
     ]
    },
    {
     "name": "stderr",
     "output_type": "stream",
     "text": [
      "val 237:  42%|████▏     | 8/19 [02:03<02:49, 15.43s/it]\n"
     ]
    },
    {
     "name": "stdout",
     "output_type": "stream",
     "text": [
      "Stopping validation after >120.0 seconds.\n",
      "Epoch 238/1000 | Train 3718656.9600 | Val 3942938.6667 | LR 0.004783\n"
     ]
    },
    {
     "name": "stderr",
     "output_type": "stream",
     "text": [
      "train 238:   9%|▉         | 23/256 [10:10<1:43:09, 26.56s/it]\n"
     ]
    },
    {
     "name": "stdout",
     "output_type": "stream",
     "text": [
      "Stopping training after >600 seconds.\n"
     ]
    },
    {
     "name": "stderr",
     "output_type": "stream",
     "text": [
      "val 238:  42%|████▏     | 8/19 [02:01<02:46, 15.15s/it]\n"
     ]
    },
    {
     "name": "stdout",
     "output_type": "stream",
     "text": [
      "Stopping validation after >120.0 seconds.\n",
      "Epoch 239/1000 | Train 3740612.0000 | Val 3949953.3333 | LR 0.004783\n"
     ]
    },
    {
     "name": "stderr",
     "output_type": "stream",
     "text": [
      "train 239:   9%|▉         | 23/256 [10:09<1:42:52, 26.49s/it]\n"
     ]
    },
    {
     "name": "stdout",
     "output_type": "stream",
     "text": [
      "Stopping training after >600 seconds.\n"
     ]
    },
    {
     "name": "stderr",
     "output_type": "stream",
     "text": [
      "val 239:  42%|████▏     | 8/19 [02:02<02:49, 15.37s/it]\n"
     ]
    },
    {
     "name": "stdout",
     "output_type": "stream",
     "text": [
      "Stopping validation after >120.0 seconds.\n",
      "Epoch 240/1000 | Train 3734827.3333 | Val 3952787.5556 | LR 0.004783\n"
     ]
    },
    {
     "name": "stderr",
     "output_type": "stream",
     "text": [
      "train 240:   9%|▉         | 23/256 [10:14<1:43:49, 26.74s/it]\n"
     ]
    },
    {
     "name": "stdout",
     "output_type": "stream",
     "text": [
      "Stopping training after >600 seconds.\n"
     ]
    },
    {
     "name": "stderr",
     "output_type": "stream",
     "text": [
      "val 240:  42%|████▏     | 8/19 [02:01<02:46, 15.17s/it]\n"
     ]
    },
    {
     "name": "stdout",
     "output_type": "stream",
     "text": [
      "Stopping validation after >120.0 seconds.\n",
      "Epoch 241/1000 | Train 3740860.3333 | Val 3954453.7778 | LR 0.004305\n"
     ]
    },
    {
     "name": "stderr",
     "output_type": "stream",
     "text": [
      "train 241:   9%|▉         | 23/256 [10:12<1:43:24, 26.63s/it]\n"
     ]
    },
    {
     "name": "stdout",
     "output_type": "stream",
     "text": [
      "Stopping training after >600 seconds.\n"
     ]
    },
    {
     "name": "stderr",
     "output_type": "stream",
     "text": [
      "val 241:  42%|████▏     | 8/19 [02:01<02:47, 15.25s/it]\n"
     ]
    },
    {
     "name": "stdout",
     "output_type": "stream",
     "text": [
      "Stopping validation after >120.0 seconds.\n",
      "Epoch 242/1000 | Train 3725409.6667 | Val 3954498.6667 | LR 0.004305\n"
     ]
    },
    {
     "name": "stderr",
     "output_type": "stream",
     "text": [
      "train 242:   9%|▉         | 23/256 [10:12<1:43:22, 26.62s/it]\n"
     ]
    },
    {
     "name": "stdout",
     "output_type": "stream",
     "text": [
      "Stopping training after >600 seconds.\n"
     ]
    },
    {
     "name": "stderr",
     "output_type": "stream",
     "text": [
      "val 242:  42%|████▏     | 8/19 [02:03<02:49, 15.40s/it]\n"
     ]
    },
    {
     "name": "stdout",
     "output_type": "stream",
     "text": [
      "Stopping validation after >120.0 seconds.\n",
      "Epoch 243/1000 | Train 3730916.6667 | Val 3940519.1111 | LR 0.004305\n"
     ]
    },
    {
     "name": "stderr",
     "output_type": "stream",
     "text": [
      "train 243:   9%|▉         | 23/256 [10:13<1:43:30, 26.65s/it]\n"
     ]
    },
    {
     "name": "stdout",
     "output_type": "stream",
     "text": [
      "Stopping training after >600 seconds.\n"
     ]
    },
    {
     "name": "stderr",
     "output_type": "stream",
     "text": [
      "val 243:  42%|████▏     | 8/19 [02:03<02:49, 15.43s/it]\n"
     ]
    },
    {
     "name": "stdout",
     "output_type": "stream",
     "text": [
      "Stopping validation after >120.0 seconds.\n",
      "Epoch 244/1000 | Train 3745471.0000 | Val 3948363.1111 | LR 0.004305\n"
     ]
    },
    {
     "name": "stderr",
     "output_type": "stream",
     "text": [
      "train 244:   9%|▉         | 23/256 [10:13<1:43:38, 26.69s/it]\n"
     ]
    },
    {
     "name": "stdout",
     "output_type": "stream",
     "text": [
      "Stopping training after >600 seconds.\n"
     ]
    },
    {
     "name": "stderr",
     "output_type": "stream",
     "text": [
      "val 244:  42%|████▏     | 8/19 [02:02<02:48, 15.33s/it]\n"
     ]
    },
    {
     "name": "stdout",
     "output_type": "stream",
     "text": [
      "Stopping validation after >120.0 seconds.\n",
      "Epoch 245/1000 | Train 3721277.3333 | Val 3949536.8889 | LR 0.004305\n"
     ]
    },
    {
     "name": "stderr",
     "output_type": "stream",
     "text": [
      "train 245:   9%|▉         | 23/256 [10:11<1:43:14, 26.58s/it]\n"
     ]
    },
    {
     "name": "stdout",
     "output_type": "stream",
     "text": [
      "Stopping training after >600 seconds.\n"
     ]
    },
    {
     "name": "stderr",
     "output_type": "stream",
     "text": [
      "val 245:  42%|████▏     | 8/19 [02:02<02:48, 15.35s/it]\n"
     ]
    },
    {
     "name": "stdout",
     "output_type": "stream",
     "text": [
      "Stopping validation after >120.0 seconds.\n",
      "Epoch 246/1000 | Train 3716931.0000 | Val 3951616.8889 | LR 0.004305\n"
     ]
    },
    {
     "name": "stderr",
     "output_type": "stream",
     "text": [
      "train 246:   9%|▉         | 24/256 [10:20<1:39:59, 25.86s/it]\n"
     ]
    },
    {
     "name": "stdout",
     "output_type": "stream",
     "text": [
      "Stopping training after >600 seconds.\n"
     ]
    },
    {
     "name": "stderr",
     "output_type": "stream",
     "text": [
      "val 246:  42%|████▏     | 8/19 [02:00<02:45, 15.00s/it]\n"
     ]
    },
    {
     "name": "stdout",
     "output_type": "stream",
     "text": [
      "Stopping validation after >120.0 seconds.\n",
      "Epoch 247/1000 | Train 3732608.0000 | Val 3955856.8889 | LR 0.004305\n"
     ]
    },
    {
     "name": "stderr",
     "output_type": "stream",
     "text": [
      "train 247:   9%|▉         | 23/256 [10:23<1:45:19, 27.12s/it]\n"
     ]
    },
    {
     "name": "stdout",
     "output_type": "stream",
     "text": [
      "Stopping training after >600 seconds.\n"
     ]
    },
    {
     "name": "stderr",
     "output_type": "stream",
     "text": [
      "val 247:  42%|████▏     | 8/19 [02:00<02:46, 15.12s/it]\n"
     ]
    },
    {
     "name": "stdout",
     "output_type": "stream",
     "text": [
      "Stopping validation after >120.0 seconds.\n",
      "Epoch 248/1000 | Train 3742240.0000 | Val 3950072.4444 | LR 0.004305\n"
     ]
    },
    {
     "name": "stderr",
     "output_type": "stream",
     "text": [
      "train 248:   9%|▉         | 23/256 [10:07<1:42:39, 26.43s/it]\n"
     ]
    },
    {
     "name": "stdout",
     "output_type": "stream",
     "text": [
      "Stopping training after >600 seconds.\n"
     ]
    },
    {
     "name": "stderr",
     "output_type": "stream",
     "text": [
      "val 248:  47%|████▋     | 9/19 [02:12<02:27, 14.74s/it]\n"
     ]
    },
    {
     "name": "stdout",
     "output_type": "stream",
     "text": [
      "Stopping validation after >120.0 seconds.\n",
      "Epoch 249/1000 | Train 3698721.3333 | Val 3945208.4000 | LR 0.004305\n"
     ]
    },
    {
     "name": "stderr",
     "output_type": "stream",
     "text": [
      "train 249:   9%|▉         | 23/256 [10:04<1:42:05, 26.29s/it]\n"
     ]
    },
    {
     "name": "stdout",
     "output_type": "stream",
     "text": [
      "Stopping training after >600 seconds.\n"
     ]
    },
    {
     "name": "stderr",
     "output_type": "stream",
     "text": [
      "val 249:  47%|████▋     | 9/19 [02:12<02:27, 14.73s/it]\n"
     ]
    },
    {
     "name": "stdout",
     "output_type": "stream",
     "text": [
      "Stopping validation after >120.0 seconds.\n",
      "Epoch 250/1000 | Train 3727234.3333 | Val 3945589.2000 | LR 0.004305\n"
     ]
    },
    {
     "name": "stderr",
     "output_type": "stream",
     "text": [
      "train 250:   9%|▉         | 23/256 [10:01<1:41:34, 26.16s/it]\n"
     ]
    },
    {
     "name": "stdout",
     "output_type": "stream",
     "text": [
      "Stopping training after >600 seconds.\n"
     ]
    },
    {
     "name": "stderr",
     "output_type": "stream",
     "text": [
      "val 250:  42%|████▏     | 8/19 [02:01<02:46, 15.14s/it]\n"
     ]
    },
    {
     "name": "stdout",
     "output_type": "stream",
     "text": [
      "Stopping validation after >120.0 seconds.\n",
      "Epoch 251/1000 | Train 3735669.0000 | Val 3951635.5556 | LR 0.004305\n"
     ]
    },
    {
     "name": "stderr",
     "output_type": "stream",
     "text": [
      "train 251:   9%|▉         | 23/256 [10:04<1:42:07, 26.30s/it]\n"
     ]
    },
    {
     "name": "stdout",
     "output_type": "stream",
     "text": [
      "Stopping training after >600 seconds.\n"
     ]
    },
    {
     "name": "stderr",
     "output_type": "stream",
     "text": [
      "val 251:  47%|████▋     | 9/19 [02:11<02:25, 14.56s/it]\n"
     ]
    },
    {
     "name": "stdout",
     "output_type": "stream",
     "text": [
      "Stopping validation after >120.0 seconds.\n",
      "Epoch 252/1000 | Train 3722045.0000 | Val 3954595.2000 | LR 0.004305\n"
     ]
    },
    {
     "name": "stderr",
     "output_type": "stream",
     "text": [
      "train 252:   9%|▉         | 24/256 [10:04<1:37:21, 25.18s/it]\n"
     ]
    },
    {
     "name": "stdout",
     "output_type": "stream",
     "text": [
      "Stopping training after >600 seconds.\n"
     ]
    },
    {
     "name": "stderr",
     "output_type": "stream",
     "text": [
      "val 252:  47%|████▋     | 9/19 [02:07<02:21, 14.20s/it]\n"
     ]
    },
    {
     "name": "stdout",
     "output_type": "stream",
     "text": [
      "Stopping validation after >120.0 seconds.\n",
      "Epoch 253/1000 | Train 3741484.8000 | Val 3946123.2000 | LR 0.004305\n"
     ]
    },
    {
     "name": "stderr",
     "output_type": "stream",
     "text": [
      "train 253:   9%|▉         | 23/256 [10:04<1:42:01, 26.27s/it]\n"
     ]
    },
    {
     "name": "stdout",
     "output_type": "stream",
     "text": [
      "Stopping training after >600 seconds.\n"
     ]
    },
    {
     "name": "stderr",
     "output_type": "stream",
     "text": [
      "val 253:  47%|████▋     | 9/19 [02:10<02:25, 14.51s/it]\n"
     ]
    },
    {
     "name": "stdout",
     "output_type": "stream",
     "text": [
      "Stopping validation after >120.0 seconds.\n",
      "Epoch 254/1000 | Train 3740658.3333 | Val 3953168.4000 | LR 0.004305\n"
     ]
    },
    {
     "name": "stderr",
     "output_type": "stream",
     "text": [
      "train 254:   9%|▊         | 22/256 [10:04<1:47:08, 27.47s/it]\n"
     ]
    },
    {
     "name": "stdout",
     "output_type": "stream",
     "text": [
      "Stopping training after >600 seconds.\n"
     ]
    },
    {
     "name": "stderr",
     "output_type": "stream",
     "text": [
      "val 254:  42%|████▏     | 8/19 [02:03<02:49, 15.45s/it]\n"
     ]
    },
    {
     "name": "stdout",
     "output_type": "stream",
     "text": [
      "Stopping validation after >120.0 seconds.\n",
      "Epoch 255/1000 | Train 3683222.2609 | Val 3931650.6667 | LR 0.004305\n"
     ]
    },
    {
     "name": "stderr",
     "output_type": "stream",
     "text": [
      "train 255:  10%|▉         | 25/256 [10:14<1:34:34, 24.56s/it]\n"
     ]
    },
    {
     "name": "stdout",
     "output_type": "stream",
     "text": [
      "Stopping training after >600 seconds.\n"
     ]
    },
    {
     "name": "stderr",
     "output_type": "stream",
     "text": [
      "val 255:  47%|████▋     | 9/19 [02:04<02:18, 13.84s/it]\n"
     ]
    },
    {
     "name": "stdout",
     "output_type": "stream",
     "text": [
      "Stopping validation after >120.0 seconds.\n",
      "Epoch 256/1000 | Train 3725384.9231 | Val 3941112.0000 | LR 0.004305\n"
     ]
    },
    {
     "name": "stderr",
     "output_type": "stream",
     "text": [
      "train 256:  10%|█         | 26/256 [10:09<1:29:48, 23.43s/it]\n"
     ]
    },
    {
     "name": "stdout",
     "output_type": "stream",
     "text": [
      "Stopping training after >600 seconds.\n"
     ]
    },
    {
     "name": "stderr",
     "output_type": "stream",
     "text": [
      "val 256:  47%|████▋     | 9/19 [02:04<02:18, 13.88s/it]\n"
     ]
    },
    {
     "name": "stdout",
     "output_type": "stream",
     "text": [
      "Stopping validation after >120.0 seconds.\n",
      "Epoch 257/1000 | Train 3731546.9630 | Val 3953003.6000 | LR 0.004305\n"
     ]
    },
    {
     "name": "stderr",
     "output_type": "stream",
     "text": [
      "train 257:  10%|▉         | 25/256 [10:18<1:35:18, 24.76s/it]\n"
     ]
    },
    {
     "name": "stdout",
     "output_type": "stream",
     "text": [
      "Stopping training after >600 seconds.\n"
     ]
    },
    {
     "name": "stderr",
     "output_type": "stream",
     "text": [
      "val 257:  47%|████▋     | 9/19 [02:07<02:21, 14.19s/it]\n"
     ]
    },
    {
     "name": "stdout",
     "output_type": "stream",
     "text": [
      "Stopping validation after >120.0 seconds.\n",
      "Epoch 258/1000 | Train 3750563.3846 | Val 3945264.4000 | LR 0.004305\n"
     ]
    },
    {
     "name": "stderr",
     "output_type": "stream",
     "text": [
      "train 258:  10%|▉         | 25/256 [10:20<1:35:30, 24.81s/it]\n"
     ]
    },
    {
     "name": "stdout",
     "output_type": "stream",
     "text": [
      "Stopping training after >600 seconds.\n"
     ]
    },
    {
     "name": "stderr",
     "output_type": "stream",
     "text": [
      "val 258:  47%|████▋     | 9/19 [02:09<02:23, 14.38s/it]\n"
     ]
    },
    {
     "name": "stdout",
     "output_type": "stream",
     "text": [
      "Stopping validation after >120.0 seconds.\n",
      "Epoch 259/1000 | Train 3730235.6923 | Val 3938704.0000 | LR 0.004305\n"
     ]
    },
    {
     "name": "stderr",
     "output_type": "stream",
     "text": [
      "train 259:   9%|▉         | 24/256 [10:07<1:37:48, 25.30s/it]\n"
     ]
    },
    {
     "name": "stdout",
     "output_type": "stream",
     "text": [
      "Stopping training after >600 seconds.\n"
     ]
    },
    {
     "name": "stderr",
     "output_type": "stream",
     "text": [
      "val 259:  47%|████▋     | 9/19 [02:08<02:23, 14.30s/it]\n"
     ]
    },
    {
     "name": "stdout",
     "output_type": "stream",
     "text": [
      "Stopping validation after >120.0 seconds.\n",
      "Epoch 260/1000 | Train 3731954.5600 | Val 3948901.6000 | LR 0.004305\n"
     ]
    },
    {
     "name": "stderr",
     "output_type": "stream",
     "text": [
      "train 260:   9%|▉         | 24/256 [10:19<1:39:44, 25.79s/it]\n"
     ]
    },
    {
     "name": "stdout",
     "output_type": "stream",
     "text": [
      "Stopping training after >600 seconds.\n"
     ]
    },
    {
     "name": "stderr",
     "output_type": "stream",
     "text": [
      "val 260:  42%|████▏     | 8/19 [02:01<02:47, 15.21s/it]\n"
     ]
    },
    {
     "name": "stdout",
     "output_type": "stream",
     "text": [
      "Stopping validation after >120.0 seconds.\n",
      "Epoch 261/1000 | Train 3722694.0800 | Val 3947818.2222 | LR 0.004305\n"
     ]
    },
    {
     "name": "stderr",
     "output_type": "stream",
     "text": [
      "train 261:   9%|▉         | 24/256 [10:15<1:39:09, 25.65s/it]\n"
     ]
    },
    {
     "name": "stdout",
     "output_type": "stream",
     "text": [
      "Stopping training after >600 seconds.\n"
     ]
    },
    {
     "name": "stderr",
     "output_type": "stream",
     "text": [
      "val 261:  47%|████▋     | 9/19 [02:11<02:26, 14.67s/it]\n"
     ]
    },
    {
     "name": "stdout",
     "output_type": "stream",
     "text": [
      "Stopping validation after >120.0 seconds.\n",
      "Epoch 262/1000 | Train 3719339.8400 | Val 3941482.8000 | LR 0.004305\n"
     ]
    },
    {
     "name": "stderr",
     "output_type": "stream",
     "text": [
      "train 262:   9%|▉         | 24/256 [10:10<1:38:22, 25.44s/it]\n"
     ]
    },
    {
     "name": "stdout",
     "output_type": "stream",
     "text": [
      "Stopping training after >600 seconds.\n"
     ]
    },
    {
     "name": "stderr",
     "output_type": "stream",
     "text": [
      "val 262:  47%|████▋     | 9/19 [02:04<02:17, 13.80s/it]\n"
     ]
    },
    {
     "name": "stdout",
     "output_type": "stream",
     "text": [
      "Stopping validation after >120.0 seconds.\n",
      "Epoch 263/1000 | Train 3762328.3200 | Val 3941952.8000 | LR 0.004305\n"
     ]
    },
    {
     "name": "stderr",
     "output_type": "stream",
     "text": [
      "train 263:   8%|▊         | 20/256 [07:55<1:36:26, 24.52s/it]"
     ]
    }
   ],
   "source": [
    "for epoch in range(latest_epoch + 1, n_epochs):\n",
    "    t_start = time.time()\n",
    "\n",
    "    # ── TRAINING -----------------------------------------------------------\n",
    "    action_value_model.train()\n",
    "    sum_train_loss = torch.tensor(0.0, device=device)\n",
    "    n_train_batches = 0\n",
    "\n",
    "    t_batch_tqdm = tqdm.tqdm(\n",
    "        train_loader, \n",
    "        desc=f\"train {epoch}\" \n",
    "    )\n",
    "    for t_batch in t_batch_tqdm:\n",
    "        t_batch = move_to_device(t_batch, device)\n",
    "\n",
    "        optimizer.zero_grad()\n",
    "\n",
    "        model_out = action_value_model(*extract_input(t_batch))\n",
    "        outputs, targets = extract_output_target(t_batch, model_out)\n",
    "        loss = criterion(outputs, targets)\n",
    "        \n",
    "        loss.backward()\n",
    "        optimizer.step()\n",
    "    \n",
    "        if torch.isnan(loss) or torch.isinf(loss):\n",
    "            raise ValueError(f\"Loss contains NaN or Inf values\")\n",
    "        \n",
    "        sum_train_loss += loss.detach()\n",
    "        n_train_batches += 1\n",
    "        t_batch_tqdm.set_postfix(av_loss=sum_train_loss/n_train_batches)\n",
    "        if (time.time() - t_start) > train_time_limit: \n",
    "            print(f\"Stopping training after >{train_time_limit} seconds.\")\n",
    "            break\n",
    "        \n",
    "    t_batch_tqdm.close()\n",
    "\n",
    "    avg_train_loss = sum_train_loss.item() / n_train_batches\n",
    "    t_train_done = time.time()\n",
    "\n",
    "    # ── VALIDATION ---------------------------------------------------------\n",
    "    action_value_model.eval()\n",
    "    sum_val_loss = 0.0\n",
    "    n_val_batches = 0\n",
    "    with torch.no_grad():\n",
    "        v_batch_tqdm = tqdm.tqdm(\n",
    "            val_loader, \n",
    "            desc=f\"val {epoch}\" \n",
    "        )\n",
    "        for v_batch in v_batch_tqdm:\n",
    "            v_batch = move_to_device(v_batch, device)\n",
    "\n",
    "            v_out = action_value_model(*extract_input(v_batch))\n",
    "            v_outputs, v_targets = extract_output_target(v_batch, v_out)\n",
    "            val_loss = criterion(v_outputs, v_targets)\n",
    "\n",
    "            if torch.isnan(val_loss) or torch.isinf(val_loss):\n",
    "                raise ValueError(f\"Loss contains NaN or Inf values\")\n",
    "            \n",
    "            sum_val_loss += val_loss\n",
    "            n_val_batches += 1\n",
    "            v_batch_tqdm.set_postfix(av_loss=sum_val_loss/n_val_batches)\n",
    "            if (time.time() - t_train_done) > val_time_limit:\n",
    "                print(f\"Stopping validation after >{val_time_limit} seconds.\")\n",
    "                break\n",
    "\n",
    "        v_batch_tqdm.close()\n",
    "\n",
    "    avg_val_loss = sum_val_loss.item() / n_val_batches\n",
    "    t_val_done = time.time()\n",
    "\n",
    "    # Step the learning rate scheduler after each epoch\n",
    "    scheduler.step()\n",
    "\n",
    "    # ── CSV logging ---------------------------------------------------------\n",
    "    train_time = t_train_done - t_start\n",
    "    val_time   = t_val_done   - t_train_done\n",
    "    total_time = t_val_done   - t_start\n",
    "\n",
    "    csv_writer.writerow([\n",
    "        epoch,\n",
    "        avg_train_loss,\n",
    "        avg_val_loss,\n",
    "        train_time,\n",
    "        val_time,\n",
    "        total_time\n",
    "    ])\n",
    "    csv_file.flush()  # ensure data is written even if run aborts\n",
    "\n",
    "    # ── console printout ----------------------------------------------------\n",
    "    print(\n",
    "        f\"Epoch {epoch+1:3}/{n_epochs} | \"\n",
    "        f\"Train {avg_train_loss:.4f} | \"\n",
    "        f\"Val {avg_val_loss:.4f} | \"\n",
    "        f\"LR {scheduler.get_last_lr()[0]:.6f}\"\n",
    "    )\n",
    "\n",
    "    checkpoint_data = {\n",
    "        \"epoch\": epoch,\n",
    "        \"optim_state\": optimizer.state_dict(),\n",
    "        \"model_state\": action_value_model.state_dict(),\n",
    "        \"scheduler_state\": scheduler.state_dict(),\n",
    "    }\n",
    "    torch.save(checkpoint_data, os.path.join(models_dir, f\"{model_name}_{epoch}.pt\"))\n",
    "# ── tidy‑up ----------------------------------------------------------------\n",
    "csv_file.close()"
   ]
  },
  {
   "cell_type": "code",
   "execution_count": null,
   "id": "8c544fb8",
   "metadata": {},
   "outputs": [],
   "source": []
  }
 ],
 "metadata": {
  "kernelspec": {
   "display_name": "venv",
   "language": "python",
   "name": "python3"
  },
  "language_info": {
   "codemirror_mode": {
    "name": "ipython",
    "version": 3
   },
   "file_extension": ".py",
   "mimetype": "text/x-python",
   "name": "python",
   "nbconvert_exporter": "python",
   "pygments_lexer": "ipython3",
   "version": "3.12.3"
  }
 },
 "nbformat": 4,
 "nbformat_minor": 5
}
