{
 "cells": [
  {
   "cell_type": "code",
   "execution_count": null,
   "id": "b276a13d",
   "metadata": {},
   "outputs": [],
   "source": [
    "# %matplotlib ipympl\n",
    "\n",
    "import os\n",
    "import glob\n",
    "import torch\n",
    "import tqdm\n",
    "import time\n",
    "import csv\n",
    "from torch import nn\n",
    "from torch.utils.data import DataLoader, ConcatDataset, random_split\n",
    "from learning.model.actionvalue import DWActionValueModel\n",
    "from learning.data.process_utils import move_to_device\n",
    "from learning.data.av_utils import (\n",
    "    extract_input, extract_output_target, collate_av_data\n",
    ")\n",
    "from learning.data.av_dataset import ActionValueDataset"
   ]
  },
  {
   "cell_type": "code",
   "execution_count": null,
   "id": "2955fd39",
   "metadata": {},
   "outputs": [],
   "source": []
  },
  {
   "cell_type": "code",
   "execution_count": 3,
   "id": "8cb39e0a",
   "metadata": {},
   "outputs": [],
   "source": [
    "history_folder = \"server/history/\"\n",
    "history_files = sorted(glob.glob(os.path.join(history_folder, \"history_*.json\")))\n",
    "\n",
    "datasets = [ActionValueDataset(f) for f in history_files]\n",
    "concatenated_dataset = ConcatDataset(datasets)\n",
    "\n",
    "train_ds, val_ds, test_ds = random_split(\n",
    "    concatenated_dataset,\n",
    "    [0.8, 0.1, 0.1],\n",
    ")"
   ]
  },
  {
   "cell_type": "code",
   "execution_count": null,
   "id": "1e69fef4",
   "metadata": {},
   "outputs": [],
   "source": []
  },
  {
   "cell_type": "code",
   "execution_count": 4,
   "id": "e2d4a13e",
   "metadata": {},
   "outputs": [],
   "source": [
    "# action_values = torch.stack([\n",
    "#     d[\"action_value\"] \n",
    "#     for d in train_ds\n",
    "# ])\n",
    "# mean = action_values.mean()\n",
    "# std = action_values.std()\n",
    "# mean, std\n",
    "# (tensor(-820.0759), tensor(1868.9108))"
   ]
  },
  {
   "cell_type": "code",
   "execution_count": null,
   "id": "e02c5828",
   "metadata": {},
   "outputs": [],
   "source": [
    "mean_val = torch.tensor(-820)\n",
    "std_val = torch.tensor(1870)"
   ]
  },
  {
   "cell_type": "code",
   "execution_count": 6,
   "id": "43efe07e",
   "metadata": {},
   "outputs": [
    {
     "name": "stdout",
     "output_type": "stream",
     "text": [
      "train_ds 324610\n",
      "val_ds 40576\n",
      "test_ds 40576\n"
     ]
    }
   ],
   "source": [
    "\n",
    "# Set a fixed seed for reproducibility\n",
    "seed = 42\n",
    "torch.manual_seed(seed)\n",
    "generator = torch.Generator().manual_seed(seed)\n",
    "\n",
    "train_loader = DataLoader(train_ds, 16000, pin_memory=True, shuffle=True, \n",
    "                         collate_fn=collate_av_data, generator=generator)\n",
    "val_loader = DataLoader(val_ds, 20000, pin_memory=True, shuffle=True, \n",
    "                       collate_fn=collate_av_data, generator=generator)\n",
    "\n",
    "print(\"train_ds\", len(train_ds))\n",
    "print(\"val_ds\", len(val_ds))\n",
    "print(\"test_ds\", len(test_ds))"
   ]
  },
  {
   "cell_type": "code",
   "execution_count": null,
   "id": "7f61d1ca",
   "metadata": {},
   "outputs": [],
   "source": []
  },
  {
   "cell_type": "code",
   "execution_count": 7,
   "id": "6a966078",
   "metadata": {},
   "outputs": [
    {
     "name": "stdout",
     "output_type": "stream",
     "text": [
      "No valid checkpoint files found\n"
     ]
    }
   ],
   "source": [
    "model_state = None\n",
    "optim_state = None\n",
    "latest_epoch = -1\n",
    "\n",
    "model_name = \"actionvalue_with_freeze\"\n",
    "models_dir = f\"learning/{model_name}_checkpoints\" \n",
    "\n",
    "os.makedirs(models_dir, exist_ok=True)\n",
    "\n",
    "# Find the latest checkpoint file (with highest epoch number)\n",
    "checkpoint_files = glob.glob(os.path.join(models_dir, f\"{model_name}_*.pt\"))\n",
    "if checkpoint_files:\n",
    "    # Extract epoch numbers from filenames\n",
    "    epoch_nums = [int(f.split(\"_\")[-1].split(\".\")[0]) for f in checkpoint_files]\n",
    "    latest_epoch = max(epoch_nums)\n",
    "    latest_checkpoint = os.path.join(models_dir, f\"{model_name}_{latest_epoch:06}.pt\")\n",
    "    print(f\"Loading latest checkpoint: {latest_checkpoint} (epoch {latest_epoch})\")\n",
    "    checkpoint = torch.load(latest_checkpoint, map_location=torch.device('cpu'))\n",
    "    model_state = checkpoint[\"model_state\"]\n",
    "    optim_state = checkpoint[\"optim_state\"]\n",
    "else:\n",
    "    print(\"No valid checkpoint files found\")\n",
    "    \n",
    "start_epoch = latest_epoch + 1"
   ]
  },
  {
   "cell_type": "code",
   "execution_count": 8,
   "id": "de5de2cb",
   "metadata": {},
   "outputs": [
    {
     "name": "stdout",
     "output_type": "stream",
     "text": [
      "Model created. Total trainable parameters: 277\n"
     ]
    }
   ],
   "source": [
    "action_value_model = DWActionValueModel()\n",
    "num_params = sum(p.numel() for p in action_value_model.parameters() if p.requires_grad)\n",
    "print(f\"Model created. Total trainable parameters: {num_params:,}\")"
   ]
  },
  {
   "cell_type": "code",
   "execution_count": 9,
   "id": "6d5403d4",
   "metadata": {},
   "outputs": [
    {
     "name": "stdout",
     "output_type": "stream",
     "text": [
      "⚠️⚠️⚠️ Warning, model is being initialized from an old checkpoint\n",
      "missing key attack_value_fn.edge_value_fn.weight\n",
      "missing key attack_value_fn.edge_value_fn.bias\n",
      "missing key end_turn_value_fn.attention_coef_fn.transform_fn.weight\n",
      "missing key end_turn_value_fn.summary_fn.weight\n",
      "missing key end_turn_value_fn.summary_fn.bias\n",
      "unexpected key winner_logit_fn.attention_coef_fn.transform_fn.weight\n",
      "unexpected key winner_logit_fn.summary_fn.weight\n",
      "unexpected key winner_logit_fn.summary_fn.bias\n",
      "unexpected key attack_logit_fn.edge_value_fn.weight\n",
      "unexpected key attack_logit_fn.edge_value_fn.bias\n",
      "unexpected key end_turn_logit_fn.attention_coef_fn.transform_fn.weight\n",
      "unexpected key end_turn_logit_fn.summary_fn.weight\n",
      "unexpected key end_turn_logit_fn.summary_fn.bias\n"
     ]
    }
   ],
   "source": [
    "init_from_old_model = (model_state is None)\n",
    "\n",
    "if init_from_old_model:\n",
    "    print(\"⚠️⚠️⚠️ Warning, model is being initialized from an old checkpoint\")\n",
    "    \n",
    "    checkpoint = torch.load(\n",
    "        \"learning/old_models/stateflow_winner_action.pt\",\n",
    "        map_location=torch.device('cpu')\n",
    "    )\n",
    "    model_state = checkpoint[\"model_state\"]\n",
    "\n",
    "    # update old model state to match the new one\n",
    "    mismatch = action_value_model.load_state_dict(model_state, strict=False)\n",
    "    model_state = action_value_model.state_dict()\n",
    "\n",
    "    missing_keys, unexpected_keys = mismatch\n",
    "\n",
    "    for mk in missing_keys:\n",
    "        print(\"missing key\", mk)\n",
    "\n",
    "    for uk in unexpected_keys:\n",
    "        print(\"unexpected key\", uk)"
   ]
  },
  {
   "cell_type": "code",
   "execution_count": 10,
   "id": "5fed280a",
   "metadata": {},
   "outputs": [],
   "source": [
    "# Load the model before everything else so that I can freeze some layers\n",
    "if model_state is not None:\n",
    "    action_value_model.load_state_dict(model_state)\n",
    "\n",
    "action_value_model.gat_layers[0].requires_grad_(False)\n",
    "# action_value_model.gat_layers[1].requires_grad_(False)\n",
    "# action_value_model.gat_layers[2].requires_grad_(False)\n",
    "\n",
    "action_value_model.gat_layers[1].reset_parameters() \n",
    "# nn.init.constant_(action_value_model.gat_layers[1].passthrough_coef, -1)\n",
    "\n",
    "action_value_model.gat_layers[2].reset_parameters() \n",
    "# nn.init.constant_(action_value_model.gat_layers[2].passthrough_coef, -1)"
   ]
  },
  {
   "cell_type": "code",
   "execution_count": 11,
   "id": "77b8afa8",
   "metadata": {},
   "outputs": [],
   "source": [
    "# ── CSV set‑up: log one row per epoch ───────────────────────────────────────\n",
    "csv_path = f\"{model_name}_epoch_metrics.csv\"\n",
    "epoch_log_file_exists = os.path.isfile(csv_path)\n",
    "if epoch_log_file_exists and os.path.getsize(csv_path) == 0:\n",
    "    os.remove(csv_path)\n",
    "    epoch_log_file_exists = False\n",
    "\n",
    "csv_file = open(csv_path, \"a\", newline=\"\")  # Open in append mode\n",
    "csv_writer = csv.writer(csv_file)\n",
    "\n",
    "# Only write header if file doesn't exist yet\n",
    "if not epoch_log_file_exists:\n",
    "    csv_writer.writerow([\n",
    "        \"epoch\",           # 0‑based epoch index\n",
    "        \"train_loss\",      # average training loss for the epoch\n",
    "        \"val_loss\",        # average validation loss for the epoch\n",
    "        \"train_time_sec\",  # seconds spent in training phase\n",
    "        \"val_time_sec\",    # seconds spent in validation phase\n",
    "        \"total_time_sec\"   # train + val\n",
    "    ])\n",
    "\n",
    "# ── model / optimizer prep ─────────────────────────────────────────────────\n",
    "\n",
    "n_epochs   = 1000\n",
    "device     = torch.device(\"cuda\", 0)\n",
    "train_time_limit = 10 * 60\n",
    "val_time_limit = train_time_limit / 5\n",
    "criterion  = nn.MSELoss()\n",
    "\n",
    "action_value_model = action_value_model.to(device)\n",
    "\n",
    "optimizer  = torch.optim.Adam(\n",
    "    [p for p in action_value_model.parameters() if p.requires_grad],\n",
    "    lr=1e-2\n",
    ")\n",
    "reset_optimizer = True\n",
    "if not reset_optimizer and optim_state is not None:\n",
    "    optimizer.load_state_dict(optim_state)\n",
    "\n",
    "scheduler  = torch.optim.lr_scheduler.ReduceLROnPlateau(\n",
    "    optimizer, mode=\"min\",\n",
    "    factor=0.5,\n",
    "    patience=5,\n",
    "    threshold=0.0001,\n",
    "    min_lr=1e-8\n",
    ")\n"
   ]
  },
  {
   "cell_type": "code",
   "execution_count": 12,
   "id": "ea054f68",
   "metadata": {},
   "outputs": [
    {
     "name": "stderr",
     "output_type": "stream",
     "text": [
      "init‑train: 100%|██████████| 21/21 [02:50<00:00,  8.13s/it]\n",
      "init‑val: 100%|██████████| 3/3 [00:21<00:00,  7.31s/it]"
     ]
    },
    {
     "name": "stdout",
     "output_type": "stream",
     "text": [
      "Initial (-1) | Train 1.7770 | Val 1.7762 | Time 192.8s (T 170.9s | V 21.9s)\n"
     ]
    },
    {
     "name": "stderr",
     "output_type": "stream",
     "text": [
      "\n"
     ]
    }
   ],
   "source": [
    "# ── INITIAL (untrained) LOSS EVALUATION ───────────────────────────────────────\n",
    "if not epoch_log_file_exists:\n",
    "    action_value_model.eval()\n",
    "    with torch.no_grad():\n",
    "        t_start = time.time()\n",
    "\n",
    "        # avg loss on training set *without* gradient tracking\n",
    "        init_train_sum, init_train_batches = 0.0, 0\n",
    "        for b in tqdm.tqdm(train_loader, desc=\"init‑train\"):\n",
    "            b = move_to_device(b, device)\n",
    "            out = action_value_model(*extract_input(b))\n",
    "            o, t = extract_output_target(b, out, mean_val, std_val)\n",
    "            init_train_sum += criterion(o, t).item()\n",
    "            init_train_batches += 1\n",
    "            if (time.time() - t_start) > train_time_limit: \n",
    "                print(f\"Stopping training after >{train_time_limit} seconds.\")\n",
    "                break\n",
    "        init_train_loss = init_train_sum / init_train_batches\n",
    "        t_train_done = time.time()\n",
    "\n",
    "        # avg loss on validation set\n",
    "        init_val_sum, init_val_batches = 0.0, 0\n",
    "        for vb in tqdm.tqdm(val_loader, desc=\"init‑val\"):\n",
    "            vb = move_to_device(vb, device)\n",
    "            vout = action_value_model(*extract_input(vb))\n",
    "            vo, vt = extract_output_target(\n",
    "                vb, vout, mean_val, std_val\n",
    "            )\n",
    "            init_val_sum += criterion(vo, vt).item()\n",
    "            init_val_batches += 1\n",
    "            if (time.time() - t_train_done) > val_time_limit:\n",
    "                print(f\"Stopping validation after >{val_time_limit} seconds.\")\n",
    "                break\n",
    "        init_val_loss = init_val_sum / init_val_batches\n",
    "        t_val_done = time.time()\n",
    "\n",
    "    # times\n",
    "    init_train_time = t_train_done - t_start\n",
    "    init_val_time   = t_val_done - t_train_done\n",
    "    init_total_time = t_val_done - t_start\n",
    "\n",
    "    # write initial row (epoch = None)\n",
    "    csv_writer.writerow([\n",
    "        -1,\n",
    "        init_train_loss,\n",
    "        init_val_loss,\n",
    "        init_train_time,\n",
    "        init_val_time,\n",
    "        init_total_time\n",
    "    ])\n",
    "    csv_file.flush()\n",
    "    print(\n",
    "        f\"Initial (-1) | \"\n",
    "        f\"Train {init_train_loss:.4f} | \"\n",
    "        f\"Val {init_val_loss:.4f} | \"\n",
    "        f\"Time {init_total_time:.1f}s (T {init_train_time:.1f}s | \"\n",
    "        f\"V {init_val_time:.1f}s)\"\n",
    "    )"
   ]
  },
  {
   "cell_type": "code",
   "execution_count": 13,
   "id": "b88b91e9",
   "metadata": {},
   "outputs": [
    {
     "data": {
      "text/plain": [
       "[0.01]"
      ]
     },
     "execution_count": 13,
     "metadata": {},
     "output_type": "execute_result"
    }
   ],
   "source": [
    "scheduler.get_last_lr()"
   ]
  },
  {
   "cell_type": "code",
   "execution_count": 14,
   "id": "c1f88112",
   "metadata": {},
   "outputs": [
    {
     "name": "stderr",
     "output_type": "stream",
     "text": [
      "train 0: 100%|██████████| 21/21 [03:49<00:00, 10.92s/it, av_loss=3.41]\n",
      "val 0: 100%|██████████| 3/3 [00:22<00:00,  7.55s/it, av_loss=1.06]\n"
     ]
    },
    {
     "name": "stdout",
     "output_type": "stream",
     "text": [
      "Epoch 0 | Train 3.4065 | Val 1.0633 | LR 0.010000\n"
     ]
    },
    {
     "name": "stderr",
     "output_type": "stream",
     "text": [
      "train 1: 100%|██████████| 21/21 [03:49<00:00, 10.95s/it, av_loss=1.08]\n",
      "val 1: 100%|██████████| 3/3 [00:22<00:00,  7.52s/it, av_loss=0.998]\n"
     ]
    },
    {
     "name": "stdout",
     "output_type": "stream",
     "text": [
      "Epoch 1 | Train 1.0781 | Val 0.9980 | LR 0.010000\n"
     ]
    },
    {
     "name": "stderr",
     "output_type": "stream",
     "text": [
      "train 2: 100%|██████████| 21/21 [03:49<00:00, 10.91s/it, av_loss=1.01]\n",
      "val 2: 100%|██████████| 3/3 [00:22<00:00,  7.47s/it, av_loss=0.973]\n"
     ]
    },
    {
     "name": "stdout",
     "output_type": "stream",
     "text": [
      "Epoch 2 | Train 1.0145 | Val 0.9727 | LR 0.010000\n"
     ]
    },
    {
     "name": "stderr",
     "output_type": "stream",
     "text": [
      "train 3: 100%|██████████| 21/21 [03:49<00:00, 10.94s/it, av_loss=1]  \n",
      "val 3: 100%|██████████| 3/3 [00:22<00:00,  7.49s/it, av_loss=0.971]\n"
     ]
    },
    {
     "name": "stdout",
     "output_type": "stream",
     "text": [
      "Epoch 3 | Train 0.9999 | Val 0.9707 | LR 0.010000\n"
     ]
    },
    {
     "name": "stderr",
     "output_type": "stream",
     "text": [
      "train 4: 100%|██████████| 21/21 [03:48<00:00, 10.90s/it, av_loss=0.993]\n",
      "val 4: 100%|██████████| 3/3 [00:22<00:00,  7.46s/it, av_loss=0.96] \n"
     ]
    },
    {
     "name": "stdout",
     "output_type": "stream",
     "text": [
      "Epoch 4 | Train 0.9933 | Val 0.9605 | LR 0.010000\n"
     ]
    },
    {
     "name": "stderr",
     "output_type": "stream",
     "text": [
      "train 5: 100%|██████████| 21/21 [03:49<00:00, 10.94s/it, av_loss=0.986]\n",
      "val 5: 100%|██████████| 3/3 [00:22<00:00,  7.56s/it, av_loss=0.954]\n"
     ]
    },
    {
     "name": "stdout",
     "output_type": "stream",
     "text": [
      "Epoch 5 | Train 0.9860 | Val 0.9544 | LR 0.010000\n"
     ]
    },
    {
     "name": "stderr",
     "output_type": "stream",
     "text": [
      "train 6: 100%|██████████| 21/21 [03:49<00:00, 10.91s/it, av_loss=0.982]\n",
      "val 6: 100%|██████████| 3/3 [00:22<00:00,  7.49s/it, av_loss=0.937]\n"
     ]
    },
    {
     "name": "stdout",
     "output_type": "stream",
     "text": [
      "Epoch 6 | Train 0.9823 | Val 0.9371 | LR 0.010000\n"
     ]
    },
    {
     "name": "stderr",
     "output_type": "stream",
     "text": [
      "train 7: 100%|██████████| 21/21 [03:53<00:00, 11.10s/it, av_loss=0.98] \n",
      "val 7: 100%|██████████| 3/3 [00:22<00:00,  7.51s/it, av_loss=0.944]\n"
     ]
    },
    {
     "name": "stdout",
     "output_type": "stream",
     "text": [
      "Epoch 7 | Train 0.9801 | Val 0.9438 | LR 0.010000\n"
     ]
    },
    {
     "name": "stderr",
     "output_type": "stream",
     "text": [
      "train 8: 100%|██████████| 21/21 [03:52<00:00, 11.06s/it, av_loss=0.976]\n",
      "val 8: 100%|██████████| 3/3 [00:22<00:00,  7.58s/it, av_loss=0.949]\n"
     ]
    },
    {
     "name": "stdout",
     "output_type": "stream",
     "text": [
      "Epoch 8 | Train 0.9755 | Val 0.9493 | LR 0.010000\n"
     ]
    },
    {
     "name": "stderr",
     "output_type": "stream",
     "text": [
      "train 9: 100%|██████████| 21/21 [03:52<00:00, 11.05s/it, av_loss=0.971]\n",
      "val 9: 100%|██████████| 3/3 [00:22<00:00,  7.54s/it, av_loss=0.952]\n"
     ]
    },
    {
     "name": "stdout",
     "output_type": "stream",
     "text": [
      "Epoch 9 | Train 0.9706 | Val 0.9521 | LR 0.010000\n"
     ]
    },
    {
     "name": "stderr",
     "output_type": "stream",
     "text": [
      "train 10: 100%|██████████| 21/21 [03:51<00:00, 11.03s/it, av_loss=0.969]\n",
      "val 10: 100%|██████████| 3/3 [00:22<00:00,  7.58s/it, av_loss=0.944]\n"
     ]
    },
    {
     "name": "stdout",
     "output_type": "stream",
     "text": [
      "Epoch 10 | Train 0.9690 | Val 0.9444 | LR 0.010000\n"
     ]
    },
    {
     "name": "stderr",
     "output_type": "stream",
     "text": [
      "train 11: 100%|██████████| 21/21 [03:52<00:00, 11.06s/it, av_loss=0.963]\n",
      "val 11: 100%|██████████| 3/3 [00:23<00:00,  7.69s/it, av_loss=0.945]\n"
     ]
    },
    {
     "name": "stdout",
     "output_type": "stream",
     "text": [
      "Epoch 11 | Train 0.9634 | Val 0.9454 | LR 0.010000\n"
     ]
    },
    {
     "name": "stderr",
     "output_type": "stream",
     "text": [
      "train 12: 100%|██████████| 21/21 [03:53<00:00, 11.10s/it, av_loss=0.959]\n",
      "val 12: 100%|██████████| 3/3 [00:22<00:00,  7.56s/it, av_loss=0.934]\n"
     ]
    },
    {
     "name": "stdout",
     "output_type": "stream",
     "text": [
      "Epoch 12 | Train 0.9587 | Val 0.9338 | LR 0.010000\n"
     ]
    },
    {
     "name": "stderr",
     "output_type": "stream",
     "text": [
      "train 13: 100%|██████████| 21/21 [03:53<00:00, 11.11s/it, av_loss=0.955]\n",
      "val 13: 100%|██████████| 3/3 [00:22<00:00,  7.47s/it, av_loss=0.918]\n"
     ]
    },
    {
     "name": "stdout",
     "output_type": "stream",
     "text": [
      "Epoch 13 | Train 0.9551 | Val 0.9180 | LR 0.010000\n"
     ]
    },
    {
     "name": "stderr",
     "output_type": "stream",
     "text": [
      "train 14: 100%|██████████| 21/21 [03:53<00:00, 11.11s/it, av_loss=0.95] \n",
      "val 14: 100%|██████████| 3/3 [00:22<00:00,  7.59s/it, av_loss=0.923]\n"
     ]
    },
    {
     "name": "stdout",
     "output_type": "stream",
     "text": [
      "Epoch 14 | Train 0.9502 | Val 0.9234 | LR 0.010000\n"
     ]
    },
    {
     "name": "stderr",
     "output_type": "stream",
     "text": [
      "train 15: 100%|██████████| 21/21 [03:50<00:00, 10.98s/it, av_loss=0.948]\n",
      "val 15: 100%|██████████| 3/3 [00:22<00:00,  7.61s/it, av_loss=0.916]\n"
     ]
    },
    {
     "name": "stdout",
     "output_type": "stream",
     "text": [
      "Epoch 15 | Train 0.9475 | Val 0.9160 | LR 0.010000\n"
     ]
    },
    {
     "name": "stderr",
     "output_type": "stream",
     "text": [
      "train 16: 100%|██████████| 21/21 [03:50<00:00, 10.99s/it, av_loss=0.945]\n",
      "val 16: 100%|██████████| 3/3 [00:22<00:00,  7.52s/it, av_loss=0.908]\n"
     ]
    },
    {
     "name": "stdout",
     "output_type": "stream",
     "text": [
      "Epoch 16 | Train 0.9452 | Val 0.9083 | LR 0.010000\n"
     ]
    },
    {
     "name": "stderr",
     "output_type": "stream",
     "text": [
      "train 17: 100%|██████████| 21/21 [03:51<00:00, 11.04s/it, av_loss=0.944]\n",
      "val 17: 100%|██████████| 3/3 [00:22<00:00,  7.59s/it, av_loss=0.913]\n"
     ]
    },
    {
     "name": "stdout",
     "output_type": "stream",
     "text": [
      "Epoch 17 | Train 0.9443 | Val 0.9125 | LR 0.010000\n"
     ]
    },
    {
     "name": "stderr",
     "output_type": "stream",
     "text": [
      "train 18: 100%|██████████| 21/21 [03:50<00:00, 10.98s/it, av_loss=0.943]\n",
      "val 18: 100%|██████████| 3/3 [00:22<00:00,  7.51s/it, av_loss=0.937]\n"
     ]
    },
    {
     "name": "stdout",
     "output_type": "stream",
     "text": [
      "Epoch 18 | Train 0.9430 | Val 0.9365 | LR 0.010000\n"
     ]
    },
    {
     "name": "stderr",
     "output_type": "stream",
     "text": [
      "train 19: 100%|██████████| 21/21 [03:50<00:00, 10.99s/it, av_loss=0.941]\n",
      "val 19: 100%|██████████| 3/3 [00:23<00:00,  7.80s/it, av_loss=0.927]\n"
     ]
    },
    {
     "name": "stdout",
     "output_type": "stream",
     "text": [
      "Epoch 19 | Train 0.9413 | Val 0.9271 | LR 0.010000\n"
     ]
    },
    {
     "name": "stderr",
     "output_type": "stream",
     "text": [
      "train 20: 100%|██████████| 21/21 [03:50<00:00, 10.96s/it, av_loss=0.94]\n",
      "val 20: 100%|██████████| 3/3 [00:22<00:00,  7.49s/it, av_loss=0.91] \n"
     ]
    },
    {
     "name": "stdout",
     "output_type": "stream",
     "text": [
      "Epoch 20 | Train 0.9399 | Val 0.9100 | LR 0.010000\n"
     ]
    },
    {
     "name": "stderr",
     "output_type": "stream",
     "text": [
      "train 21: 100%|██████████| 21/21 [03:49<00:00, 10.92s/it, av_loss=0.939]\n",
      "val 21: 100%|██████████| 3/3 [00:22<00:00,  7.42s/it, av_loss=0.92] \n"
     ]
    },
    {
     "name": "stdout",
     "output_type": "stream",
     "text": [
      "Epoch 21 | Train 0.9395 | Val 0.9200 | LR 0.010000\n"
     ]
    },
    {
     "name": "stderr",
     "output_type": "stream",
     "text": [
      "train 22: 100%|██████████| 21/21 [03:49<00:00, 10.93s/it, av_loss=0.939]\n",
      "val 22: 100%|██████████| 3/3 [00:22<00:00,  7.52s/it, av_loss=0.931]\n"
     ]
    },
    {
     "name": "stdout",
     "output_type": "stream",
     "text": [
      "Epoch 22 | Train 0.9388 | Val 0.9313 | LR 0.005000\n"
     ]
    },
    {
     "name": "stderr",
     "output_type": "stream",
     "text": [
      "train 23: 100%|██████████| 21/21 [03:48<00:00, 10.88s/it, av_loss=0.938]\n",
      "val 23: 100%|██████████| 3/3 [00:22<00:00,  7.58s/it, av_loss=0.922]\n"
     ]
    },
    {
     "name": "stdout",
     "output_type": "stream",
     "text": [
      "Epoch 23 | Train 0.9378 | Val 0.9224 | LR 0.005000\n"
     ]
    },
    {
     "name": "stderr",
     "output_type": "stream",
     "text": [
      "train 24: 100%|██████████| 21/21 [03:49<00:00, 10.94s/it, av_loss=0.938]\n",
      "val 24: 100%|██████████| 3/3 [00:22<00:00,  7.63s/it, av_loss=0.905]\n"
     ]
    },
    {
     "name": "stdout",
     "output_type": "stream",
     "text": [
      "Epoch 24 | Train 0.9379 | Val 0.9046 | LR 0.005000\n"
     ]
    },
    {
     "name": "stderr",
     "output_type": "stream",
     "text": [
      "train 25: 100%|██████████| 21/21 [03:49<00:00, 10.91s/it, av_loss=0.937]\n",
      "val 25: 100%|██████████| 3/3 [00:22<00:00,  7.60s/it, av_loss=0.915]\n"
     ]
    },
    {
     "name": "stdout",
     "output_type": "stream",
     "text": [
      "Epoch 25 | Train 0.9371 | Val 0.9151 | LR 0.005000\n"
     ]
    },
    {
     "name": "stderr",
     "output_type": "stream",
     "text": [
      "train 26: 100%|██████████| 21/21 [03:52<00:00, 11.05s/it, av_loss=0.936]\n",
      "val 26: 100%|██████████| 3/3 [00:22<00:00,  7.65s/it, av_loss=0.891]\n"
     ]
    },
    {
     "name": "stdout",
     "output_type": "stream",
     "text": [
      "Epoch 26 | Train 0.9360 | Val 0.8914 | LR 0.005000\n"
     ]
    },
    {
     "name": "stderr",
     "output_type": "stream",
     "text": [
      "train 27: 100%|██████████| 21/21 [03:49<00:00, 10.95s/it, av_loss=0.936]\n",
      "val 27: 100%|██████████| 3/3 [00:22<00:00,  7.42s/it, av_loss=0.923]\n"
     ]
    },
    {
     "name": "stdout",
     "output_type": "stream",
     "text": [
      "Epoch 27 | Train 0.9357 | Val 0.9231 | LR 0.005000\n"
     ]
    },
    {
     "name": "stderr",
     "output_type": "stream",
     "text": [
      "train 28: 100%|██████████| 21/21 [03:47<00:00, 10.85s/it, av_loss=0.936]\n",
      "val 28: 100%|██████████| 3/3 [00:22<00:00,  7.44s/it, av_loss=0.921]\n"
     ]
    },
    {
     "name": "stdout",
     "output_type": "stream",
     "text": [
      "Epoch 28 | Train 0.9356 | Val 0.9208 | LR 0.005000\n"
     ]
    },
    {
     "name": "stderr",
     "output_type": "stream",
     "text": [
      "train 29: 100%|██████████| 21/21 [03:47<00:00, 10.84s/it, av_loss=0.934]\n",
      "val 29: 100%|██████████| 3/3 [00:22<00:00,  7.41s/it, av_loss=0.904]\n"
     ]
    },
    {
     "name": "stdout",
     "output_type": "stream",
     "text": [
      "Epoch 29 | Train 0.9340 | Val 0.9043 | LR 0.005000\n"
     ]
    },
    {
     "name": "stderr",
     "output_type": "stream",
     "text": [
      "train 30: 100%|██████████| 21/21 [03:47<00:00, 10.83s/it, av_loss=0.935]\n",
      "val 30: 100%|██████████| 3/3 [00:22<00:00,  7.55s/it, av_loss=0.904]\n"
     ]
    },
    {
     "name": "stdout",
     "output_type": "stream",
     "text": [
      "Epoch 30 | Train 0.9350 | Val 0.9040 | LR 0.005000\n"
     ]
    },
    {
     "name": "stderr",
     "output_type": "stream",
     "text": [
      "train 31: 100%|██████████| 21/21 [03:47<00:00, 10.84s/it, av_loss=0.935]\n",
      "val 31: 100%|██████████| 3/3 [00:22<00:00,  7.36s/it, av_loss=0.912]\n"
     ]
    },
    {
     "name": "stdout",
     "output_type": "stream",
     "text": [
      "Epoch 31 | Train 0.9346 | Val 0.9116 | LR 0.005000\n"
     ]
    },
    {
     "name": "stderr",
     "output_type": "stream",
     "text": [
      "train 32: 100%|██████████| 21/21 [03:47<00:00, 10.82s/it, av_loss=0.934]\n",
      "val 32: 100%|██████████| 3/3 [00:22<00:00,  7.40s/it, av_loss=0.9]  \n"
     ]
    },
    {
     "name": "stdout",
     "output_type": "stream",
     "text": [
      "Epoch 32 | Train 0.9336 | Val 0.8999 | LR 0.002500\n"
     ]
    },
    {
     "name": "stderr",
     "output_type": "stream",
     "text": [
      "train 33: 100%|██████████| 21/21 [03:47<00:00, 10.84s/it, av_loss=0.934]\n",
      "val 33: 100%|██████████| 3/3 [00:22<00:00,  7.46s/it, av_loss=0.905]\n"
     ]
    },
    {
     "name": "stdout",
     "output_type": "stream",
     "text": [
      "Epoch 33 | Train 0.9337 | Val 0.9051 | LR 0.002500\n"
     ]
    },
    {
     "name": "stderr",
     "output_type": "stream",
     "text": [
      "train 34: 100%|██████████| 21/21 [03:48<00:00, 10.88s/it, av_loss=0.934]\n",
      "val 34: 100%|██████████| 3/3 [00:22<00:00,  7.43s/it, av_loss=0.918]\n"
     ]
    },
    {
     "name": "stdout",
     "output_type": "stream",
     "text": [
      "Epoch 34 | Train 0.9339 | Val 0.9183 | LR 0.002500\n"
     ]
    },
    {
     "name": "stderr",
     "output_type": "stream",
     "text": [
      "train 35: 100%|██████████| 21/21 [03:47<00:00, 10.82s/it, av_loss=0.932]\n",
      "val 35: 100%|██████████| 3/3 [00:22<00:00,  7.43s/it, av_loss=0.902]\n"
     ]
    },
    {
     "name": "stdout",
     "output_type": "stream",
     "text": [
      "Epoch 35 | Train 0.9324 | Val 0.9020 | LR 0.002500\n"
     ]
    },
    {
     "name": "stderr",
     "output_type": "stream",
     "text": [
      "train 36: 100%|██████████| 21/21 [03:47<00:00, 10.84s/it, av_loss=0.933]\n",
      "val 36: 100%|██████████| 3/3 [00:22<00:00,  7.43s/it, av_loss=0.917]\n"
     ]
    },
    {
     "name": "stdout",
     "output_type": "stream",
     "text": [
      "Epoch 36 | Train 0.9328 | Val 0.9168 | LR 0.002500\n"
     ]
    },
    {
     "name": "stderr",
     "output_type": "stream",
     "text": [
      "train 37: 100%|██████████| 21/21 [03:46<00:00, 10.80s/it, av_loss=0.934]\n",
      "val 37: 100%|██████████| 3/3 [00:22<00:00,  7.37s/it, av_loss=0.915]\n"
     ]
    },
    {
     "name": "stdout",
     "output_type": "stream",
     "text": [
      "Epoch 37 | Train 0.9339 | Val 0.9146 | LR 0.002500\n"
     ]
    },
    {
     "name": "stderr",
     "output_type": "stream",
     "text": [
      "train 38: 100%|██████████| 21/21 [03:47<00:00, 10.84s/it, av_loss=0.934]\n",
      "val 38: 100%|██████████| 3/3 [00:22<00:00,  7.45s/it, av_loss=0.913]\n"
     ]
    },
    {
     "name": "stdout",
     "output_type": "stream",
     "text": [
      "Epoch 38 | Train 0.9341 | Val 0.9125 | LR 0.001250\n"
     ]
    },
    {
     "name": "stderr",
     "output_type": "stream",
     "text": [
      "train 39: 100%|██████████| 21/21 [03:47<00:00, 10.82s/it, av_loss=0.933]\n",
      "val 39: 100%|██████████| 3/3 [00:22<00:00,  7.46s/it, av_loss=0.91] \n"
     ]
    },
    {
     "name": "stdout",
     "output_type": "stream",
     "text": [
      "Epoch 39 | Train 0.9334 | Val 0.9103 | LR 0.001250\n"
     ]
    },
    {
     "name": "stderr",
     "output_type": "stream",
     "text": [
      "train 40: 100%|██████████| 21/21 [03:47<00:00, 10.84s/it, av_loss=0.932]\n",
      "val 40: 100%|██████████| 3/3 [00:22<00:00,  7.39s/it, av_loss=0.896]\n"
     ]
    },
    {
     "name": "stdout",
     "output_type": "stream",
     "text": [
      "Epoch 40 | Train 0.9325 | Val 0.8963 | LR 0.001250\n"
     ]
    },
    {
     "name": "stderr",
     "output_type": "stream",
     "text": [
      "train 41: 100%|██████████| 21/21 [03:46<00:00, 10.80s/it, av_loss=0.934]\n",
      "val 41: 100%|██████████| 3/3 [00:22<00:00,  7.34s/it, av_loss=0.922]\n"
     ]
    },
    {
     "name": "stdout",
     "output_type": "stream",
     "text": [
      "Epoch 41 | Train 0.9335 | Val 0.9217 | LR 0.001250\n"
     ]
    },
    {
     "name": "stderr",
     "output_type": "stream",
     "text": [
      "train 42: 100%|██████████| 21/21 [03:51<00:00, 11.05s/it, av_loss=0.933]\n",
      "val 42: 100%|██████████| 3/3 [00:22<00:00,  7.65s/it, av_loss=0.909]\n"
     ]
    },
    {
     "name": "stdout",
     "output_type": "stream",
     "text": [
      "Epoch 42 | Train 0.9328 | Val 0.9092 | LR 0.001250\n"
     ]
    },
    {
     "name": "stderr",
     "output_type": "stream",
     "text": [
      "train 43: 100%|██████████| 21/21 [03:55<00:00, 11.21s/it, av_loss=0.933]\n",
      "val 43: 100%|██████████| 3/3 [00:23<00:00,  7.71s/it, av_loss=0.901]\n"
     ]
    },
    {
     "name": "stdout",
     "output_type": "stream",
     "text": [
      "Epoch 43 | Train 0.9330 | Val 0.9007 | LR 0.001250\n"
     ]
    },
    {
     "name": "stderr",
     "output_type": "stream",
     "text": [
      "train 44: 100%|██████████| 21/21 [03:55<00:00, 11.23s/it, av_loss=0.932]\n",
      "val 44: 100%|██████████| 3/3 [00:23<00:00,  7.67s/it, av_loss=0.896]\n"
     ]
    },
    {
     "name": "stdout",
     "output_type": "stream",
     "text": [
      "Epoch 44 | Train 0.9317 | Val 0.8959 | LR 0.000625\n"
     ]
    },
    {
     "name": "stderr",
     "output_type": "stream",
     "text": [
      "train 45: 100%|██████████| 21/21 [03:55<00:00, 11.19s/it, av_loss=0.933]\n",
      "val 45: 100%|██████████| 3/3 [00:23<00:00,  7.75s/it, av_loss=0.911]\n"
     ]
    },
    {
     "name": "stdout",
     "output_type": "stream",
     "text": [
      "Epoch 45 | Train 0.9329 | Val 0.9106 | LR 0.000625\n"
     ]
    },
    {
     "name": "stderr",
     "output_type": "stream",
     "text": [
      "train 46: 100%|██████████| 21/21 [04:03<00:00, 11.60s/it, av_loss=0.931]\n",
      "val 46: 100%|██████████| 3/3 [00:24<00:00,  8.31s/it, av_loss=0.906]\n"
     ]
    },
    {
     "name": "stdout",
     "output_type": "stream",
     "text": [
      "Epoch 46 | Train 0.9312 | Val 0.9055 | LR 0.000625\n"
     ]
    },
    {
     "name": "stderr",
     "output_type": "stream",
     "text": [
      "train 47: 100%|██████████| 21/21 [04:09<00:00, 11.89s/it, av_loss=0.931]\n",
      "val 47: 100%|██████████| 3/3 [00:24<00:00,  8.30s/it, av_loss=0.903]\n"
     ]
    },
    {
     "name": "stdout",
     "output_type": "stream",
     "text": [
      "Epoch 47 | Train 0.9315 | Val 0.9033 | LR 0.000625\n"
     ]
    },
    {
     "name": "stderr",
     "output_type": "stream",
     "text": [
      "train 48: 100%|██████████| 21/21 [04:06<00:00, 11.74s/it, av_loss=0.933]\n",
      "val 48: 100%|██████████| 3/3 [00:24<00:00,  8.14s/it, av_loss=0.921]\n"
     ]
    },
    {
     "name": "stdout",
     "output_type": "stream",
     "text": [
      "Epoch 48 | Train 0.9334 | Val 0.9207 | LR 0.000625\n"
     ]
    },
    {
     "name": "stderr",
     "output_type": "stream",
     "text": [
      "train 49: 100%|██████████| 21/21 [04:07<00:00, 11.80s/it, av_loss=0.931]\n",
      "val 49: 100%|██████████| 3/3 [00:24<00:00,  8.12s/it, av_loss=0.899]\n"
     ]
    },
    {
     "name": "stdout",
     "output_type": "stream",
     "text": [
      "Epoch 49 | Train 0.9312 | Val 0.8988 | LR 0.000625\n"
     ]
    },
    {
     "name": "stderr",
     "output_type": "stream",
     "text": [
      "train 50: 100%|██████████| 21/21 [04:08<00:00, 11.85s/it, av_loss=0.933]\n",
      "val 50: 100%|██████████| 3/3 [00:25<00:00,  8.50s/it, av_loss=0.908]\n"
     ]
    },
    {
     "name": "stdout",
     "output_type": "stream",
     "text": [
      "Epoch 50 | Train 0.9328 | Val 0.9078 | LR 0.000313\n"
     ]
    },
    {
     "name": "stderr",
     "output_type": "stream",
     "text": [
      "train 51: 100%|██████████| 21/21 [04:02<00:00, 11.56s/it, av_loss=0.933]\n",
      "val 51: 100%|██████████| 3/3 [00:23<00:00,  7.82s/it, av_loss=0.91] \n"
     ]
    },
    {
     "name": "stdout",
     "output_type": "stream",
     "text": [
      "Epoch 51 | Train 0.9332 | Val 0.9105 | LR 0.000313\n"
     ]
    },
    {
     "name": "stderr",
     "output_type": "stream",
     "text": [
      "train 52: 100%|██████████| 21/21 [04:03<00:00, 11.61s/it, av_loss=0.932]\n",
      "val 52: 100%|██████████| 3/3 [00:23<00:00,  7.86s/it, av_loss=0.906]\n"
     ]
    },
    {
     "name": "stdout",
     "output_type": "stream",
     "text": [
      "Epoch 52 | Train 0.9320 | Val 0.9063 | LR 0.000313\n"
     ]
    },
    {
     "name": "stderr",
     "output_type": "stream",
     "text": [
      "train 53: 100%|██████████| 21/21 [04:02<00:00, 11.57s/it, av_loss=0.933]\n",
      "val 53: 100%|██████████| 3/3 [00:23<00:00,  7.87s/it, av_loss=0.9]  \n"
     ]
    },
    {
     "name": "stdout",
     "output_type": "stream",
     "text": [
      "Epoch 53 | Train 0.9328 | Val 0.8998 | LR 0.000313\n"
     ]
    },
    {
     "name": "stderr",
     "output_type": "stream",
     "text": [
      "train 54: 100%|██████████| 21/21 [04:00<00:00, 11.45s/it, av_loss=0.931]\n",
      "val 54: 100%|██████████| 3/3 [00:23<00:00,  7.91s/it, av_loss=0.899]\n"
     ]
    },
    {
     "name": "stdout",
     "output_type": "stream",
     "text": [
      "Epoch 54 | Train 0.9313 | Val 0.8988 | LR 0.000313\n"
     ]
    },
    {
     "name": "stderr",
     "output_type": "stream",
     "text": [
      "train 55: 100%|██████████| 21/21 [04:01<00:00, 11.51s/it, av_loss=0.933]\n",
      "val 55: 100%|██████████| 3/3 [00:23<00:00,  7.88s/it, av_loss=0.906]\n"
     ]
    },
    {
     "name": "stdout",
     "output_type": "stream",
     "text": [
      "Epoch 55 | Train 0.9326 | Val 0.9060 | LR 0.000313\n"
     ]
    },
    {
     "name": "stderr",
     "output_type": "stream",
     "text": [
      "train 56: 100%|██████████| 21/21 [04:06<00:00, 11.76s/it, av_loss=0.932]\n",
      "val 56: 100%|██████████| 3/3 [00:25<00:00,  8.42s/it, av_loss=0.907]\n"
     ]
    },
    {
     "name": "stdout",
     "output_type": "stream",
     "text": [
      "Epoch 56 | Train 0.9321 | Val 0.9068 | LR 0.000156\n"
     ]
    },
    {
     "name": "stderr",
     "output_type": "stream",
     "text": [
      "train 57: 100%|██████████| 21/21 [04:22<00:00, 12.52s/it, av_loss=0.932]\n",
      "val 57: 100%|██████████| 3/3 [00:24<00:00,  8.28s/it, av_loss=0.892]\n"
     ]
    },
    {
     "name": "stdout",
     "output_type": "stream",
     "text": [
      "Epoch 57 | Train 0.9324 | Val 0.8915 | LR 0.000156\n"
     ]
    },
    {
     "name": "stderr",
     "output_type": "stream",
     "text": [
      "train 58: 100%|██████████| 21/21 [04:12<00:00, 12.03s/it, av_loss=0.933]\n",
      "val 58: 100%|██████████| 3/3 [00:25<00:00,  8.37s/it, av_loss=0.928]\n"
     ]
    },
    {
     "name": "stdout",
     "output_type": "stream",
     "text": [
      "Epoch 58 | Train 0.9327 | Val 0.9276 | LR 0.000156\n"
     ]
    },
    {
     "name": "stderr",
     "output_type": "stream",
     "text": [
      "train 59: 100%|██████████| 21/21 [04:11<00:00, 12.00s/it, av_loss=0.932]\n",
      "val 59: 100%|██████████| 3/3 [00:24<00:00,  8.01s/it, av_loss=0.884]\n"
     ]
    },
    {
     "name": "stdout",
     "output_type": "stream",
     "text": [
      "Epoch 59 | Train 0.9317 | Val 0.8837 | LR 0.000156\n"
     ]
    },
    {
     "name": "stderr",
     "output_type": "stream",
     "text": [
      "train 60: 100%|██████████| 21/21 [04:05<00:00, 11.67s/it, av_loss=0.932]\n",
      "val 60: 100%|██████████| 3/3 [00:24<00:00,  8.04s/it, av_loss=0.907]\n"
     ]
    },
    {
     "name": "stdout",
     "output_type": "stream",
     "text": [
      "Epoch 60 | Train 0.9316 | Val 0.9070 | LR 0.000156\n"
     ]
    },
    {
     "name": "stderr",
     "output_type": "stream",
     "text": [
      "train 61: 100%|██████████| 21/21 [04:04<00:00, 11.65s/it, av_loss=0.932]\n",
      "val 61: 100%|██████████| 3/3 [00:24<00:00,  8.05s/it, av_loss=0.902]\n"
     ]
    },
    {
     "name": "stdout",
     "output_type": "stream",
     "text": [
      "Epoch 61 | Train 0.9319 | Val 0.9017 | LR 0.000156\n"
     ]
    },
    {
     "name": "stderr",
     "output_type": "stream",
     "text": [
      "train 62: 100%|██████████| 21/21 [04:11<00:00, 11.97s/it, av_loss=0.932]\n",
      "val 62: 100%|██████████| 3/3 [00:24<00:00,  8.20s/it, av_loss=0.911]\n"
     ]
    },
    {
     "name": "stdout",
     "output_type": "stream",
     "text": [
      "Epoch 62 | Train 0.9321 | Val 0.9114 | LR 0.000156\n"
     ]
    },
    {
     "name": "stderr",
     "output_type": "stream",
     "text": [
      "train 63: 100%|██████████| 21/21 [04:14<00:00, 12.10s/it, av_loss=0.932]\n",
      "val 63: 100%|██████████| 3/3 [00:24<00:00,  8.12s/it, av_loss=0.914]\n"
     ]
    },
    {
     "name": "stdout",
     "output_type": "stream",
     "text": [
      "Epoch 63 | Train 0.9315 | Val 0.9137 | LR 0.000156\n"
     ]
    },
    {
     "name": "stderr",
     "output_type": "stream",
     "text": [
      "train 64: 100%|██████████| 21/21 [04:10<00:00, 11.91s/it, av_loss=0.932]\n",
      "val 64: 100%|██████████| 3/3 [00:23<00:00,  7.74s/it, av_loss=0.922]\n"
     ]
    },
    {
     "name": "stdout",
     "output_type": "stream",
     "text": [
      "Epoch 64 | Train 0.9318 | Val 0.9224 | LR 0.000156\n"
     ]
    },
    {
     "name": "stderr",
     "output_type": "stream",
     "text": [
      "train 65: 100%|██████████| 21/21 [03:44<00:00, 10.70s/it, av_loss=0.932]\n",
      "val 65: 100%|██████████| 3/3 [00:21<00:00,  7.25s/it, av_loss=0.904]\n"
     ]
    },
    {
     "name": "stdout",
     "output_type": "stream",
     "text": [
      "Epoch 65 | Train 0.9316 | Val 0.9036 | LR 0.000078\n"
     ]
    },
    {
     "name": "stderr",
     "output_type": "stream",
     "text": [
      "train 66: 100%|██████████| 21/21 [03:41<00:00, 10.54s/it, av_loss=0.932]\n",
      "val 66: 100%|██████████| 3/3 [00:21<00:00,  7.29s/it, av_loss=0.891]\n"
     ]
    },
    {
     "name": "stdout",
     "output_type": "stream",
     "text": [
      "Epoch 66 | Train 0.9317 | Val 0.8913 | LR 0.000078\n"
     ]
    },
    {
     "name": "stderr",
     "output_type": "stream",
     "text": [
      "train 67: 100%|██████████| 21/21 [03:41<00:00, 10.56s/it, av_loss=0.932]\n",
      "val 67: 100%|██████████| 3/3 [00:23<00:00,  7.84s/it, av_loss=0.908]\n"
     ]
    },
    {
     "name": "stdout",
     "output_type": "stream",
     "text": [
      "Epoch 67 | Train 0.9320 | Val 0.9080 | LR 0.000078\n"
     ]
    },
    {
     "name": "stderr",
     "output_type": "stream",
     "text": [
      "train 68: 100%|██████████| 21/21 [03:55<00:00, 11.21s/it, av_loss=0.932]\n",
      "val 68: 100%|██████████| 3/3 [00:22<00:00,  7.55s/it, av_loss=0.904]\n"
     ]
    },
    {
     "name": "stdout",
     "output_type": "stream",
     "text": [
      "Epoch 68 | Train 0.9319 | Val 0.9041 | LR 0.000078\n"
     ]
    },
    {
     "name": "stderr",
     "output_type": "stream",
     "text": [
      "train 69: 100%|██████████| 21/21 [03:51<00:00, 11.01s/it, av_loss=0.932]\n",
      "val 69: 100%|██████████| 3/3 [00:22<00:00,  7.55s/it, av_loss=0.918]\n"
     ]
    },
    {
     "name": "stdout",
     "output_type": "stream",
     "text": [
      "Epoch 69 | Train 0.9321 | Val 0.9178 | LR 0.000078\n"
     ]
    },
    {
     "name": "stderr",
     "output_type": "stream",
     "text": [
      "train 70: 100%|██████████| 21/21 [03:50<00:00, 10.97s/it, av_loss=0.932]\n",
      "val 70: 100%|██████████| 3/3 [00:21<00:00,  7.28s/it, av_loss=0.904]\n"
     ]
    },
    {
     "name": "stdout",
     "output_type": "stream",
     "text": [
      "Epoch 70 | Train 0.9322 | Val 0.9040 | LR 0.000078\n"
     ]
    },
    {
     "name": "stderr",
     "output_type": "stream",
     "text": [
      "train 71: 100%|██████████| 21/21 [03:50<00:00, 10.99s/it, av_loss=0.931]\n",
      "val 71: 100%|██████████| 3/3 [00:22<00:00,  7.54s/it, av_loss=0.902]\n"
     ]
    },
    {
     "name": "stdout",
     "output_type": "stream",
     "text": [
      "Epoch 71 | Train 0.9305 | Val 0.9020 | LR 0.000039\n"
     ]
    },
    {
     "name": "stderr",
     "output_type": "stream",
     "text": [
      "train 72: 100%|██████████| 21/21 [03:53<00:00, 11.14s/it, av_loss=0.932]\n",
      "val 72: 100%|██████████| 3/3 [00:22<00:00,  7.53s/it, av_loss=0.917]\n"
     ]
    },
    {
     "name": "stdout",
     "output_type": "stream",
     "text": [
      "Epoch 72 | Train 0.9316 | Val 0.9172 | LR 0.000039\n"
     ]
    },
    {
     "name": "stderr",
     "output_type": "stream",
     "text": [
      "train 73: 100%|██████████| 21/21 [03:51<00:00, 11.05s/it, av_loss=0.931]\n",
      "val 73: 100%|██████████| 3/3 [00:22<00:00,  7.52s/it, av_loss=0.904]\n"
     ]
    },
    {
     "name": "stdout",
     "output_type": "stream",
     "text": [
      "Epoch 73 | Train 0.9314 | Val 0.9043 | LR 0.000039\n"
     ]
    },
    {
     "name": "stderr",
     "output_type": "stream",
     "text": [
      "train 74: 100%|██████████| 21/21 [04:00<00:00, 11.46s/it, av_loss=0.932]\n",
      "val 74: 100%|██████████| 3/3 [00:23<00:00,  7.72s/it, av_loss=0.9]  \n"
     ]
    },
    {
     "name": "stdout",
     "output_type": "stream",
     "text": [
      "Epoch 74 | Train 0.9322 | Val 0.8999 | LR 0.000039\n"
     ]
    },
    {
     "name": "stderr",
     "output_type": "stream",
     "text": [
      "train 75: 100%|██████████| 21/21 [03:59<00:00, 11.41s/it, av_loss=0.932]\n",
      "val 75: 100%|██████████| 3/3 [00:24<00:00,  8.17s/it, av_loss=0.92] \n"
     ]
    },
    {
     "name": "stdout",
     "output_type": "stream",
     "text": [
      "Epoch 75 | Train 0.9321 | Val 0.9197 | LR 0.000039\n"
     ]
    },
    {
     "name": "stderr",
     "output_type": "stream",
     "text": [
      "train 76: 100%|██████████| 21/21 [03:59<00:00, 11.40s/it, av_loss=0.932]\n",
      "val 76: 100%|██████████| 3/3 [00:24<00:00,  8.32s/it, av_loss=0.904]\n"
     ]
    },
    {
     "name": "stdout",
     "output_type": "stream",
     "text": [
      "Epoch 76 | Train 0.9324 | Val 0.9042 | LR 0.000039\n"
     ]
    },
    {
     "name": "stderr",
     "output_type": "stream",
     "text": [
      "train 77: 100%|██████████| 21/21 [03:54<00:00, 11.19s/it, av_loss=0.932]\n",
      "val 77: 100%|██████████| 3/3 [00:22<00:00,  7.55s/it, av_loss=0.903]\n"
     ]
    },
    {
     "name": "stdout",
     "output_type": "stream",
     "text": [
      "Epoch 77 | Train 0.9321 | Val 0.9031 | LR 0.000020\n"
     ]
    },
    {
     "name": "stderr",
     "output_type": "stream",
     "text": [
      "train 78: 100%|██████████| 21/21 [03:50<00:00, 11.00s/it, av_loss=0.932]\n",
      "val 78: 100%|██████████| 3/3 [00:23<00:00,  7.71s/it, av_loss=0.908]\n"
     ]
    },
    {
     "name": "stdout",
     "output_type": "stream",
     "text": [
      "Epoch 78 | Train 0.9319 | Val 0.9077 | LR 0.000020\n"
     ]
    },
    {
     "name": "stderr",
     "output_type": "stream",
     "text": [
      "train 79: 100%|██████████| 21/21 [03:52<00:00, 11.06s/it, av_loss=0.932]\n",
      "val 79: 100%|██████████| 3/3 [00:23<00:00,  7.69s/it, av_loss=0.904]\n"
     ]
    },
    {
     "name": "stdout",
     "output_type": "stream",
     "text": [
      "Epoch 79 | Train 0.9316 | Val 0.9038 | LR 0.000020\n"
     ]
    },
    {
     "name": "stderr",
     "output_type": "stream",
     "text": [
      "train 80: 100%|██████████| 21/21 [03:54<00:00, 11.15s/it, av_loss=0.931]\n",
      "val 80: 100%|██████████| 3/3 [00:25<00:00,  8.62s/it, av_loss=0.9]  \n"
     ]
    },
    {
     "name": "stdout",
     "output_type": "stream",
     "text": [
      "Epoch 80 | Train 0.9313 | Val 0.9004 | LR 0.000020\n"
     ]
    },
    {
     "name": "stderr",
     "output_type": "stream",
     "text": [
      "train 81: 100%|██████████| 21/21 [04:01<00:00, 11.49s/it, av_loss=0.931]\n",
      "val 81: 100%|██████████| 3/3 [00:23<00:00,  7.74s/it, av_loss=0.902]\n"
     ]
    },
    {
     "name": "stdout",
     "output_type": "stream",
     "text": [
      "Epoch 81 | Train 0.9310 | Val 0.9021 | LR 0.000020\n"
     ]
    },
    {
     "name": "stderr",
     "output_type": "stream",
     "text": [
      "train 82: 100%|██████████| 21/21 [03:56<00:00, 11.24s/it, av_loss=0.932]\n",
      "val 82: 100%|██████████| 3/3 [00:23<00:00,  7.80s/it, av_loss=0.916]\n"
     ]
    },
    {
     "name": "stdout",
     "output_type": "stream",
     "text": [
      "Epoch 82 | Train 0.9318 | Val 0.9155 | LR 0.000020\n"
     ]
    },
    {
     "name": "stderr",
     "output_type": "stream",
     "text": [
      "train 83: 100%|██████████| 21/21 [04:01<00:00, 11.50s/it, av_loss=0.933]\n",
      "val 83: 100%|██████████| 3/3 [00:23<00:00,  7.81s/it, av_loss=0.908]\n"
     ]
    },
    {
     "name": "stdout",
     "output_type": "stream",
     "text": [
      "Epoch 83 | Train 0.9328 | Val 0.9079 | LR 0.000010\n"
     ]
    },
    {
     "name": "stderr",
     "output_type": "stream",
     "text": [
      "train 84: 100%|██████████| 21/21 [03:59<00:00, 11.40s/it, av_loss=0.932]\n",
      "val 84: 100%|██████████| 3/3 [00:22<00:00,  7.58s/it, av_loss=0.892]\n"
     ]
    },
    {
     "name": "stdout",
     "output_type": "stream",
     "text": [
      "Epoch 84 | Train 0.9315 | Val 0.8915 | LR 0.000010\n"
     ]
    },
    {
     "name": "stderr",
     "output_type": "stream",
     "text": [
      "train 85: 100%|██████████| 21/21 [03:54<00:00, 11.18s/it, av_loss=0.933]\n",
      "val 85: 100%|██████████| 3/3 [00:22<00:00,  7.66s/it, av_loss=0.895]\n"
     ]
    },
    {
     "name": "stdout",
     "output_type": "stream",
     "text": [
      "Epoch 85 | Train 0.9326 | Val 0.8949 | LR 0.000010\n"
     ]
    },
    {
     "name": "stderr",
     "output_type": "stream",
     "text": [
      "train 86: 100%|██████████| 21/21 [03:59<00:00, 11.43s/it, av_loss=0.932]\n",
      "val 86: 100%|██████████| 3/3 [00:22<00:00,  7.62s/it, av_loss=0.904]\n"
     ]
    },
    {
     "name": "stdout",
     "output_type": "stream",
     "text": [
      "Epoch 86 | Train 0.9317 | Val 0.9037 | LR 0.000010\n"
     ]
    },
    {
     "name": "stderr",
     "output_type": "stream",
     "text": [
      "train 87: 100%|██████████| 21/21 [03:56<00:00, 11.26s/it, av_loss=0.932]\n",
      "val 87: 100%|██████████| 3/3 [00:23<00:00,  7.93s/it, av_loss=0.898]\n"
     ]
    },
    {
     "name": "stdout",
     "output_type": "stream",
     "text": [
      "Epoch 87 | Train 0.9316 | Val 0.8983 | LR 0.000010\n"
     ]
    },
    {
     "name": "stderr",
     "output_type": "stream",
     "text": [
      "train 88: 100%|██████████| 21/21 [04:02<00:00, 11.54s/it, av_loss=0.932]\n",
      "val 88: 100%|██████████| 3/3 [00:22<00:00,  7.61s/it, av_loss=0.913]\n"
     ]
    },
    {
     "name": "stdout",
     "output_type": "stream",
     "text": [
      "Epoch 88 | Train 0.9322 | Val 0.9134 | LR 0.000010\n"
     ]
    },
    {
     "name": "stderr",
     "output_type": "stream",
     "text": [
      "train 89: 100%|██████████| 21/21 [03:54<00:00, 11.18s/it, av_loss=0.932]\n",
      "val 89: 100%|██████████| 3/3 [00:22<00:00,  7.57s/it, av_loss=0.901]\n"
     ]
    },
    {
     "name": "stdout",
     "output_type": "stream",
     "text": [
      "Epoch 89 | Train 0.9317 | Val 0.9013 | LR 0.000005\n"
     ]
    },
    {
     "name": "stderr",
     "output_type": "stream",
     "text": [
      "train 90: 100%|██████████| 21/21 [03:56<00:00, 11.26s/it, av_loss=0.933]\n",
      "val 90: 100%|██████████| 3/3 [00:25<00:00,  8.46s/it, av_loss=0.911]\n"
     ]
    },
    {
     "name": "stdout",
     "output_type": "stream",
     "text": [
      "Epoch 90 | Train 0.9328 | Val 0.9107 | LR 0.000005\n"
     ]
    },
    {
     "name": "stderr",
     "output_type": "stream",
     "text": [
      "train 91:   0%|          | 0/21 [00:03<?, ?it/s]\n"
     ]
    },
    {
     "ename": "KeyboardInterrupt",
     "evalue": "",
     "output_type": "error",
     "traceback": [
      "\u001b[31m---------------------------------------------------------------------------\u001b[39m",
      "\u001b[31mKeyboardInterrupt\u001b[39m                         Traceback (most recent call last)",
      "\u001b[36mCell\u001b[39m\u001b[36m \u001b[39m\u001b[32mIn[14]\u001b[39m\u001b[32m, line 18\u001b[39m\n\u001b[32m     14\u001b[39m t_batch = move_to_device(t_batch, device)\n\u001b[32m     16\u001b[39m optimizer.zero_grad()\n\u001b[32m---> \u001b[39m\u001b[32m18\u001b[39m model_out = \u001b[43maction_value_model\u001b[49m\u001b[43m(\u001b[49m\u001b[43m*\u001b[49m\u001b[43mextract_input\u001b[49m\u001b[43m(\u001b[49m\u001b[43mt_batch\u001b[49m\u001b[43m)\u001b[49m\u001b[43m)\u001b[49m\n\u001b[32m     19\u001b[39m outputs, targets = extract_output_target(t_batch, model_out, mean_val, std_val)\n\u001b[32m     20\u001b[39m loss = criterion(outputs, targets)\n",
      "\u001b[36mFile \u001b[39m\u001b[32m~/Programming/dicewar_learning/venv/lib/python3.12/site-packages/torch/nn/modules/module.py:1773\u001b[39m, in \u001b[36mModule._wrapped_call_impl\u001b[39m\u001b[34m(self, *args, **kwargs)\u001b[39m\n\u001b[32m   1771\u001b[39m     \u001b[38;5;28;01mreturn\u001b[39;00m \u001b[38;5;28mself\u001b[39m._compiled_call_impl(*args, **kwargs)  \u001b[38;5;66;03m# type: ignore[misc]\u001b[39;00m\n\u001b[32m   1772\u001b[39m \u001b[38;5;28;01melse\u001b[39;00m:\n\u001b[32m-> \u001b[39m\u001b[32m1773\u001b[39m     \u001b[38;5;28;01mreturn\u001b[39;00m \u001b[38;5;28;43mself\u001b[39;49m\u001b[43m.\u001b[49m\u001b[43m_call_impl\u001b[49m\u001b[43m(\u001b[49m\u001b[43m*\u001b[49m\u001b[43margs\u001b[49m\u001b[43m,\u001b[49m\u001b[43m \u001b[49m\u001b[43m*\u001b[49m\u001b[43m*\u001b[49m\u001b[43mkwargs\u001b[49m\u001b[43m)\u001b[49m\n",
      "\u001b[36mFile \u001b[39m\u001b[32m~/Programming/dicewar_learning/venv/lib/python3.12/site-packages/torch/nn/modules/module.py:1784\u001b[39m, in \u001b[36mModule._call_impl\u001b[39m\u001b[34m(self, *args, **kwargs)\u001b[39m\n\u001b[32m   1779\u001b[39m \u001b[38;5;66;03m# If we don't have any hooks, we want to skip the rest of the logic in\u001b[39;00m\n\u001b[32m   1780\u001b[39m \u001b[38;5;66;03m# this function, and just call forward.\u001b[39;00m\n\u001b[32m   1781\u001b[39m \u001b[38;5;28;01mif\u001b[39;00m \u001b[38;5;129;01mnot\u001b[39;00m (\u001b[38;5;28mself\u001b[39m._backward_hooks \u001b[38;5;129;01mor\u001b[39;00m \u001b[38;5;28mself\u001b[39m._backward_pre_hooks \u001b[38;5;129;01mor\u001b[39;00m \u001b[38;5;28mself\u001b[39m._forward_hooks \u001b[38;5;129;01mor\u001b[39;00m \u001b[38;5;28mself\u001b[39m._forward_pre_hooks\n\u001b[32m   1782\u001b[39m         \u001b[38;5;129;01mor\u001b[39;00m _global_backward_pre_hooks \u001b[38;5;129;01mor\u001b[39;00m _global_backward_hooks\n\u001b[32m   1783\u001b[39m         \u001b[38;5;129;01mor\u001b[39;00m _global_forward_hooks \u001b[38;5;129;01mor\u001b[39;00m _global_forward_pre_hooks):\n\u001b[32m-> \u001b[39m\u001b[32m1784\u001b[39m     \u001b[38;5;28;01mreturn\u001b[39;00m \u001b[43mforward_call\u001b[49m\u001b[43m(\u001b[49m\u001b[43m*\u001b[49m\u001b[43margs\u001b[49m\u001b[43m,\u001b[49m\u001b[43m \u001b[49m\u001b[43m*\u001b[49m\u001b[43m*\u001b[49m\u001b[43mkwargs\u001b[49m\u001b[43m)\u001b[49m\n\u001b[32m   1786\u001b[39m result = \u001b[38;5;28;01mNone\u001b[39;00m\n\u001b[32m   1787\u001b[39m called_always_called_hooks = \u001b[38;5;28mset\u001b[39m()\n",
      "\u001b[36mFile \u001b[39m\u001b[32m~/Programming/dicewar_learning/learning/model/actionvalue.py:57\u001b[39m, in \u001b[36mforward\u001b[39m\u001b[34m(self, in_states, edges, node_graph_ids, edges_graph_ids)\u001b[39m\n\u001b[32m     54\u001b[39m edge_attack_val = edge_attack_val.squeeze(-\u001b[32m1\u001b[39m)\n\u001b[32m     56\u001b[39m \u001b[38;5;66;03m# end_turn_val - [n_graphs, 1]\u001b[39;00m\n\u001b[32m---> \u001b[39m\u001b[32m57\u001b[39m end_turn_val = \u001b[38;5;28mself\u001b[39m.end_turn_value_fn(x, node_graph_ids)\n\u001b[32m     58\u001b[39m \u001b[38;5;66;03m# end_turn_val - [n_graphs]\u001b[39;00m\n\u001b[32m     59\u001b[39m end_turn_val = end_turn_val.squeeze(-\u001b[32m1\u001b[39m)\n",
      "\u001b[31mKeyboardInterrupt\u001b[39m: "
     ]
    }
   ],
   "source": [
    "for epoch in range(start_epoch, n_epochs):\n",
    "    t_start = time.time()\n",
    "\n",
    "    # ── TRAINING -----------------------------------------------------------\n",
    "    action_value_model.train()\n",
    "    sum_train_loss = torch.tensor(0.0, device=device)\n",
    "    n_train_batches = 0\n",
    "\n",
    "    t_batch_tqdm = tqdm.tqdm(\n",
    "        train_loader, \n",
    "        desc=f\"train {epoch}\" \n",
    "    )\n",
    "    for t_batch in t_batch_tqdm:\n",
    "        t_batch = move_to_device(t_batch, device)\n",
    "\n",
    "        optimizer.zero_grad()\n",
    "\n",
    "        model_out = action_value_model(*extract_input(t_batch))\n",
    "        outputs, targets = extract_output_target(t_batch, model_out, mean_val, std_val)\n",
    "        loss = criterion(outputs, targets)\n",
    "        \n",
    "        loss.backward()\n",
    "        optimizer.step()\n",
    "    \n",
    "        if torch.isnan(loss) or torch.isinf(loss):\n",
    "            raise ValueError(f\"Loss contains NaN or Inf values\")\n",
    "        \n",
    "        sum_train_loss += loss.detach()\n",
    "        n_train_batches += 1\n",
    "        t_batch_tqdm.set_postfix(av_loss=sum_train_loss.item()/n_train_batches)\n",
    "        if (time.time() - t_start) > train_time_limit: \n",
    "            print(f\"Stopping training after >{train_time_limit} seconds.\")\n",
    "            break\n",
    "        \n",
    "    t_batch_tqdm.close()\n",
    "\n",
    "    avg_train_loss = sum_train_loss.item() / n_train_batches\n",
    "    t_train_done = time.time()\n",
    "\n",
    "    # ── VALIDATION ---------------------------------------------------------\n",
    "    action_value_model.eval()\n",
    "    sum_val_loss = 0.0\n",
    "    n_val_batches = 0\n",
    "    with torch.no_grad():\n",
    "        v_batch_tqdm = tqdm.tqdm(\n",
    "            val_loader, \n",
    "            desc=f\"val {epoch}\" \n",
    "        )\n",
    "        for v_batch in v_batch_tqdm:\n",
    "            v_batch = move_to_device(v_batch, device)\n",
    "\n",
    "            v_out = action_value_model(*extract_input(v_batch))\n",
    "            v_outputs, v_targets = extract_output_target(v_batch, v_out, mean_val, std_val)\n",
    "            val_loss = criterion(v_outputs, v_targets)\n",
    "\n",
    "            if torch.isnan(val_loss) or torch.isinf(val_loss):\n",
    "                raise ValueError(f\"Loss contains NaN or Inf values\")\n",
    "            \n",
    "            sum_val_loss += val_loss\n",
    "            n_val_batches += 1\n",
    "            v_batch_tqdm.set_postfix(av_loss=sum_val_loss.item()/n_val_batches)\n",
    "            if (time.time() - t_train_done) > val_time_limit:\n",
    "                print(f\"Stopping validation after >{val_time_limit} seconds.\")\n",
    "                break\n",
    "\n",
    "        v_batch_tqdm.close()\n",
    "\n",
    "    avg_val_loss = sum_val_loss.item() / n_val_batches\n",
    "    t_val_done = time.time()\n",
    "\n",
    "    # Step the learning rate scheduler after each epoch\n",
    "    scheduler.step(avg_val_loss)\n",
    "\n",
    "    # ── CSV logging ---------------------------------------------------------\n",
    "    train_time = t_train_done - t_start\n",
    "    val_time   = t_val_done   - t_train_done\n",
    "    total_time = t_val_done   - t_start\n",
    "\n",
    "\n",
    "    checkpoint_data = {\n",
    "        \"epoch\": epoch,\n",
    "        \"optim_state\": optimizer.state_dict(),\n",
    "        \"model_state\": action_value_model.state_dict()\n",
    "    }\n",
    "    torch.save(checkpoint_data, os.path.join(models_dir, f\"{model_name}_{epoch:06}.pt\"))\n",
    "    \n",
    "    csv_writer.writerow([\n",
    "        epoch,\n",
    "        avg_train_loss,\n",
    "        avg_val_loss,\n",
    "        train_time,\n",
    "        val_time,\n",
    "        total_time\n",
    "    ])\n",
    "    csv_file.flush()  # ensure data is written even if run aborts\n",
    "\n",
    "    # ── console printout ----------------------------------------------------\n",
    "    print(\n",
    "        f\"Epoch {epoch} | \"\n",
    "        f\"Train {avg_train_loss:.4f} | \"\n",
    "        f\"Val {avg_val_loss:.4f} | \"\n",
    "        f\"LR {scheduler.get_last_lr()[0]:.6f}\"\n",
    "    )\n",
    "# ── tidy‑up ----------------------------------------------------------------\n",
    "csv_file.close()"
   ]
  },
  {
   "cell_type": "code",
   "execution_count": null,
   "id": "8c544fb8",
   "metadata": {},
   "outputs": [],
   "source": [
    "type(float(torch.tensor([1])))"
   ]
  },
  {
   "cell_type": "code",
   "execution_count": null,
   "id": "069a081a",
   "metadata": {},
   "outputs": [],
   "source": []
  }
 ],
 "metadata": {
  "kernelspec": {
   "display_name": "venv",
   "language": "python",
   "name": "python3"
  },
  "language_info": {
   "codemirror_mode": {
    "name": "ipython",
    "version": 3
   },
   "file_extension": ".py",
   "mimetype": "text/x-python",
   "name": "python",
   "nbconvert_exporter": "python",
   "pygments_lexer": "ipython3",
   "version": "3.12.3"
  }
 },
 "nbformat": 4,
 "nbformat_minor": 5
}
