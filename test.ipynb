{
 "cells": [
  {
   "cell_type": "code",
   "execution_count": 29,
   "id": "4a839449",
   "metadata": {},
   "outputs": [],
   "source": [
    "import torch\n",
    "import warnings\n",
    "warnings.filterwarnings(\"ignore\", message=r\"index_reduce\\(\\) is in beta and the API may change at any time\")"
   ]
  },
  {
   "cell_type": "code",
   "execution_count": null,
   "id": "13765656",
   "metadata": {},
   "outputs": [],
   "source": []
  },
  {
   "cell_type": "code",
   "execution_count": 21,
   "id": "9cb186a1",
   "metadata": {},
   "outputs": [],
   "source": [
    "idx0 = torch.tensor([[0], [0], [0], [0], [1], [1], [1], [1]])\n",
    "idx1 = torch.tensor([[0, 0, 1, 1, 0, 0, 1, 1]])\n",
    "\n",
    "X = torch.tensor([\n",
    "      #  #                #      #    \n",
    "    [ 1, 10, 100, 1000, 10000, 100000, 1000000, 10000000],  #\n",
    "    [ 2, 20, 200, 2000, 20000, 200000, 2000000, 20000000],  #\n",
    "    [ 3, 30, 300, 3000, 30000, 300000, 3000000, 30000000],  #\n",
    "    [ 4, 40, 400, 4000, 40000, 400000, 4000000, 40000000],  #\n",
    "    [ 5, 50, 500, 5000, 50000, 500000, 5000000, 50000000],  \n",
    "    [ 6, 60, 600, 6000, 60000, 600000, 6000000, 60000000], \n",
    "    [ 7, 70, 700, 7000, 70000, 700000, 7000000, 70000000],\n",
    "    [ 8, 80, 800, 8000, 80000, 800000, 8000000, 80000000]\n",
    "])\n"
   ]
  },
  {
   "cell_type": "code",
   "execution_count": 24,
   "id": "5021534c",
   "metadata": {},
   "outputs": [
    {
     "data": {
      "text/plain": [
       "tensor([[  1100110, 110011000],\n",
       "        [  2860286, 286028600]])"
      ]
     },
     "execution_count": 24,
     "metadata": {},
     "output_type": "execute_result"
    }
   ],
   "source": [
    "# tensor[indices] <- values\n",
    "\n",
    "Z = torch.zeros(2, 2, dtype=X.dtype)\n",
    "Z.index_put((idx0, idx1), X, accumulate=True)"
   ]
  },
  {
   "cell_type": "code",
   "execution_count": 27,
   "id": "b38755b6",
   "metadata": {},
   "outputs": [],
   "source": [
    "Z = torch.zeros(2, 2, dtype=X.dtype)\n",
    "Z[(idx0, idx1)] += X"
   ]
  },
  {
   "cell_type": "code",
   "execution_count": 28,
   "id": "ad1efa3e",
   "metadata": {},
   "outputs": [
    {
     "data": {
      "text/plain": [
       "tensor([[  400000, 40000000],\n",
       "        [  800000, 80000000]])"
      ]
     },
     "execution_count": 28,
     "metadata": {},
     "output_type": "execute_result"
    }
   ],
   "source": [
    "Z"
   ]
  },
  {
   "cell_type": "code",
   "execution_count": 35,
   "id": "65055d4f",
   "metadata": {},
   "outputs": [
    {
     "ename": "RuntimeError",
     "evalue": "a Tensor with 2 elements cannot be converted to Scalar",
     "output_type": "error",
     "traceback": [
      "\u001b[31m---------------------------------------------------------------------------\u001b[39m",
      "\u001b[31mRuntimeError\u001b[39m                              Traceback (most recent call last)",
      "\u001b[36mCell\u001b[39m\u001b[36m \u001b[39m\u001b[32mIn[35]\u001b[39m\u001b[32m, line 1\u001b[39m\n\u001b[32m----> \u001b[39m\u001b[32m1\u001b[39m \u001b[43mtorch\u001b[49m\u001b[43m.\u001b[49m\u001b[43mtensor\u001b[49m\u001b[43m(\u001b[49m\u001b[38;5;28;43mlist\u001b[39;49m\u001b[43m(\u001b[49m\u001b[43m{\u001b[49m\u001b[32;43m10\u001b[39;49m\u001b[43m,\u001b[49m\u001b[43m \u001b[49m\u001b[32;43m11\u001b[39;49m\u001b[43m}\u001b[49m\u001b[43m)\u001b[49m\u001b[43m)\u001b[49m\u001b[43m.\u001b[49m\u001b[43mitem\u001b[49m\u001b[43m(\u001b[49m\u001b[43m)\u001b[49m\n",
      "\u001b[31mRuntimeError\u001b[39m: a Tensor with 2 elements cannot be converted to Scalar"
     ]
    }
   ],
   "source": [
    "torch.tensor(list({10, 11})).item()"
   ]
  },
  {
   "cell_type": "code",
   "execution_count": null,
   "id": "91c36196",
   "metadata": {},
   "outputs": [],
   "source": []
  },
  {
   "cell_type": "code",
   "execution_count": null,
   "id": "eaff7e4c",
   "metadata": {},
   "outputs": [],
   "source": []
  }
 ],
 "metadata": {
  "kernelspec": {
   "display_name": "venv",
   "language": "python",
   "name": "python3"
  },
  "language_info": {
   "codemirror_mode": {
    "name": "ipython",
    "version": 3
   },
   "file_extension": ".py",
   "mimetype": "text/x-python",
   "name": "python",
   "nbconvert_exporter": "python",
   "pygments_lexer": "ipython3",
   "version": "3.12.3"
  }
 },
 "nbformat": 4,
 "nbformat_minor": 5
}
