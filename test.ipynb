{
 "cells": [
  {
   "cell_type": "code",
   "execution_count": 1,
   "id": "4a839449",
   "metadata": {},
   "outputs": [],
   "source": [
    "import torch\n",
    "import json\n",
    "import warnings\n",
    "from server.json_utils import json_to_string\n",
    "from server.utils import add_winners_info\n",
    "import glob\n",
    "warnings.filterwarnings(\"ignore\", message=r\"index_reduce\\(\\) is in beta and the API may change at any time\")"
   ]
  },
  {
   "cell_type": "code",
   "execution_count": null,
   "id": "13765656",
   "metadata": {},
   "outputs": [],
   "source": []
  },
  {
   "cell_type": "code",
   "execution_count": 2,
   "id": "91c36196",
   "metadata": {},
   "outputs": [],
   "source": [
    "paths = glob.glob(\"./history/history/*.json\")"
   ]
  },
  {
   "cell_type": "code",
   "execution_count": null,
   "id": "9c2b43d7",
   "metadata": {},
   "outputs": [
    {
     "name": "stdout",
     "output_type": "stream",
     "text": [
      "./history/history/history_00651_20250807_063010.json\n",
      "./history/history/history_00797_20250807_111734.json\n"
     ]
    }
   ],
   "source": [
    "for p in paths:\n",
    "    print(p)\n",
    "    game_history = json.load(open(p, \"r\"))\n",
    "    add_winners_info(game_history)\n",
    "    json_str = json_to_string(game_history)\n",
    "    open(p, \"w\").write(json_str)"
   ]
  },
  {
   "cell_type": "code",
   "execution_count": 4,
   "id": "eaff7e4c",
   "metadata": {},
   "outputs": [
    {
     "ename": "NameError",
     "evalue": "name 'data' is not defined",
     "output_type": "error",
     "traceback": [
      "\u001b[31m---------------------------------------------------------------------------\u001b[39m",
      "\u001b[31mNameError\u001b[39m                                 Traceback (most recent call last)",
      "\u001b[36mCell\u001b[39m\u001b[36m \u001b[39m\u001b[32mIn[4]\u001b[39m\u001b[32m, line 1\u001b[39m\n\u001b[32m----> \u001b[39m\u001b[32m1\u001b[39m players_alive = [\u001b[38;5;28mset\u001b[39m(s[\u001b[33m\"\u001b[39m\u001b[33mteams\u001b[39m\u001b[33m\"\u001b[39m]) \u001b[38;5;28;01mfor\u001b[39;00m s \u001b[38;5;129;01min\u001b[39;00m \u001b[43mdata\u001b[49m[\u001b[33m\"\u001b[39m\u001b[33mstates\u001b[39m\u001b[33m\"\u001b[39m]]\n",
      "\u001b[31mNameError\u001b[39m: name 'data' is not defined"
     ]
    }
   ],
   "source": [
    "players_alive = [set(s[\"teams\"]) for s in data[\"states\"]]"
   ]
  },
  {
   "cell_type": "code",
   "execution_count": null,
   "id": "60fddc79",
   "metadata": {},
   "outputs": [],
   "source": []
  },
  {
   "cell_type": "code",
   "execution_count": null,
   "id": "412b24fd",
   "metadata": {},
   "outputs": [
    {
     "data": {
      "text/plain": [
       "([55, 73, 142, 214, 384, 465, 526], 7)"
      ]
     },
     "execution_count": 26,
     "metadata": {},
     "output_type": "execute_result"
    }
   ],
   "source": [
    "player_out_state_idx, winner"
   ]
  },
  {
   "cell_type": "code",
   "execution_count": null,
   "id": "917efdd2",
   "metadata": {},
   "outputs": [
    {
     "data": {
      "text/plain": [
       "[3, 2, 0, 4, 5, 6, 1]"
      ]
     },
     "execution_count": 20,
     "metadata": {},
     "output_type": "execute_result"
    }
   ],
   "source": [
    "players_out"
   ]
  },
  {
   "cell_type": "code",
   "execution_count": null,
   "id": "5bedf0c2",
   "metadata": {},
   "outputs": [
    {
     "data": {
      "text/plain": [
       "({1, 6, 7}, {1, 7})"
      ]
     },
     "execution_count": 27,
     "metadata": {},
     "output_type": "execute_result"
    }
   ],
   "source": [
    "players_alive[464], players_alive[465]"
   ]
  },
  {
   "cell_type": "code",
   "execution_count": null,
   "id": "8969bfbd",
   "metadata": {},
   "outputs": [],
   "source": []
  }
 ],
 "metadata": {
  "kernelspec": {
   "display_name": "venv",
   "language": "python",
   "name": "python3"
  },
  "language_info": {
   "codemirror_mode": {
    "name": "ipython",
    "version": 3
   },
   "file_extension": ".py",
   "mimetype": "text/x-python",
   "name": "python",
   "nbconvert_exporter": "python",
   "pygments_lexer": "ipython3",
   "version": "3.12.3"
  }
 },
 "nbformat": 4,
 "nbformat_minor": 5
}
